{
 "cells": [
  {
   "cell_type": "code",
   "execution_count": 1,
   "id": "f484b405",
   "metadata": {
    "execution": {
     "iopub.execute_input": "2022-07-10T22:04:57.741796Z",
     "iopub.status.busy": "2022-07-10T22:04:57.741018Z",
     "iopub.status.idle": "2022-07-10T22:04:58.135069Z",
     "shell.execute_reply": "2022-07-10T22:04:58.134113Z"
    },
    "papermill": {
     "duration": 0.406273,
     "end_time": "2022-07-10T22:04:58.137038",
     "exception": false,
     "start_time": "2022-07-10T22:04:57.730765",
     "status": "completed"
    },
    "tags": []
   },
   "outputs": [],
   "source": [
    "from concurrent.futures import ProcessPoolExecutor\n",
    "import logging\n",
    "import pandas as pd\n",
    "from pyspark.sql import SparkSession\n",
    "from delta import *"
   ]
  },
  {
   "cell_type": "code",
   "execution_count": 2,
   "id": "9dca1999",
   "metadata": {
    "execution": {
     "iopub.execute_input": "2022-07-10T22:04:58.151682Z",
     "iopub.status.busy": "2022-07-10T22:04:58.151372Z",
     "iopub.status.idle": "2022-07-10T22:04:58.271279Z",
     "shell.execute_reply": "2022-07-10T22:04:58.270422Z"
    },
    "papermill": {
     "duration": 0.129298,
     "end_time": "2022-07-10T22:04:58.273338",
     "exception": false,
     "start_time": "2022-07-10T22:04:58.144040",
     "status": "completed"
    },
    "tags": []
   },
   "outputs": [],
   "source": [
    "import sys\n",
    "sys.path.insert(1, '/opt/notebooks/input')\n",
    "import real_estate_utils\n"
   ]
  },
  {
   "cell_type": "code",
   "execution_count": 3,
   "id": "1ac918b1",
   "metadata": {
    "execution": {
     "iopub.execute_input": "2022-07-10T22:04:58.288152Z",
     "iopub.status.busy": "2022-07-10T22:04:58.287884Z",
     "iopub.status.idle": "2022-07-10T22:04:58.291925Z",
     "shell.execute_reply": "2022-07-10T22:04:58.290957Z"
    },
    "papermill": {
     "duration": 0.013307,
     "end_time": "2022-07-10T22:04:58.293689",
     "exception": false,
     "start_time": "2022-07-10T22:04:58.280382",
     "status": "completed"
    },
    "tags": [
     "parameters"
    ]
   },
   "outputs": [],
   "source": [
    "# Parameters\n",
    "city = 'bern'\n",
    "radius = 4\n",
    "date = '2022-07-09'"
   ]
  },
  {
   "cell_type": "code",
   "execution_count": 4,
   "id": "37118bad",
   "metadata": {
    "execution": {
     "iopub.execute_input": "2022-07-10T22:04:58.306337Z",
     "iopub.status.busy": "2022-07-10T22:04:58.306046Z",
     "iopub.status.idle": "2022-07-10T22:04:58.310629Z",
     "shell.execute_reply": "2022-07-10T22:04:58.309476Z"
    },
    "papermill": {
     "duration": 0.012449,
     "end_time": "2022-07-10T22:04:58.312504",
     "exception": false,
     "start_time": "2022-07-10T22:04:58.300055",
     "status": "completed"
    },
    "tags": [
     "injected-parameters"
    ]
   },
   "outputs": [],
   "source": [
    "# Parameters\n",
    "date = \"2022-07-09\"\n",
    "city = \"bern\"\n",
    "radius = 1\n"
   ]
  },
  {
   "cell_type": "code",
   "execution_count": 5,
   "id": "2209300e",
   "metadata": {
    "execution": {
     "iopub.execute_input": "2022-07-10T22:04:58.323696Z",
     "iopub.status.busy": "2022-07-10T22:04:58.322686Z",
     "iopub.status.idle": "2022-07-10T22:04:58.327570Z",
     "shell.execute_reply": "2022-07-10T22:04:58.326427Z"
    },
    "papermill": {
     "duration": 0.01211,
     "end_time": "2022-07-10T22:04:58.329255",
     "exception": false,
     "start_time": "2022-07-10T22:04:58.317145",
     "status": "completed"
    },
    "tags": []
   },
   "outputs": [],
   "source": [
    "# Paths\n",
    "BRONZE_TABLE_PATH = '/opt/data_lake/bronze/house_prices_raw'"
   ]
  },
  {
   "cell_type": "code",
   "execution_count": 6,
   "id": "fab46576",
   "metadata": {
    "execution": {
     "iopub.execute_input": "2022-07-10T22:04:58.342788Z",
     "iopub.status.busy": "2022-07-10T22:04:58.342527Z",
     "iopub.status.idle": "2022-07-10T22:04:58.346760Z",
     "shell.execute_reply": "2022-07-10T22:04:58.345816Z"
    },
    "papermill": {
     "duration": 0.014225,
     "end_time": "2022-07-10T22:04:58.348570",
     "exception": false,
     "start_time": "2022-07-10T22:04:58.334345",
     "status": "completed"
    },
    "tags": []
   },
   "outputs": [],
   "source": [
    "logging.basicConfig(\n",
    "    level=logging.INFO,\n",
    "    format=\"%(asctime)s [%(levelname)s] %(message)s\",\n",
    "    handlers=[\n",
    "        logging.StreamHandler()\n",
    "    ]\n",
    ")\n",
    "logger = logging.getLogger(__name__)"
   ]
  },
  {
   "cell_type": "code",
   "execution_count": 7,
   "id": "d95a2a05",
   "metadata": {
    "execution": {
     "iopub.execute_input": "2022-07-10T22:04:58.361860Z",
     "iopub.status.busy": "2022-07-10T22:04:58.361599Z",
     "iopub.status.idle": "2022-07-10T22:04:58.367335Z",
     "shell.execute_reply": "2022-07-10T22:04:58.365565Z"
    },
    "papermill": {
     "duration": 0.014263,
     "end_time": "2022-07-10T22:04:58.369121",
     "exception": false,
     "start_time": "2022-07-10T22:04:58.354858",
     "status": "completed"
    },
    "tags": []
   },
   "outputs": [
    {
     "name": "stderr",
     "output_type": "stream",
     "text": [
      "2022-07-10 22:04:58,362 [INFO] Getting houses from bern (1KM around) ...\n"
     ]
    }
   ],
   "source": [
    "logger.info(f\"Getting houses from {city} ({radius}KM around) ...\")"
   ]
  },
  {
   "cell_type": "code",
   "execution_count": null,
   "id": "62869cc5",
   "metadata": {
    "papermill": {
     "duration": null,
     "end_time": null,
     "exception": false,
     "start_time": "2022-07-10T22:04:58.375631",
     "status": "running"
    },
    "tags": []
   },
   "outputs": [],
   "source": [
    "# List the property ids\n",
    "properties_ids = real_estate_utils.get_properties_ids(city, radius)"
   ]
  },
  {
   "cell_type": "code",
   "execution_count": null,
   "id": "8b48de8f",
   "metadata": {
    "papermill": {
     "duration": null,
     "end_time": null,
     "exception": null,
     "start_time": null,
     "status": "pending"
    },
    "tags": []
   },
   "outputs": [],
   "source": [
    "logger.info(f\"Searching {len(properties_ids)} houses metadata ...\")\n",
    "\n",
    "# Build a Pandas DataFrame with the responses\n",
    "with ProcessPoolExecutor(max_workers = None) as executor:\n",
    "    try:\n",
    "        results = list(executor.map(\n",
    "            real_estate_utils.parse_property_metadata, \n",
    "            properties_ids\n",
    "        ))\n",
    "\n",
    "        results_total = pd.concat(results)\n",
    "        results_total['date'] = date\n",
    "        results_total['city'] = city\n",
    "        results_total = results_total.dropna(axis='columns', how='all').reset_index(drop=True)\n",
    "\n",
    "    except Exception as e:\n",
    "        logger.error(e)\n",
    "        pass"
   ]
  },
  {
   "cell_type": "code",
   "execution_count": null,
   "id": "27a852db",
   "metadata": {
    "papermill": {
     "duration": null,
     "end_time": null,
     "exception": null,
     "start_time": null,
     "status": "pending"
    },
    "tags": []
   },
   "outputs": [],
   "source": [
    "results_total.info()"
   ]
  },
  {
   "cell_type": "code",
   "execution_count": null,
   "id": "213104fb",
   "metadata": {
    "papermill": {
     "duration": null,
     "end_time": null,
     "exception": null,
     "start_time": null,
     "status": "pending"
    },
    "tags": []
   },
   "outputs": [],
   "source": [
    "# Create Spark Session\n",
    "builder = (\n",
    "    SparkSession\n",
    "    .builder\n",
    "    .appName(\"real-estate-etl\")\n",
    "    .config(\"spark.sql.extensions\", \"io.delta.sql.DeltaSparkSessionExtension\")\n",
    "    .config(\"spark.sql.catalog.spark_catalog\", \"org.apache.spark.sql.delta.catalog.DeltaCatalog\")\n",
    ")\n",
    "\n",
    "spark = configure_spark_with_delta_pip(builder).getOrCreate()"
   ]
  },
  {
   "cell_type": "code",
   "execution_count": null,
   "id": "db380ed0",
   "metadata": {
    "papermill": {
     "duration": null,
     "end_time": null,
     "exception": null,
     "start_time": null,
     "status": "pending"
    },
    "tags": []
   },
   "outputs": [],
   "source": [
    "# Create a Spark DataFrame\n",
    "results_total=spark.createDataFrame(results_total) \n",
    "results_total.printSchema()"
   ]
  },
  {
   "cell_type": "code",
   "execution_count": null,
   "id": "e4245e87",
   "metadata": {
    "papermill": {
     "duration": null,
     "end_time": null,
     "exception": null,
     "start_time": null,
     "status": "pending"
    },
    "tags": []
   },
   "outputs": [],
   "source": [
    "# Store it on bronze Delta Table\n",
    "(\n",
    "    results_total\n",
    "    .write\n",
    "    .format('delta')\n",
    "    .partitionBy(['date', 'city'])\n",
    "    .mode('overwrite')\n",
    "    .option('mergeSchema', 'true')\n",
    "    .option('replaceWhere', f\"date=='{date}' and city=='{city}'\")\n",
    "    .save(BRONZE_TABLE_PATH)\n",
    ")"
   ]
  },
  {
   "cell_type": "code",
   "execution_count": null,
   "id": "ad131996",
   "metadata": {
    "papermill": {
     "duration": null,
     "end_time": null,
     "exception": null,
     "start_time": null,
     "status": "pending"
    },
    "tags": []
   },
   "outputs": [],
   "source": [
    "# # Vacuum table\n",
    "# delta_table = DeltaTable.forPath(spark, BRONZE_TABLE_PATH)\n",
    "# delta_table.vacuum()\n"
   ]
  }
 ],
 "metadata": {
  "celltoolbar": "Tags",
  "kernelspec": {
   "display_name": "Python 3 (ipykernel)",
   "language": "python",
   "name": "python3"
  },
  "language_info": {
   "codemirror_mode": {
    "name": "ipython",
    "version": 3
   },
   "file_extension": ".py",
   "mimetype": "text/x-python",
   "name": "python",
   "nbconvert_exporter": "python",
   "pygments_lexer": "ipython3",
   "version": "3.10.5"
  },
  "papermill": {
   "default_parameters": {},
   "duration": null,
   "end_time": null,
   "environment_variables": {},
   "exception": null,
   "input_path": "/opt/notebooks/input/get_houses_data.ipynb",
   "output_path": "/opt/notebooks/output/get_houses_data_output.ipynb",
   "parameters": {
    "city": "bern",
    "date": "2022-07-09",
    "radius": 1
   },
   "start_time": "2022-07-10T22:04:55.134800",
   "version": "2.3.4"
  }
 },
 "nbformat": 4,
 "nbformat_minor": 5
}