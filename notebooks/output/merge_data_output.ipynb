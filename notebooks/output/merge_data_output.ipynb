{
 "cells": [
  {
   "cell_type": "code",
   "execution_count": 1,
   "id": "fc931fc3",
   "metadata": {
    "execution": {
     "iopub.execute_input": "2022-07-09T05:45:10.124778Z",
     "iopub.status.busy": "2022-07-09T05:45:10.123947Z",
     "iopub.status.idle": "2022-07-09T05:45:10.319856Z",
     "shell.execute_reply": "2022-07-09T05:45:10.318617Z"
    },
    "papermill": {
     "duration": 0.213356,
     "end_time": "2022-07-09T05:45:10.323865",
     "exception": false,
     "start_time": "2022-07-09T05:45:10.110509",
     "status": "completed"
    },
    "tags": []
   },
   "outputs": [],
   "source": [
    "from pyspark.sql import SparkSession\n",
    "import pyspark.sql.functions as F\n",
    "from delta import *\n",
    "import logging"
   ]
  },
  {
   "cell_type": "code",
   "execution_count": 2,
   "id": "33829913",
   "metadata": {
    "execution": {
     "iopub.execute_input": "2022-07-09T05:45:10.343156Z",
     "iopub.status.busy": "2022-07-09T05:45:10.342321Z",
     "iopub.status.idle": "2022-07-09T05:45:10.347516Z",
     "shell.execute_reply": "2022-07-09T05:45:10.346455Z"
    },
    "papermill": {
     "duration": 0.019822,
     "end_time": "2022-07-09T05:45:10.351766",
     "exception": false,
     "start_time": "2022-07-09T05:45:10.331944",
     "status": "completed"
    },
    "tags": [
     "parameters"
    ]
   },
   "outputs": [],
   "source": [
    "# Parameters\n",
    "city = 'bern'\n",
    "date = '2022-07-09'"
   ]
  },
  {
   "cell_type": "code",
   "execution_count": 3,
   "id": "846e754e",
   "metadata": {
    "execution": {
     "iopub.execute_input": "2022-07-09T05:45:10.377351Z",
     "iopub.status.busy": "2022-07-09T05:45:10.376579Z",
     "iopub.status.idle": "2022-07-09T05:45:10.381064Z",
     "shell.execute_reply": "2022-07-09T05:45:10.380063Z"
    },
    "papermill": {
     "duration": 0.018944,
     "end_time": "2022-07-09T05:45:10.385933",
     "exception": false,
     "start_time": "2022-07-09T05:45:10.366989",
     "status": "completed"
    },
    "tags": [
     "injected-parameters"
    ]
   },
   "outputs": [],
   "source": [
    "# Parameters\n",
    "date = \"2022-07-08\"\n",
    "city = \"geneve\"\n"
   ]
  },
  {
   "cell_type": "code",
   "execution_count": 4,
   "id": "7c0bea23",
   "metadata": {
    "execution": {
     "iopub.execute_input": "2022-07-09T05:45:10.407805Z",
     "iopub.status.busy": "2022-07-09T05:45:10.407055Z",
     "iopub.status.idle": "2022-07-09T05:45:10.412876Z",
     "shell.execute_reply": "2022-07-09T05:45:10.411811Z"
    },
    "papermill": {
     "duration": 0.023204,
     "end_time": "2022-07-09T05:45:10.418168",
     "exception": false,
     "start_time": "2022-07-09T05:45:10.394964",
     "status": "completed"
    },
    "tags": []
   },
   "outputs": [],
   "source": [
    "# Paths\n",
    "BRONZE_TABLE_PATH = '/opt/data_lake/bronze/house_prices_raw'\n",
    "SILVER_TABLE_PATH = '/opt/data_lake/silver/house_prices_merged'"
   ]
  },
  {
   "cell_type": "code",
   "execution_count": 5,
   "id": "f003fbef",
   "metadata": {
    "execution": {
     "iopub.execute_input": "2022-07-09T05:45:10.444144Z",
     "iopub.status.busy": "2022-07-09T05:45:10.443337Z",
     "iopub.status.idle": "2022-07-09T05:45:10.450687Z",
     "shell.execute_reply": "2022-07-09T05:45:10.448524Z"
    },
    "papermill": {
     "duration": 0.022367,
     "end_time": "2022-07-09T05:45:10.454547",
     "exception": false,
     "start_time": "2022-07-09T05:45:10.432180",
     "status": "completed"
    },
    "tags": []
   },
   "outputs": [],
   "source": [
    "logging.basicConfig(\n",
    "    level=logging.INFO,\n",
    "    format=\"%(asctime)s [%(levelname)s] %(message)s\",\n",
    "    handlers=[\n",
    "        logging.StreamHandler()\n",
    "    ]\n",
    ")\n",
    "logger = logging.getLogger(__name__)"
   ]
  },
  {
   "cell_type": "code",
   "execution_count": 6,
   "id": "5e24af29",
   "metadata": {
    "execution": {
     "iopub.execute_input": "2022-07-09T05:45:10.474394Z",
     "iopub.status.busy": "2022-07-09T05:45:10.473931Z",
     "iopub.status.idle": "2022-07-09T05:45:10.484061Z",
     "shell.execute_reply": "2022-07-09T05:45:10.480684Z"
    },
    "papermill": {
     "duration": 0.023249,
     "end_time": "2022-07-09T05:45:10.487888",
     "exception": false,
     "start_time": "2022-07-09T05:45:10.464639",
     "status": "completed"
    },
    "tags": []
   },
   "outputs": [
    {
     "name": "stderr",
     "output_type": "stream",
     "text": [
      "2022-07-09 05:45:10,475 [INFO] Merging data from geneve from 2022-07-08 to silver dataset ...\n"
     ]
    }
   ],
   "source": [
    "logger.info(f\"Merging data from {city} from {date} to silver dataset ...\")"
   ]
  },
  {
   "cell_type": "code",
   "execution_count": 7,
   "id": "fa6b2136",
   "metadata": {
    "execution": {
     "iopub.execute_input": "2022-07-09T05:45:10.507748Z",
     "iopub.status.busy": "2022-07-09T05:45:10.506661Z",
     "iopub.status.idle": "2022-07-09T05:45:20.266326Z",
     "shell.execute_reply": "2022-07-09T05:45:20.264308Z"
    },
    "papermill": {
     "duration": 9.778871,
     "end_time": "2022-07-09T05:45:20.275617",
     "exception": false,
     "start_time": "2022-07-09T05:45:10.496746",
     "status": "completed"
    },
    "tags": []
   },
   "outputs": [
    {
     "name": "stderr",
     "output_type": "stream",
     "text": [
      "WARNING: An illegal reflective access operation has occurred\n",
      "WARNING: Illegal reflective access by org.apache.spark.unsafe.Platform (file:/usr/local/spark-3.1.2-bin-hadoop3.2/jars/spark-unsafe_2.12-3.1.2.jar) to constructor java.nio.DirectByteBuffer(long,int)\n",
      "WARNING: Please consider reporting this to the maintainers of org.apache.spark.unsafe.Platform\n",
      "WARNING: Use --illegal-access=warn to enable warnings of further illegal reflective access operations\n",
      "WARNING: All illegal access operations will be denied in a future release\n"
     ]
    },
    {
     "name": "stdout",
     "output_type": "stream",
     "text": [
      ":: loading settings :: url = jar:file:/usr/local/spark-3.1.2-bin-hadoop3.2/jars/ivy-2.4.0.jar!/org/apache/ivy/core/settings/ivysettings.xml\n"
     ]
    },
    {
     "name": "stderr",
     "output_type": "stream",
     "text": [
      "Ivy Default Cache set to: /home/airflow/.ivy2/cache\n",
      "The jars for the packages stored in: /home/airflow/.ivy2/jars\n",
      "io.delta#delta-core_2.12 added as a dependency\n",
      ":: resolving dependencies :: org.apache.spark#spark-submit-parent-cc890e14-c8cd-4e91-b07f-e4d42045a908;1.0\n",
      "\tconfs: [default]\n"
     ]
    },
    {
     "name": "stderr",
     "output_type": "stream",
     "text": [
      "\tfound io.delta#delta-core_2.12;1.0.0 in central\n",
      "\tfound org.antlr#antlr4;4.7 in central\n",
      "\tfound org.antlr#antlr4-runtime;4.7 in central\n",
      "\tfound org.antlr#antlr-runtime;3.5.2 in central\n"
     ]
    },
    {
     "name": "stderr",
     "output_type": "stream",
     "text": [
      "\tfound org.antlr#ST4;4.0.8 in central\n",
      "\tfound org.abego.treelayout#org.abego.treelayout.core;1.0.3 in central\n",
      "\tfound org.glassfish#javax.json;1.0.4 in central\n",
      "\tfound com.ibm.icu#icu4j;58.2 in central\n",
      ":: resolution report :: resolve 654ms :: artifacts dl 29ms\n",
      "\t:: modules in use:\n",
      "\tcom.ibm.icu#icu4j;58.2 from central in [default]\n",
      "\tio.delta#delta-core_2.12;1.0.0 from central in [default]\n",
      "\torg.abego.treelayout#org.abego.treelayout.core;1.0.3 from central in [default]\n",
      "\torg.antlr#ST4;4.0.8 from central in [default]\n",
      "\torg.antlr#antlr-runtime;3.5.2 from central in [default]\n",
      "\torg.antlr#antlr4;4.7 from central in [default]\n",
      "\torg.antlr#antlr4-runtime;4.7 from central in [default]\n",
      "\torg.glassfish#javax.json;1.0.4 from central in [default]\n",
      "\t---------------------------------------------------------------------"
     ]
    },
    {
     "name": "stderr",
     "output_type": "stream",
     "text": [
      "\n",
      "\t|                  |            modules            ||   artifacts   |\n",
      "\t|       conf       | number| search|dwnlded|evicted|| number|dwnlded|\n",
      "\t---------------------------------------------------------------------\n",
      "\t|      default     |   8   |   0   |   0   |   0   ||   8   |   0   |\n",
      "\t---------------------------------------------------------------------\n",
      ":: retrieving :: org.apache.spark#spark-submit-parent-cc890e14-c8cd-4e91-b07f-e4d42045a908\n",
      "\tconfs: [default]\n",
      "\t0 artifacts copied, 8 already retrieved (0kB/28ms)\n"
     ]
    },
    {
     "name": "stderr",
     "output_type": "stream",
     "text": [
      "22/07/09 05:45:14 WARN NativeCodeLoader: Unable to load native-hadoop library for your platform... using builtin-java classes where applicable\n"
     ]
    },
    {
     "name": "stderr",
     "output_type": "stream",
     "text": [
      "Using Spark's default log4j profile: org/apache/spark/log4j-defaults.properties\n",
      "Setting default log level to \"WARN\".\n",
      "To adjust logging level use sc.setLogLevel(newLevel). For SparkR, use setLogLevel(newLevel).\n"
     ]
    }
   ],
   "source": [
    "# Create Spark Session\n",
    "builder = (\n",
    "    SparkSession\n",
    "    .builder\n",
    "    .appName(\"real-estate-etl\")\n",
    "    .config(\"spark.sql.extensions\", \"io.delta.sql.DeltaSparkSessionExtension\")\n",
    "    .config(\"spark.sql.catalog.spark_catalog\", \"org.apache.spark.sql.delta.catalog.DeltaCatalog\")\n",
    ")\n",
    "\n",
    "spark = configure_spark_with_delta_pip(builder).getOrCreate()\n",
    "\n",
    "spark.conf.set(\"spark.databricks.delta.schema.autoMerge.enabled\", \"true\")"
   ]
  },
  {
   "cell_type": "code",
   "execution_count": 8,
   "id": "3bd6839f",
   "metadata": {
    "execution": {
     "iopub.execute_input": "2022-07-09T05:45:20.312795Z",
     "iopub.status.busy": "2022-07-09T05:45:20.312168Z",
     "iopub.status.idle": "2022-07-09T05:45:49.956335Z",
     "shell.execute_reply": "2022-07-09T05:45:49.949582Z"
    },
    "papermill": {
     "duration": 29.675961,
     "end_time": "2022-07-09T05:45:49.963841",
     "exception": false,
     "start_time": "2022-07-09T05:45:20.287880",
     "status": "completed"
    },
    "tags": []
   },
   "outputs": [
    {
     "name": "stderr",
     "output_type": "stream",
     "text": [
      "\r",
      "[Stage 0:>                                                          (0 + 3) / 3]\r"
     ]
    },
    {
     "name": "stderr",
     "output_type": "stream",
     "text": [
      "\r",
      "[Stage 1:>                                                         (0 + 4) / 50]\r"
     ]
    },
    {
     "name": "stderr",
     "output_type": "stream",
     "text": [
      "\r",
      "[Stage 1:====>                                                     (4 + 4) / 50]\r",
      "\r",
      "[Stage 1:=====>                                                    (5 + 4) / 50]\r"
     ]
    },
    {
     "name": "stderr",
     "output_type": "stream",
     "text": [
      "\r",
      "[Stage 1:=========>                                                (8 + 4) / 50]\r",
      "\r",
      "[Stage 1:==============>                                          (13 + 4) / 50]\r"
     ]
    },
    {
     "name": "stderr",
     "output_type": "stream",
     "text": [
      "\r",
      "[Stage 1:=====================>                                   (19 + 4) / 50]\r",
      "\r",
      "[Stage 1:============================>                            (25 + 4) / 50]\r"
     ]
    },
    {
     "name": "stderr",
     "output_type": "stream",
     "text": [
      "\r",
      "[Stage 1:=====================================>                   (33 + 4) / 50]\r",
      "\r",
      "[Stage 1:==========================================>              (37 + 4) / 50]\r"
     ]
    },
    {
     "name": "stderr",
     "output_type": "stream",
     "text": [
      "\r",
      "[Stage 1:=================================================>       (43 + 4) / 50]\r"
     ]
    },
    {
     "name": "stderr",
     "output_type": "stream",
     "text": [
      "\r",
      "[Stage 1:=====================================================>   (47 + 3) / 50]\r"
     ]
    },
    {
     "name": "stderr",
     "output_type": "stream",
     "text": [
      "\r",
      "                                                                                \r"
     ]
    }
   ],
   "source": [
    "# Get daily data\n",
    "daily_data = (\n",
    "    spark\n",
    "    .read\n",
    "    .format('delta')\n",
    "    .load(BRONZE_TABLE_PATH)\n",
    "    .filter(F.col('date') == date)\n",
    "    .filter(F.col('city') == city)\n",
    ")"
   ]
  },
  {
   "cell_type": "code",
   "execution_count": 9,
   "id": "e0531867",
   "metadata": {
    "execution": {
     "iopub.execute_input": "2022-07-09T05:45:49.993729Z",
     "iopub.status.busy": "2022-07-09T05:45:49.993194Z",
     "iopub.status.idle": "2022-07-09T05:45:53.543128Z",
     "shell.execute_reply": "2022-07-09T05:45:53.541567Z"
    },
    "papermill": {
     "duration": 3.58283,
     "end_time": "2022-07-09T05:45:53.560758",
     "exception": false,
     "start_time": "2022-07-09T05:45:49.977928",
     "status": "completed"
    },
    "tags": []
   },
   "outputs": [
    {
     "name": "stderr",
     "output_type": "stream",
     "text": [
      "\r",
      "[Stage 4:===================>                                     (17 + 4) / 50]\r",
      "\r",
      "[Stage 4:======================>                                  (20 + 4) / 50]\r"
     ]
    },
    {
     "name": "stderr",
     "output_type": "stream",
     "text": [
      "\r",
      "[Stage 4:=============================>                           (26 + 4) / 50]\r",
      "\r",
      "[Stage 4:=====================================>                   (33 + 4) / 50]\r"
     ]
    },
    {
     "name": "stderr",
     "output_type": "stream",
     "text": [
      "\r",
      "[Stage 4:===========================================>             (38 + 4) / 50]\r"
     ]
    },
    {
     "name": "stderr",
     "output_type": "stream",
     "text": [
      "\r",
      "[Stage 4:===============================================>         (42 + 4) / 50]\r"
     ]
    },
    {
     "name": "stderr",
     "output_type": "stream",
     "text": [
      "\r",
      "[Stage 4:====================================================>    (46 + 4) / 50]\r"
     ]
    },
    {
     "name": "stderr",
     "output_type": "stream",
     "text": [
      "\r",
      "                                                                                \r"
     ]
    }
   ],
   "source": [
    "# Get golden dataset\n",
    "if not DeltaTable.isDeltaTable(spark, SILVER_TABLE_PATH):\n",
    "    (\n",
    "        daily_data\n",
    "        .write\n",
    "        .format('delta')\n",
    "        .partitionBy(['city'])\n",
    "        .mode('overwrite')\n",
    "        .option('mergeSchema', 'true')\n",
    "        .save(SILVER_TABLE_PATH)\n",
    "    )\n",
    "    \n",
    "silver_table = DeltaTable.forPath(spark, SILVER_TABLE_PATH)   "
   ]
  },
  {
   "cell_type": "code",
   "execution_count": 10,
   "id": "f70990b1",
   "metadata": {
    "execution": {
     "iopub.execute_input": "2022-07-09T05:45:53.601095Z",
     "iopub.status.busy": "2022-07-09T05:45:53.600673Z",
     "iopub.status.idle": "2022-07-09T05:46:29.985690Z",
     "shell.execute_reply": "2022-07-09T05:46:29.982359Z"
    },
    "papermill": {
     "duration": 36.410244,
     "end_time": "2022-07-09T05:46:29.991880",
     "exception": false,
     "start_time": "2022-07-09T05:45:53.581636",
     "status": "completed"
    },
    "tags": []
   },
   "outputs": [
    {
     "name": "stderr",
     "output_type": "stream",
     "text": [
      "\r",
      "[Stage 7:============================>                            (25 + 4) / 50]\r",
      "\r",
      "[Stage 7:===========================================>             (38 + 4) / 50]\r"
     ]
    },
    {
     "name": "stderr",
     "output_type": "stream",
     "text": [
      "\r",
      "[Stage 7:=================================================>       (43 + 6) / 50]\r",
      "\r",
      "                                                                                \r"
     ]
    },
    {
     "name": "stderr",
     "output_type": "stream",
     "text": [
      "\r",
      "[Stage 10:>                                                         (0 + 4) / 4]\r"
     ]
    },
    {
     "name": "stderr",
     "output_type": "stream",
     "text": [
      "\r",
      "                                                                                \r"
     ]
    },
    {
     "name": "stderr",
     "output_type": "stream",
     "text": [
      "\r",
      "[Stage 11:==============>                                           (1 + 3) / 4]\r",
      "\r",
      "[Stage 11:===========================================>              (3 + 1) / 4]\r"
     ]
    },
    {
     "name": "stderr",
     "output_type": "stream",
     "text": [
      "\r",
      "[Stage 12:==============>                                        (54 + 4) / 200]\r",
      "\r",
      "[Stage 12:=====================>                                 (77 + 4) / 200]\r"
     ]
    },
    {
     "name": "stderr",
     "output_type": "stream",
     "text": [
      "\r",
      "[Stage 12:========================>                              (90 + 4) / 200]\r",
      "\r",
      "[Stage 12:==============================>                       (112 + 4) / 200]\r"
     ]
    },
    {
     "name": "stderr",
     "output_type": "stream",
     "text": [
      "\r",
      "[Stage 12:======================================>               (141 + 4) / 200]\r",
      "\r",
      "[Stage 12:==========================================>           (159 + 4) / 200]\r"
     ]
    },
    {
     "name": "stderr",
     "output_type": "stream",
     "text": [
      "\r",
      "[Stage 12:===================================================>  (189 + 4) / 200]\r",
      "\r",
      "                                                                                \r"
     ]
    },
    {
     "name": "stderr",
     "output_type": "stream",
     "text": [
      "22/07/09 05:46:03 WARN package: Truncated the string representation of a plan since it was too large. This behavior can be adjusted by setting 'spark.sql.debug.maxToStringFields'.\n"
     ]
    },
    {
     "name": "stderr",
     "output_type": "stream",
     "text": [
      "\r",
      "[Stage 18:>                                                       (0 + 4) / 200]\r"
     ]
    },
    {
     "name": "stderr",
     "output_type": "stream",
     "text": [
      "\r",
      "[Stage 18:>                                                       (0 + 5) / 200]\r"
     ]
    },
    {
     "name": "stderr",
     "output_type": "stream",
     "text": [
      "\r",
      "[Stage 18:=>                                                      (4 + 4) / 200]\r"
     ]
    },
    {
     "name": "stderr",
     "output_type": "stream",
     "text": [
      "\r",
      "[Stage 18:=>                                                      (6 + 4) / 200]\r",
      "\r",
      "[Stage 18:=>                                                      (7 + 4) / 200]\r"
     ]
    },
    {
     "name": "stderr",
     "output_type": "stream",
     "text": [
      "\r",
      "[Stage 18:==>                                                     (8 + 4) / 200]\r"
     ]
    },
    {
     "name": "stderr",
     "output_type": "stream",
     "text": [
      "\r",
      "[Stage 18:==>                                                     (9 + 4) / 200]\r"
     ]
    },
    {
     "name": "stderr",
     "output_type": "stream",
     "text": [
      "\r",
      "[Stage 18:==>                                                     (9 + 5) / 200]\r",
      "\r",
      "[Stage 18:===>                                                   (11 + 4) / 200]\r"
     ]
    },
    {
     "name": "stderr",
     "output_type": "stream",
     "text": [
      "\r",
      "[Stage 18:===>                                                   (12 + 5) / 200]\r",
      "\r",
      "[Stage 18:===>                                                   (13 + 4) / 200]\r"
     ]
    },
    {
     "name": "stderr",
     "output_type": "stream",
     "text": [
      "\r",
      "[Stage 18:====>                                                  (15 + 4) / 200]\r",
      "\r",
      "[Stage 18:====>                                                  (17 + 4) / 200]\r"
     ]
    },
    {
     "name": "stderr",
     "output_type": "stream",
     "text": [
      "\r",
      "[Stage 18:====>                                                  (18 + 4) / 200]\r"
     ]
    },
    {
     "name": "stderr",
     "output_type": "stream",
     "text": [
      "\r",
      "[Stage 18:=====>                                                 (19 + 4) / 200]\r",
      "\r",
      "[Stage 18:=====>                                                 (20 + 4) / 200]\r"
     ]
    },
    {
     "name": "stderr",
     "output_type": "stream",
     "text": [
      "\r",
      "[Stage 18:=====>                                                 (21 + 4) / 200]\r"
     ]
    },
    {
     "name": "stderr",
     "output_type": "stream",
     "text": [
      "\r",
      "[Stage 18:======>                                                (23 + 4) / 200]\r"
     ]
    },
    {
     "name": "stderr",
     "output_type": "stream",
     "text": [
      "\r",
      "[Stage 18:======>                                                (25 + 4) / 200]\r"
     ]
    },
    {
     "name": "stderr",
     "output_type": "stream",
     "text": [
      "\r",
      "[Stage 18:=======>                                               (27 + 4) / 200]\r"
     ]
    },
    {
     "name": "stderr",
     "output_type": "stream",
     "text": [
      "\r",
      "[Stage 18:=======>                                               (29 + 4) / 200]\r"
     ]
    },
    {
     "name": "stderr",
     "output_type": "stream",
     "text": [
      "\r",
      "[Stage 18:========>                                              (30 + 4) / 200]\r",
      "\r",
      "[Stage 18:========>                                              (31 + 4) / 200]\r"
     ]
    },
    {
     "name": "stderr",
     "output_type": "stream",
     "text": [
      "\r",
      "[Stage 18:========>                                              (32 + 4) / 200]\r"
     ]
    },
    {
     "name": "stderr",
     "output_type": "stream",
     "text": [
      "\r",
      "[Stage 18:=========>                                             (33 + 4) / 200]\r",
      "\r",
      "[Stage 18:=========>                                             (36 + 4) / 200]\r"
     ]
    },
    {
     "name": "stderr",
     "output_type": "stream",
     "text": [
      "\r",
      "[Stage 18:==========>                                            (37 + 4) / 200]\r",
      "\r",
      "[Stage 18:==========>                                            (39 + 4) / 200]\r"
     ]
    },
    {
     "name": "stderr",
     "output_type": "stream",
     "text": [
      "\r",
      "[Stage 18:===========>                                           (40 + 4) / 200]\r",
      "\r",
      "[Stage 18:===========>                                           (41 + 4) / 200]\r"
     ]
    },
    {
     "name": "stderr",
     "output_type": "stream",
     "text": [
      "\r",
      "[Stage 18:============>                                          (44 + 4) / 200]\r",
      "\r",
      "[Stage 18:============>                                          (45 + 4) / 200]\r"
     ]
    },
    {
     "name": "stderr",
     "output_type": "stream",
     "text": [
      "\r",
      "[Stage 18:============>                                          (46 + 4) / 200]\r",
      "\r",
      "[Stage 18:=============>                                         (49 + 4) / 200]\r"
     ]
    },
    {
     "name": "stderr",
     "output_type": "stream",
     "text": [
      "\r",
      "[Stage 18:==============>                                        (52 + 4) / 200]\r",
      "\r",
      "[Stage 18:==============>                                        (53 + 4) / 200]\r"
     ]
    },
    {
     "name": "stderr",
     "output_type": "stream",
     "text": [
      "\r",
      "[Stage 18:===============>                                       (55 + 4) / 200]\r",
      "\r",
      "[Stage 18:===============>                                       (58 + 4) / 200]\r"
     ]
    },
    {
     "name": "stderr",
     "output_type": "stream",
     "text": [
      "\r",
      "[Stage 18:================>                                      (59 + 4) / 200]\r",
      "\r",
      "[Stage 18:=================>                                     (62 + 4) / 200]\r"
     ]
    },
    {
     "name": "stderr",
     "output_type": "stream",
     "text": [
      "\r",
      "[Stage 18:=================>                                     (65 + 4) / 200]\r",
      "\r",
      "[Stage 18:==================>                                    (69 + 4) / 200]\r"
     ]
    },
    {
     "name": "stderr",
     "output_type": "stream",
     "text": [
      "\r",
      "[Stage 18:====================>                                  (74 + 4) / 200]\r"
     ]
    },
    {
     "name": "stderr",
     "output_type": "stream",
     "text": [
      "\r",
      "[Stage 18:=====================>                                 (78 + 4) / 200]\r",
      "\r",
      "[Stage 18:=======================>                               (85 + 4) / 200]\r"
     ]
    },
    {
     "name": "stderr",
     "output_type": "stream",
     "text": [
      "\r",
      "[Stage 18:========================>                              (89 + 4) / 200]\r",
      "\r",
      "[Stage 18:=========================>                             (94 + 4) / 200]\r"
     ]
    },
    {
     "name": "stderr",
     "output_type": "stream",
     "text": [
      "\r",
      "[Stage 18:==========================>                            (98 + 4) / 200]\r",
      "\r",
      "[Stage 18:============================>                         (104 + 4) / 200]\r"
     ]
    },
    {
     "name": "stderr",
     "output_type": "stream",
     "text": [
      "\r",
      "[Stage 18:=============================>                        (111 + 5) / 200]\r",
      "\r",
      "[Stage 18:===============================>                      (117 + 4) / 200]\r"
     ]
    },
    {
     "name": "stderr",
     "output_type": "stream",
     "text": [
      "\r",
      "[Stage 18:=================================>                    (123 + 4) / 200]\r"
     ]
    },
    {
     "name": "stderr",
     "output_type": "stream",
     "text": [
      "\r",
      "[Stage 18:==================================>                   (128 + 4) / 200]\r",
      "\r",
      "[Stage 18:===================================>                  (131 + 4) / 200]\r"
     ]
    },
    {
     "name": "stderr",
     "output_type": "stream",
     "text": [
      "\r",
      "[Stage 18:====================================>                 (135 + 4) / 200]\r",
      "\r",
      "[Stage 18:=====================================>                (140 + 4) / 200]\r"
     ]
    },
    {
     "name": "stderr",
     "output_type": "stream",
     "text": [
      "\r",
      "[Stage 18:=======================================>              (146 + 4) / 200]\r",
      "\r",
      "[Stage 18:=========================================>            (153 + 4) / 200]\r"
     ]
    },
    {
     "name": "stderr",
     "output_type": "stream",
     "text": [
      "\r",
      "[Stage 18:==========================================>           (159 + 4) / 200]\r",
      "\r",
      "[Stage 18:============================================>         (165 + 4) / 200]\r"
     ]
    },
    {
     "name": "stderr",
     "output_type": "stream",
     "text": [
      "\r",
      "[Stage 18:=============================================>        (167 + 4) / 200]\r",
      "\r",
      "[Stage 18:==============================================>       (174 + 4) / 200]\r"
     ]
    },
    {
     "name": "stderr",
     "output_type": "stream",
     "text": [
      "\r",
      "[Stage 18:================================================>     (179 + 4) / 200]\r"
     ]
    },
    {
     "name": "stderr",
     "output_type": "stream",
     "text": [
      "\r",
      "[Stage 18:==================================================>   (186 + 4) / 200]\r",
      "\r",
      "[Stage 18:===================================================>  (189 + 4) / 200]\r"
     ]
    },
    {
     "name": "stderr",
     "output_type": "stream",
     "text": [
      "\r",
      "[Stage 18:====================================================> (193 + 4) / 200]\r"
     ]
    },
    {
     "name": "stderr",
     "output_type": "stream",
     "text": [
      "\r",
      "[Stage 18:====================================================> (196 + 4) / 200]\r"
     ]
    },
    {
     "name": "stderr",
     "output_type": "stream",
     "text": [
      "\r",
      "[Stage 18:=====================================================>(198 + 2) / 200]\r",
      "\r",
      "                                                                                \r"
     ]
    },
    {
     "name": "stderr",
     "output_type": "stream",
     "text": [
      "\r",
      "[Stage 20:==============>                                         (13 + 4) / 50]\r",
      "\r",
      "[Stage 20:======================>                                 (20 + 4) / 50]\r"
     ]
    },
    {
     "name": "stderr",
     "output_type": "stream",
     "text": [
      "\r",
      "[Stage 20:============================>                           (25 + 4) / 50]\r",
      "\r",
      "[Stage 20:===================================>                    (32 + 4) / 50]\r"
     ]
    },
    {
     "name": "stderr",
     "output_type": "stream",
     "text": [
      "\r",
      "[Stage 20:===========================================>            (39 + 4) / 50]\r"
     ]
    },
    {
     "name": "stderr",
     "output_type": "stream",
     "text": [
      "\r",
      "[Stage 20:=============================================>          (41 + 4) / 50]\r",
      "\r",
      "[Stage 20:=====================================================>  (48 + 2) / 50]\r"
     ]
    },
    {
     "name": "stderr",
     "output_type": "stream",
     "text": [
      "\r",
      "                                                                                \r"
     ]
    }
   ],
   "source": [
    "# Upsert with the new data (UPDATE previous IDs, and INSERT new ones)\n",
    "(\n",
    "    silver_table\n",
    "    .alias(\"silver_table\")\n",
    "    .merge(daily_data.alias(\"daily_data\"),\n",
    "           \"silver_table.property_id = daily_data.property_id\")\n",
    "    .whenMatchedUpdateAll()\n",
    "    .whenNotMatchedInsertAll()\n",
    "    .execute()\n",
    ")\n"
   ]
  },
  {
   "cell_type": "code",
   "execution_count": 11,
   "id": "3c76369b",
   "metadata": {
    "execution": {
     "iopub.execute_input": "2022-07-09T05:46:30.038308Z",
     "iopub.status.busy": "2022-07-09T05:46:30.037261Z",
     "iopub.status.idle": "2022-07-09T05:46:30.048852Z",
     "shell.execute_reply": "2022-07-09T05:46:30.047695Z"
    },
    "papermill": {
     "duration": 0.041769,
     "end_time": "2022-07-09T05:46:30.054874",
     "exception": false,
     "start_time": "2022-07-09T05:46:30.013105",
     "status": "completed"
    },
    "tags": []
   },
   "outputs": [],
   "source": [
    "# # Vacuum table\n",
    "# delta_table = DeltaTable.forPath(spark, SILVER_TABLE_PATH)\n",
    "# delta_table.vacuum()\n"
   ]
  }
 ],
 "metadata": {
  "celltoolbar": "Tags",
  "kernelspec": {
   "display_name": "Python 3 (ipykernel)",
   "language": "python",
   "name": "python3"
  },
  "language_info": {
   "codemirror_mode": {
    "name": "ipython",
    "version": 3
   },
   "file_extension": ".py",
   "mimetype": "text/x-python",
   "name": "python",
   "nbconvert_exporter": "python",
   "pygments_lexer": "ipython3",
   "version": "3.7.12"
  },
  "papermill": {
   "default_parameters": {},
   "duration": 86.662207,
   "end_time": "2022-07-09T05:46:32.734299",
   "environment_variables": {},
   "exception": null,
   "input_path": "/opt/notebooks/input/merge_data.ipynb",
   "output_path": "/opt/notebooks/output/merge_data_output.ipynb",
   "parameters": {
    "city": "geneve",
    "date": "2022-07-08"
   },
   "start_time": "2022-07-09T05:45:06.072092",
   "version": "2.3.4"
  }
 },
 "nbformat": 4,
 "nbformat_minor": 5
}