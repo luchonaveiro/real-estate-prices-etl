{
 "cells": [
  {
   "cell_type": "code",
   "execution_count": 1,
   "id": "83ae3f9d",
   "metadata": {},
   "outputs": [],
   "source": [
    "from pyspark.sql import SparkSession\n",
    "import pyspark.sql.functions as F\n",
    "from pyspark.ml.tuning import TrainValidationSplit\n",
    "from pyspark.ml import Pipeline\n",
    "from pyspark.ml.feature import StandardScaler, VectorAssembler, StringIndexer, OneHotEncoder\n",
    "from pyspark.ml.regression import LinearRegression\n",
    "from pyspark.ml.evaluation import RegressionEvaluator\n",
    "from delta import *\n",
    "import logging"
   ]
  },
  {
   "cell_type": "code",
   "execution_count": 2,
   "id": "4eb9f963",
   "metadata": {},
   "outputs": [],
   "source": [
    "# Paths\n",
    "GOLDEN_TABLE_PATH = '/opt/data_lake/golden/house_prices'\n",
    "PREDICTIONS_TABLE_PATH = '/opt/data_lake/golden/house_prices_predictions'\n",
    "MODEL_ARTIFACTS_PATH = '/opt/model_artifacts/model'"
   ]
  },
  {
   "cell_type": "code",
   "execution_count": 3,
   "id": "f5e3ab88",
   "metadata": {},
   "outputs": [],
   "source": [
    "logging.basicConfig(\n",
    "    level=logging.INFO,\n",
    "    format=\"%(asctime)s [%(levelname)s] %(message)s\",\n",
    "    handlers=[\n",
    "        logging.StreamHandler()\n",
    "    ]\n",
    ")\n",
    "logger = logging.getLogger(__name__)"
   ]
  },
  {
   "cell_type": "code",
   "execution_count": 4,
   "id": "95373518",
   "metadata": {},
   "outputs": [
    {
     "name": "stderr",
     "output_type": "stream",
     "text": [
      "WARNING: An illegal reflective access operation has occurred\n",
      "WARNING: Illegal reflective access by org.apache.spark.unsafe.Platform (file:/usr/local/spark-3.1.2-bin-hadoop3.2/jars/spark-unsafe_2.12-3.1.2.jar) to constructor java.nio.DirectByteBuffer(long,int)\n",
      "WARNING: Please consider reporting this to the maintainers of org.apache.spark.unsafe.Platform\n",
      "WARNING: Use --illegal-access=warn to enable warnings of further illegal reflective access operations\n",
      "WARNING: All illegal access operations will be denied in a future release\n"
     ]
    },
    {
     "name": "stdout",
     "output_type": "stream",
     "text": [
      ":: loading settings :: url = jar:file:/usr/local/spark-3.1.2-bin-hadoop3.2/jars/ivy-2.4.0.jar!/org/apache/ivy/core/settings/ivysettings.xml\n"
     ]
    },
    {
     "name": "stderr",
     "output_type": "stream",
     "text": [
      "Ivy Default Cache set to: /home/jovyan/.ivy2/cache\n",
      "The jars for the packages stored in: /home/jovyan/.ivy2/jars\n",
      "io.delta#delta-core_2.12 added as a dependency\n",
      ":: resolving dependencies :: org.apache.spark#spark-submit-parent-f8437645-5e10-4dc7-b59e-3a19c0c62366;1.0\n",
      "\tconfs: [default]\n",
      "\tfound io.delta#delta-core_2.12;1.0.0 in central\n",
      "\tfound org.antlr#antlr4;4.7 in central\n",
      "\tfound org.antlr#antlr4-runtime;4.7 in central\n",
      "\tfound org.antlr#antlr-runtime;3.5.2 in central\n",
      "\tfound org.antlr#ST4;4.0.8 in central\n",
      "\tfound org.abego.treelayout#org.abego.treelayout.core;1.0.3 in central\n",
      "\tfound org.glassfish#javax.json;1.0.4 in central\n",
      "\tfound com.ibm.icu#icu4j;58.2 in central\n",
      ":: resolution report :: resolve 776ms :: artifacts dl 22ms\n",
      "\t:: modules in use:\n",
      "\tcom.ibm.icu#icu4j;58.2 from central in [default]\n",
      "\tio.delta#delta-core_2.12;1.0.0 from central in [default]\n",
      "\torg.abego.treelayout#org.abego.treelayout.core;1.0.3 from central in [default]\n",
      "\torg.antlr#ST4;4.0.8 from central in [default]\n",
      "\torg.antlr#antlr-runtime;3.5.2 from central in [default]\n",
      "\torg.antlr#antlr4;4.7 from central in [default]\n",
      "\torg.antlr#antlr4-runtime;4.7 from central in [default]\n",
      "\torg.glassfish#javax.json;1.0.4 from central in [default]\n",
      "\t---------------------------------------------------------------------\n",
      "\t|                  |            modules            ||   artifacts   |\n",
      "\t|       conf       | number| search|dwnlded|evicted|| number|dwnlded|\n",
      "\t---------------------------------------------------------------------\n",
      "\t|      default     |   8   |   0   |   0   |   0   ||   8   |   0   |\n",
      "\t---------------------------------------------------------------------\n",
      ":: retrieving :: org.apache.spark#spark-submit-parent-f8437645-5e10-4dc7-b59e-3a19c0c62366\n",
      "\tconfs: [default]\n",
      "\t0 artifacts copied, 8 already retrieved (0kB/25ms)\n",
      "22/07/10 01:23:59 WARN NativeCodeLoader: Unable to load native-hadoop library for your platform... using builtin-java classes where applicable\n",
      "Using Spark's default log4j profile: org/apache/spark/log4j-defaults.properties\n",
      "Setting default log level to \"WARN\".\n",
      "To adjust logging level use sc.setLogLevel(newLevel). For SparkR, use setLogLevel(newLevel).\n",
      "22/07/10 01:24:02 WARN Utils: Service 'SparkUI' could not bind on port 4040. Attempting port 4041.\n",
      "22/07/10 01:24:02 WARN Utils: Service 'SparkUI' could not bind on port 4041. Attempting port 4042.\n",
      "22/07/10 01:24:02 WARN Utils: Service 'SparkUI' could not bind on port 4042. Attempting port 4043.\n",
      "22/07/10 01:24:02 WARN Utils: Service 'SparkUI' could not bind on port 4043. Attempting port 4044.\n"
     ]
    }
   ],
   "source": [
    "# Create Spark Session\n",
    "builder = (\n",
    "    SparkSession\n",
    "    .builder\n",
    "    .appName(\"real-estate-etl\")\n",
    "    .config(\"spark.sql.extensions\", \"io.delta.sql.DeltaSparkSessionExtension\")\n",
    "    .config(\"spark.sql.catalog.spark_catalog\", \"org.apache.spark.sql.delta.catalog.DeltaCatalog\")\n",
    ")\n",
    "\n",
    "spark = configure_spark_with_delta_pip(builder).getOrCreate()"
   ]
  },
  {
   "cell_type": "code",
   "execution_count": 5,
   "id": "c2b00661",
   "metadata": {},
   "outputs": [
    {
     "name": "stderr",
     "output_type": "stream",
     "text": [
      "2022-07-10 01:24:26,632 [INFO] Using 3594 datapoints to fit the model.          \n"
     ]
    }
   ],
   "source": [
    "# Load data\n",
    "data = (\n",
    "    spark\n",
    "    .read\n",
    "    .format('delta')\n",
    "    .load(GOLDEN_TABLE_PATH)\n",
    "    .withColumn('label', F.col('normalized_price'))\n",
    ")\n",
    "\n",
    "logger.info(f\"Using {data.count()} datapoints to fit the model.\")"
   ]
  },
  {
   "cell_type": "code",
   "execution_count": 6,
   "id": "69d4ddfd",
   "metadata": {},
   "outputs": [],
   "source": [
    "# Split train and test datasets\n",
    "train_data, test_data = data.randomSplit([0.8, 0.2])"
   ]
  },
  {
   "cell_type": "code",
   "execution_count": 7,
   "id": "79df5ce0",
   "metadata": {},
   "outputs": [],
   "source": [
    "free_columns = ['attributes_inside_attic', 'attributes_inside_cellar', 'attributes_technology_dishwasher',\n",
    "                'attributes_technology_cable_tv', 'attributes_outside_balcony', 'attributes_outside_playground',\n",
    "                'attributes_outside_parking', 'attributes_outside_garage']"
   ]
  },
  {
   "cell_type": "code",
   "execution_count": 8,
   "id": "9e3da937",
   "metadata": {},
   "outputs": [],
   "source": [
    "# One Hot Encoding Categorical Variables\n",
    "categorical_columns = ['city']\n",
    "\n",
    "cat_indexers = [\n",
    "    StringIndexer(inputCol=c, outputCol=\"{0}_indexed\".format(c))\n",
    "    for c in categorical_columns\n",
    "]\n",
    "\n",
    "cat_encoders = [OneHotEncoder(dropLast=False,inputCol=indexer.getOutputCol(),\n",
    "            outputCol=\"{0}_encoded\".format(indexer.getOutputCol())) \n",
    "    for indexer in cat_indexers\n",
    "]\n",
    "\n",
    "cat_assembler = VectorAssembler(inputCols=[encoder.getOutputCol() for encoder in cat_encoders], outputCol=\"cat_features\")"
   ]
  },
  {
   "cell_type": "code",
   "execution_count": 9,
   "id": "b32d8e24",
   "metadata": {},
   "outputs": [],
   "source": [
    "# Standard Scaler Numerical Variables\n",
    "numerical_columns = ['number_of_rooms', 'surface_property', 'surface_living']\n",
    "\n",
    "num_assembler = VectorAssembler(inputCols=numerical_columns, outputCol=\"num_features\")\n",
    "output = num_assembler.transform(train_data)\n",
    "\n",
    "num_scaler = StandardScaler(inputCol=\"num_features\", outputCol=\"scaledFeatures\")\n"
   ]
  },
  {
   "cell_type": "code",
   "execution_count": 10,
   "id": "59f6d045",
   "metadata": {},
   "outputs": [
    {
     "name": "stderr",
     "output_type": "stream",
     "text": [
      "22/07/10 01:24:32 WARN Instrumentation: [667103d5] regParam is zero, which might cause numerical instability and overfitting.\n",
      "22/07/10 01:24:32 WARN BLAS: Failed to load implementation from: com.github.fommil.netlib.NativeSystemBLAS\n",
      "22/07/10 01:24:32 WARN BLAS: Failed to load implementation from: com.github.fommil.netlib.NativeRefBLAS\n",
      "22/07/10 01:24:33 WARN LAPACK: Failed to load implementation from: com.github.fommil.netlib.NativeSystemLAPACK\n",
      "22/07/10 01:24:33 WARN LAPACK: Failed to load implementation from: com.github.fommil.netlib.NativeRefLAPACK\n",
      "22/07/10 01:24:33 WARN Instrumentation: [667103d5] Cholesky solver failed due to singular covariance matrix. Retrying with Quasi-Newton solver.\n"
     ]
    }
   ],
   "source": [
    "# Fit Linear Regression\n",
    "features = VectorAssembler(inputCols= free_columns + ['cat_features', 'num_features'], \n",
    "                           outputCol=\"features\")\n",
    "\n",
    "lr = LinearRegression()\n",
    "\n",
    "# Fit the whole pipeline\n",
    "pipeline = Pipeline(stages = cat_indexers + cat_encoders + [cat_assembler] + [num_assembler] + [num_scaler] + [features] + [lr])\n",
    "model=pipeline.fit(train_data)\n",
    "train_data_transformed = model.transform(train_data)"
   ]
  },
  {
   "cell_type": "code",
   "execution_count": 11,
   "id": "d6f9473e",
   "metadata": {},
   "outputs": [
    {
     "name": "stderr",
     "output_type": "stream",
     "text": [
      "2022-07-10 01:24:35,347 [INFO] RMSE: 1433395.327235211\n",
      "2022-07-10 01:24:35,350 [INFO] R Squared (R2) on test data: 0.36498362351097335\n"
     ]
    }
   ],
   "source": [
    "# Calculate model metrics on training data\n",
    "training_summary = model.stages[-1].summary\n",
    "logger.info(f\"RMSE: {training_summary.rootMeanSquaredError}\")\n",
    "logger.info(f\"R Squared (R2) on test data: {training_summary.r2}\")"
   ]
  },
  {
   "cell_type": "code",
   "execution_count": 12,
   "id": "82df19e0",
   "metadata": {},
   "outputs": [
    {
     "name": "stderr",
     "output_type": "stream",
     "text": [
      "2022-07-10 01:24:37,956 [INFO] R Squared (R2) on test data = 0.29882244341238795\n"
     ]
    }
   ],
   "source": [
    "# Calculate model metrics on test data\n",
    "test_data_transformed = model.transform(test_data)\n",
    "\n",
    "lr_evaluator = RegressionEvaluator(predictionCol=\"prediction\",\n",
    "                                   labelCol=\"label\",metricName=\"r2\")\n",
    "\n",
    "logger.info(f\"R Squared (R2) on test data = {lr_evaluator.evaluate(test_data_transformed)}\")"
   ]
  },
  {
   "cell_type": "code",
   "execution_count": 13,
   "id": "86fb59a9",
   "metadata": {},
   "outputs": [
    {
     "name": "stderr",
     "output_type": "stream",
     "text": [
      "2022-07-10 01:24:38,454 [INFO] NumExpr defaulting to 4 threads.\n",
      "                                                                                \r"
     ]
    },
    {
     "data": {
      "text/plain": [
       "<AxesSubplot:ylabel='Frequency'>"
      ]
     },
     "execution_count": 13,
     "metadata": {},
     "output_type": "execute_result"
    },
    {
     "data": {
      "image/png": "[encoded data removed]",
      "text/plain": [
       "<Figure size 432x288 with 1 Axes>"
      ]
     },
     "metadata": {
      "needs_background": "light"
     },
     "output_type": "display_data"
    }
   ],
   "source": [
    "train_data_transformed.toPandas()[['prediction', 'label']].plot.hist(bins=200)"
   ]
  },
  {
   "cell_type": "code",
   "execution_count": 14,
   "id": "fb704043",
   "metadata": {},
   "outputs": [
    {
     "data": {
      "text/plain": [
       "<AxesSubplot:ylabel='Frequency'>"
      ]
     },
     "execution_count": 14,
     "metadata": {},
     "output_type": "execute_result"
    },
    {
     "data": {
      "image/png": "[encoded data removed]",
      "text/plain": [
       "<Figure size 432x288 with 1 Axes>"
      ]
     },
     "metadata": {
      "needs_background": "light"
     },
     "output_type": "display_data"
    }
   ],
   "source": [
    "test_data_transformed.toPandas()[['prediction', 'label']].plot.hist(bins=200)"
   ]
  },
  {
   "cell_type": "code",
   "execution_count": 20,
   "id": "af11f2d6",
   "metadata": {},
   "outputs": [
    {
     "name": "stderr",
     "output_type": "stream",
     "text": [
      "                                                                                \r"
     ]
    }
   ],
   "source": [
    "# Store the predictions as a delta table\n",
    "predicted_data = model.transform(data)\n",
    "\n",
    "(\n",
    "    predicted_data\n",
    "    .select('property_id', 'city', 'attributes_inside_attic', 'attributes_inside_cellar', 'attributes_technology_dishwasher',\n",
    "            'attributes_technology_cable_tv', 'attributes_outside_balcony', 'attributes_outside_playground',\n",
    "            'attributes_outside_parking', 'attributes_outside_garage', 'number_of_rooms', 'surface_property', \n",
    "            'surface_usable', 'surface_living', 'normalized_price', 'prediction')\n",
    "    .write\n",
    "    .format('delta')\n",
    "    .mode('overwrite')\n",
    "    .option('mergeSchema', 'true')\n",
    "    .save(PREDICTIONS_TABLE_PATH)\n",
    ")"
   ]
  },
  {
   "cell_type": "code",
   "execution_count": 16,
   "id": "d3a40c34",
   "metadata": {},
   "outputs": [],
   "source": [
    "# # Vacuum table\n",
    "# delta_table = DeltaTable.forPath(spark, PREDICTIONS_TABLE_PATH)\n",
    "# delta_table.vacuum()"
   ]
  },
  {
   "cell_type": "code",
   "execution_count": 17,
   "id": "cbb7a228",
   "metadata": {},
   "outputs": [
    {
     "name": "stderr",
     "output_type": "stream",
     "text": [
      "2022-07-09 18:00:08,725 [INFO] Coefficients: [-320537.3784155606,19860.092301098626,155275.49733791145,92582.7164651995,49382.61869289183,-183875.8980874876,-154439.60729562066,246948.94163740543,-432694.25404004136,-348701.66407719476,-31662.051824416325,1290197.8471467888,239587.91422023496,48.53622448335847,855.969274493765]\n",
      "2022-07-09 18:00:08,727 [INFO] Intercept: -273671.64394372335\n"
     ]
    }
   ],
   "source": [
    "# Check model coefficients\n",
    "logger.info(f\"Coefficients: {str(model.stages[-1].coefficients)}\")\n",
    "logger.info(f\"Intercept: {str(model.stages[-1].intercept)}\")"
   ]
  },
  {
   "cell_type": "code",
   "execution_count": 19,
   "id": "5918bc7c",
   "metadata": {},
   "outputs": [],
   "source": [
    "# Save trained model\n",
    "model.write().overwrite().save(MODEL_ARTIFACTS_PATH)"
   ]
  }
 ],
 "metadata": {
  "kernelspec": {
   "display_name": "Python 3 (ipykernel)",
   "language": "python",
   "name": "python3"
  },
  "language_info": {
   "codemirror_mode": {
    "name": "ipython",
    "version": 3
   },
   "file_extension": ".py",
   "mimetype": "text/x-python",
   "name": "python",
   "nbconvert_exporter": "python",
   "pygments_lexer": "ipython3",
   "version": "3.10.5"
  }
 },
 "nbformat": 4,
 "nbformat_minor": 5
}
