{
 "cells": [
  {
   "cell_type": "code",
   "execution_count": 1,
   "id": "cf8cc05b",
   "metadata": {
    "execution": {
     "iopub.execute_input": "2022-07-09T05:53:55.470450Z",
     "iopub.status.busy": "2022-07-09T05:53:55.469887Z",
     "iopub.status.idle": "2022-07-09T05:53:55.639567Z",
     "shell.execute_reply": "2022-07-09T05:53:55.638029Z"
    },
    "papermill": {
     "duration": 0.191521,
     "end_time": "2022-07-09T05:53:55.643605",
     "exception": false,
     "start_time": "2022-07-09T05:53:55.452084",
     "status": "completed"
    },
    "tags": []
   },
   "outputs": [],
   "source": [
    "from pyspark.sql import SparkSession\n",
    "import pyspark.sql.functions as F\n",
    "from pyspark.sql.types import IntegerType\n",
    "from delta import *\n",
    "import logging"
   ]
  },
  {
   "cell_type": "code",
   "execution_count": 2,
   "id": "49d35481",
   "metadata": {
    "execution": {
     "iopub.execute_input": "2022-07-09T05:53:55.664173Z",
     "iopub.status.busy": "2022-07-09T05:53:55.660873Z",
     "iopub.status.idle": "2022-07-09T05:53:55.671135Z",
     "shell.execute_reply": "2022-07-09T05:53:55.669162Z"
    },
    "papermill": {
     "duration": 0.023664,
     "end_time": "2022-07-09T05:53:55.675398",
     "exception": false,
     "start_time": "2022-07-09T05:53:55.651734",
     "status": "completed"
    },
    "tags": [
     "parameters"
    ]
   },
   "outputs": [],
   "source": [
    "# Parameters\n",
    "city = 'bern'"
   ]
  },
  {
   "cell_type": "code",
   "execution_count": 3,
   "id": "3f6e569d",
   "metadata": {
    "execution": {
     "iopub.execute_input": "2022-07-09T05:53:55.700977Z",
     "iopub.status.busy": "2022-07-09T05:53:55.699289Z",
     "iopub.status.idle": "2022-07-09T05:53:55.706546Z",
     "shell.execute_reply": "2022-07-09T05:53:55.704825Z"
    },
    "papermill": {
     "duration": 0.023524,
     "end_time": "2022-07-09T05:53:55.709844",
     "exception": false,
     "start_time": "2022-07-09T05:53:55.686320",
     "status": "completed"
    },
    "tags": [
     "injected-parameters"
    ]
   },
   "outputs": [],
   "source": [
    "# Parameters\n",
    "city = \"zuerich\"\n"
   ]
  },
  {
   "cell_type": "code",
   "execution_count": 4,
   "id": "466585f6",
   "metadata": {
    "execution": {
     "iopub.execute_input": "2022-07-09T05:53:55.742135Z",
     "iopub.status.busy": "2022-07-09T05:53:55.740944Z",
     "iopub.status.idle": "2022-07-09T05:53:55.753970Z",
     "shell.execute_reply": "2022-07-09T05:53:55.752491Z"
    },
    "papermill": {
     "duration": 0.03699,
     "end_time": "2022-07-09T05:53:55.757753",
     "exception": false,
     "start_time": "2022-07-09T05:53:55.720763",
     "status": "completed"
    },
    "tags": []
   },
   "outputs": [],
   "source": [
    "# Paths\n",
    "SILVER_TABLE_PATH = '/opt/data_lake/silver/house_prices_merged'\n",
    "GOLDEN_TABLE_PATH = '/opt/data_lake/golden/house_prices'"
   ]
  },
  {
   "cell_type": "code",
   "execution_count": 5,
   "id": "d85d2bb9",
   "metadata": {
    "execution": {
     "iopub.execute_input": "2022-07-09T05:53:55.780506Z",
     "iopub.status.busy": "2022-07-09T05:53:55.779379Z",
     "iopub.status.idle": "2022-07-09T05:53:55.787767Z",
     "shell.execute_reply": "2022-07-09T05:53:55.786411Z"
    },
    "papermill": {
     "duration": 0.022291,
     "end_time": "2022-07-09T05:53:55.790851",
     "exception": false,
     "start_time": "2022-07-09T05:53:55.768560",
     "status": "completed"
    },
    "tags": []
   },
   "outputs": [],
   "source": [
    "logging.basicConfig(\n",
    "    level=logging.INFO,\n",
    "    format=\"%(asctime)s [%(levelname)s] %(message)s\",\n",
    "    handlers=[\n",
    "        logging.StreamHandler()\n",
    "    ]\n",
    ")\n",
    "logger = logging.getLogger(__name__)"
   ]
  },
  {
   "cell_type": "code",
   "execution_count": 6,
   "id": "3db6cda8",
   "metadata": {
    "execution": {
     "iopub.execute_input": "2022-07-09T05:53:55.809322Z",
     "iopub.status.busy": "2022-07-09T05:53:55.808763Z",
     "iopub.status.idle": "2022-07-09T05:53:55.817423Z",
     "shell.execute_reply": "2022-07-09T05:53:55.815819Z"
    },
    "papermill": {
     "duration": 0.025844,
     "end_time": "2022-07-09T05:53:55.824864",
     "exception": false,
     "start_time": "2022-07-09T05:53:55.799020",
     "status": "completed"
    },
    "tags": []
   },
   "outputs": [
    {
     "name": "stderr",
     "output_type": "stream",
     "text": [
      "2022-07-09 05:53:55,810 [INFO] Cleaning silver dataset to golden dataset ...\n"
     ]
    }
   ],
   "source": [
    "logger.info(f\"Cleaning silver dataset to golden dataset ...\")"
   ]
  },
  {
   "cell_type": "code",
   "execution_count": 7,
   "id": "8f86fd39",
   "metadata": {
    "execution": {
     "iopub.execute_input": "2022-07-09T05:53:55.844994Z",
     "iopub.status.busy": "2022-07-09T05:53:55.844584Z",
     "iopub.status.idle": "2022-07-09T05:54:07.107737Z",
     "shell.execute_reply": "2022-07-09T05:54:07.106574Z"
    },
    "papermill": {
     "duration": 11.277259,
     "end_time": "2022-07-09T05:54:07.111177",
     "exception": false,
     "start_time": "2022-07-09T05:53:55.833918",
     "status": "completed"
    },
    "tags": []
   },
   "outputs": [
    {
     "name": "stderr",
     "output_type": "stream",
     "text": [
      "WARNING: An illegal reflective access operation has occurred\n",
      "WARNING: Illegal reflective access by org.apache.spark.unsafe.Platform (file:/usr/local/spark-3.1.2-bin-hadoop3.2/jars/spark-unsafe_2.12-3.1.2.jar) to constructor java.nio.DirectByteBuffer(long,int)\n",
      "WARNING: Please consider reporting this to the maintainers of org.apache.spark.unsafe.Platform\n",
      "WARNING: Use --illegal-access=warn to enable warnings of further illegal reflective access operations\n",
      "WARNING: All illegal access operations will be denied in a future release\n"
     ]
    },
    {
     "name": "stdout",
     "output_type": "stream",
     "text": [
      ":: loading settings :: url = jar:file:/usr/local/spark-3.1.2-bin-hadoop3.2/jars/ivy-2.4.0.jar!/org/apache/ivy/core/settings/ivysettings.xml\n"
     ]
    },
    {
     "name": "stderr",
     "output_type": "stream",
     "text": [
      "Ivy Default Cache set to: /home/airflow/.ivy2/cache\n",
      "The jars for the packages stored in: /home/airflow/.ivy2/jars\n",
      "io.delta#delta-core_2.12 added as a dependency\n",
      ":: resolving dependencies :: org.apache.spark#spark-submit-parent-b00065f4-430f-4a7f-9a11-0370ef56ccd5;1.0\n",
      "\tconfs: [default]\n"
     ]
    },
    {
     "name": "stderr",
     "output_type": "stream",
     "text": [
      "\tfound io.delta#delta-core_2.12;1.0.0 in central\n",
      "\tfound org.antlr#antlr4;4.7 in central\n",
      "\tfound org.antlr#antlr4-runtime;4.7 in central\n"
     ]
    },
    {
     "name": "stderr",
     "output_type": "stream",
     "text": [
      "\tfound org.antlr#antlr-runtime;3.5.2 in central\n",
      "\tfound org.antlr#ST4;4.0.8 in central\n",
      "\tfound org.abego.treelayout#org.abego.treelayout.core;1.0.3 in central\n",
      "\tfound org.glassfish#javax.json;1.0.4 in central\n",
      "\tfound com.ibm.icu#icu4j;58.2 in central\n"
     ]
    },
    {
     "name": "stderr",
     "output_type": "stream",
     "text": [
      ":: resolution report :: resolve 670ms :: artifacts dl 31ms\n",
      "\t:: modules in use:\n",
      "\tcom.ibm.icu#icu4j;58.2 from central in [default]\n",
      "\tio.delta#delta-core_2.12;1.0.0 from central in [default]\n",
      "\torg.abego.treelayout#org.abego.treelayout.core;1.0.3 from central in [default]\n",
      "\torg.antlr#ST4;4.0.8 from central in [default]\n",
      "\torg.antlr#antlr-runtime;3.5.2 from central in [default]\n",
      "\torg.antlr#antlr4;4.7 from central in [default]\n",
      "\torg.antlr#antlr4-runtime;4.7 from central in [default]\n",
      "\torg.glassfish#javax.json;1.0.4 from central in [default]\n",
      "\t---------------------------------------------------------------------\n",
      "\t|                  |            modules            ||   artifacts   |\n",
      "\t|       conf       | number| search|dwnlded|evicted|| number|dwnlded|\n",
      "\t---------------------------------------------------------------------\n",
      "\t|      default     |   8   |   0   |   0   |   0   ||   8   |   0   |\n",
      "\t---------------------------------------------------------------------\n",
      ":: retrieving :: org.apache.spark#spark-submit-parent-b00065f4-430f-4a7f-9a11-0370ef56ccd5\n",
      "\tconfs: [default]\n",
      "\t0 artifacts copied, 8 already retrieved (0kB/25ms)\n"
     ]
    },
    {
     "name": "stderr",
     "output_type": "stream",
     "text": [
      "22/07/09 05:53:59 WARN NativeCodeLoader: Unable to load native-hadoop library for your platform... using builtin-java classes where applicable\n"
     ]
    },
    {
     "name": "stderr",
     "output_type": "stream",
     "text": [
      "Using Spark's default log4j profile: org/apache/spark/log4j-defaults.properties\n",
      "Setting default log level to \"WARN\".\n",
      "To adjust logging level use sc.setLogLevel(newLevel). For SparkR, use setLogLevel(newLevel).\n"
     ]
    }
   ],
   "source": [
    "# Create Spark Session\n",
    "builder = (\n",
    "    SparkSession\n",
    "    .builder\n",
    "    .appName(\"real-estate-etl\")\n",
    "    .config(\"spark.sql.extensions\", \"io.delta.sql.DeltaSparkSessionExtension\")\n",
    "    .config(\"spark.sql.catalog.spark_catalog\", \"org.apache.spark.sql.delta.catalog.DeltaCatalog\")\n",
    ")\n",
    "\n",
    "spark = configure_spark_with_delta_pip(builder).getOrCreate()"
   ]
  },
  {
   "cell_type": "code",
   "execution_count": 8,
   "id": "6f04b6ae",
   "metadata": {
    "execution": {
     "iopub.execute_input": "2022-07-09T05:54:07.133880Z",
     "iopub.status.busy": "2022-07-09T05:54:07.132949Z",
     "iopub.status.idle": "2022-07-09T05:54:29.270981Z",
     "shell.execute_reply": "2022-07-09T05:54:29.266383Z"
    },
    "papermill": {
     "duration": 22.158084,
     "end_time": "2022-07-09T05:54:29.278300",
     "exception": false,
     "start_time": "2022-07-09T05:54:07.120216",
     "status": "completed"
    },
    "tags": []
   },
   "outputs": [
    {
     "name": "stderr",
     "output_type": "stream",
     "text": [
      "\r",
      "[Stage 0:>                                                          (0 + 3) / 3]\r"
     ]
    },
    {
     "name": "stderr",
     "output_type": "stream",
     "text": [
      "\r",
      "[Stage 1:>                                                         (0 + 4) / 50]\r"
     ]
    },
    {
     "name": "stderr",
     "output_type": "stream",
     "text": [
      "\r",
      "[Stage 1:====>                                                     (4 + 4) / 50]\r",
      "\r",
      "[Stage 1:======>                                                   (6 + 4) / 50]\r"
     ]
    },
    {
     "name": "stderr",
     "output_type": "stream",
     "text": [
      "\r",
      "[Stage 1:=========>                                                (8 + 4) / 50]\r"
     ]
    },
    {
     "name": "stderr",
     "output_type": "stream",
     "text": [
      "\r",
      "[Stage 1:============>                                            (11 + 4) / 50]\r",
      "\r",
      "[Stage 1:=============>                                           (12 + 4) / 50]\r"
     ]
    },
    {
     "name": "stderr",
     "output_type": "stream",
     "text": [
      "\r",
      "[Stage 1:=================>                                       (15 + 4) / 50]\r",
      "\r",
      "[Stage 1:====================>                                    (18 + 4) / 50]\r"
     ]
    },
    {
     "name": "stderr",
     "output_type": "stream",
     "text": [
      "\r",
      "[Stage 1:======================>                                  (20 + 4) / 50]\r",
      "\r",
      "[Stage 1:===========================>                             (24 + 4) / 50]\r"
     ]
    },
    {
     "name": "stderr",
     "output_type": "stream",
     "text": [
      "\r",
      "[Stage 1:===============================>                         (28 + 4) / 50]\r"
     ]
    },
    {
     "name": "stderr",
     "output_type": "stream",
     "text": [
      "\r",
      "[Stage 1:====================================>                    (32 + 4) / 50]\r",
      "\r",
      "[Stage 1:=========================================>               (36 + 4) / 50]\r"
     ]
    },
    {
     "name": "stderr",
     "output_type": "stream",
     "text": [
      "\r",
      "[Stage 1:=============================================>           (40 + 4) / 50]\r"
     ]
    },
    {
     "name": "stderr",
     "output_type": "stream",
     "text": [
      "\r",
      "[Stage 1:==================================================>      (44 + 4) / 50]\r"
     ]
    },
    {
     "name": "stderr",
     "output_type": "stream",
     "text": [
      "\r",
      "                                                                                \r"
     ]
    },
    {
     "name": "stderr",
     "output_type": "stream",
     "text": [
      "\r",
      "[Stage 5:>                                                          (0 + 4) / 4]\r",
      "\r",
      "                                                                                \r",
      "2022-07-09 05:54:29,261 [INFO] 10 rows before cleaninig the data\n"
     ]
    }
   ],
   "source": [
    "# Load silver dataset\n",
    "silver_data = (\n",
    "    spark\n",
    "    .read\n",
    "    .format('delta')\n",
    "    .load(SILVER_TABLE_PATH)\n",
    "    .filter(F.col('city') == city)\n",
    ")\n",
    "\n",
    "logger.info(f\"{silver_data.count()} rows before cleaninig the data\")"
   ]
  },
  {
   "cell_type": "code",
   "execution_count": 9,
   "id": "52941a06",
   "metadata": {
    "execution": {
     "iopub.execute_input": "2022-07-09T05:54:29.307229Z",
     "iopub.status.busy": "2022-07-09T05:54:29.306438Z",
     "iopub.status.idle": "2022-07-09T05:54:39.212879Z",
     "shell.execute_reply": "2022-07-09T05:54:39.210873Z"
    },
    "papermill": {
     "duration": 9.931723,
     "end_time": "2022-07-09T05:54:39.222283",
     "exception": false,
     "start_time": "2022-07-09T05:54:29.290560",
     "status": "completed"
    },
    "tags": []
   },
   "outputs": [
    {
     "name": "stderr",
     "output_type": "stream",
     "text": [
      "\r",
      "[Stage 8:=======================================>                 (35 + 4) / 50]\r",
      "\r",
      "                                                                                \r"
     ]
    },
    {
     "name": "stderr",
     "output_type": "stream",
     "text": [
      "\r",
      "[Stage 9:>                                                          (0 + 4) / 4]\r"
     ]
    },
    {
     "name": "stderr",
     "output_type": "stream",
     "text": [
      "\r",
      "[Stage 9:==============>                                            (1 + 3) / 4]\r",
      "\r",
      "                                                                                \r"
     ]
    },
    {
     "name": "stderr",
     "output_type": "stream",
     "text": [
      "\r",
      "[Stage 12:========================================>               (36 + 4) / 50]\r",
      "\r",
      "                                                                                \r"
     ]
    },
    {
     "name": "stderr",
     "output_type": "stream",
     "text": [
      "2022-07-09 05:54:39,204 [INFO] 10 rows remained after cleaninig the data\n"
     ]
    }
   ],
   "source": [
    "# Fix values\n",
    "# If the house does not have a price, i'll remove it\n",
    "\n",
    "SELECTED_COLUMNS = ['property_id', 'city', 'attributes_inside_attic', 'attributes_inside_cellar', 'attributes_technology_dishwasher',\n",
    "                    'attributes_technology_cable_tv', 'attributes_outside_balcony', 'attributes_outside_playground',\n",
    "                    'attributes_outside_parking', 'attributes_outside_garage', 'number_of_rooms', 'surface_property', \n",
    "                    'surface_usable', 'surface_living', 'normalized_price']\n",
    "\n",
    "NUMERIC_COLUMNS = ['number_of_rooms', 'surface_property', 'surface_usable', 'surface_living']\n",
    "\n",
    "golden_data = (\n",
    "    silver_data\n",
    "    .filter(F.col('normalized_price').isNotNull())\n",
    "    .select(SELECTED_COLUMNS)\n",
    "    .withColumn('attributes_inside_attic', F.coalesce(F.col('attributes_inside_attic'), F.lit(False)).cast(IntegerType()))\n",
    "    .withColumn('attributes_inside_cellar', F.coalesce(F.col('attributes_inside_cellar'), F.lit(False)).cast(IntegerType()))\n",
    "    .withColumn('attributes_technology_dishwasher', F.coalesce(F.col('attributes_technology_dishwasher'), F.lit(False)).cast(IntegerType()))\n",
    "    .withColumn('attributes_technology_cable_tv', F.coalesce(F.col('attributes_technology_cable_tv'), F.lit(False)).cast(IntegerType()))\n",
    "    .withColumn('attributes_outside_balcony', F.coalesce(F.col('attributes_outside_balcony'), F.lit(False)).cast(IntegerType()))\n",
    "    .withColumn('attributes_outside_playground', F.coalesce(F.col('attributes_outside_playground'), F.lit(False)).cast(IntegerType()))\n",
    "    .withColumn('attributes_outside_parking', F.coalesce(F.col('attributes_outside_parking'), F.lit(False)).cast(IntegerType()))\n",
    "    .withColumn('attributes_outside_garage', F.coalesce(F.col('attributes_outside_garage'), F.lit(False)).cast(IntegerType()))\n",
    "    .withColumn('surface_property', F.coalesce(F.col('surface_property'), F.col('surface_usable'), F.col('surface_living')))\n",
    "    .withColumn('surface_usable', F.coalesce(F.col('surface_usable'), F.col('surface_property'), F.col('surface_living')))\n",
    "    .withColumn('surface_living', F.coalesce(F.col('surface_living'), F.col('surface_usable'), F.col('surface_property')))\n",
    ")\n",
    "\n",
    "for col in NUMERIC_COLUMNS:\n",
    "    golden_data = (\n",
    "        golden_data\n",
    "        .withColumn(col, F.coalesce(F.col(col), F.lit(silver_data.agg(F.mean(col).astype(IntegerType())).collect()[0][0])))\n",
    "    )\n",
    "    \n",
    "logger.info(f\"{golden_data.count()} rows remained after cleaninig the data\")"
   ]
  },
  {
   "cell_type": "code",
   "execution_count": 10,
   "id": "5afd4a0b",
   "metadata": {
    "execution": {
     "iopub.execute_input": "2022-07-09T05:54:39.255378Z",
     "iopub.status.busy": "2022-07-09T05:54:39.254587Z",
     "iopub.status.idle": "2022-07-09T05:54:50.584566Z",
     "shell.execute_reply": "2022-07-09T05:54:50.582846Z"
    },
    "papermill": {
     "duration": 11.349989,
     "end_time": "2022-07-09T05:54:50.588620",
     "exception": false,
     "start_time": "2022-07-09T05:54:39.238631",
     "status": "completed"
    },
    "tags": []
   },
   "outputs": [
    {
     "name": "stderr",
     "output_type": "stream",
     "text": [
      "22/07/09 05:54:39 WARN package: Truncated the string representation of a plan since it was too large. This behavior can be adjusted by setting 'spark.sql.debug.maxToStringFields'.\n"
     ]
    },
    {
     "name": "stderr",
     "output_type": "stream",
     "text": [
      "\r",
      "[Stage 28:============>                                           (11 + 4) / 50]\r",
      "\r",
      "[Stage 28:====================>                                   (18 + 4) / 50]\r"
     ]
    },
    {
     "name": "stderr",
     "output_type": "stream",
     "text": [
      "\r",
      "[Stage 28:============================>                           (25 + 4) / 50]\r",
      "\r",
      "[Stage 28:===================================>                    (32 + 4) / 50]\r"
     ]
    },
    {
     "name": "stderr",
     "output_type": "stream",
     "text": [
      "\r",
      "[Stage 28:========================================>               (36 + 4) / 50]\r",
      "\r",
      "[Stage 28:============================================>           (40 + 4) / 50]\r"
     ]
    },
    {
     "name": "stderr",
     "output_type": "stream",
     "text": [
      "\r",
      "[Stage 28:===============================================>        (42 + 4) / 50]\r"
     ]
    },
    {
     "name": "stderr",
     "output_type": "stream",
     "text": [
      "\r",
      "[Stage 28:====================================================>   (47 + 3) / 50]\r",
      "\r",
      "                                                                                \r"
     ]
    },
    {
     "name": "stderr",
     "output_type": "stream",
     "text": [
      "\r",
      "[Stage 32:>                                                         (0 + 4) / 4]\r"
     ]
    },
    {
     "name": "stderr",
     "output_type": "stream",
     "text": [
      "\r",
      "                                                                                \r"
     ]
    },
    {
     "name": "stderr",
     "output_type": "stream",
     "text": [
      "\r",
      "[Stage 36:=======>                                                 (7 + 5) / 50]\r",
      "\r",
      "[Stage 36:==============>                                         (13 + 4) / 50]\r"
     ]
    },
    {
     "name": "stderr",
     "output_type": "stream",
     "text": [
      "\r",
      "[Stage 36:===============>                                        (14 + 4) / 50]\r"
     ]
    },
    {
     "name": "stderr",
     "output_type": "stream",
     "text": [
      "\r",
      "[Stage 36:=====================>                                  (19 + 4) / 50]\r",
      "\r",
      "[Stage 36:=========================>                              (23 + 4) / 50]\r"
     ]
    },
    {
     "name": "stderr",
     "output_type": "stream",
     "text": [
      "\r",
      "[Stage 36:==============================>                         (27 + 4) / 50]\r"
     ]
    },
    {
     "name": "stderr",
     "output_type": "stream",
     "text": [
      "\r",
      "[Stage 36:==================================>                     (31 + 4) / 50]\r"
     ]
    },
    {
     "name": "stderr",
     "output_type": "stream",
     "text": [
      "\r",
      "[Stage 36:=======================================>                (35 + 5) / 50]\r",
      "\r",
      "[Stage 36:===============================================>        (42 + 4) / 50]\r"
     ]
    },
    {
     "name": "stderr",
     "output_type": "stream",
     "text": [
      "\r",
      "                                                                                \r"
     ]
    }
   ],
   "source": [
    "# Store it on golden Delta Table\n",
    "(\n",
    "    golden_data\n",
    "    .write\n",
    "    .format('delta')\n",
    "    .partitionBy(['city'])\n",
    "    .mode('overwrite')\n",
    "    .option('mergeSchema', 'true')\n",
    "    .option('replaceWhere', f\"city=='{city}'\")\n",
    "    .save(GOLDEN_TABLE_PATH)\n",
    ")"
   ]
  },
  {
   "cell_type": "code",
   "execution_count": 11,
   "id": "9557683a",
   "metadata": {
    "execution": {
     "iopub.execute_input": "2022-07-09T05:54:50.624306Z",
     "iopub.status.busy": "2022-07-09T05:54:50.623765Z",
     "iopub.status.idle": "2022-07-09T05:54:50.632468Z",
     "shell.execute_reply": "2022-07-09T05:54:50.629802Z"
    },
    "papermill": {
     "duration": 0.034117,
     "end_time": "2022-07-09T05:54:50.637910",
     "exception": false,
     "start_time": "2022-07-09T05:54:50.603793",
     "status": "completed"
    },
    "tags": []
   },
   "outputs": [],
   "source": [
    "# # Vacuum table\n",
    "# delta_table = DeltaTable.forPath(spark, GOLDEN_TABLE_PATH)\n",
    "# delta_table.vacuum()"
   ]
  }
 ],
 "metadata": {
  "celltoolbar": "Tags",
  "kernelspec": {
   "display_name": "Python 3 (ipykernel)",
   "language": "python",
   "name": "python3"
  },
  "language_info": {
   "codemirror_mode": {
    "name": "ipython",
    "version": 3
   },
   "file_extension": ".py",
   "mimetype": "text/x-python",
   "name": "python",
   "nbconvert_exporter": "python",
   "pygments_lexer": "ipython3",
   "version": "3.7.12"
  },
  "papermill": {
   "default_parameters": {},
   "duration": 60.802243,
   "end_time": "2022-07-09T05:54:53.306648",
   "environment_variables": {},
   "exception": null,
   "input_path": "/opt/notebooks/input/create_golden_table.ipynb",
   "output_path": "/opt/notebooks/output/create_golden_table_output.ipynb",
   "parameters": {
    "city": "zuerich"
   },
   "start_time": "2022-07-09T05:53:52.504405",
   "version": "2.3.4"
  }
 },
 "nbformat": 4,
 "nbformat_minor": 5
}