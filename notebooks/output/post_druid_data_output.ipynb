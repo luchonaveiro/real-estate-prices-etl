{
 "cells": [
  {
   "cell_type": "code",
   "execution_count": 1,
   "id": "f0c8bdce",
   "metadata": {
    "execution": {
     "iopub.execute_input": "2022-07-09T23:02:44.042068Z",
     "iopub.status.busy": "2022-07-09T23:02:44.041236Z",
     "iopub.status.idle": "2022-07-09T23:02:44.071757Z",
     "shell.execute_reply": "2022-07-09T23:02:44.062428Z"
    },
    "papermill": {
     "duration": 0.054989,
     "end_time": "2022-07-09T23:02:44.078402",
     "exception": false,
     "start_time": "2022-07-09T23:02:44.023413",
     "status": "completed"
    },
    "tags": []
   },
   "outputs": [],
   "source": [
    "import logging"
   ]
  },
  {
   "cell_type": "code",
   "execution_count": 2,
   "id": "560a67df",
   "metadata": {
    "execution": {
     "iopub.execute_input": "2022-07-09T23:02:44.100636Z",
     "iopub.status.busy": "2022-07-09T23:02:44.100010Z",
     "iopub.status.idle": "2022-07-09T23:02:44.112896Z",
     "shell.execute_reply": "2022-07-09T23:02:44.111163Z"
    },
    "papermill": {
     "duration": 0.028296,
     "end_time": "2022-07-09T23:02:44.116678",
     "exception": false,
     "start_time": "2022-07-09T23:02:44.088382",
     "status": "completed"
    },
    "tags": []
   },
   "outputs": [],
   "source": [
    "logging.basicConfig(\n",
    "    level=logging.INFO,\n",
    "    format=\"%(asctime)s [%(levelname)s] %(message)s\",\n",
    "    handlers=[\n",
    "        logging.StreamHandler()\n",
    "    ]\n",
    ")\n",
    "logger = logging.getLogger(__name__)"
   ]
  },
  {
   "cell_type": "code",
   "execution_count": 3,
   "id": "c15ea0ec",
   "metadata": {
    "execution": {
     "iopub.execute_input": "2022-07-09T23:02:44.140224Z",
     "iopub.status.busy": "2022-07-09T23:02:44.139501Z",
     "iopub.status.idle": "2022-07-09T23:02:44.150150Z",
     "shell.execute_reply": "2022-07-09T23:02:44.148736Z"
    },
    "papermill": {
     "duration": 0.034739,
     "end_time": "2022-07-09T23:02:44.161375",
     "exception": false,
     "start_time": "2022-07-09T23:02:44.126636",
     "status": "completed"
    },
    "tags": []
   },
   "outputs": [
    {
     "name": "stderr",
     "output_type": "stream",
     "text": [
      "2022-07-09 23:02:44,142 [INFO] Not Implemented\n"
     ]
    }
   ],
   "source": [
    "logger.info('Not Implemented')"
   ]
  }
 ],
 "metadata": {
  "kernelspec": {
   "display_name": "Python 3 (ipykernel)",
   "language": "python",
   "name": "python3"
  },
  "language_info": {
   "codemirror_mode": {
    "name": "ipython",
    "version": 3
   },
   "file_extension": ".py",
   "mimetype": "text/x-python",
   "name": "python",
   "nbconvert_exporter": "python",
   "pygments_lexer": "ipython3",
   "version": "3.7.12"
  },
  "papermill": {
   "default_parameters": {},
   "duration": 5.046536,
   "end_time": "2022-07-09T23:02:44.407034",
   "environment_variables": {},
   "exception": null,
   "input_path": "/opt/notebooks/input/post_druid_data.ipynb",
   "output_path": "/opt/notebooks/output/post_druid_data_output.ipynb",
   "parameters": {},
   "start_time": "2022-07-09T23:02:39.360498",
   "version": "2.3.4"
  }
 },
 "nbformat": 4,
 "nbformat_minor": 5
}