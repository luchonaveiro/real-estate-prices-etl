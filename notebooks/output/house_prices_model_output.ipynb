{
 "cells": [
  {
   "cell_type": "code",
   "execution_count": 1,
   "id": "56b98eb7",
   "metadata": {
    "execution": {
     "iopub.execute_input": "2022-07-09T22:49:18.140225Z",
     "iopub.status.busy": "2022-07-09T22:49:18.138919Z",
     "iopub.status.idle": "2022-07-09T22:49:18.370509Z",
     "shell.execute_reply": "2022-07-09T22:49:18.369578Z"
    },
    "papermill": {
     "duration": 0.252339,
     "end_time": "2022-07-09T22:49:18.373627",
     "exception": false,
     "start_time": "2022-07-09T22:49:18.121288",
     "status": "completed"
    },
    "tags": []
   },
   "outputs": [],
   "source": [
    "from pyspark.sql import SparkSession\n",
    "import pyspark.sql.functions as F\n",
    "from pyspark.ml.tuning import TrainValidationSplit\n",
    "from pyspark.ml import Pipeline\n",
    "from pyspark.ml.feature import StandardScaler, VectorAssembler, StringIndexer, OneHotEncoder\n",
    "from pyspark.ml.regression import LinearRegression\n",
    "from pyspark.ml.evaluation import RegressionEvaluator\n",
    "from delta import *\n",
    "import logging"
   ]
  },
  {
   "cell_type": "code",
   "execution_count": 2,
   "id": "1e1b2ff8",
   "metadata": {
    "execution": {
     "iopub.execute_input": "2022-07-09T22:49:18.392223Z",
     "iopub.status.busy": "2022-07-09T22:49:18.391256Z",
     "iopub.status.idle": "2022-07-09T22:49:18.397625Z",
     "shell.execute_reply": "2022-07-09T22:49:18.396727Z"
    },
    "papermill": {
     "duration": 0.018595,
     "end_time": "2022-07-09T22:49:18.400303",
     "exception": false,
     "start_time": "2022-07-09T22:49:18.381708",
     "status": "completed"
    },
    "tags": []
   },
   "outputs": [],
   "source": [
    "# Paths\n",
    "GOLDEN_TABLE_PATH = '/opt/data_lake/golden/house_prices'\n",
    "PREDICTIONS_TABLE_PATH = '/opt/data_lake/golden/house_prices_predictions'\n",
    "MODEL_ARTIFACTS_PATH = '/opt/model_artifacts/model'"
   ]
  },
  {
   "cell_type": "code",
   "execution_count": 3,
   "id": "dfbfa72f",
   "metadata": {
    "execution": {
     "iopub.execute_input": "2022-07-09T22:49:18.423738Z",
     "iopub.status.busy": "2022-07-09T22:49:18.422881Z",
     "iopub.status.idle": "2022-07-09T22:49:18.428933Z",
     "shell.execute_reply": "2022-07-09T22:49:18.427937Z"
    },
    "papermill": {
     "duration": 0.021584,
     "end_time": "2022-07-09T22:49:18.433570",
     "exception": false,
     "start_time": "2022-07-09T22:49:18.411986",
     "status": "completed"
    },
    "tags": []
   },
   "outputs": [],
   "source": [
    "logging.basicConfig(\n",
    "    level=logging.INFO,\n",
    "    format=\"%(asctime)s [%(levelname)s] %(message)s\",\n",
    "    handlers=[\n",
    "        logging.StreamHandler()\n",
    "    ]\n",
    ")\n",
    "logger = logging.getLogger(__name__)"
   ]
  },
  {
   "cell_type": "code",
   "execution_count": 4,
   "id": "d7cd3e89",
   "metadata": {
    "execution": {
     "iopub.execute_input": "2022-07-09T22:49:18.483708Z",
     "iopub.status.busy": "2022-07-09T22:49:18.479977Z",
     "iopub.status.idle": "2022-07-09T22:49:32.770504Z",
     "shell.execute_reply": "2022-07-09T22:49:32.768340Z"
    },
    "papermill": {
     "duration": 14.326237,
     "end_time": "2022-07-09T22:49:32.778919",
     "exception": false,
     "start_time": "2022-07-09T22:49:18.452682",
     "status": "completed"
    },
    "tags": []
   },
   "outputs": [
    {
     "name": "stderr",
     "output_type": "stream",
     "text": [
      "WARNING: An illegal reflective access operation has occurred\n",
      "WARNING: Illegal reflective access by org.apache.spark.unsafe.Platform (file:/usr/local/spark-3.1.2-bin-hadoop3.2/jars/spark-unsafe_2.12-3.1.2.jar) to constructor java.nio.DirectByteBuffer(long,int)\n",
      "WARNING: Please consider reporting this to the maintainers of org.apache.spark.unsafe.Platform\n",
      "WARNING: Use --illegal-access=warn to enable warnings of further illegal reflective access operations\n",
      "WARNING: All illegal access operations will be denied in a future release\n"
     ]
    },
    {
     "name": "stdout",
     "output_type": "stream",
     "text": [
      ":: loading settings :: url = jar:file:/usr/local/spark-3.1.2-bin-hadoop3.2/jars/ivy-2.4.0.jar!/org/apache/ivy/core/settings/ivysettings.xml\n"
     ]
    },
    {
     "name": "stderr",
     "output_type": "stream",
     "text": [
      "Ivy Default Cache set to: /home/airflow/.ivy2/cache\n",
      "The jars for the packages stored in: /home/airflow/.ivy2/jars\n",
      "io.delta#delta-core_2.12 added as a dependency\n",
      ":: resolving dependencies :: org.apache.spark#spark-submit-parent-21459ba4-540a-43b8-93aa-86f81b6d6f68;1.0\n",
      "\tconfs: [default]\n"
     ]
    },
    {
     "name": "stderr",
     "output_type": "stream",
     "text": [
      "\tfound io.delta#delta-core_2.12;1.0.0 in central\n",
      "\tfound org.antlr#antlr4;4.7 in central\n"
     ]
    },
    {
     "name": "stderr",
     "output_type": "stream",
     "text": [
      "\tfound org.antlr#antlr4-runtime;4.7 in central\n",
      "\tfound org.antlr#antlr-runtime;3.5.2 in central\n",
      "\tfound org.antlr#ST4;4.0.8 in central\n"
     ]
    },
    {
     "name": "stderr",
     "output_type": "stream",
     "text": [
      "\tfound org.abego.treelayout#org.abego.treelayout.core;1.0.3 in central\n",
      "\tfound org.glassfish#javax.json;1.0.4 in central\n",
      "\tfound com.ibm.icu#icu4j;58.2 in central\n"
     ]
    },
    {
     "name": "stderr",
     "output_type": "stream",
     "text": [
      ":: resolution report :: resolve 1056ms :: artifacts dl 39ms\n",
      "\t:: modules in use:\n",
      "\tcom.ibm.icu#icu4j;58.2 from central in [default]\n",
      "\tio.delta#delta-core_2.12;1.0.0 from central in [default]\n",
      "\torg.abego.treelayout#org.abego.treelayout.core;1.0.3 from central in [default]\n",
      "\torg.antlr#ST4;4.0.8 from central in [default]\n",
      "\torg.antlr#antlr-runtime;3.5.2 from central in [default]\n",
      "\torg.antlr#antlr4;4.7 from central in [default]\n",
      "\torg.antlr#antlr4-runtime;4.7 from central in [default]\n",
      "\torg.glassfish#javax.json;1.0.4 from central in [default]\n",
      "\t---------------------------------------------------------------------\n",
      "\t|                  |            modules            ||   artifacts   |\n",
      "\t|       conf       | number| search|dwnlded|evicted|| number|dwnlded|\n",
      "\t---------------------------------------------------------------------\n",
      "\t|      default     |   8   |   0   |   0   |   0   ||   8   |   0   |\n",
      "\t---------------------------------------------------------------------\n",
      ":: retrieving :: org.apache.spark#spark-submit-parent-21459ba4-540a-43b8-93aa-86f81b6d6f68\n",
      "\tconfs: [default]\n",
      "\t0 artifacts copied, 8 already retrieved (0kB/46ms)\n"
     ]
    },
    {
     "name": "stderr",
     "output_type": "stream",
     "text": [
      "22/07/09 22:49:23 WARN NativeCodeLoader: Unable to load native-hadoop library for your platform... using builtin-java classes where applicable\n"
     ]
    },
    {
     "name": "stderr",
     "output_type": "stream",
     "text": [
      "Using Spark's default log4j profile: org/apache/spark/log4j-defaults.properties\n",
      "Setting default log level to \"WARN\".\n",
      "To adjust logging level use sc.setLogLevel(newLevel). For SparkR, use setLogLevel(newLevel).\n"
     ]
    }
   ],
   "source": [
    "# Create Spark Session\n",
    "builder = (\n",
    "    SparkSession\n",
    "    .builder\n",
    "    .appName(\"real-estate-etl\")\n",
    "    .config(\"spark.sql.extensions\", \"io.delta.sql.DeltaSparkSessionExtension\")\n",
    "    .config(\"spark.sql.catalog.spark_catalog\", \"org.apache.spark.sql.delta.catalog.DeltaCatalog\")\n",
    ")\n",
    "\n",
    "spark = configure_spark_with_delta_pip(builder).getOrCreate()"
   ]
  },
  {
   "cell_type": "code",
   "execution_count": 5,
   "id": "ce582f4f",
   "metadata": {
    "execution": {
     "iopub.execute_input": "2022-07-09T22:49:32.836991Z",
     "iopub.status.busy": "2022-07-09T22:49:32.836148Z",
     "iopub.status.idle": "2022-07-09T22:50:13.473771Z",
     "shell.execute_reply": "2022-07-09T22:50:13.470223Z"
    },
    "papermill": {
     "duration": 40.678311,
     "end_time": "2022-07-09T22:50:13.480128",
     "exception": false,
     "start_time": "2022-07-09T22:49:32.801817",
     "status": "completed"
    },
    "tags": []
   },
   "outputs": [
    {
     "name": "stderr",
     "output_type": "stream",
     "text": [
      "\r",
      "[Stage 0:>                                                          (0 + 2) / 2]\r"
     ]
    },
    {
     "name": "stderr",
     "output_type": "stream",
     "text": [
      "\r",
      "[Stage 0:=============================>                             (1 + 1) / 2]\r"
     ]
    },
    {
     "name": "stderr",
     "output_type": "stream",
     "text": [
      "\r",
      "[Stage 1:>                                                         (0 + 4) / 50]\r"
     ]
    },
    {
     "name": "stderr",
     "output_type": "stream",
     "text": [
      "\r",
      "[Stage 1:====>                                                     (4 + 4) / 50]\r",
      "\r",
      "[Stage 1:========>                                                 (7 + 4) / 50]\r"
     ]
    },
    {
     "name": "stderr",
     "output_type": "stream",
     "text": [
      "\r",
      "[Stage 1:=========>                                                (8 + 4) / 50]\r"
     ]
    },
    {
     "name": "stderr",
     "output_type": "stream",
     "text": [
      "\r",
      "[Stage 1:============>                                            (11 + 4) / 50]\r",
      "\r",
      "[Stage 1:==============>                                          (13 + 4) / 50]\r"
     ]
    },
    {
     "name": "stderr",
     "output_type": "stream",
     "text": [
      "\r",
      "[Stage 1:==================>                                      (16 + 4) / 50]\r",
      "\r",
      "[Stage 1:===================>                                     (17 + 4) / 50]\r"
     ]
    },
    {
     "name": "stderr",
     "output_type": "stream",
     "text": [
      "\r",
      "[Stage 1:=======================>                                 (21 + 4) / 50]\r",
      "\r",
      "[Stage 1:==========================>                              (23 + 5) / 50]\r"
     ]
    },
    {
     "name": "stderr",
     "output_type": "stream",
     "text": [
      "\r",
      "[Stage 1:===============================>                         (28 + 4) / 50]\r"
     ]
    },
    {
     "name": "stderr",
     "output_type": "stream",
     "text": [
      "\r",
      "[Stage 1:=====================================>                   (33 + 4) / 50]\r",
      "\r",
      "[Stage 1:===========================================>             (38 + 4) / 50]\r"
     ]
    },
    {
     "name": "stderr",
     "output_type": "stream",
     "text": [
      "\r",
      "[Stage 1:===============================================>         (42 + 4) / 50]\r",
      "\r",
      "[Stage 1:===================================================>     (45 + 4) / 50]\r"
     ]
    },
    {
     "name": "stderr",
     "output_type": "stream",
     "text": [
      "\r",
      "                                                                                \r"
     ]
    },
    {
     "name": "stderr",
     "output_type": "stream",
     "text": [
      "\r",
      "[Stage 5:=============================>                             (2 + 2) / 4]\r",
      "\r",
      "                                                                                \r",
      "2022-07-09 22:50:13,459 [INFO] Using 3546 datapoints to fit the model.\n"
     ]
    }
   ],
   "source": [
    "# Load data\n",
    "data = (\n",
    "    spark\n",
    "    .read\n",
    "    .format('delta')\n",
    "    .load(GOLDEN_TABLE_PATH)\n",
    "    .withColumn('label', F.col('normalized_price'))\n",
    ")\n",
    "\n",
    "logger.info(f\"Using {data.count()} datapoints to fit the model.\")"
   ]
  },
  {
   "cell_type": "code",
   "execution_count": 6,
   "id": "09126f58",
   "metadata": {
    "execution": {
     "iopub.execute_input": "2022-07-09T22:50:13.516583Z",
     "iopub.status.busy": "2022-07-09T22:50:13.516160Z",
     "iopub.status.idle": "2022-07-09T22:50:13.572916Z",
     "shell.execute_reply": "2022-07-09T22:50:13.571051Z"
    },
    "papermill": {
     "duration": 0.078429,
     "end_time": "2022-07-09T22:50:13.576522",
     "exception": false,
     "start_time": "2022-07-09T22:50:13.498093",
     "status": "completed"
    },
    "tags": []
   },
   "outputs": [],
   "source": [
    "# Split train and test datasets\n",
    "train_data, test_data = data.randomSplit([0.8, 0.2])"
   ]
  },
  {
   "cell_type": "code",
   "execution_count": 7,
   "id": "2fb4a6aa",
   "metadata": {
    "execution": {
     "iopub.execute_input": "2022-07-09T22:50:13.609505Z",
     "iopub.status.busy": "2022-07-09T22:50:13.609085Z",
     "iopub.status.idle": "2022-07-09T22:50:13.616429Z",
     "shell.execute_reply": "2022-07-09T22:50:13.614935Z"
    },
    "papermill": {
     "duration": 0.029629,
     "end_time": "2022-07-09T22:50:13.621072",
     "exception": false,
     "start_time": "2022-07-09T22:50:13.591443",
     "status": "completed"
    },
    "tags": []
   },
   "outputs": [],
   "source": [
    "free_columns = ['attributes_inside_attic', 'attributes_inside_cellar', 'attributes_technology_dishwasher',\n",
    "                'attributes_technology_cable_tv', 'attributes_outside_balcony', 'attributes_outside_playground',\n",
    "                'attributes_outside_parking', 'attributes_outside_garage']"
   ]
  },
  {
   "cell_type": "code",
   "execution_count": 8,
   "id": "d79f19d2",
   "metadata": {
    "execution": {
     "iopub.execute_input": "2022-07-09T22:50:13.650286Z",
     "iopub.status.busy": "2022-07-09T22:50:13.649746Z",
     "iopub.status.idle": "2022-07-09T22:50:13.772810Z",
     "shell.execute_reply": "2022-07-09T22:50:13.771341Z"
    },
    "papermill": {
     "duration": 0.141957,
     "end_time": "2022-07-09T22:50:13.775885",
     "exception": false,
     "start_time": "2022-07-09T22:50:13.633928",
     "status": "completed"
    },
    "tags": []
   },
   "outputs": [],
   "source": [
    "# One Hot Encoding Categorical Variables\n",
    "categorical_columns = ['city']\n",
    "\n",
    "cat_indexers = [\n",
    "    StringIndexer(inputCol=c, outputCol=\"{0}_indexed\".format(c))\n",
    "    for c in categorical_columns\n",
    "]\n",
    "\n",
    "cat_encoders = [OneHotEncoder(dropLast=False,inputCol=indexer.getOutputCol(),\n",
    "            outputCol=\"{0}_encoded\".format(indexer.getOutputCol())) \n",
    "    for indexer in cat_indexers\n",
    "]\n",
    "\n",
    "cat_assembler = VectorAssembler(inputCols=[encoder.getOutputCol() for encoder in cat_encoders], outputCol=\"cat_features\")"
   ]
  },
  {
   "cell_type": "code",
   "execution_count": 9,
   "id": "ac0290be",
   "metadata": {
    "execution": {
     "iopub.execute_input": "2022-07-09T22:50:13.804604Z",
     "iopub.status.busy": "2022-07-09T22:50:13.804230Z",
     "iopub.status.idle": "2022-07-09T22:50:13.941958Z",
     "shell.execute_reply": "2022-07-09T22:50:13.940502Z"
    },
    "papermill": {
     "duration": 0.155116,
     "end_time": "2022-07-09T22:50:13.945361",
     "exception": false,
     "start_time": "2022-07-09T22:50:13.790245",
     "status": "completed"
    },
    "tags": []
   },
   "outputs": [],
   "source": [
    "# Standard Scaler Numerical Variables\n",
    "numerical_columns = ['number_of_rooms', 'surface_property', 'surface_living']\n",
    "\n",
    "num_assembler = VectorAssembler(inputCols=numerical_columns, outputCol=\"num_features\")\n",
    "output = num_assembler.transform(train_data)\n",
    "\n",
    "num_scaler = StandardScaler(inputCol=\"num_features\", outputCol=\"scaledFeatures\")\n"
   ]
  },
  {
   "cell_type": "code",
   "execution_count": 10,
   "id": "064be7c2",
   "metadata": {
    "execution": {
     "iopub.execute_input": "2022-07-09T22:50:13.992468Z",
     "iopub.status.busy": "2022-07-09T22:50:13.991001Z",
     "iopub.status.idle": "2022-07-09T22:50:24.592468Z",
     "shell.execute_reply": "2022-07-09T22:50:24.580970Z"
    },
    "papermill": {
     "duration": 10.647467,
     "end_time": "2022-07-09T22:50:24.610869",
     "exception": false,
     "start_time": "2022-07-09T22:50:13.963402",
     "status": "completed"
    },
    "tags": []
   },
   "outputs": [
    {
     "name": "stderr",
     "output_type": "stream",
     "text": [
      "\r",
      "[Stage 9:>                                                          (0 + 4) / 4]\r"
     ]
    },
    {
     "name": "stderr",
     "output_type": "stream",
     "text": [
      "\r",
      "                                                                                \r"
     ]
    },
    {
     "name": "stderr",
     "output_type": "stream",
     "text": [
      "\r",
      "[Stage 13:=============================>                            (2 + 2) / 4]\r",
      "\r",
      "                                                                                \r"
     ]
    },
    {
     "name": "stderr",
     "output_type": "stream",
     "text": [
      "22/07/09 22:50:21 WARN Instrumentation: [ae0f6a51] regParam is zero, which might cause numerical instability and overfitting.\n"
     ]
    },
    {
     "name": "stderr",
     "output_type": "stream",
     "text": [
      "22/07/09 22:50:21 WARN BLAS: Failed to load implementation from: com.github.fommil.netlib.NativeSystemBLAS\n",
      "22/07/09 22:50:21 WARN BLAS: Failed to load implementation from: com.github.fommil.netlib.NativeRefBLAS\n",
      "\r",
      "[Stage 19:==============>                                           (1 + 3) / 4]\r"
     ]
    },
    {
     "name": "stderr",
     "output_type": "stream",
     "text": [
      "\r",
      "                                                                                \r",
      "22/07/09 22:50:21 WARN LAPACK: Failed to load implementation from: com.github.fommil.netlib.NativeSystemLAPACK\n",
      "22/07/09 22:50:21 WARN LAPACK: Failed to load implementation from: com.github.fommil.netlib.NativeRefLAPACK\n"
     ]
    },
    {
     "name": "stderr",
     "output_type": "stream",
     "text": [
      "\r",
      "[Stage 22:==============>                                           (1 + 3) / 4]\r",
      "\r",
      "                                                                                \r"
     ]
    }
   ],
   "source": [
    "# Fit Linear Regression\n",
    "features = VectorAssembler(inputCols= free_columns + ['cat_features', 'num_features'], \n",
    "                           outputCol=\"features\")\n",
    "\n",
    "lr = LinearRegression()\n",
    "\n",
    "# Fit the whole pipeline\n",
    "pipeline = Pipeline(stages = cat_indexers + cat_encoders + [cat_assembler] + [num_assembler] + [num_scaler] + [features] + [lr])\n",
    "model=pipeline.fit(train_data)\n",
    "train_data_transformed = model.transform(train_data)"
   ]
  },
  {
   "cell_type": "code",
   "execution_count": 11,
   "id": "dc9e723f",
   "metadata": {
    "execution": {
     "iopub.execute_input": "2022-07-09T22:50:24.722746Z",
     "iopub.status.busy": "2022-07-09T22:50:24.709643Z",
     "iopub.status.idle": "2022-07-09T22:50:24.830994Z",
     "shell.execute_reply": "2022-07-09T22:50:24.819998Z"
    },
    "papermill": {
     "duration": 0.168515,
     "end_time": "2022-07-09T22:50:24.841452",
     "exception": false,
     "start_time": "2022-07-09T22:50:24.672937",
     "status": "completed"
    },
    "tags": []
   },
   "outputs": [
    {
     "name": "stderr",
     "output_type": "stream",
     "text": [
      "2022-07-09 22:50:24,756 [INFO] RMSE: 1475771.7157919668\n"
     ]
    },
    {
     "name": "stderr",
     "output_type": "stream",
     "text": [
      "2022-07-09 22:50:24,769 [INFO] R Squared (R2) on test data: 0.3718749172054404\n"
     ]
    }
   ],
   "source": [
    "# Calculate model metrics on training data\n",
    "training_summary = model.stages[-1].summary\n",
    "logger.info(f\"RMSE: {training_summary.rootMeanSquaredError}\")\n",
    "logger.info(f\"R Squared (R2) on test data: {training_summary.r2}\")"
   ]
  },
  {
   "cell_type": "code",
   "execution_count": 12,
   "id": "5713273c",
   "metadata": {
    "execution": {
     "iopub.execute_input": "2022-07-09T22:50:24.906326Z",
     "iopub.status.busy": "2022-07-09T22:50:24.905099Z",
     "iopub.status.idle": "2022-07-09T22:50:26.788184Z",
     "shell.execute_reply": "2022-07-09T22:50:26.786790Z"
    },
    "papermill": {
     "duration": 1.923409,
     "end_time": "2022-07-09T22:50:26.800877",
     "exception": false,
     "start_time": "2022-07-09T22:50:24.877468",
     "status": "completed"
    },
    "tags": []
   },
   "outputs": [
    {
     "name": "stderr",
     "output_type": "stream",
     "text": [
      "2022-07-09 22:50:26,782 [INFO] R Squared (R2) on test data = 0.2016755344732224\n"
     ]
    }
   ],
   "source": [
    "# Calculate model metrics on test data\n",
    "test_data_transformed = model.transform(test_data)\n",
    "\n",
    "lr_evaluator = RegressionEvaluator(predictionCol=\"prediction\",\n",
    "                                   labelCol=\"label\",metricName=\"r2\")\n",
    "\n",
    "logger.info(f\"R Squared (R2) on test data = {lr_evaluator.evaluate(test_data_transformed)}\")"
   ]
  },
  {
   "cell_type": "code",
   "execution_count": 13,
   "id": "4d07d5b7",
   "metadata": {
    "execution": {
     "iopub.execute_input": "2022-07-09T22:50:26.831426Z",
     "iopub.status.busy": "2022-07-09T22:50:26.830924Z",
     "iopub.status.idle": "2022-07-09T22:50:35.081946Z",
     "shell.execute_reply": "2022-07-09T22:50:35.080639Z"
    },
    "papermill": {
     "duration": 8.279214,
     "end_time": "2022-07-09T22:50:35.094964",
     "exception": false,
     "start_time": "2022-07-09T22:50:26.815750",
     "status": "completed"
    },
    "tags": []
   },
   "outputs": [
    {
     "name": "stderr",
     "output_type": "stream",
     "text": [
      "2022-07-09 22:50:30,609 [WARNING] Matplotlib created a temporary config/cache directory at /tmp/matplotlib-wrvectn8 because the default path (/home/airflow/.cache/matplotlib) is not a writable directory; it is highly recommended to set the MPLCONFIGDIR environment variable to a writable directory, in particular to speed up the import of Matplotlib and to better support multiprocessing.\n"
     ]
    },
    {
     "name": "stderr",
     "output_type": "stream",
     "text": [
      "2022-07-09 22:50:31,065 [INFO] generated new fontManager\n"
     ]
    },
    {
     "data": {
      "text/plain": [
       "<AxesSubplot:ylabel='Frequency'>"
      ]
     },
     "execution_count": 13,
     "metadata": {},
     "output_type": "execute_result"
    },
    {
     "data": {
      "image/png": "[encoded data removed]",
      "text/plain": [
       "<Figure size 432x288 with 1 Axes>"
      ]
     },
     "metadata": {
      "needs_background": "light"
     },
     "output_type": "display_data"
    }
   ],
   "source": [
    "train_data_transformed.toPandas()[['prediction', 'label']].plot.hist(bins=200)"
   ]
  },
  {
   "cell_type": "code",
   "execution_count": 14,
   "id": "edea61bd",
   "metadata": {
    "execution": {
     "iopub.execute_input": "2022-07-09T22:50:35.183729Z",
     "iopub.status.busy": "2022-07-09T22:50:35.181051Z",
     "iopub.status.idle": "2022-07-09T22:50:39.168988Z",
     "shell.execute_reply": "2022-07-09T22:50:39.164465Z"
    },
    "papermill": {
     "duration": 4.041628,
     "end_time": "2022-07-09T22:50:39.174906",
     "exception": false,
     "start_time": "2022-07-09T22:50:35.133278",
     "status": "completed"
    },
    "tags": []
   },
   "outputs": [
    {
     "name": "stderr",
     "output_type": "stream",
     "text": [
      "\r",
      "[Stage 31:==============>                                           (1 + 3) / 4]\r",
      "\r",
      "                                                                                \r"
     ]
    },
    {
     "data": {
      "text/plain": [
       "<AxesSubplot:ylabel='Frequency'>"
      ]
     },
     "execution_count": 14,
     "metadata": {},
     "output_type": "execute_result"
    },
    {
     "data": {
      "image/png": "[encoded data removed]",
      "text/plain": [
       "<Figure size 432x288 with 1 Axes>"
      ]
     },
     "metadata": {
      "needs_background": "light"
     },
     "output_type": "display_data"
    }
   ],
   "source": [
    "test_data_transformed.toPandas()[['prediction', 'label']].plot.hist(bins=200)"
   ]
  },
  {
   "cell_type": "code",
   "execution_count": 15,
   "id": "94517881",
   "metadata": {
    "execution": {
     "iopub.execute_input": "2022-07-09T22:50:39.218632Z",
     "iopub.status.busy": "2022-07-09T22:50:39.213703Z",
     "iopub.status.idle": "2022-07-09T22:50:50.547473Z",
     "shell.execute_reply": "2022-07-09T22:50:50.543445Z"
    },
    "papermill": {
     "duration": 11.358212,
     "end_time": "2022-07-09T22:50:50.550980",
     "exception": false,
     "start_time": "2022-07-09T22:50:39.192768",
     "status": "completed"
    },
    "tags": []
   },
   "outputs": [
    {
     "name": "stderr",
     "output_type": "stream",
     "text": [
      "\r",
      "[Stage 33:=============>                                          (12 + 4) / 50]\r"
     ]
    },
    {
     "name": "stderr",
     "output_type": "stream",
     "text": [
      "\r",
      "[Stage 33:===================>                                    (17 + 4) / 50]\r"
     ]
    },
    {
     "name": "stderr",
     "output_type": "stream",
     "text": [
      "\r",
      "[Stage 33:=====================>                                  (19 + 4) / 50]\r",
      "\r",
      "[Stage 33:=========================>                              (23 + 4) / 50]\r"
     ]
    },
    {
     "name": "stderr",
     "output_type": "stream",
     "text": [
      "\r",
      "[Stage 33:==============================>                         (27 + 4) / 50]\r"
     ]
    },
    {
     "name": "stderr",
     "output_type": "stream",
     "text": [
      "\r",
      "[Stage 33:===================================>                    (32 + 4) / 50]\r",
      "\r",
      "[Stage 33:========================================>               (36 + 4) / 50]\r"
     ]
    },
    {
     "name": "stderr",
     "output_type": "stream",
     "text": [
      "\r",
      "[Stage 33:============================================>           (40 + 4) / 50]\r"
     ]
    },
    {
     "name": "stderr",
     "output_type": "stream",
     "text": [
      "\r",
      "[Stage 33:=================================================>      (44 + 4) / 50]\r"
     ]
    },
    {
     "name": "stderr",
     "output_type": "stream",
     "text": [
      "\r",
      "                                                                                \r"
     ]
    },
    {
     "name": "stderr",
     "output_type": "stream",
     "text": [
      "\r",
      "[Stage 37:>                                                         (0 + 0) / 4]\r",
      "\r",
      "[Stage 37:>                                                         (0 + 4) / 4]\r"
     ]
    },
    {
     "name": "stderr",
     "output_type": "stream",
     "text": [
      "\r",
      "[Stage 37:===========================================>              (3 + 1) / 4]\r",
      "\r",
      "                                                                                \r"
     ]
    },
    {
     "name": "stderr",
     "output_type": "stream",
     "text": [
      "\r",
      "[Stage 41:===============================>                        (28 + 4) / 50]\r",
      "\r",
      "[Stage 41:========================================>               (36 + 4) / 50]\r"
     ]
    },
    {
     "name": "stderr",
     "output_type": "stream",
     "text": [
      "\r",
      "[Stage 41:===================================================>    (46 + 4) / 50]\r",
      "\r",
      "                                                                                \r"
     ]
    }
   ],
   "source": [
    "# Store the predictions as a delta table\n",
    "predicted_data = model.transform(data)\n",
    "\n",
    "(\n",
    "    predicted_data\n",
    "    .write\n",
    "    .format('delta')\n",
    "    .mode('overwrite')\n",
    "    .option('mergeSchema', 'true')\n",
    "    .save(PREDICTIONS_TABLE_PATH)\n",
    ")"
   ]
  },
  {
   "cell_type": "code",
   "execution_count": 16,
   "id": "0a1a4a7f",
   "metadata": {
    "execution": {
     "iopub.execute_input": "2022-07-09T22:50:50.611497Z",
     "iopub.status.busy": "2022-07-09T22:50:50.607711Z",
     "iopub.status.idle": "2022-07-09T22:50:50.621525Z",
     "shell.execute_reply": "2022-07-09T22:50:50.619315Z"
    },
    "papermill": {
     "duration": 0.049085,
     "end_time": "2022-07-09T22:50:50.625811",
     "exception": false,
     "start_time": "2022-07-09T22:50:50.576726",
     "status": "completed"
    },
    "tags": []
   },
   "outputs": [],
   "source": [
    "# # Vacuum table\n",
    "# delta_table = DeltaTable.forPath(spark, PREDICTIONS_TABLE_PATH)\n",
    "# delta_table.vacuum()"
   ]
  },
  {
   "cell_type": "code",
   "execution_count": 17,
   "id": "2fa18851",
   "metadata": {
    "execution": {
     "iopub.execute_input": "2022-07-09T22:50:50.697228Z",
     "iopub.status.busy": "2022-07-09T22:50:50.696715Z",
     "iopub.status.idle": "2022-07-09T22:50:50.747468Z",
     "shell.execute_reply": "2022-07-09T22:50:50.744883Z"
    },
    "papermill": {
     "duration": 0.094295,
     "end_time": "2022-07-09T22:50:50.750698",
     "exception": false,
     "start_time": "2022-07-09T22:50:50.656403",
     "status": "completed"
    },
    "tags": []
   },
   "outputs": [
    {
     "name": "stderr",
     "output_type": "stream",
     "text": [
      "2022-07-09 22:50:50,737 [INFO] Coefficients: [-318956.68121090275,52413.31757561251,160204.82101045994,76305.4857467708,24524.880689026446,-176846.853424646,-194014.49186956912,247354.5933805163,-457320.0382093858,-403237.632910785,-66328.46363935678,1285510.2547850672,224467.54178709353,38.72980771337505,1332.702862549369]\n"
     ]
    },
    {
     "name": "stderr",
     "output_type": "stream",
     "text": [
      "2022-07-09 22:50:50,739 [INFO] Intercept: -211909.2811031914\n"
     ]
    }
   ],
   "source": [
    "# Check model coefficients\n",
    "logger.info(f\"Coefficients: {str(model.stages[-1].coefficients)}\")\n",
    "logger.info(f\"Intercept: {str(model.stages[-1].intercept)}\")"
   ]
  },
  {
   "cell_type": "code",
   "execution_count": 18,
   "id": "6aef6d44",
   "metadata": {
    "execution": {
     "iopub.execute_input": "2022-07-09T22:50:50.778482Z",
     "iopub.status.busy": "2022-07-09T22:50:50.777931Z",
     "iopub.status.idle": "2022-07-09T22:50:56.278101Z",
     "shell.execute_reply": "2022-07-09T22:50:56.276386Z"
    },
    "papermill": {
     "duration": 5.51806,
     "end_time": "2022-07-09T22:50:56.281654",
     "exception": false,
     "start_time": "2022-07-09T22:50:50.763594",
     "status": "completed"
    },
    "tags": []
   },
   "outputs": [],
   "source": [
    "# Save trained model\n",
    "model.write().overwrite().save(MODEL_ARTIFACTS_PATH)"
   ]
  }
 ],
 "metadata": {
  "kernelspec": {
   "display_name": "Python 3 (ipykernel)",
   "language": "python",
   "name": "python3"
  },
  "language_info": {
   "codemirror_mode": {
    "name": "ipython",
    "version": 3
   },
   "file_extension": ".py",
   "mimetype": "text/x-python",
   "name": "python",
   "nbconvert_exporter": "python",
   "pygments_lexer": "ipython3",
   "version": "3.7.12"
  },
  "papermill": {
   "default_parameters": {},
   "duration": 103.340267,
   "end_time": "2022-07-09T22:50:59.006767",
   "environment_variables": {},
   "exception": null,
   "input_path": "/opt/notebooks/input/house_prices_model.ipynb",
   "output_path": "/opt/notebooks/output/house_prices_model_output.ipynb",
   "parameters": {},
   "start_time": "2022-07-09T22:49:15.666500",
   "version": "2.3.4"
  }
 },
 "nbformat": 4,
 "nbformat_minor": 5
}