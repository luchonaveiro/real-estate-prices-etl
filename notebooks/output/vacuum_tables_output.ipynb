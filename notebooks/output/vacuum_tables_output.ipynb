{
 "cells": [
  {
   "cell_type": "code",
   "execution_count": 1,
   "id": "87ce29c0",
   "metadata": {
    "execution": {
     "iopub.execute_input": "2022-07-09T22:51:07.967058Z",
     "iopub.status.busy": "2022-07-09T22:51:07.966009Z",
     "iopub.status.idle": "2022-07-09T22:51:08.176404Z",
     "shell.execute_reply": "2022-07-09T22:51:08.174526Z"
    },
    "papermill": {
     "duration": 0.2306,
     "end_time": "2022-07-09T22:51:08.181182",
     "exception": false,
     "start_time": "2022-07-09T22:51:07.950582",
     "status": "completed"
    },
    "tags": []
   },
   "outputs": [],
   "source": [
    "from pyspark.sql import SparkSession\n",
    "from delta import *"
   ]
  },
  {
   "cell_type": "code",
   "execution_count": 2,
   "id": "2d54e1de",
   "metadata": {
    "execution": {
     "iopub.execute_input": "2022-07-09T22:51:08.202259Z",
     "iopub.status.busy": "2022-07-09T22:51:08.201514Z",
     "iopub.status.idle": "2022-07-09T22:51:08.213380Z",
     "shell.execute_reply": "2022-07-09T22:51:08.209222Z"
    },
    "papermill": {
     "duration": 0.028377,
     "end_time": "2022-07-09T22:51:08.219092",
     "exception": false,
     "start_time": "2022-07-09T22:51:08.190715",
     "status": "completed"
    },
    "tags": []
   },
   "outputs": [],
   "source": [
    "BRONZE_TABLE_PATH = '/opt/data_lake/bronze/house_prices_raw'\n",
    "SILVER_TABLE_PATH = '/opt/data_lake/silver/house_prices_merged'\n",
    "GOLDEN_TABLE_PATH = '/opt/data_lake/golden/house_prices'\n",
    "PREDICTIONS_TABLE_PATH = '/opt/data_lake/golden/house_prices_predictions'"
   ]
  },
  {
   "cell_type": "code",
   "execution_count": 3,
   "id": "22d4411a",
   "metadata": {
    "execution": {
     "iopub.execute_input": "2022-07-09T22:51:08.243386Z",
     "iopub.status.busy": "2022-07-09T22:51:08.240570Z",
     "iopub.status.idle": "2022-07-09T22:51:19.963768Z",
     "shell.execute_reply": "2022-07-09T22:51:19.961773Z"
    },
    "papermill": {
     "duration": 11.739138,
     "end_time": "2022-07-09T22:51:19.967207",
     "exception": false,
     "start_time": "2022-07-09T22:51:08.228069",
     "status": "completed"
    },
    "tags": []
   },
   "outputs": [
    {
     "name": "stderr",
     "output_type": "stream",
     "text": [
      "WARNING: An illegal reflective access operation has occurred\n",
      "WARNING: Illegal reflective access by org.apache.spark.unsafe.Platform (file:/usr/local/spark-3.1.2-bin-hadoop3.2/jars/spark-unsafe_2.12-3.1.2.jar) to constructor java.nio.DirectByteBuffer(long,int)\n",
      "WARNING: Please consider reporting this to the maintainers of org.apache.spark.unsafe.Platform\n",
      "WARNING: Use --illegal-access=warn to enable warnings of further illegal reflective access operations\n",
      "WARNING: All illegal access operations will be denied in a future release\n"
     ]
    },
    {
     "name": "stdout",
     "output_type": "stream",
     "text": [
      ":: loading settings :: url = jar:file:/usr/local/spark-3.1.2-bin-hadoop3.2/jars/ivy-2.4.0.jar!/org/apache/ivy/core/settings/ivysettings.xml\n"
     ]
    },
    {
     "name": "stderr",
     "output_type": "stream",
     "text": [
      "Ivy Default Cache set to: /home/airflow/.ivy2/cache\n",
      "The jars for the packages stored in: /home/airflow/.ivy2/jars\n",
      "io.delta#delta-core_2.12 added as a dependency\n",
      ":: resolving dependencies :: org.apache.spark#spark-submit-parent-ffe35a39-4266-43c4-8d14-638f02d534b4;1.0\n",
      "\tconfs: [default]\n"
     ]
    },
    {
     "name": "stderr",
     "output_type": "stream",
     "text": [
      "\tfound io.delta#delta-core_2.12;1.0.0 in central\n",
      "\tfound org.antlr#antlr4;4.7 in central\n"
     ]
    },
    {
     "name": "stderr",
     "output_type": "stream",
     "text": [
      "\tfound org.antlr#antlr4-runtime;4.7 in central\n",
      "\tfound org.antlr#antlr-runtime;3.5.2 in central\n",
      "\tfound org.antlr#ST4;4.0.8 in central\n",
      "\tfound org.abego.treelayout#org.abego.treelayout.core;1.0.3 in central\n"
     ]
    },
    {
     "name": "stderr",
     "output_type": "stream",
     "text": [
      "\tfound org.glassfish#javax.json;1.0.4 in central\n",
      "\tfound com.ibm.icu#icu4j;58.2 in central\n",
      ":: resolution report :: resolve 866ms :: artifacts dl 16ms\n",
      "\t:: modules in use:\n",
      "\tcom.ibm.icu#icu4j;58.2 from central in [default]\n",
      "\tio.delta#delta-core_2.12;1.0.0 from central in [default]\n",
      "\torg.abego.treelayout#org.abego.treelayout.core;1.0.3 from central in [default]\n",
      "\torg.antlr#ST4;4.0.8 from central in [default]\n",
      "\torg.antlr#antlr-runtime;3.5.2 from central in [default]\n",
      "\torg.antlr#antlr4;4.7 from central in [default]\n",
      "\torg.antlr#antlr4-runtime;4.7 from central in [default]\n",
      "\torg.glassfish#javax.json;1.0.4 from central in [default]\n",
      "\t---------------------------------------------------------------------\n",
      "\t|                  |            modules            ||   artifacts   |\n",
      "\t|       conf       | number| search|dwnlded|evicted|| number|dwnlded|\n",
      "\t---------------------------------------------------------------------\n",
      "\t|      default     |   8   |   0   |   0   |   0   ||   8   |   0   |\n",
      "\t---------------------------------------------------------------------\n",
      ":: retrieving :: org.apache.spark#spark-submit-parent-ffe35a39-4266-43c4-8d14-638f02d534b4\n",
      "\tconfs: [default]\n",
      "\t0 artifacts copied, 8 already retrieved (0kB/15ms)\n"
     ]
    },
    {
     "name": "stderr",
     "output_type": "stream",
     "text": [
      "22/07/09 22:51:13 WARN NativeCodeLoader: Unable to load native-hadoop library for your platform... using builtin-java classes where applicable\n"
     ]
    },
    {
     "name": "stderr",
     "output_type": "stream",
     "text": [
      "Using Spark's default log4j profile: org/apache/spark/log4j-defaults.properties\n",
      "Setting default log level to \"WARN\".\n",
      "To adjust logging level use sc.setLogLevel(newLevel). For SparkR, use setLogLevel(newLevel).\n"
     ]
    }
   ],
   "source": [
    "# Create Spark Session\n",
    "builder = (\n",
    "    SparkSession\n",
    "    .builder\n",
    "    .appName(\"real-estate-etl\")\n",
    "    .config(\"spark.sql.extensions\", \"io.delta.sql.DeltaSparkSessionExtension\")\n",
    "    .config(\"spark.sql.catalog.spark_catalog\", \"org.apache.spark.sql.delta.catalog.DeltaCatalog\")\n",
    ")\n",
    "\n",
    "spark = configure_spark_with_delta_pip(builder).getOrCreate()"
   ]
  },
  {
   "cell_type": "code",
   "execution_count": 4,
   "id": "fc71eedb",
   "metadata": {
    "execution": {
     "iopub.execute_input": "2022-07-09T22:51:19.991343Z",
     "iopub.status.busy": "2022-07-09T22:51:19.990802Z",
     "iopub.status.idle": "2022-07-09T22:54:30.718736Z",
     "shell.execute_reply": "2022-07-09T22:54:30.709425Z"
    },
    "papermill": {
     "duration": 190.763503,
     "end_time": "2022-07-09T22:54:30.740815",
     "exception": false,
     "start_time": "2022-07-09T22:51:19.977312",
     "status": "completed"
    },
    "tags": []
   },
   "outputs": [
    {
     "name": "stderr",
     "output_type": "stream",
     "text": [
      "\r",
      "[Stage 0:>                                                          (0 + 0) / 3]\r",
      "\r",
      "[Stage 0:>                                                          (0 + 3) / 3]\r"
     ]
    },
    {
     "name": "stderr",
     "output_type": "stream",
     "text": [
      "\r",
      "[Stage 1:>                                                         (0 + 4) / 50]\r"
     ]
    },
    {
     "name": "stderr",
     "output_type": "stream",
     "text": [
      "\r",
      "[Stage 1:====>                                                     (4 + 4) / 50]\r"
     ]
    },
    {
     "name": "stderr",
     "output_type": "stream",
     "text": [
      "\r",
      "[Stage 1:=========>                                                (8 + 4) / 50]\r"
     ]
    },
    {
     "name": "stderr",
     "output_type": "stream",
     "text": [
      "\r",
      "[Stage 1:============>                                            (11 + 4) / 50]\r"
     ]
    },
    {
     "name": "stderr",
     "output_type": "stream",
     "text": [
      "\r",
      "[Stage 1:=============>                                           (12 + 4) / 50]\r",
      "\r",
      "[Stage 1:===============>                                         (14 + 4) / 50]\r"
     ]
    },
    {
     "name": "stderr",
     "output_type": "stream",
     "text": [
      "\r",
      "[Stage 1:==================>                                      (16 + 4) / 50]\r"
     ]
    },
    {
     "name": "stderr",
     "output_type": "stream",
     "text": [
      "\r",
      "[Stage 1:====================>                                    (18 + 4) / 50]\r"
     ]
    },
    {
     "name": "stderr",
     "output_type": "stream",
     "text": [
      "\r",
      "[Stage 1:=====================>                                   (19 + 4) / 50]\r",
      "\r",
      "[Stage 1:=========================>                               (22 + 4) / 50]\r"
     ]
    },
    {
     "name": "stderr",
     "output_type": "stream",
     "text": [
      "\r",
      "[Stage 1:==========================>                              (23 + 4) / 50]\r"
     ]
    },
    {
     "name": "stderr",
     "output_type": "stream",
     "text": [
      "\r",
      "[Stage 1:============================>                            (25 + 4) / 50]\r",
      "\r",
      "[Stage 1:=============================>                           (26 + 4) / 50]\r"
     ]
    },
    {
     "name": "stderr",
     "output_type": "stream",
     "text": [
      "\r",
      "[Stage 1:===============================>                         (28 + 4) / 50]\r",
      "\r",
      "[Stage 1:====================================>                    (32 + 4) / 50]\r"
     ]
    },
    {
     "name": "stderr",
     "output_type": "stream",
     "text": [
      "\r",
      "[Stage 1:=========================================>               (36 + 4) / 50]\r"
     ]
    },
    {
     "name": "stderr",
     "output_type": "stream",
     "text": [
      "\r",
      "[Stage 1:==========================================>              (37 + 4) / 50]\r",
      "\r",
      "[Stage 1:==============================================>          (41 + 4) / 50]\r"
     ]
    },
    {
     "name": "stderr",
     "output_type": "stream",
     "text": [
      "\r",
      "[Stage 1:===================================================>     (45 + 4) / 50]\r",
      "\r",
      "[Stage 1:=======================================================> (49 + 1) / 50]\r"
     ]
    },
    {
     "name": "stderr",
     "output_type": "stream",
     "text": [
      "\r",
      "                                                                                \r"
     ]
    },
    {
     "name": "stderr",
     "output_type": "stream",
     "text": [
      "\r",
      "[Stage 4:>                                                      (4 + 4) / 10000]\r",
      "\r",
      "[Stage 4:>                                                      (5 + 5) / 10000]\r"
     ]
    },
    {
     "name": "stderr",
     "output_type": "stream",
     "text": [
      "\r",
      "[Stage 4:>                                                      (8 + 4) / 10000]\r",
      "\r",
      "[Stage 4:>                                                     (13 + 4) / 10000]\r"
     ]
    },
    {
     "name": "stderr",
     "output_type": "stream",
     "text": [
      "\r",
      "[Stage 4:>                                                     (22 + 4) / 10000]\r",
      "\r",
      "[Stage 4:>                                                     (35 + 4) / 10000]\r"
     ]
    },
    {
     "name": "stderr",
     "output_type": "stream",
     "text": [
      "\r",
      "[Stage 4:>                                                     (48 + 5) / 10000]\r"
     ]
    },
    {
     "name": "stderr",
     "output_type": "stream",
     "text": [
      "\r",
      "[Stage 4:>                                                     (64 + 4) / 10000]\r",
      "\r",
      "[Stage 4:>                                                     (84 + 4) / 10000]\r"
     ]
    },
    {
     "name": "stderr",
     "output_type": "stream",
     "text": [
      "\r",
      "[Stage 4:>                                                    (108 + 4) / 10000]\r",
      "\r",
      "[Stage 4:>                                                    (129 + 5) / 10000]\r"
     ]
    },
    {
     "name": "stderr",
     "output_type": "stream",
     "text": [
      "\r",
      "[Stage 4:>                                                    (155 + 4) / 10000]\r",
      "\r",
      "[Stage 4:>                                                    (178 + 4) / 10000]\r"
     ]
    },
    {
     "name": "stderr",
     "output_type": "stream",
     "text": [
      "\r",
      "[Stage 4:=>                                                   (203 + 4) / 10000]\r",
      "\r",
      "[Stage 4:=>                                                   (230 + 4) / 10000]\r"
     ]
    },
    {
     "name": "stderr",
     "output_type": "stream",
     "text": [
      "\r",
      "[Stage 4:=>                                                   (256 + 4) / 10000]\r"
     ]
    },
    {
     "name": "stderr",
     "output_type": "stream",
     "text": [
      "\r",
      "[Stage 4:=>                                                   (277 + 4) / 10000]\r"
     ]
    },
    {
     "name": "stderr",
     "output_type": "stream",
     "text": [
      "\r",
      "[Stage 4:=>                                                   (311 + 4) / 10000]\r"
     ]
    },
    {
     "name": "stderr",
     "output_type": "stream",
     "text": [
      "\r",
      "[Stage 4:=>                                                   (331 + 4) / 10000]\r",
      "\r",
      "[Stage 4:=>                                                   (366 + 4) / 10000]\r"
     ]
    },
    {
     "name": "stderr",
     "output_type": "stream",
     "text": [
      "\r",
      "[Stage 4:==>                                                  (388 + 4) / 10000]\r",
      "\r",
      "[Stage 4:==>                                                  (406 + 4) / 10000]\r"
     ]
    },
    {
     "name": "stderr",
     "output_type": "stream",
     "text": [
      "\r",
      "[Stage 4:==>                                                  (435 + 4) / 10000]\r"
     ]
    },
    {
     "name": "stderr",
     "output_type": "stream",
     "text": [
      "\r",
      "[Stage 4:==>                                                  (464 + 4) / 10000]\r",
      "\r",
      "[Stage 4:==>                                                  (491 + 4) / 10000]\r"
     ]
    },
    {
     "name": "stderr",
     "output_type": "stream",
     "text": [
      "\r",
      "[Stage 4:==>                                                  (516 + 4) / 10000]\r"
     ]
    },
    {
     "name": "stderr",
     "output_type": "stream",
     "text": [
      "\r",
      "[Stage 4:==>                                                  (545 + 4) / 10000]\r"
     ]
    },
    {
     "name": "stderr",
     "output_type": "stream",
     "text": [
      "\r",
      "[Stage 4:==>                                                  (565 + 4) / 10000]\r",
      "\r",
      "[Stage 4:===>                                                 (589 + 4) / 10000]\r"
     ]
    },
    {
     "name": "stderr",
     "output_type": "stream",
     "text": [
      "\r",
      "[Stage 4:===>                                                 (610 + 4) / 10000]\r",
      "\r",
      "[Stage 4:===>                                                 (638 + 4) / 10000]\r"
     ]
    },
    {
     "name": "stderr",
     "output_type": "stream",
     "text": [
      "\r",
      "[Stage 4:===>                                                 (648 + 5) / 10000]\r",
      "\r",
      "[Stage 4:===>                                                 (679 + 4) / 10000]\r"
     ]
    },
    {
     "name": "stderr",
     "output_type": "stream",
     "text": [
      "\r",
      "[Stage 4:===>                                                 (708 + 4) / 10000]\r",
      "\r",
      "[Stage 4:===>                                                 (744 + 4) / 10000]\r"
     ]
    },
    {
     "name": "stderr",
     "output_type": "stream",
     "text": [
      "\r",
      "[Stage 4:====>                                                (775 + 4) / 10000]\r"
     ]
    },
    {
     "name": "stderr",
     "output_type": "stream",
     "text": [
      "\r",
      "[Stage 4:====>                                                (802 + 5) / 10000]\r",
      "\r",
      "[Stage 4:====>                                                (826 + 4) / 10000]\r"
     ]
    },
    {
     "name": "stderr",
     "output_type": "stream",
     "text": [
      "\r",
      "[Stage 4:====>                                                (859 + 4) / 10000]\r",
      "\r",
      "[Stage 4:====>                                                (901 + 5) / 10000]\r"
     ]
    },
    {
     "name": "stderr",
     "output_type": "stream",
     "text": [
      "\r",
      "[Stage 4:====>                                                (929 + 4) / 10000]\r",
      "\r",
      "[Stage 4:=====>                                               (948 + 4) / 10000]\r"
     ]
    },
    {
     "name": "stderr",
     "output_type": "stream",
     "text": [
      "\r",
      "[Stage 4:=====>                                               (973 + 5) / 10000]\r",
      "\r",
      "[Stage 4:=====>                                              (1012 + 4) / 10000]\r"
     ]
    },
    {
     "name": "stderr",
     "output_type": "stream",
     "text": [
      "\r",
      "[Stage 4:=====>                                              (1037 + 4) / 10000]\r",
      "\r",
      "[Stage 4:=====>                                              (1055 + 4) / 10000]\r"
     ]
    },
    {
     "name": "stderr",
     "output_type": "stream",
     "text": [
      "\r",
      "[Stage 4:=====>                                              (1070 + 4) / 10000]\r"
     ]
    },
    {
     "name": "stderr",
     "output_type": "stream",
     "text": [
      "\r",
      "[Stage 4:=====>                                              (1083 + 4) / 10000]\r"
     ]
    },
    {
     "name": "stderr",
     "output_type": "stream",
     "text": [
      "\r",
      "[Stage 4:=====>                                              (1102 + 4) / 10000]\r",
      "\r",
      "[Stage 4:=====>                                              (1118 + 5) / 10000]\r"
     ]
    },
    {
     "name": "stderr",
     "output_type": "stream",
     "text": [
      "\r",
      "[Stage 4:=====>                                              (1136 + 4) / 10000]\r",
      "\r",
      "[Stage 4:======>                                             (1170 + 4) / 10000]\r"
     ]
    },
    {
     "name": "stderr",
     "output_type": "stream",
     "text": [
      "\r",
      "[Stage 4:======>                                             (1198 + 4) / 10000]\r",
      "\r",
      "[Stage 4:======>                                             (1221 + 6) / 10000]\r"
     ]
    },
    {
     "name": "stderr",
     "output_type": "stream",
     "text": [
      "\r",
      "[Stage 4:======>                                             (1250 + 6) / 10000]\r"
     ]
    },
    {
     "name": "stderr",
     "output_type": "stream",
     "text": [
      "\r",
      "[Stage 4:======>                                             (1274 + 4) / 10000]\r"
     ]
    },
    {
     "name": "stderr",
     "output_type": "stream",
     "text": [
      "\r",
      "[Stage 4:======>                                             (1298 + 4) / 10000]\r",
      "\r",
      "[Stage 4:======>                                             (1334 + 4) / 10000]\r"
     ]
    },
    {
     "name": "stderr",
     "output_type": "stream",
     "text": [
      "\r",
      "[Stage 4:=======>                                            (1374 + 4) / 10000]\r",
      "\r",
      "[Stage 4:=======>                                            (1415 + 4) / 10000]\r"
     ]
    },
    {
     "name": "stderr",
     "output_type": "stream",
     "text": [
      "\r",
      "[Stage 4:=======>                                            (1446 + 4) / 10000]\r"
     ]
    },
    {
     "name": "stderr",
     "output_type": "stream",
     "text": [
      "\r",
      "[Stage 4:=======>                                            (1468 + 4) / 10000]\r",
      "\r",
      "[Stage 4:=======>                                            (1497 + 4) / 10000]\r"
     ]
    },
    {
     "name": "stderr",
     "output_type": "stream",
     "text": [
      "\r",
      "[Stage 4:=======>                                            (1537 + 4) / 10000]\r",
      "\r",
      "[Stage 4:========>                                           (1570 + 4) / 10000]\r"
     ]
    },
    {
     "name": "stderr",
     "output_type": "stream",
     "text": [
      "\r",
      "[Stage 4:========>                                           (1611 + 4) / 10000]\r",
      "\r",
      "[Stage 4:========>                                           (1656 + 4) / 10000]\r"
     ]
    },
    {
     "name": "stderr",
     "output_type": "stream",
     "text": [
      "\r",
      "[Stage 4:========>                                           (1685 + 6) / 10000]\r",
      "\r",
      "[Stage 4:=========>                                          (1742 + 4) / 10000]\r"
     ]
    },
    {
     "name": "stderr",
     "output_type": "stream",
     "text": [
      "\r",
      "[Stage 4:=========>                                          (1783 + 4) / 10000]\r",
      "\r",
      "[Stage 4:=========>                                          (1817 + 5) / 10000]\r"
     ]
    },
    {
     "name": "stderr",
     "output_type": "stream",
     "text": [
      "\r",
      "[Stage 4:=========>                                          (1854 + 4) / 10000]\r"
     ]
    },
    {
     "name": "stderr",
     "output_type": "stream",
     "text": [
      "\r",
      "[Stage 4:=========>                                          (1881 + 5) / 10000]\r",
      "\r",
      "[Stage 4:=========>                                          (1905 + 4) / 10000]\r"
     ]
    },
    {
     "name": "stderr",
     "output_type": "stream",
     "text": [
      "\r",
      "[Stage 4:==========>                                         (1935 + 4) / 10000]\r",
      "\r",
      "[Stage 4:==========>                                         (1962 + 4) / 10000]\r"
     ]
    },
    {
     "name": "stderr",
     "output_type": "stream",
     "text": [
      "\r",
      "[Stage 4:==========>                                         (1988 + 5) / 10000]\r",
      "\r",
      "[Stage 4:==========>                                         (2031 + 4) / 10000]\r"
     ]
    },
    {
     "name": "stderr",
     "output_type": "stream",
     "text": [
      "\r",
      "[Stage 4:==========>                                         (2061 + 4) / 10000]\r"
     ]
    },
    {
     "name": "stderr",
     "output_type": "stream",
     "text": [
      "\r",
      "[Stage 4:==========>                                         (2082 + 4) / 10000]\r",
      "\r",
      "[Stage 4:==========>                                         (2104 + 5) / 10000]\r"
     ]
    },
    {
     "name": "stderr",
     "output_type": "stream",
     "text": [
      "\r",
      "[Stage 4:===========>                                        (2117 + 4) / 10000]\r"
     ]
    },
    {
     "name": "stderr",
     "output_type": "stream",
     "text": [
      "\r",
      "[Stage 4:===========>                                        (2141 + 4) / 10000]\r",
      "\r",
      "[Stage 4:===========>                                        (2157 + 5) / 10000]\r"
     ]
    },
    {
     "name": "stderr",
     "output_type": "stream",
     "text": [
      "\r",
      "[Stage 4:===========>                                        (2177 + 4) / 10000]\r",
      "\r",
      "[Stage 4:===========>                                        (2211 + 4) / 10000]\r"
     ]
    },
    {
     "name": "stderr",
     "output_type": "stream",
     "text": [
      "\r",
      "[Stage 4:===========>                                        (2248 + 4) / 10000]\r"
     ]
    },
    {
     "name": "stderr",
     "output_type": "stream",
     "text": [
      "\r",
      "[Stage 4:===========>                                        (2269 + 4) / 10000]\r",
      "\r",
      "[Stage 4:===========>                                        (2301 + 5) / 10000]\r"
     ]
    },
    {
     "name": "stderr",
     "output_type": "stream",
     "text": [
      "\r",
      "[Stage 4:============>                                       (2347 + 4) / 10000]\r",
      "\r",
      "[Stage 4:============>                                       (2381 + 4) / 10000]\r"
     ]
    },
    {
     "name": "stderr",
     "output_type": "stream",
     "text": [
      "\r",
      "[Stage 4:============>                                       (2419 + 4) / 10000]\r"
     ]
    },
    {
     "name": "stderr",
     "output_type": "stream",
     "text": [
      "\r",
      "[Stage 4:============>                                       (2444 + 4) / 10000]\r",
      "\r",
      "[Stage 4:============>                                       (2476 + 4) / 10000]\r"
     ]
    },
    {
     "name": "stderr",
     "output_type": "stream",
     "text": [
      "\r",
      "[Stage 4:=============>                                      (2512 + 4) / 10000]\r",
      "\r",
      "[Stage 4:=============>                                      (2547 + 4) / 10000]\r"
     ]
    },
    {
     "name": "stderr",
     "output_type": "stream",
     "text": [
      "\r",
      "[Stage 4:=============>                                      (2582 + 4) / 10000]\r",
      "\r",
      "[Stage 4:=============>                                      (2630 + 4) / 10000]\r"
     ]
    },
    {
     "name": "stderr",
     "output_type": "stream",
     "text": [
      "\r",
      "[Stage 4:=============>                                      (2656 + 4) / 10000]\r",
      "\r",
      "[Stage 4:=============>                                      (2683 + 4) / 10000]\r"
     ]
    },
    {
     "name": "stderr",
     "output_type": "stream",
     "text": [
      "\r",
      "[Stage 4:==============>                                     (2716 + 4) / 10000]\r"
     ]
    },
    {
     "name": "stderr",
     "output_type": "stream",
     "text": [
      "\r",
      "[Stage 4:==============>                                     (2745 + 4) / 10000]\r",
      "\r",
      "[Stage 4:==============>                                     (2782 + 4) / 10000]\r"
     ]
    },
    {
     "name": "stderr",
     "output_type": "stream",
     "text": [
      "\r",
      "[Stage 4:==============>                                     (2816 + 4) / 10000]\r",
      "\r",
      "[Stage 4:==============>                                     (2852 + 4) / 10000]\r"
     ]
    },
    {
     "name": "stderr",
     "output_type": "stream",
     "text": [
      "\r",
      "[Stage 4:==============>                                     (2876 + 4) / 10000]\r",
      "\r",
      "[Stage 4:===============>                                    (2896 + 4) / 10000]\r"
     ]
    },
    {
     "name": "stderr",
     "output_type": "stream",
     "text": [
      "\r",
      "[Stage 4:===============>                                    (2933 + 4) / 10000]\r",
      "\r",
      "[Stage 4:===============>                                    (2971 + 5) / 10000]\r"
     ]
    },
    {
     "name": "stderr",
     "output_type": "stream",
     "text": [
      "\r",
      "[Stage 4:===============>                                    (3006 + 4) / 10000]\r"
     ]
    },
    {
     "name": "stderr",
     "output_type": "stream",
     "text": [
      "\r",
      "[Stage 4:===============>                                    (3030 + 5) / 10000]\r",
      "\r",
      "[Stage 4:===============>                                    (3065 + 4) / 10000]\r"
     ]
    },
    {
     "name": "stderr",
     "output_type": "stream",
     "text": [
      "\r",
      "[Stage 4:================>                                   (3107 + 5) / 10000]\r",
      "\r",
      "[Stage 4:================>                                   (3154 + 4) / 10000]\r"
     ]
    },
    {
     "name": "stderr",
     "output_type": "stream",
     "text": [
      "\r",
      "[Stage 4:================>                                   (3198 + 4) / 10000]\r",
      "\r",
      "[Stage 4:================>                                   (3240 + 4) / 10000]\r"
     ]
    },
    {
     "name": "stderr",
     "output_type": "stream",
     "text": [
      "\r",
      "[Stage 4:=================>                                  (3287 + 4) / 10000]\r",
      "\r",
      "[Stage 4:=================>                                  (3328 + 4) / 10000]\r"
     ]
    },
    {
     "name": "stderr",
     "output_type": "stream",
     "text": [
      "\r",
      "[Stage 4:=================>                                  (3363 + 4) / 10000]\r",
      "\r",
      "[Stage 4:=================>                                  (3410 + 4) / 10000]\r"
     ]
    },
    {
     "name": "stderr",
     "output_type": "stream",
     "text": [
      "\r",
      "[Stage 4:=================>                                  (3454 + 4) / 10000]\r",
      "\r",
      "[Stage 4:==================>                                 (3508 + 4) / 10000]\r"
     ]
    },
    {
     "name": "stderr",
     "output_type": "stream",
     "text": [
      "\r",
      "[Stage 4:==================>                                 (3545 + 4) / 10000]\r",
      "\r",
      "[Stage 4:==================>                                 (3588 + 4) / 10000]\r"
     ]
    },
    {
     "name": "stderr",
     "output_type": "stream",
     "text": [
      "\r",
      "[Stage 4:==================>                                 (3625 + 4) / 10000]\r"
     ]
    },
    {
     "name": "stderr",
     "output_type": "stream",
     "text": [
      "\r",
      "[Stage 4:===================>                                (3665 + 4) / 10000]\r",
      "\r",
      "[Stage 4:===================>                                (3722 + 4) / 10000]\r"
     ]
    },
    {
     "name": "stderr",
     "output_type": "stream",
     "text": [
      "\r",
      "[Stage 4:===================>                                (3777 + 4) / 10000]\r"
     ]
    },
    {
     "name": "stderr",
     "output_type": "stream",
     "text": [
      "\r",
      "[Stage 4:===================>                                (3836 + 4) / 10000]\r",
      "\r",
      "[Stage 4:====================>                               (3895 + 6) / 10000]\r"
     ]
    },
    {
     "name": "stderr",
     "output_type": "stream",
     "text": [
      "\r",
      "[Stage 4:====================>                               (3942 + 4) / 10000]\r"
     ]
    },
    {
     "name": "stderr",
     "output_type": "stream",
     "text": [
      "\r",
      "[Stage 4:====================>                               (4004 + 6) / 10000]\r"
     ]
    },
    {
     "name": "stderr",
     "output_type": "stream",
     "text": [
      "\r",
      "[Stage 4:=====================>                              (4054 + 5) / 10000]\r",
      "\r",
      "[Stage 4:=====================>                              (4100 + 4) / 10000]\r"
     ]
    },
    {
     "name": "stderr",
     "output_type": "stream",
     "text": [
      "\r",
      "[Stage 4:=====================>                              (4143 + 4) / 10000]\r"
     ]
    },
    {
     "name": "stderr",
     "output_type": "stream",
     "text": [
      "\r",
      "[Stage 4:=====================>                              (4190 + 4) / 10000]\r",
      "\r",
      "[Stage 4:======================>                             (4241 + 4) / 10000]\r"
     ]
    },
    {
     "name": "stderr",
     "output_type": "stream",
     "text": [
      "\r",
      "[Stage 4:======================>                             (4316 + 4) / 10000]\r",
      "\r",
      "[Stage 4:======================>                             (4368 + 4) / 10000]\r"
     ]
    },
    {
     "name": "stderr",
     "output_type": "stream",
     "text": [
      "\r",
      "[Stage 4:=======================>                            (4428 + 4) / 10000]\r",
      "\r",
      "[Stage 4:=======================>                            (4483 + 4) / 10000]\r"
     ]
    },
    {
     "name": "stderr",
     "output_type": "stream",
     "text": [
      "\r",
      "[Stage 4:=======================>                            (4539 + 4) / 10000]\r"
     ]
    },
    {
     "name": "stderr",
     "output_type": "stream",
     "text": [
      "\r",
      "[Stage 4:=======================>                            (4610 + 4) / 10000]\r",
      "\r",
      "[Stage 4:========================>                           (4658 + 4) / 10000]\r"
     ]
    },
    {
     "name": "stderr",
     "output_type": "stream",
     "text": [
      "\r",
      "[Stage 4:========================>                           (4711 + 4) / 10000]\r",
      "\r",
      "[Stage 4:========================>                           (4778 + 4) / 10000]\r"
     ]
    },
    {
     "name": "stderr",
     "output_type": "stream",
     "text": [
      "\r",
      "[Stage 4:=========================>                          (4833 + 4) / 10000]\r",
      "\r",
      "[Stage 4:=========================>                          (4898 + 4) / 10000]\r"
     ]
    },
    {
     "name": "stderr",
     "output_type": "stream",
     "text": [
      "\r",
      "[Stage 4:=========================>                          (4979 + 4) / 10000]\r",
      "\r",
      "[Stage 4:==========================>                         (5023 + 4) / 10000]\r"
     ]
    },
    {
     "name": "stderr",
     "output_type": "stream",
     "text": [
      "\r",
      "[Stage 4:==========================>                         (5051 + 4) / 10000]\r",
      "\r",
      "[Stage 4:==========================>                         (5108 + 4) / 10000]\r"
     ]
    },
    {
     "name": "stderr",
     "output_type": "stream",
     "text": [
      "\r",
      "[Stage 4:==========================>                         (5190 + 4) / 10000]\r",
      "\r",
      "[Stage 4:===========================>                        (5253 + 4) / 10000]\r"
     ]
    },
    {
     "name": "stderr",
     "output_type": "stream",
     "text": [
      "\r",
      "[Stage 4:===========================>                        (5305 + 4) / 10000]\r",
      "\r",
      "[Stage 4:===========================>                        (5366 + 4) / 10000]\r"
     ]
    },
    {
     "name": "stderr",
     "output_type": "stream",
     "text": [
      "\r",
      "[Stage 4:============================>                       (5395 + 4) / 10000]\r",
      "\r",
      "[Stage 4:============================>                       (5438 + 4) / 10000]\r"
     ]
    },
    {
     "name": "stderr",
     "output_type": "stream",
     "text": [
      "\r",
      "[Stage 4:============================>                       (5481 + 4) / 10000]\r",
      "\r",
      "[Stage 4:============================>                       (5534 + 4) / 10000]\r"
     ]
    },
    {
     "name": "stderr",
     "output_type": "stream",
     "text": [
      "\r",
      "[Stage 4:=============================>                      (5577 + 4) / 10000]\r"
     ]
    },
    {
     "name": "stderr",
     "output_type": "stream",
     "text": [
      "\r",
      "[Stage 4:=============================>                      (5614 + 4) / 10000]\r",
      "\r",
      "[Stage 4:=============================>                      (5648 + 4) / 10000]\r"
     ]
    },
    {
     "name": "stderr",
     "output_type": "stream",
     "text": [
      "\r",
      "[Stage 4:=============================>                      (5689 + 4) / 10000]\r"
     ]
    },
    {
     "name": "stderr",
     "output_type": "stream",
     "text": [
      "\r",
      "[Stage 4:=============================>                      (5726 + 4) / 10000]\r"
     ]
    },
    {
     "name": "stderr",
     "output_type": "stream",
     "text": [
      "\r",
      "[Stage 4:=============================>                      (5763 + 4) / 10000]\r",
      "\r",
      "[Stage 4:==============================>                     (5818 + 4) / 10000]\r"
     ]
    },
    {
     "name": "stderr",
     "output_type": "stream",
     "text": [
      "\r",
      "[Stage 4:==============================>                     (5865 + 4) / 10000]\r",
      "\r",
      "[Stage 4:==============================>                     (5918 + 4) / 10000]\r"
     ]
    },
    {
     "name": "stderr",
     "output_type": "stream",
     "text": [
      "\r",
      "[Stage 4:==============================>                     (5951 + 4) / 10000]\r",
      "\r",
      "[Stage 4:===============================>                    (6003 + 4) / 10000]\r"
     ]
    },
    {
     "name": "stderr",
     "output_type": "stream",
     "text": [
      "\r",
      "[Stage 4:===============================>                    (6059 + 4) / 10000]\r",
      "\r",
      "[Stage 4:===============================>                    (6108 + 4) / 10000]\r"
     ]
    },
    {
     "name": "stderr",
     "output_type": "stream",
     "text": [
      "\r",
      "[Stage 4:===============================>                    (6145 + 4) / 10000]\r",
      "\r",
      "[Stage 4:================================>                   (6178 + 4) / 10000]\r"
     ]
    },
    {
     "name": "stderr",
     "output_type": "stream",
     "text": [
      "\r",
      "[Stage 4:================================>                   (6198 + 4) / 10000]\r",
      "\r",
      "[Stage 4:================================>                   (6224 + 4) / 10000]\r"
     ]
    },
    {
     "name": "stderr",
     "output_type": "stream",
     "text": [
      "\r",
      "[Stage 4:================================>                   (6271 + 4) / 10000]\r",
      "\r",
      "[Stage 4:================================>                   (6306 + 4) / 10000]\r"
     ]
    },
    {
     "name": "stderr",
     "output_type": "stream",
     "text": [
      "\r",
      "[Stage 4:================================>                   (6346 + 4) / 10000]\r",
      "\r",
      "[Stage 4:=================================>                  (6372 + 4) / 10000]\r"
     ]
    },
    {
     "name": "stderr",
     "output_type": "stream",
     "text": [
      "\r",
      "[Stage 4:=================================>                  (6392 + 4) / 10000]\r",
      "\r",
      "[Stage 4:=================================>                  (6417 + 4) / 10000]\r"
     ]
    },
    {
     "name": "stderr",
     "output_type": "stream",
     "text": [
      "\r",
      "[Stage 4:=================================>                  (6447 + 4) / 10000]\r",
      "\r",
      "[Stage 4:=================================>                  (6453 + 4) / 10000]\r"
     ]
    },
    {
     "name": "stderr",
     "output_type": "stream",
     "text": [
      "\r",
      "[Stage 4:=================================>                  (6480 + 4) / 10000]\r",
      "\r",
      "[Stage 4:=================================>                  (6511 + 4) / 10000]\r"
     ]
    },
    {
     "name": "stderr",
     "output_type": "stream",
     "text": [
      "\r",
      "[Stage 4:=================================>                  (6533 + 4) / 10000]\r",
      "\r",
      "[Stage 4:==================================>                 (6543 + 4) / 10000]\r"
     ]
    },
    {
     "name": "stderr",
     "output_type": "stream",
     "text": [
      "\r",
      "[Stage 4:==================================>                 (6559 + 4) / 10000]\r",
      "\r",
      "[Stage 4:==================================>                 (6589 + 4) / 10000]\r"
     ]
    },
    {
     "name": "stderr",
     "output_type": "stream",
     "text": [
      "\r",
      "[Stage 4:==================================>                 (6613 + 4) / 10000]\r",
      "\r",
      "[Stage 4:==================================>                 (6637 + 4) / 10000]\r"
     ]
    },
    {
     "name": "stderr",
     "output_type": "stream",
     "text": [
      "\r",
      "[Stage 4:==================================>                 (6673 + 7) / 10000]\r",
      "\r",
      "[Stage 4:==================================>                 (6704 + 4) / 10000]\r"
     ]
    },
    {
     "name": "stderr",
     "output_type": "stream",
     "text": [
      "\r",
      "[Stage 4:===================================>                (6746 + 4) / 10000]\r"
     ]
    },
    {
     "name": "stderr",
     "output_type": "stream",
     "text": [
      "\r",
      "[Stage 4:===================================>                (6790 + 4) / 10000]\r",
      "\r",
      "[Stage 4:===================================>                (6830 + 4) / 10000]\r"
     ]
    },
    {
     "name": "stderr",
     "output_type": "stream",
     "text": [
      "\r",
      "[Stage 4:===================================>                (6878 + 5) / 10000]\r",
      "\r",
      "[Stage 4:====================================>               (6939 + 4) / 10000]\r"
     ]
    },
    {
     "name": "stderr",
     "output_type": "stream",
     "text": [
      "\r",
      "[Stage 4:====================================>               (6981 + 4) / 10000]\r"
     ]
    },
    {
     "name": "stderr",
     "output_type": "stream",
     "text": [
      "\r",
      "[Stage 4:====================================>               (7007 + 4) / 10000]\r",
      "\r",
      "[Stage 4:====================================>               (7052 + 4) / 10000]\r"
     ]
    },
    {
     "name": "stderr",
     "output_type": "stream",
     "text": [
      "\r",
      "[Stage 4:====================================>               (7095 + 4) / 10000]\r",
      "\r",
      "[Stage 4:=====================================>              (7132 + 4) / 10000]\r"
     ]
    },
    {
     "name": "stderr",
     "output_type": "stream",
     "text": [
      "\r",
      "[Stage 4:=====================================>              (7162 + 4) / 10000]\r",
      "\r",
      "[Stage 4:=====================================>              (7203 + 5) / 10000]\r"
     ]
    },
    {
     "name": "stderr",
     "output_type": "stream",
     "text": [
      "\r",
      "[Stage 4:=====================================>              (7255 + 4) / 10000]\r",
      "\r",
      "[Stage 4:======================================>             (7312 + 4) / 10000]\r"
     ]
    },
    {
     "name": "stderr",
     "output_type": "stream",
     "text": [
      "\r",
      "[Stage 4:======================================>             (7352 + 6) / 10000]\r",
      "\r",
      "[Stage 4:======================================>             (7418 + 4) / 10000]\r"
     ]
    },
    {
     "name": "stderr",
     "output_type": "stream",
     "text": [
      "\r",
      "[Stage 4:======================================>             (7482 + 4) / 10000]\r",
      "\r",
      "[Stage 4:=======================================>            (7535 + 4) / 10000]\r"
     ]
    },
    {
     "name": "stderr",
     "output_type": "stream",
     "text": [
      "\r",
      "[Stage 4:=======================================>            (7579 + 4) / 10000]\r"
     ]
    },
    {
     "name": "stderr",
     "output_type": "stream",
     "text": [
      "\r",
      "[Stage 4:=======================================>            (7642 + 4) / 10000]\r"
     ]
    },
    {
     "name": "stderr",
     "output_type": "stream",
     "text": [
      "\r",
      "[Stage 4:=======================================>            (7684 + 5) / 10000]\r",
      "\r",
      "[Stage 4:========================================>           (7708 + 4) / 10000]\r"
     ]
    },
    {
     "name": "stderr",
     "output_type": "stream",
     "text": [
      "\r",
      "[Stage 4:========================================>           (7753 + 4) / 10000]\r",
      "\r",
      "[Stage 4:========================================>           (7802 + 4) / 10000]\r"
     ]
    },
    {
     "name": "stderr",
     "output_type": "stream",
     "text": [
      "\r",
      "[Stage 4:========================================>           (7840 + 4) / 10000]\r",
      "\r",
      "[Stage 4:=========================================>          (7889 + 4) / 10000]\r"
     ]
    },
    {
     "name": "stderr",
     "output_type": "stream",
     "text": [
      "\r",
      "[Stage 4:=========================================>          (7929 + 4) / 10000]\r",
      "\r",
      "[Stage 4:=========================================>          (7967 + 4) / 10000]\r"
     ]
    },
    {
     "name": "stderr",
     "output_type": "stream",
     "text": [
      "\r",
      "[Stage 4:=========================================>          (8011 + 4) / 10000]\r",
      "\r",
      "[Stage 4:=========================================>          (8061 + 4) / 10000]\r"
     ]
    },
    {
     "name": "stderr",
     "output_type": "stream",
     "text": [
      "\r",
      "[Stage 4:==========================================>         (8113 + 5) / 10000]\r"
     ]
    },
    {
     "name": "stderr",
     "output_type": "stream",
     "text": [
      "\r",
      "[Stage 4:==========================================>         (8140 + 4) / 10000]\r"
     ]
    },
    {
     "name": "stderr",
     "output_type": "stream",
     "text": [
      "\r",
      "[Stage 4:==========================================>         (8170 + 4) / 10000]\r",
      "\r",
      "[Stage 4:==========================================>         (8191 + 4) / 10000]\r"
     ]
    },
    {
     "name": "stderr",
     "output_type": "stream",
     "text": [
      "\r",
      "[Stage 4:==========================================>         (8233 + 4) / 10000]\r",
      "\r",
      "[Stage 4:===========================================>        (8273 + 4) / 10000]\r"
     ]
    },
    {
     "name": "stderr",
     "output_type": "stream",
     "text": [
      "\r",
      "[Stage 4:===========================================>        (8315 + 4) / 10000]\r",
      "\r",
      "[Stage 4:===========================================>        (8359 + 4) / 10000]\r"
     ]
    },
    {
     "name": "stderr",
     "output_type": "stream",
     "text": [
      "\r",
      "[Stage 4:===========================================>        (8389 + 4) / 10000]\r",
      "\r",
      "[Stage 4:===========================================>        (8421 + 4) / 10000]\r"
     ]
    },
    {
     "name": "stderr",
     "output_type": "stream",
     "text": [
      "\r",
      "[Stage 4:===========================================>        (8442 + 4) / 10000]\r",
      "\r",
      "[Stage 4:============================================>       (8478 + 5) / 10000]\r"
     ]
    },
    {
     "name": "stderr",
     "output_type": "stream",
     "text": [
      "\r",
      "[Stage 4:============================================>       (8532 + 4) / 10000]\r",
      "\r",
      "[Stage 4:============================================>       (8578 + 4) / 10000]\r"
     ]
    },
    {
     "name": "stderr",
     "output_type": "stream",
     "text": [
      "\r",
      "[Stage 4:============================================>       (8637 + 5) / 10000]\r",
      "\r",
      "[Stage 4:=============================================>      (8686 + 4) / 10000]\r"
     ]
    },
    {
     "name": "stderr",
     "output_type": "stream",
     "text": [
      "\r",
      "[Stage 4:=============================================>      (8726 + 5) / 10000]\r",
      "\r",
      "[Stage 4:=============================================>      (8780 + 4) / 10000]\r"
     ]
    },
    {
     "name": "stderr",
     "output_type": "stream",
     "text": [
      "\r",
      "[Stage 4:=============================================>      (8817 + 4) / 10000]\r"
     ]
    },
    {
     "name": "stderr",
     "output_type": "stream",
     "text": [
      "\r",
      "[Stage 4:==============================================>     (8851 + 4) / 10000]\r",
      "\r",
      "[Stage 4:==============================================>     (8912 + 4) / 10000]\r"
     ]
    },
    {
     "name": "stderr",
     "output_type": "stream",
     "text": [
      "\r",
      "[Stage 4:==============================================>     (8956 + 4) / 10000]\r",
      "\r",
      "[Stage 4:==============================================>     (8984 + 4) / 10000]\r"
     ]
    },
    {
     "name": "stderr",
     "output_type": "stream",
     "text": [
      "\r",
      "[Stage 4:==============================================>     (9007 + 4) / 10000]\r",
      "\r",
      "[Stage 4:==============================================>     (9036 + 4) / 10000]\r"
     ]
    },
    {
     "name": "stderr",
     "output_type": "stream",
     "text": [
      "\r",
      "[Stage 4:===============================================>    (9086 + 4) / 10000]\r",
      "\r",
      "[Stage 4:===============================================>    (9126 + 6) / 10000]\r"
     ]
    },
    {
     "name": "stderr",
     "output_type": "stream",
     "text": [
      "\r",
      "[Stage 4:===============================================>    (9164 + 4) / 10000]\r"
     ]
    },
    {
     "name": "stderr",
     "output_type": "stream",
     "text": [
      "\r",
      "[Stage 4:===============================================>    (9192 + 5) / 10000]\r",
      "\r",
      "[Stage 4:===============================================>    (9224 + 4) / 10000]\r"
     ]
    },
    {
     "name": "stderr",
     "output_type": "stream",
     "text": [
      "\r",
      "[Stage 4:================================================>   (9265 + 4) / 10000]\r",
      "\r",
      "[Stage 4:================================================>   (9316 + 4) / 10000]\r"
     ]
    },
    {
     "name": "stderr",
     "output_type": "stream",
     "text": [
      "\r",
      "[Stage 4:================================================>   (9367 + 4) / 10000]\r",
      "\r",
      "[Stage 4:=================================================>  (9426 + 4) / 10000]\r"
     ]
    },
    {
     "name": "stderr",
     "output_type": "stream",
     "text": [
      "\r",
      "[Stage 4:=================================================>  (9485 + 5) / 10000]\r",
      "\r",
      "[Stage 4:=================================================>  (9550 + 4) / 10000]\r"
     ]
    },
    {
     "name": "stderr",
     "output_type": "stream",
     "text": [
      "\r",
      "[Stage 4:=================================================>  (9604 + 4) / 10000]\r",
      "\r",
      "[Stage 4:==================================================> (9656 + 5) / 10000]\r"
     ]
    },
    {
     "name": "stderr",
     "output_type": "stream",
     "text": [
      "\r",
      "[Stage 4:==================================================> (9708 + 4) / 10000]\r",
      "\r",
      "[Stage 4:==================================================> (9760 + 4) / 10000]\r"
     ]
    },
    {
     "name": "stderr",
     "output_type": "stream",
     "text": [
      "\r",
      "[Stage 4:===================================================>(9808 + 4) / 10000]\r",
      "\r",
      "[Stage 4:===================================================>(9827 + 4) / 10000]\r"
     ]
    },
    {
     "name": "stderr",
     "output_type": "stream",
     "text": [
      "\r",
      "[Stage 4:===================================================>(9892 + 4) / 10000]\r",
      "\r",
      "[Stage 4:===================================================>(9959 + 4) / 10000]\r"
     ]
    },
    {
     "name": "stderr",
     "output_type": "stream",
     "text": [
      "\r",
      "[Stage 5:>                                                          (0 + 1) / 1]\r"
     ]
    },
    {
     "name": "stderr",
     "output_type": "stream",
     "text": [
      "\r",
      "                                                                                \r"
     ]
    },
    {
     "name": "stderr",
     "output_type": "stream",
     "text": [
      "\r",
      "[Stage 7:>                                                      (0 + 4) / 10000]\r",
      "\r",
      "[Stage 7:>              (5 + 5) / 10000][Stage 9:>                 (0 + 0) / 50]\r"
     ]
    },
    {
     "name": "stderr",
     "output_type": "stream",
     "text": [
      "\r",
      "[Stage 7:>             (13 + 4) / 10000][Stage 9:>                 (0 + 0) / 50]\r",
      "\r",
      "[Stage 7:>             (20 + 4) / 10000][Stage 9:>                 (0 + 0) / 50]\r"
     ]
    },
    {
     "name": "stderr",
     "output_type": "stream",
     "text": [
      "\r",
      "[Stage 7:>             (24 + 4) / 10000][Stage 9:>                 (0 + 0) / 50]\r"
     ]
    },
    {
     "name": "stderr",
     "output_type": "stream",
     "text": [
      "\r",
      "[Stage 7:>             (35 + 4) / 10000][Stage 9:>                 (0 + 0) / 50]\r"
     ]
    },
    {
     "name": "stderr",
     "output_type": "stream",
     "text": [
      "\r",
      "[Stage 7:>             (52 + 4) / 10000][Stage 9:>                 (0 + 0) / 50]\r",
      "\r",
      "[Stage 7:>             (63 + 4) / 10000][Stage 9:>                 (0 + 0) / 50]\r"
     ]
    },
    {
     "name": "stderr",
     "output_type": "stream",
     "text": [
      "\r",
      "[Stage 7:>             (73 + 4) / 10000][Stage 9:>                 (0 + 0) / 50]\r"
     ]
    },
    {
     "name": "stderr",
     "output_type": "stream",
     "text": [
      "\r",
      "[Stage 7:>             (88 + 4) / 10000][Stage 9:>                 (0 + 0) / 50]\r"
     ]
    },
    {
     "name": "stderr",
     "output_type": "stream",
     "text": [
      "\r",
      "[Stage 7:>            (100 + 4) / 10000][Stage 9:>                 (0 + 0) / 50]\r",
      "\r",
      "[Stage 7:>            (114 + 4) / 10000][Stage 9:>                 (0 + 0) / 50]\r"
     ]
    },
    {
     "name": "stderr",
     "output_type": "stream",
     "text": [
      "\r",
      "[Stage 7:>            (134 + 4) / 10000][Stage 9:>                 (0 + 0) / 50]\r",
      "\r",
      "[Stage 7:>            (148 + 4) / 10000][Stage 9:>                 (0 + 0) / 50]\r"
     ]
    },
    {
     "name": "stderr",
     "output_type": "stream",
     "text": [
      "\r",
      "[Stage 7:>            (157 + 4) / 10000][Stage 9:>                 (0 + 0) / 50]\r",
      "\r",
      "[Stage 7:>            (177 + 4) / 10000][Stage 9:>                 (0 + 0) / 50]\r"
     ]
    },
    {
     "name": "stderr",
     "output_type": "stream",
     "text": [
      "\r",
      "[Stage 7:>            (198 + 4) / 10000][Stage 9:>                 (0 + 0) / 50]\r",
      "\r",
      "[Stage 7:>            (217 + 5) / 10000][Stage 9:>                 (0 + 0) / 50]\r"
     ]
    },
    {
     "name": "stderr",
     "output_type": "stream",
     "text": [
      "\r",
      "[Stage 7:>            (225 + 4) / 10000][Stage 9:>                 (0 + 0) / 50]\r",
      "\r",
      "[Stage 7:>            (251 + 4) / 10000][Stage 9:>                 (0 + 0) / 50]\r"
     ]
    },
    {
     "name": "stderr",
     "output_type": "stream",
     "text": [
      "\r",
      "[Stage 7:>            (267 + 4) / 10000][Stage 9:>                 (0 + 0) / 50]\r",
      "\r",
      "[Stage 7:>            (278 + 5) / 10000][Stage 9:>                 (0 + 0) / 50]\r"
     ]
    },
    {
     "name": "stderr",
     "output_type": "stream",
     "text": [
      "\r",
      "[Stage 7:>            (289 + 4) / 10000][Stage 9:>                 (0 + 0) / 50]\r"
     ]
    },
    {
     "name": "stderr",
     "output_type": "stream",
     "text": [
      "\r",
      "[Stage 7:>            (296 + 5) / 10000][Stage 9:>                 (0 + 0) / 50]\r",
      "\r",
      "[Stage 7:>            (317 + 4) / 10000][Stage 9:>                 (0 + 0) / 50]\r"
     ]
    },
    {
     "name": "stderr",
     "output_type": "stream",
     "text": [
      "\r",
      "[Stage 7:>            (338 + 4) / 10000][Stage 9:>                 (0 + 0) / 50]\r"
     ]
    },
    {
     "name": "stderr",
     "output_type": "stream",
     "text": [
      "\r",
      "[Stage 7:>            (358 + 4) / 10000][Stage 9:>                 (0 + 0) / 50]\r",
      "\r",
      "[Stage 7:>            (380 + 5) / 10000][Stage 9:>                 (0 + 0) / 50]\r"
     ]
    },
    {
     "name": "stderr",
     "output_type": "stream",
     "text": [
      "\r",
      "[Stage 7:>            (396 + 4) / 10000][Stage 9:>                 (0 + 0) / 50]\r",
      "\r",
      "[Stage 7:>            (409 + 4) / 10000][Stage 9:>                 (0 + 0) / 50]\r"
     ]
    },
    {
     "name": "stderr",
     "output_type": "stream",
     "text": [
      "\r",
      "[Stage 7:>            (424 + 4) / 10000][Stage 9:>                 (0 + 0) / 50]\r",
      "\r",
      "[Stage 7:>            (442 + 4) / 10000][Stage 9:>                 (0 + 0) / 50]\r"
     ]
    },
    {
     "name": "stderr",
     "output_type": "stream",
     "text": [
      "\r",
      "[Stage 7:>            (465 + 4) / 10000][Stage 9:>                 (0 + 0) / 50]\r",
      "\r",
      "[Stage 7:>            (490 + 4) / 10000][Stage 9:>                 (0 + 0) / 50]\r"
     ]
    },
    {
     "name": "stderr",
     "output_type": "stream",
     "text": [
      "\r",
      "[Stage 7:>            (516 + 4) / 10000][Stage 9:>                 (0 + 0) / 50]\r",
      "\r",
      "[Stage 7:>            (534 + 4) / 10000][Stage 9:>                 (0 + 0) / 50]\r"
     ]
    },
    {
     "name": "stderr",
     "output_type": "stream",
     "text": [
      "\r",
      "[Stage 7:>            (558 + 5) / 10000][Stage 9:>                 (0 + 0) / 50]\r"
     ]
    },
    {
     "name": "stderr",
     "output_type": "stream",
     "text": [
      "\r",
      "[Stage 7:>            (575 + 4) / 10000][Stage 9:>                 (0 + 0) / 50]\r",
      "\r",
      "[Stage 7:>            (588 + 4) / 10000][Stage 9:>                 (0 + 0) / 50]\r"
     ]
    },
    {
     "name": "stderr",
     "output_type": "stream",
     "text": [
      "\r",
      "[Stage 7:>            (615 + 4) / 10000][Stage 9:>                 (0 + 0) / 50]\r",
      "\r",
      "[Stage 7:>            (646 + 4) / 10000][Stage 9:>                 (0 + 0) / 50]\r"
     ]
    },
    {
     "name": "stderr",
     "output_type": "stream",
     "text": [
      "\r",
      "[Stage 7:>            (665 + 5) / 10000][Stage 9:>                 (0 + 0) / 50]\r"
     ]
    },
    {
     "name": "stderr",
     "output_type": "stream",
     "text": [
      "\r",
      "[Stage 7:>            (695 + 4) / 10000][Stage 9:>                 (0 + 0) / 50]\r",
      "\r",
      "[Stage 7:>            (726 + 4) / 10000][Stage 9:>                 (0 + 0) / 50]\r"
     ]
    },
    {
     "name": "stderr",
     "output_type": "stream",
     "text": [
      "\r",
      "[Stage 7:>            (751 + 4) / 10000][Stage 9:>                 (0 + 0) / 50]\r",
      "\r",
      "[Stage 7:=>           (775 + 4) / 10000][Stage 9:>                 (0 + 0) / 50]\r"
     ]
    },
    {
     "name": "stderr",
     "output_type": "stream",
     "text": [
      "\r",
      "[Stage 7:=>           (801 + 4) / 10000][Stage 9:>                 (0 + 0) / 50]\r",
      "\r",
      "[Stage 7:=>           (817 + 5) / 10000][Stage 9:>                 (0 + 0) / 50]\r"
     ]
    },
    {
     "name": "stderr",
     "output_type": "stream",
     "text": [
      "\r",
      "[Stage 7:=>           (839 + 4) / 10000][Stage 9:>                 (0 + 0) / 50]\r"
     ]
    },
    {
     "name": "stderr",
     "output_type": "stream",
     "text": [
      "\r",
      "[Stage 7:=>           (866 + 4) / 10000][Stage 9:>                 (0 + 0) / 50]\r",
      "\r",
      "[Stage 7:=>           (887 + 4) / 10000][Stage 9:>                 (0 + 0) / 50]\r"
     ]
    },
    {
     "name": "stderr",
     "output_type": "stream",
     "text": [
      "\r",
      "[Stage 7:=>           (928 + 4) / 10000][Stage 9:>                 (0 + 0) / 50]\r",
      "\r",
      "[Stage 7:=>           (967 + 4) / 10000][Stage 9:>                 (0 + 0) / 50]\r"
     ]
    },
    {
     "name": "stderr",
     "output_type": "stream",
     "text": [
      "\r",
      "[Stage 7:=>           (997 + 4) / 10000][Stage 9:>                 (0 + 0) / 50]\r",
      "\r",
      "[Stage 7:=>          (1029 + 4) / 10000][Stage 9:>                 (0 + 0) / 50]\r"
     ]
    },
    {
     "name": "stderr",
     "output_type": "stream",
     "text": [
      "\r",
      "[Stage 7:=>          (1059 + 4) / 10000][Stage 9:>                 (0 + 0) / 50]\r",
      "\r",
      "[Stage 7:=>          (1103 + 4) / 10000][Stage 9:>                 (0 + 0) / 50]\r"
     ]
    },
    {
     "name": "stderr",
     "output_type": "stream",
     "text": [
      "\r",
      "[Stage 7:=>          (1144 + 4) / 10000][Stage 9:>                 (0 + 0) / 50]\r",
      "\r",
      "[Stage 7:=>          (1175 + 4) / 10000][Stage 9:>                 (0 + 0) / 50]\r"
     ]
    },
    {
     "name": "stderr",
     "output_type": "stream",
     "text": [
      "\r",
      "[Stage 7:=>          (1215 + 5) / 10000][Stage 9:>                 (0 + 0) / 50]\r",
      "\r",
      "[Stage 7:=>          (1255 + 4) / 10000][Stage 9:>                 (0 + 0) / 50]\r"
     ]
    },
    {
     "name": "stderr",
     "output_type": "stream",
     "text": [
      "\r",
      "[Stage 7:=>          (1281 + 4) / 10000][Stage 9:>                 (0 + 0) / 50]\r",
      "\r",
      "[Stage 7:=>          (1322 + 4) / 10000][Stage 9:>                 (0 + 0) / 50]\r"
     ]
    },
    {
     "name": "stderr",
     "output_type": "stream",
     "text": [
      "\r",
      "[Stage 7:=>          (1367 + 5) / 10000][Stage 9:>                 (0 + 0) / 50]\r"
     ]
    },
    {
     "name": "stderr",
     "output_type": "stream",
     "text": [
      "\r",
      "[Stage 7:=>          (1394 + 5) / 10000][Stage 9:>                 (0 + 0) / 50]\r"
     ]
    },
    {
     "name": "stderr",
     "output_type": "stream",
     "text": [
      "\r",
      "[Stage 7:=>          (1423 + 4) / 10000][Stage 9:>                 (0 + 0) / 50]\r",
      "\r",
      "[Stage 7:=>          (1453 + 4) / 10000][Stage 9:>                 (0 + 0) / 50]\r"
     ]
    },
    {
     "name": "stderr",
     "output_type": "stream",
     "text": [
      "\r",
      "[Stage 7:=>          (1486 + 4) / 10000][Stage 9:>                 (0 + 0) / 50]\r",
      "\r",
      "[Stage 7:=>          (1499 + 4) / 10000][Stage 9:>                 (0 + 0) / 50]\r"
     ]
    },
    {
     "name": "stderr",
     "output_type": "stream",
     "text": [
      "\r",
      "[Stage 7:=>          (1507 + 5) / 10000][Stage 9:>                 (0 + 0) / 50]\r",
      "\r",
      "[Stage 7:=>          (1530 + 4) / 10000][Stage 9:>                 (0 + 0) / 50]\r"
     ]
    },
    {
     "name": "stderr",
     "output_type": "stream",
     "text": [
      "\r",
      "[Stage 7:=>          (1556 + 4) / 10000][Stage 9:>                 (0 + 0) / 50]\r",
      "\r",
      "[Stage 7:=>          (1570 + 4) / 10000][Stage 9:>                 (0 + 0) / 50]\r"
     ]
    },
    {
     "name": "stderr",
     "output_type": "stream",
     "text": [
      "\r",
      "[Stage 7:=>          (1580 + 4) / 10000][Stage 9:>                 (0 + 0) / 50]\r"
     ]
    },
    {
     "name": "stderr",
     "output_type": "stream",
     "text": [
      "\r",
      "[Stage 7:=>          (1599 + 4) / 10000][Stage 9:>                 (0 + 0) / 50]\r",
      "\r",
      "[Stage 7:=>          (1624 + 4) / 10000][Stage 9:>                 (0 + 0) / 50]\r"
     ]
    },
    {
     "name": "stderr",
     "output_type": "stream",
     "text": [
      "\r",
      "[Stage 7:=>          (1643 + 4) / 10000][Stage 9:>                 (0 + 0) / 50]\r",
      "\r",
      "[Stage 7:=>          (1658 + 4) / 10000][Stage 9:>                 (0 + 0) / 50]\r"
     ]
    },
    {
     "name": "stderr",
     "output_type": "stream",
     "text": [
      "\r",
      "[Stage 7:==>         (1678 + 4) / 10000][Stage 9:>                 (0 + 0) / 50]\r",
      "\r",
      "[Stage 7:==>         (1701 + 4) / 10000][Stage 9:>                 (0 + 0) / 50]\r"
     ]
    },
    {
     "name": "stderr",
     "output_type": "stream",
     "text": [
      "\r",
      "[Stage 7:==>         (1720 + 4) / 10000][Stage 9:>                 (0 + 0) / 50]\r",
      "\r",
      "[Stage 7:==>         (1739 + 4) / 10000][Stage 9:>                 (0 + 0) / 50]\r"
     ]
    },
    {
     "name": "stderr",
     "output_type": "stream",
     "text": [
      "\r",
      "[Stage 7:==>         (1759 + 5) / 10000][Stage 9:>                 (0 + 0) / 50]\r",
      "\r",
      "[Stage 7:==>         (1780 + 4) / 10000][Stage 9:>                 (0 + 0) / 50]\r"
     ]
    },
    {
     "name": "stderr",
     "output_type": "stream",
     "text": [
      "\r",
      "[Stage 7:==>         (1803 + 4) / 10000][Stage 9:>                 (0 + 0) / 50]\r",
      "\r",
      "[Stage 7:==>         (1819 + 4) / 10000][Stage 9:>                 (0 + 0) / 50]\r"
     ]
    },
    {
     "name": "stderr",
     "output_type": "stream",
     "text": [
      "\r",
      "[Stage 7:==>         (1828 + 4) / 10000][Stage 9:>                 (0 + 0) / 50]\r",
      "\r",
      "[Stage 7:==>         (1859 + 4) / 10000][Stage 9:>                 (0 + 0) / 50]\r"
     ]
    },
    {
     "name": "stderr",
     "output_type": "stream",
     "text": [
      "\r",
      "[Stage 7:==>         (1872 + 4) / 10000][Stage 9:>                 (0 + 0) / 50]\r",
      "\r",
      "[Stage 7:==>         (1894 + 4) / 10000][Stage 9:>                 (0 + 0) / 50]\r"
     ]
    },
    {
     "name": "stderr",
     "output_type": "stream",
     "text": [
      "\r",
      "[Stage 7:==>         (1918 + 4) / 10000][Stage 9:>                 (0 + 0) / 50]\r"
     ]
    },
    {
     "name": "stderr",
     "output_type": "stream",
     "text": [
      "\r",
      "[Stage 7:==>         (1940 + 4) / 10000][Stage 9:>                 (0 + 0) / 50]\r",
      "\r",
      "[Stage 7:==>         (1968 + 4) / 10000][Stage 9:>                 (0 + 0) / 50]\r"
     ]
    },
    {
     "name": "stderr",
     "output_type": "stream",
     "text": [
      "\r",
      "[Stage 7:==>         (1998 + 4) / 10000][Stage 9:>                 (0 + 0) / 50]\r"
     ]
    },
    {
     "name": "stderr",
     "output_type": "stream",
     "text": [
      "\r",
      "[Stage 7:==>         (2023 + 4) / 10000][Stage 9:>                 (0 + 0) / 50]\r",
      "\r",
      "[Stage 7:==>         (2056 + 4) / 10000][Stage 9:>                 (0 + 0) / 50]\r"
     ]
    },
    {
     "name": "stderr",
     "output_type": "stream",
     "text": [
      "\r",
      "[Stage 7:==>         (2081 + 4) / 10000][Stage 9:>                 (0 + 0) / 50]\r"
     ]
    },
    {
     "name": "stderr",
     "output_type": "stream",
     "text": [
      "\r",
      "[Stage 7:==>         (2116 + 7) / 10000][Stage 9:>                 (0 + 0) / 50]\r",
      "\r",
      "[Stage 7:==>         (2155 + 4) / 10000][Stage 9:>                 (0 + 0) / 50]\r"
     ]
    },
    {
     "name": "stderr",
     "output_type": "stream",
     "text": [
      "\r",
      "[Stage 7:==>         (2188 + 4) / 10000][Stage 9:>                 (0 + 0) / 50]\r"
     ]
    },
    {
     "name": "stderr",
     "output_type": "stream",
     "text": [
      "\r",
      "[Stage 7:==>         (2232 + 4) / 10000][Stage 9:>                 (0 + 0) / 50]\r",
      "\r",
      "[Stage 7:==>         (2275 + 4) / 10000][Stage 9:>                 (0 + 0) / 50]\r"
     ]
    },
    {
     "name": "stderr",
     "output_type": "stream",
     "text": [
      "\r",
      "[Stage 7:==>         (2323 + 4) / 10000][Stage 9:>                 (0 + 0) / 50]\r",
      "\r",
      "[Stage 7:==>         (2374 + 4) / 10000][Stage 9:>                 (0 + 0) / 50]\r"
     ]
    },
    {
     "name": "stderr",
     "output_type": "stream",
     "text": [
      "\r",
      "[Stage 7:==>         (2422 + 4) / 10000][Stage 9:>                 (0 + 0) / 50]\r",
      "\r",
      "[Stage 7:==>         (2464 + 4) / 10000][Stage 9:>                 (0 + 0) / 50]\r"
     ]
    },
    {
     "name": "stderr",
     "output_type": "stream",
     "text": [
      "\r",
      "[Stage 7:===>        (2506 + 4) / 10000][Stage 9:>                 (0 + 0) / 50]\r",
      "\r",
      "[Stage 7:===>        (2541 + 5) / 10000][Stage 9:>                 (0 + 0) / 50]\r"
     ]
    },
    {
     "name": "stderr",
     "output_type": "stream",
     "text": [
      "\r",
      "[Stage 7:===>        (2595 + 4) / 10000][Stage 9:>                 (0 + 0) / 50]\r",
      "\r",
      "[Stage 7:===>        (2645 + 4) / 10000][Stage 9:>                 (0 + 0) / 50]\r"
     ]
    },
    {
     "name": "stderr",
     "output_type": "stream",
     "text": [
      "\r",
      "[Stage 7:===>        (2698 + 4) / 10000][Stage 9:>                 (0 + 0) / 50]\r"
     ]
    },
    {
     "name": "stderr",
     "output_type": "stream",
     "text": [
      "\r",
      "[Stage 7:===>        (2752 + 4) / 10000][Stage 9:>                 (0 + 0) / 50]\r",
      "\r",
      "[Stage 7:===>        (2816 + 4) / 10000][Stage 9:>                 (0 + 0) / 50]\r"
     ]
    },
    {
     "name": "stderr",
     "output_type": "stream",
     "text": [
      "\r",
      "[Stage 7:===>        (2876 + 4) / 10000][Stage 9:>                 (0 + 0) / 50]\r"
     ]
    },
    {
     "name": "stderr",
     "output_type": "stream",
     "text": [
      "\r",
      "[Stage 7:===>        (2940 + 4) / 10000][Stage 9:>                 (0 + 0) / 50]\r",
      "\r",
      "[Stage 7:===>        (3002 + 4) / 10000][Stage 9:>                 (0 + 0) / 50]\r"
     ]
    },
    {
     "name": "stderr",
     "output_type": "stream",
     "text": [
      "\r",
      "[Stage 7:===>        (3052 + 5) / 10000][Stage 9:>                 (0 + 0) / 50]\r",
      "\r",
      "[Stage 7:===>        (3104 + 4) / 10000][Stage 9:>                 (0 + 0) / 50]\r"
     ]
    },
    {
     "name": "stderr",
     "output_type": "stream",
     "text": [
      "\r",
      "[Stage 7:===>        (3164 + 4) / 10000][Stage 9:>                 (0 + 0) / 50]\r"
     ]
    },
    {
     "name": "stderr",
     "output_type": "stream",
     "text": [
      "\r",
      "[Stage 7:===>        (3210 + 4) / 10000][Stage 9:>                 (0 + 0) / 50]\r",
      "\r",
      "[Stage 7:===>        (3261 + 4) / 10000][Stage 9:>                 (0 + 0) / 50]\r"
     ]
    },
    {
     "name": "stderr",
     "output_type": "stream",
     "text": [
      "\r",
      "[Stage 7:===>        (3325 + 4) / 10000][Stage 9:>                 (0 + 0) / 50]\r",
      "\r",
      "[Stage 7:====>       (3371 + 5) / 10000][Stage 9:>                 (0 + 0) / 50]\r"
     ]
    },
    {
     "name": "stderr",
     "output_type": "stream",
     "text": [
      "\r",
      "[Stage 7:====>       (3404 + 4) / 10000][Stage 9:>                 (0 + 0) / 50]\r",
      "\r",
      "[Stage 7:====>       (3441 + 4) / 10000][Stage 9:>                 (0 + 0) / 50]\r"
     ]
    },
    {
     "name": "stderr",
     "output_type": "stream",
     "text": [
      "\r",
      "[Stage 7:====>       (3476 + 5) / 10000][Stage 9:>                 (0 + 0) / 50]\r",
      "\r",
      "[Stage 7:====>       (3528 + 6) / 10000][Stage 9:>                 (0 + 0) / 50]\r"
     ]
    },
    {
     "name": "stderr",
     "output_type": "stream",
     "text": [
      "\r",
      "[Stage 7:====>       (3584 + 4) / 10000][Stage 9:>                 (0 + 0) / 50]\r"
     ]
    },
    {
     "name": "stderr",
     "output_type": "stream",
     "text": [
      "\r",
      "[Stage 7:====>       (3630 + 4) / 10000][Stage 9:>                 (0 + 0) / 50]\r"
     ]
    },
    {
     "name": "stderr",
     "output_type": "stream",
     "text": [
      "\r",
      "[Stage 7:====>       (3676 + 4) / 10000][Stage 9:>                 (0 + 0) / 50]\r",
      "\r",
      "[Stage 7:====>       (3732 + 5) / 10000][Stage 9:>                 (0 + 0) / 50]\r"
     ]
    },
    {
     "name": "stderr",
     "output_type": "stream",
     "text": [
      "\r",
      "[Stage 7:====>       (3772 + 5) / 10000][Stage 9:>                 (0 + 0) / 50]\r",
      "\r",
      "[Stage 7:====>       (3818 + 4) / 10000][Stage 9:>                 (0 + 0) / 50]\r"
     ]
    },
    {
     "name": "stderr",
     "output_type": "stream",
     "text": [
      "\r",
      "[Stage 7:====>       (3871 + 4) / 10000][Stage 9:>                 (0 + 0) / 50]\r",
      "\r",
      "[Stage 7:====>       (3924 + 4) / 10000][Stage 9:>                 (0 + 0) / 50]\r"
     ]
    },
    {
     "name": "stderr",
     "output_type": "stream",
     "text": [
      "\r",
      "[Stage 7:====>       (3963 + 4) / 10000][Stage 9:>                 (0 + 0) / 50]\r"
     ]
    },
    {
     "name": "stderr",
     "output_type": "stream",
     "text": [
      "\r",
      "[Stage 7:====>       (4009 + 4) / 10000][Stage 9:>                 (0 + 0) / 50]\r",
      "\r",
      "[Stage 7:====>       (4051 + 4) / 10000][Stage 9:>                 (0 + 0) / 50]\r"
     ]
    },
    {
     "name": "stderr",
     "output_type": "stream",
     "text": [
      "\r",
      "[Stage 7:====>       (4096 + 4) / 10000][Stage 9:>                 (0 + 0) / 50]\r",
      "\r",
      "[Stage 7:====>       (4141 + 4) / 10000][Stage 9:>                 (0 + 0) / 50]\r"
     ]
    },
    {
     "name": "stderr",
     "output_type": "stream",
     "text": [
      "\r",
      "[Stage 7:=====>      (4177 + 5) / 10000][Stage 9:>                 (0 + 0) / 50]\r",
      "\r",
      "[Stage 7:=====>      (4229 + 5) / 10000][Stage 9:>                 (0 + 0) / 50]\r"
     ]
    },
    {
     "name": "stderr",
     "output_type": "stream",
     "text": [
      "\r",
      "[Stage 7:=====>      (4269 + 4) / 10000][Stage 9:>                 (0 + 0) / 50]\r",
      "\r",
      "[Stage 7:=====>      (4297 + 4) / 10000][Stage 9:>                 (0 + 0) / 50]\r"
     ]
    },
    {
     "name": "stderr",
     "output_type": "stream",
     "text": [
      "\r",
      "[Stage 7:=====>      (4327 + 4) / 10000][Stage 9:>                 (0 + 0) / 50]\r",
      "\r",
      "[Stage 7:=====>      (4336 + 6) / 10000][Stage 9:>                 (0 + 0) / 50]\r"
     ]
    },
    {
     "name": "stderr",
     "output_type": "stream",
     "text": [
      "\r",
      "[Stage 7:=====>      (4364 + 5) / 10000][Stage 9:>                 (0 + 0) / 50]\r",
      "\r",
      "[Stage 7:=====>      (4388 + 4) / 10000][Stage 9:>                 (0 + 0) / 50]\r"
     ]
    },
    {
     "name": "stderr",
     "output_type": "stream",
     "text": [
      "\r",
      "[Stage 7:=====>      (4412 + 5) / 10000][Stage 9:>                 (0 + 0) / 50]\r",
      "\r",
      "[Stage 7:=====>      (4439 + 4) / 10000][Stage 9:>                 (0 + 0) / 50]\r"
     ]
    },
    {
     "name": "stderr",
     "output_type": "stream",
     "text": [
      "\r",
      "[Stage 7:=====>      (4459 + 4) / 10000][Stage 9:>                 (0 + 0) / 50]\r",
      "\r",
      "[Stage 7:=====>      (4471 + 4) / 10000][Stage 9:>                 (0 + 0) / 50]\r"
     ]
    },
    {
     "name": "stderr",
     "output_type": "stream",
     "text": [
      "\r",
      "[Stage 7:=====>      (4498 + 4) / 10000][Stage 9:>                 (0 + 0) / 50]\r",
      "\r",
      "[Stage 7:=====>      (4517 + 4) / 10000][Stage 9:>                 (0 + 0) / 50]\r"
     ]
    },
    {
     "name": "stderr",
     "output_type": "stream",
     "text": [
      "\r",
      "[Stage 7:=====>      (4546 + 4) / 10000][Stage 9:>                 (0 + 0) / 50]\r",
      "\r",
      "[Stage 7:=====>      (4572 + 4) / 10000][Stage 9:>                 (0 + 0) / 50]\r"
     ]
    },
    {
     "name": "stderr",
     "output_type": "stream",
     "text": [
      "\r",
      "[Stage 7:=====>      (4602 + 4) / 10000][Stage 9:>                 (0 + 0) / 50]\r",
      "\r",
      "[Stage 7:=====>      (4624 + 4) / 10000][Stage 9:>                 (0 + 0) / 50]\r"
     ]
    },
    {
     "name": "stderr",
     "output_type": "stream",
     "text": [
      "\r",
      "[Stage 7:=====>      (4639 + 4) / 10000][Stage 9:>                 (0 + 0) / 50]\r"
     ]
    },
    {
     "name": "stderr",
     "output_type": "stream",
     "text": [
      "\r",
      "[Stage 7:=====>      (4678 + 4) / 10000][Stage 9:>                 (0 + 0) / 50]\r",
      "\r",
      "[Stage 7:=====>      (4721 + 4) / 10000][Stage 9:>                 (0 + 0) / 50]\r"
     ]
    },
    {
     "name": "stderr",
     "output_type": "stream",
     "text": [
      "\r",
      "[Stage 7:=====>      (4758 + 5) / 10000][Stage 9:>                 (0 + 0) / 50]\r",
      "\r",
      "[Stage 7:=====>      (4800 + 5) / 10000][Stage 9:>                 (0 + 0) / 50]\r"
     ]
    },
    {
     "name": "stderr",
     "output_type": "stream",
     "text": [
      "\r",
      "[Stage 7:=====>      (4826 + 4) / 10000][Stage 9:>                 (0 + 0) / 50]\r",
      "\r",
      "[Stage 7:=====>      (4865 + 4) / 10000][Stage 9:>                 (0 + 0) / 50]\r"
     ]
    },
    {
     "name": "stderr",
     "output_type": "stream",
     "text": [
      "\r",
      "[Stage 7:=====>      (4927 + 4) / 10000][Stage 9:>                 (0 + 0) / 50]\r",
      "\r",
      "[Stage 7:=====>      (4988 + 4) / 10000][Stage 9:>                 (0 + 0) / 50]\r"
     ]
    },
    {
     "name": "stderr",
     "output_type": "stream",
     "text": [
      "\r",
      "[Stage 7:======>     (5027 + 5) / 10000][Stage 9:>                 (0 + 0) / 50]\r"
     ]
    },
    {
     "name": "stderr",
     "output_type": "stream",
     "text": [
      "\r",
      "[Stage 7:======>     (5049 + 4) / 10000][Stage 9:>                 (0 + 0) / 50]\r",
      "\r",
      "[Stage 7:======>     (5086 + 4) / 10000][Stage 9:>                 (0 + 0) / 50]\r"
     ]
    },
    {
     "name": "stderr",
     "output_type": "stream",
     "text": [
      "\r",
      "[Stage 7:======>     (5112 + 4) / 10000][Stage 9:>                 (0 + 0) / 50]\r",
      "\r",
      "[Stage 7:======>     (5142 + 4) / 10000][Stage 9:>                 (0 + 0) / 50]\r"
     ]
    },
    {
     "name": "stderr",
     "output_type": "stream",
     "text": [
      "\r",
      "[Stage 7:======>     (5184 + 4) / 10000][Stage 9:>                 (0 + 0) / 50]\r",
      "\r",
      "[Stage 7:======>     (5234 + 4) / 10000][Stage 9:>                 (0 + 0) / 50]\r"
     ]
    },
    {
     "name": "stderr",
     "output_type": "stream",
     "text": [
      "\r",
      "[Stage 7:======>     (5279 + 4) / 10000][Stage 9:>                 (0 + 0) / 50]\r",
      "\r",
      "[Stage 7:======>     (5325 + 5) / 10000][Stage 9:>                 (0 + 0) / 50]\r"
     ]
    },
    {
     "name": "stderr",
     "output_type": "stream",
     "text": [
      "\r",
      "[Stage 7:======>     (5345 + 7) / 10000][Stage 9:>                 (0 + 0) / 50]\r",
      "\r",
      "[Stage 7:======>     (5378 + 4) / 10000][Stage 9:>                 (0 + 0) / 50]\r"
     ]
    },
    {
     "name": "stderr",
     "output_type": "stream",
     "text": [
      "\r",
      "[Stage 7:======>     (5414 + 4) / 10000][Stage 9:>                 (0 + 0) / 50]\r",
      "\r",
      "[Stage 7:======>     (5456 + 4) / 10000][Stage 9:>                 (0 + 0) / 50]\r"
     ]
    },
    {
     "name": "stderr",
     "output_type": "stream",
     "text": [
      "\r",
      "[Stage 7:======>     (5506 + 5) / 10000][Stage 9:>                 (0 + 0) / 50]\r",
      "\r",
      "[Stage 7:======>     (5557 + 4) / 10000][Stage 9:>                 (0 + 0) / 50]\r"
     ]
    },
    {
     "name": "stderr",
     "output_type": "stream",
     "text": [
      "\r",
      "[Stage 7:======>     (5600 + 4) / 10000][Stage 9:>                 (0 + 0) / 50]\r",
      "\r",
      "[Stage 7:======>     (5622 + 4) / 10000][Stage 9:>                 (0 + 0) / 50]\r"
     ]
    },
    {
     "name": "stderr",
     "output_type": "stream",
     "text": [
      "\r",
      "[Stage 7:======>     (5659 + 5) / 10000][Stage 9:>                 (0 + 0) / 50]\r",
      "\r",
      "[Stage 7:======>     (5701 + 4) / 10000][Stage 9:>                 (0 + 0) / 50]\r"
     ]
    },
    {
     "name": "stderr",
     "output_type": "stream",
     "text": [
      "\r",
      "[Stage 7:======>     (5750 + 4) / 10000][Stage 9:>                 (0 + 0) / 50]\r",
      "\r",
      "[Stage 7:======>     (5793 + 4) / 10000][Stage 9:>                 (0 + 0) / 50]\r"
     ]
    },
    {
     "name": "stderr",
     "output_type": "stream",
     "text": [
      "\r",
      "[Stage 7:=======>    (5834 + 4) / 10000][Stage 9:>                 (0 + 0) / 50]\r",
      "\r",
      "[Stage 7:=======>    (5880 + 4) / 10000][Stage 9:>                 (0 + 0) / 50]\r"
     ]
    },
    {
     "name": "stderr",
     "output_type": "stream",
     "text": [
      "\r",
      "[Stage 7:=======>    (5931 + 5) / 10000][Stage 9:>                 (0 + 0) / 50]\r",
      "\r",
      "[Stage 7:=======>    (5976 + 4) / 10000][Stage 9:>                 (0 + 0) / 50]\r"
     ]
    },
    {
     "name": "stderr",
     "output_type": "stream",
     "text": [
      "\r",
      "[Stage 7:=======>    (6023 + 4) / 10000][Stage 9:>                 (0 + 0) / 50]\r",
      "\r",
      "[Stage 7:=======>    (6066 + 5) / 10000][Stage 9:>                 (0 + 0) / 50]\r"
     ]
    },
    {
     "name": "stderr",
     "output_type": "stream",
     "text": [
      "\r",
      "[Stage 7:=======>    (6093 + 4) / 10000][Stage 9:>                 (0 + 0) / 50]\r",
      "\r",
      "[Stage 7:=======>    (6123 + 4) / 10000][Stage 9:>                 (0 + 0) / 50]\r"
     ]
    },
    {
     "name": "stderr",
     "output_type": "stream",
     "text": [
      "\r",
      "[Stage 7:=======>    (6155 + 4) / 10000][Stage 9:>                 (0 + 0) / 50]\r",
      "\r",
      "[Stage 7:=======>    (6198 + 4) / 10000][Stage 9:>                 (0 + 0) / 50]\r"
     ]
    },
    {
     "name": "stderr",
     "output_type": "stream",
     "text": [
      "\r",
      "[Stage 7:=======>    (6235 + 4) / 10000][Stage 9:>                 (0 + 0) / 50]\r",
      "\r",
      "[Stage 7:=======>    (6268 + 5) / 10000][Stage 9:>                 (0 + 0) / 50]\r"
     ]
    },
    {
     "name": "stderr",
     "output_type": "stream",
     "text": [
      "\r",
      "[Stage 7:=======>    (6313 + 4) / 10000][Stage 9:>                 (0 + 0) / 50]\r",
      "\r",
      "[Stage 7:=======>    (6362 + 4) / 10000][Stage 9:>                 (0 + 0) / 50]\r"
     ]
    },
    {
     "name": "stderr",
     "output_type": "stream",
     "text": [
      "\r",
      "[Stage 7:=======>    (6393 + 4) / 10000][Stage 9:>                 (0 + 0) / 50]\r",
      "\r",
      "[Stage 7:=======>    (6420 + 4) / 10000][Stage 9:>                 (0 + 0) / 50]\r"
     ]
    },
    {
     "name": "stderr",
     "output_type": "stream",
     "text": [
      "\r",
      "[Stage 7:=======>    (6479 + 5) / 10000][Stage 9:>                 (0 + 0) / 50]\r",
      "\r",
      "[Stage 7:=======>    (6526 + 4) / 10000][Stage 9:>                 (0 + 0) / 50]\r"
     ]
    },
    {
     "name": "stderr",
     "output_type": "stream",
     "text": [
      "\r",
      "[Stage 7:=======>    (6569 + 4) / 10000][Stage 9:>                 (0 + 0) / 50]\r",
      "\r",
      "[Stage 7:=======>    (6605 + 4) / 10000][Stage 9:>                 (0 + 0) / 50]\r"
     ]
    },
    {
     "name": "stderr",
     "output_type": "stream",
     "text": [
      "\r",
      "[Stage 7:=======>    (6637 + 4) / 10000][Stage 9:>                 (0 + 0) / 50]\r"
     ]
    },
    {
     "name": "stderr",
     "output_type": "stream",
     "text": [
      "\r",
      "[Stage 7:=======>    (6664 + 4) / 10000][Stage 9:>                 (0 + 0) / 50]\r",
      "\r",
      "[Stage 7:========>   (6711 + 4) / 10000][Stage 9:>                 (0 + 0) / 50]\r"
     ]
    },
    {
     "name": "stderr",
     "output_type": "stream",
     "text": [
      "\r",
      "[Stage 7:========>   (6751 + 4) / 10000][Stage 9:>                 (0 + 0) / 50]\r"
     ]
    },
    {
     "name": "stderr",
     "output_type": "stream",
     "text": [
      "\r",
      "[Stage 7:========>   (6797 + 4) / 10000][Stage 9:>                 (0 + 0) / 50]\r"
     ]
    },
    {
     "name": "stderr",
     "output_type": "stream",
     "text": [
      "\r",
      "[Stage 7:========>   (6835 + 4) / 10000][Stage 9:>                 (0 + 0) / 50]\r",
      "\r",
      "[Stage 7:========>   (6872 + 4) / 10000][Stage 9:>                 (0 + 0) / 50]\r"
     ]
    },
    {
     "name": "stderr",
     "output_type": "stream",
     "text": [
      "\r",
      "[Stage 7:========>   (6909 + 6) / 10000][Stage 9:>                 (0 + 0) / 50]\r",
      "\r",
      "[Stage 7:========>   (6949 + 4) / 10000][Stage 9:>                 (0 + 0) / 50]\r"
     ]
    },
    {
     "name": "stderr",
     "output_type": "stream",
     "text": [
      "\r",
      "[Stage 7:========>   (6975 + 4) / 10000][Stage 9:>                 (0 + 0) / 50]\r",
      "\r",
      "[Stage 7:========>   (6999 + 4) / 10000][Stage 9:>                 (0 + 0) / 50]\r"
     ]
    },
    {
     "name": "stderr",
     "output_type": "stream",
     "text": [
      "\r",
      "[Stage 7:========>   (7027 + 4) / 10000][Stage 9:>                 (0 + 0) / 50]\r",
      "\r",
      "[Stage 7:========>   (7052 + 4) / 10000][Stage 9:>                 (0 + 0) / 50]\r"
     ]
    },
    {
     "name": "stderr",
     "output_type": "stream",
     "text": [
      "\r",
      "[Stage 7:========>   (7070 + 4) / 10000][Stage 9:>                 (0 + 0) / 50]\r",
      "\r",
      "[Stage 7:========>   (7086 + 4) / 10000][Stage 9:>                 (0 + 0) / 50]\r"
     ]
    },
    {
     "name": "stderr",
     "output_type": "stream",
     "text": [
      "\r",
      "[Stage 7:========>   (7115 + 4) / 10000][Stage 9:>                 (0 + 0) / 50]\r",
      "\r",
      "[Stage 7:========>   (7140 + 4) / 10000][Stage 9:>                 (0 + 0) / 50]\r"
     ]
    },
    {
     "name": "stderr",
     "output_type": "stream",
     "text": [
      "\r",
      "[Stage 7:========>   (7156 + 4) / 10000][Stage 9:>                 (0 + 0) / 50]\r",
      "\r",
      "[Stage 7:========>   (7183 + 4) / 10000][Stage 9:>                 (0 + 0) / 50]\r"
     ]
    },
    {
     "name": "stderr",
     "output_type": "stream",
     "text": [
      "\r",
      "[Stage 7:========>   (7212 + 4) / 10000][Stage 9:>                 (0 + 0) / 50]\r",
      "\r",
      "[Stage 7:========>   (7253 + 4) / 10000][Stage 9:>                 (0 + 0) / 50]\r"
     ]
    },
    {
     "name": "stderr",
     "output_type": "stream",
     "text": [
      "\r",
      "[Stage 7:========>   (7289 + 4) / 10000][Stage 9:>                 (0 + 0) / 50]\r",
      "\r",
      "[Stage 7:========>   (7322 + 4) / 10000][Stage 9:>                 (0 + 0) / 50]\r"
     ]
    },
    {
     "name": "stderr",
     "output_type": "stream",
     "text": [
      "\r",
      "[Stage 7:========>   (7366 + 4) / 10000][Stage 9:>                 (0 + 0) / 50]\r"
     ]
    },
    {
     "name": "stderr",
     "output_type": "stream",
     "text": [
      "\r",
      "[Stage 7:========>   (7404 + 5) / 10000][Stage 9:>                 (0 + 0) / 50]\r",
      "\r",
      "[Stage 7:========>   (7440 + 4) / 10000][Stage 9:>                 (0 + 0) / 50]\r"
     ]
    },
    {
     "name": "stderr",
     "output_type": "stream",
     "text": [
      "\r",
      "[Stage 7:========>   (7466 + 4) / 10000][Stage 9:>                 (0 + 0) / 50]\r"
     ]
    },
    {
     "name": "stderr",
     "output_type": "stream",
     "text": [
      "\r",
      "[Stage 7:========>   (7497 + 4) / 10000][Stage 9:>                 (0 + 0) / 50]\r",
      "\r",
      "[Stage 7:=========>  (7550 + 4) / 10000][Stage 9:>                 (0 + 0) / 50]\r"
     ]
    },
    {
     "name": "stderr",
     "output_type": "stream",
     "text": [
      "\r",
      "[Stage 7:=========>  (7596 + 4) / 10000][Stage 9:>                 (0 + 0) / 50]\r",
      "\r",
      "[Stage 7:=========>  (7637 + 4) / 10000][Stage 9:>                 (0 + 0) / 50]\r"
     ]
    },
    {
     "name": "stderr",
     "output_type": "stream",
     "text": [
      "\r",
      "[Stage 7:=========>  (7694 + 4) / 10000][Stage 9:>                 (0 + 0) / 50]\r",
      "\r",
      "[Stage 7:=========>  (7756 + 4) / 10000][Stage 9:>                 (0 + 0) / 50]\r"
     ]
    },
    {
     "name": "stderr",
     "output_type": "stream",
     "text": [
      "\r",
      "[Stage 7:=========>  (7807 + 4) / 10000][Stage 9:>                 (0 + 0) / 50]\r",
      "\r",
      "[Stage 7:=========>  (7855 + 5) / 10000][Stage 9:>                 (0 + 0) / 50]\r"
     ]
    },
    {
     "name": "stderr",
     "output_type": "stream",
     "text": [
      "\r",
      "[Stage 7:=========>  (7910 + 4) / 10000][Stage 9:>                 (0 + 0) / 50]\r",
      "\r",
      "[Stage 7:=========>  (7960 + 6) / 10000][Stage 9:>                 (0 + 0) / 50]\r"
     ]
    },
    {
     "name": "stderr",
     "output_type": "stream",
     "text": [
      "\r",
      "[Stage 7:=========>  (8026 + 4) / 10000][Stage 9:>                 (0 + 0) / 50]\r"
     ]
    },
    {
     "name": "stderr",
     "output_type": "stream",
     "text": [
      "\r",
      "[Stage 7:=========>  (8093 + 4) / 10000][Stage 9:>                 (0 + 0) / 50]\r"
     ]
    },
    {
     "name": "stderr",
     "output_type": "stream",
     "text": [
      "\r",
      "[Stage 7:=========>  (8141 + 4) / 10000][Stage 9:>                 (0 + 0) / 50]\r",
      "\r",
      "[Stage 7:=========>  (8187 + 4) / 10000][Stage 9:>                 (0 + 0) / 50]\r"
     ]
    },
    {
     "name": "stderr",
     "output_type": "stream",
     "text": [
      "\r",
      "[Stage 7:=========>  (8233 + 4) / 10000][Stage 9:>                 (0 + 0) / 50]\r",
      "\r",
      "[Stage 7:=========>  (8297 + 4) / 10000][Stage 9:>                 (0 + 0) / 50]\r"
     ]
    },
    {
     "name": "stderr",
     "output_type": "stream",
     "text": [
      "\r",
      "[Stage 7:==========> (8339 + 6) / 10000][Stage 9:>                 (0 + 0) / 50]\r",
      "\r",
      "[Stage 7:==========> (8373 + 4) / 10000][Stage 9:>                 (0 + 0) / 50]\r"
     ]
    },
    {
     "name": "stderr",
     "output_type": "stream",
     "text": [
      "\r",
      "[Stage 7:==========> (8375 + 4) / 10000][Stage 9:>                 (0 + 0) / 50]\r",
      "\r",
      "[Stage 7:==========> (8378 + 4) / 10000][Stage 9:>                 (0 + 0) / 50]\r"
     ]
    },
    {
     "name": "stderr",
     "output_type": "stream",
     "text": [
      "\r",
      "[Stage 7:==========> (8384 + 4) / 10000][Stage 9:>                 (0 + 0) / 50]\r"
     ]
    },
    {
     "name": "stderr",
     "output_type": "stream",
     "text": [
      "\r",
      "[Stage 7:==========> (8387 + 5) / 10000][Stage 9:>                 (0 + 0) / 50]\r",
      "\r",
      "[Stage 7:==========> (8391 + 5) / 10000][Stage 9:>                 (0 + 0) / 50]\r"
     ]
    },
    {
     "name": "stderr",
     "output_type": "stream",
     "text": [
      "\r",
      "[Stage 7:==========> (8398 + 4) / 10000][Stage 9:>                 (0 + 0) / 50]\r",
      "\r",
      "[Stage 7:==========> (8398 + 6) / 10000][Stage 9:>                 (0 + 0) / 50]\r"
     ]
    },
    {
     "name": "stderr",
     "output_type": "stream",
     "text": [
      "\r",
      "[Stage 7:==========> (8400 + 4) / 10000][Stage 9:>                 (0 + 0) / 50]\r"
     ]
    },
    {
     "name": "stderr",
     "output_type": "stream",
     "text": [
      "\r",
      "[Stage 7:==========> (8403 + 4) / 10000][Stage 9:>                 (0 + 0) / 50]\r",
      "\r",
      "[Stage 7:==========> (8419 + 4) / 10000][Stage 9:>                 (0 + 0) / 50]\r"
     ]
    },
    {
     "name": "stderr",
     "output_type": "stream",
     "text": [
      "\r",
      "[Stage 7:==========> (8438 + 4) / 10000][Stage 9:>                 (0 + 0) / 50]\r",
      "\r",
      "[Stage 7:==========> (8459 + 4) / 10000][Stage 9:>                 (0 + 0) / 50]\r"
     ]
    },
    {
     "name": "stderr",
     "output_type": "stream",
     "text": [
      "\r",
      "[Stage 7:==========> (8487 + 4) / 10000][Stage 9:>                 (0 + 0) / 50]\r",
      "\r",
      "[Stage 7:==========> (8517 + 4) / 10000][Stage 9:>                 (0 + 0) / 50]\r"
     ]
    },
    {
     "name": "stderr",
     "output_type": "stream",
     "text": [
      "\r",
      "[Stage 7:==========> (8543 + 4) / 10000][Stage 9:>                 (0 + 0) / 50]\r",
      "\r",
      "[Stage 7:==========> (8565 + 4) / 10000][Stage 9:>                 (0 + 0) / 50]\r"
     ]
    },
    {
     "name": "stderr",
     "output_type": "stream",
     "text": [
      "\r",
      "[Stage 7:==========> (8594 + 4) / 10000][Stage 9:>                 (0 + 0) / 50]\r",
      "\r",
      "[Stage 7:==========> (8637 + 4) / 10000][Stage 9:>                 (0 + 0) / 50]\r"
     ]
    },
    {
     "name": "stderr",
     "output_type": "stream",
     "text": [
      "\r",
      "[Stage 7:==========> (8674 + 5) / 10000][Stage 9:>                 (0 + 0) / 50]\r",
      "\r",
      "[Stage 7:==========> (8714 + 4) / 10000][Stage 9:>                 (0 + 0) / 50]\r"
     ]
    },
    {
     "name": "stderr",
     "output_type": "stream",
     "text": [
      "\r",
      "[Stage 7:==========> (8737 + 4) / 10000][Stage 9:>                 (0 + 0) / 50]\r"
     ]
    },
    {
     "name": "stderr",
     "output_type": "stream",
     "text": [
      "\r",
      "[Stage 7:==========> (8756 + 4) / 10000][Stage 9:>                 (0 + 0) / 50]\r",
      "\r",
      "[Stage 7:==========> (8781 + 4) / 10000][Stage 9:>                 (0 + 0) / 50]\r"
     ]
    },
    {
     "name": "stderr",
     "output_type": "stream",
     "text": [
      "\r",
      "[Stage 7:==========> (8807 + 4) / 10000][Stage 9:>                 (0 + 0) / 50]\r",
      "\r",
      "[Stage 7:==========> (8836 + 4) / 10000][Stage 9:>                 (0 + 0) / 50]\r"
     ]
    },
    {
     "name": "stderr",
     "output_type": "stream",
     "text": [
      "\r",
      "[Stage 7:==========> (8853 + 4) / 10000][Stage 9:>                 (0 + 0) / 50]\r",
      "\r",
      "[Stage 7:==========> (8879 + 4) / 10000][Stage 9:>                 (0 + 0) / 50]\r"
     ]
    },
    {
     "name": "stderr",
     "output_type": "stream",
     "text": [
      "\r",
      "[Stage 7:==========> (8906 + 4) / 10000][Stage 9:>                 (0 + 0) / 50]\r",
      "\r",
      "[Stage 7:==========> (8916 + 4) / 10000][Stage 9:>                 (0 + 0) / 50]\r"
     ]
    },
    {
     "name": "stderr",
     "output_type": "stream",
     "text": [
      "\r",
      "[Stage 7:==========> (8935 + 6) / 10000][Stage 9:>                 (0 + 0) / 50]\r",
      "\r",
      "[Stage 7:==========> (8974 + 4) / 10000][Stage 9:>                 (0 + 0) / 50]\r"
     ]
    },
    {
     "name": "stderr",
     "output_type": "stream",
     "text": [
      "\r",
      "[Stage 7:==========> (9011 + 4) / 10000][Stage 9:>                 (0 + 0) / 50]\r"
     ]
    },
    {
     "name": "stderr",
     "output_type": "stream",
     "text": [
      "\r",
      "[Stage 7:==========> (9032 + 4) / 10000][Stage 9:>                 (0 + 0) / 50]\r",
      "\r",
      "[Stage 7:==========> (9053 + 4) / 10000][Stage 9:>                 (0 + 0) / 50]\r"
     ]
    },
    {
     "name": "stderr",
     "output_type": "stream",
     "text": [
      "\r",
      "[Stage 7:==========> (9079 + 4) / 10000][Stage 9:>                 (0 + 0) / 50]\r"
     ]
    },
    {
     "name": "stderr",
     "output_type": "stream",
     "text": [
      "\r",
      "[Stage 7:==========> (9101 + 6) / 10000][Stage 9:>                 (0 + 0) / 50]\r",
      "\r",
      "[Stage 7:==========> (9139 + 4) / 10000][Stage 9:>                 (0 + 0) / 50]\r"
     ]
    },
    {
     "name": "stderr",
     "output_type": "stream",
     "text": [
      "\r",
      "[Stage 7:===========>(9180 + 4) / 10000][Stage 9:>                 (0 + 0) / 50]\r",
      "\r",
      "[Stage 7:===========>(9209 + 4) / 10000][Stage 9:>                 (0 + 0) / 50]\r"
     ]
    },
    {
     "name": "stderr",
     "output_type": "stream",
     "text": [
      "\r",
      "[Stage 7:===========>(9230 + 5) / 10000][Stage 9:>                 (0 + 0) / 50]\r",
      "\r",
      "[Stage 7:===========>(9257 + 4) / 10000][Stage 9:>                 (0 + 0) / 50]\r"
     ]
    },
    {
     "name": "stderr",
     "output_type": "stream",
     "text": [
      "\r",
      "[Stage 7:===========>(9264 + 5) / 10000][Stage 9:>                 (0 + 0) / 50]\r"
     ]
    },
    {
     "name": "stderr",
     "output_type": "stream",
     "text": [
      "\r",
      "[Stage 7:===========>(9275 + 7) / 10000][Stage 9:>                 (0 + 0) / 50]\r"
     ]
    },
    {
     "name": "stderr",
     "output_type": "stream",
     "text": [
      "\r",
      "[Stage 7:===========>(9311 + 4) / 10000][Stage 9:>                 (0 + 0) / 50]\r",
      "\r",
      "[Stage 7:===========>(9338 + 5) / 10000][Stage 9:>                 (0 + 0) / 50]\r"
     ]
    },
    {
     "name": "stderr",
     "output_type": "stream",
     "text": [
      "\r",
      "[Stage 7:===========>(9380 + 4) / 10000][Stage 9:>                 (0 + 0) / 50]\r",
      "\r",
      "[Stage 7:===========>(9421 + 4) / 10000][Stage 9:>                 (0 + 0) / 50]\r"
     ]
    },
    {
     "name": "stderr",
     "output_type": "stream",
     "text": [
      "\r",
      "[Stage 7:===========>(9466 + 4) / 10000][Stage 9:>                 (0 + 0) / 50]\r"
     ]
    },
    {
     "name": "stderr",
     "output_type": "stream",
     "text": [
      "\r",
      "[Stage 7:===========>(9515 + 4) / 10000][Stage 9:>                 (0 + 0) / 50]\r",
      "\r",
      "[Stage 7:===========>(9575 + 4) / 10000][Stage 9:>                 (0 + 0) / 50]\r"
     ]
    },
    {
     "name": "stderr",
     "output_type": "stream",
     "text": [
      "\r",
      "[Stage 7:===========>(9624 + 4) / 10000][Stage 9:>                 (0 + 0) / 50]\r",
      "\r",
      "[Stage 7:===========>(9679 + 4) / 10000][Stage 9:>                 (0 + 0) / 50]\r"
     ]
    },
    {
     "name": "stderr",
     "output_type": "stream",
     "text": [
      "\r",
      "[Stage 7:===========>(9742 + 4) / 10000][Stage 9:>                 (0 + 0) / 50]\r",
      "\r",
      "[Stage 7:===========>(9785 + 4) / 10000][Stage 9:>                 (0 + 0) / 50]\r"
     ]
    },
    {
     "name": "stderr",
     "output_type": "stream",
     "text": [
      "\r",
      "[Stage 7:===========>(9820 + 4) / 10000][Stage 9:>                 (0 + 0) / 50]\r",
      "\r",
      "[Stage 7:===========>(9848 + 5) / 10000][Stage 9:>                 (0 + 0) / 50]\r"
     ]
    },
    {
     "name": "stderr",
     "output_type": "stream",
     "text": [
      "\r",
      "[Stage 7:===========>(9907 + 5) / 10000][Stage 9:>                 (0 + 0) / 50]\r",
      "\r",
      "[Stage 7:===========>(9980 + 4) / 10000][Stage 9:>                 (0 + 0) / 50]\r"
     ]
    },
    {
     "name": "stderr",
     "output_type": "stream",
     "text": [
      "\r",
      "[Stage 9:>                                                         (0 + 4) / 50]\r"
     ]
    },
    {
     "name": "stderr",
     "output_type": "stream",
     "text": [
      "\r",
      "[Stage 9:======>                                                   (6 + 4) / 50]\r",
      "\r",
      "[Stage 9:=====================>                                   (19 + 4) / 50]\r"
     ]
    },
    {
     "name": "stderr",
     "output_type": "stream",
     "text": [
      "\r",
      "[Stage 9:==================================>                      (30 + 4) / 50]\r",
      "\r",
      "[Stage 9:=============================================>           (40 + 4) / 50]\r"
     ]
    },
    {
     "name": "stderr",
     "output_type": "stream",
     "text": [
      "\r",
      "                                                                                \r"
     ]
    },
    {
     "name": "stderr",
     "output_type": "stream",
     "text": [
      "\r",
      "[Stage 630:>                                                        (0 + 0) / 1]\r"
     ]
    },
    {
     "name": "stderr",
     "output_type": "stream",
     "text": [
      "\r",
      "[Stage 630:>                                                        (0 + 1) / 1]\r"
     ]
    },
    {
     "name": "stderr",
     "output_type": "stream",
     "text": [
      "\r",
      "                                                                                \r"
     ]
    },
    {
     "name": "stderr",
     "output_type": "stream",
     "text": [
      "\r",
      "[Stage 680:>                                                        (0 + 1) / 1]\r",
      "\r",
      "                                                                                \r"
     ]
    },
    {
     "name": "stderr",
     "output_type": "stream",
     "text": [
      "\r",
      "[Stage 685:>                                                        (0 + 1) / 1]\r"
     ]
    },
    {
     "name": "stderr",
     "output_type": "stream",
     "text": [
      "\r",
      "[Stage 685:=========================================================(1 + 0) / 1]\r",
      "\r",
      "                                                                                \r"
     ]
    },
    {
     "name": "stdout",
     "output_type": "stream",
     "text": [
      "Deleted 0 files and directories in a total of 11 directories.\n"
     ]
    },
    {
     "data": {
      "text/plain": [
       "DataFrame[]"
      ]
     },
     "execution_count": 4,
     "metadata": {},
     "output_type": "execute_result"
    }
   ],
   "source": [
    "delta_table = DeltaTable.forPath(spark, BRONZE_TABLE_PATH)\n",
    "delta_table.vacuum()"
   ]
  },
  {
   "cell_type": "code",
   "execution_count": 5,
   "id": "a18d19f8",
   "metadata": {
    "execution": {
     "iopub.execute_input": "2022-07-09T22:54:31.030235Z",
     "iopub.status.busy": "2022-07-09T22:54:31.025444Z",
     "iopub.status.idle": "2022-07-09T22:57:39.427221Z",
     "shell.execute_reply": "2022-07-09T22:57:39.405149Z"
    },
    "papermill": {
     "duration": 188.595173,
     "end_time": "2022-07-09T22:57:39.452566",
     "exception": false,
     "start_time": "2022-07-09T22:54:30.857393",
     "status": "completed"
    },
    "tags": []
   },
   "outputs": [
    {
     "name": "stderr",
     "output_type": "stream",
     "text": [
      "\r",
      "[Stage 1006:>                                                       (0 + 4) / 4]\r"
     ]
    },
    {
     "name": "stderr",
     "output_type": "stream",
     "text": [
      "\r",
      "[Stage 1006:==============>                                         (1 + 3) / 4]\r",
      "\r",
      "[Stage 1006:==========================================>             (3 + 1) / 4]\r"
     ]
    },
    {
     "name": "stderr",
     "output_type": "stream",
     "text": [
      "\r",
      "[Stage 1007:========>                                              (8 + 4) / 50]\r",
      "\r",
      "[Stage 1007:============>                                         (12 + 4) / 50]\r"
     ]
    },
    {
     "name": "stderr",
     "output_type": "stream",
     "text": [
      "\r",
      "[Stage 1007:==================>                                   (17 + 4) / 50]\r"
     ]
    },
    {
     "name": "stderr",
     "output_type": "stream",
     "text": [
      "\r",
      "[Stage 1007:======================>                               (21 + 4) / 50]\r",
      "\r",
      "[Stage 1007:=========================>                            (24 + 4) / 50]\r"
     ]
    },
    {
     "name": "stderr",
     "output_type": "stream",
     "text": [
      "\r",
      "[Stage 1007:================================>                     (30 + 4) / 50]\r",
      "\r",
      "[Stage 1007:=====================================>                (35 + 4) / 50]\r"
     ]
    },
    {
     "name": "stderr",
     "output_type": "stream",
     "text": [
      "\r",
      "[Stage 1007:=============================================>        (42 + 4) / 50]\r",
      "\r",
      "[Stage 1007:==================================================>   (47 + 3) / 50]\r"
     ]
    },
    {
     "name": "stderr",
     "output_type": "stream",
     "text": [
      "\r",
      "                                                                                \r"
     ]
    },
    {
     "name": "stderr",
     "output_type": "stream",
     "text": [
      "\r",
      "[Stage 1010:>                                                  (79 + 6) / 10000]\r",
      "\r",
      "[Stage 1010:>                                                 (118 + 4) / 10000]\r"
     ]
    },
    {
     "name": "stderr",
     "output_type": "stream",
     "text": [
      "\r",
      "[Stage 1010:>                                                 (151 + 4) / 10000]\r",
      "\r",
      "[Stage 1010:>                                                 (191 + 4) / 10000]\r"
     ]
    },
    {
     "name": "stderr",
     "output_type": "stream",
     "text": [
      "\r",
      "[Stage 1010:=>                                                (219 + 4) / 10000]\r",
      "\r",
      "[Stage 1010:=>                                                (239 + 4) / 10000]\r"
     ]
    },
    {
     "name": "stderr",
     "output_type": "stream",
     "text": [
      "\r",
      "[Stage 1010:=>                                                (248 + 4) / 10000]\r",
      "\r",
      "[Stage 1010:=>                                                (279 + 4) / 10000]\r"
     ]
    },
    {
     "name": "stderr",
     "output_type": "stream",
     "text": [
      "\r",
      "[Stage 1010:=>                                                (308 + 4) / 10000]\r",
      "\r",
      "[Stage 1010:=>                                                (338 + 4) / 10000]\r"
     ]
    },
    {
     "name": "stderr",
     "output_type": "stream",
     "text": [
      "\r",
      "[Stage 1010:=>                                                (370 + 4) / 10000]\r",
      "\r",
      "[Stage 1010:=>                                                (395 + 4) / 10000]\r"
     ]
    },
    {
     "name": "stderr",
     "output_type": "stream",
     "text": [
      "\r",
      "[Stage 1010:==>                                               (418 + 5) / 10000]\r",
      "\r",
      "[Stage 1010:==>                                               (459 + 4) / 10000]\r"
     ]
    },
    {
     "name": "stderr",
     "output_type": "stream",
     "text": [
      "\r",
      "[Stage 1010:==>                                               (486 + 4) / 10000]\r",
      "\r",
      "[Stage 1010:==>                                               (507 + 4) / 10000]\r"
     ]
    },
    {
     "name": "stderr",
     "output_type": "stream",
     "text": [
      "\r",
      "[Stage 1010:==>                                               (532 + 4) / 10000]\r"
     ]
    },
    {
     "name": "stderr",
     "output_type": "stream",
     "text": [
      "\r",
      "[Stage 1010:==>                                               (561 + 4) / 10000]\r"
     ]
    },
    {
     "name": "stderr",
     "output_type": "stream",
     "text": [
      "\r",
      "[Stage 1010:==>                                               (597 + 4) / 10000]\r",
      "\r",
      "[Stage 1010:===>                                              (629 + 4) / 10000]\r"
     ]
    },
    {
     "name": "stderr",
     "output_type": "stream",
     "text": [
      "\r",
      "[Stage 1010:===>                                              (662 + 4) / 10000]\r",
      "\r",
      "[Stage 1010:===>                                              (700 + 4) / 10000]\r"
     ]
    },
    {
     "name": "stderr",
     "output_type": "stream",
     "text": [
      "\r",
      "[Stage 1010:===>                                              (742 + 4) / 10000]\r"
     ]
    },
    {
     "name": "stderr",
     "output_type": "stream",
     "text": [
      "\r",
      "[Stage 1010:===>                                              (781 + 4) / 10000]\r",
      "\r",
      "[Stage 1010:====>                                             (820 + 4) / 10000]\r"
     ]
    },
    {
     "name": "stderr",
     "output_type": "stream",
     "text": [
      "\r",
      "[Stage 1010:====>                                             (855 + 4) / 10000]\r"
     ]
    },
    {
     "name": "stderr",
     "output_type": "stream",
     "text": [
      "\r",
      "[Stage 1010:====>                                             (895 + 5) / 10000]\r",
      "\r",
      "[Stage 1010:====>                                             (926 + 5) / 10000]\r"
     ]
    },
    {
     "name": "stderr",
     "output_type": "stream",
     "text": [
      "\r",
      "[Stage 1010:====>                                             (973 + 4) / 10000]\r",
      "\r",
      "[Stage 1010:=====>                                           (1025 + 4) / 10000]\r"
     ]
    },
    {
     "name": "stderr",
     "output_type": "stream",
     "text": [
      "\r",
      "[Stage 1010:=====>                                           (1075 + 4) / 10000]\r"
     ]
    },
    {
     "name": "stderr",
     "output_type": "stream",
     "text": [
      "\r",
      "[Stage 1010:=====>                                           (1116 + 4) / 10000]\r",
      "\r",
      "[Stage 1010:=====>                                           (1149 + 4) / 10000]\r"
     ]
    },
    {
     "name": "stderr",
     "output_type": "stream",
     "text": [
      "\r",
      "[Stage 1010:=====>                                           (1193 + 4) / 10000]\r",
      "\r",
      "[Stage 1010:======>                                          (1250 + 4) / 10000]\r"
     ]
    },
    {
     "name": "stderr",
     "output_type": "stream",
     "text": [
      "\r",
      "[Stage 1010:======>                                          (1296 + 4) / 10000]\r",
      "\r",
      "[Stage 1010:======>                                          (1337 + 4) / 10000]\r"
     ]
    },
    {
     "name": "stderr",
     "output_type": "stream",
     "text": [
      "\r",
      "[Stage 1010:======>                                          (1373 + 4) / 10000]\r",
      "\r",
      "[Stage 1010:======>                                          (1410 + 4) / 10000]\r"
     ]
    },
    {
     "name": "stderr",
     "output_type": "stream",
     "text": [
      "\r",
      "[Stage 1010:=======>                                         (1478 + 4) / 10000]\r"
     ]
    },
    {
     "name": "stderr",
     "output_type": "stream",
     "text": [
      "\r",
      "[Stage 1010:=======>                                         (1529 + 4) / 10000]\r",
      "\r",
      "[Stage 1010:=======>                                         (1559 + 4) / 10000]\r"
     ]
    },
    {
     "name": "stderr",
     "output_type": "stream",
     "text": [
      "\r",
      "[Stage 1010:=======>                                         (1591 + 4) / 10000]\r",
      "\r",
      "[Stage 1010:========>                                        (1638 + 4) / 10000]\r"
     ]
    },
    {
     "name": "stderr",
     "output_type": "stream",
     "text": [
      "\r",
      "[Stage 1010:========>                                        (1677 + 4) / 10000]\r"
     ]
    },
    {
     "name": "stderr",
     "output_type": "stream",
     "text": [
      "\r",
      "[Stage 1010:========>                                        (1722 + 4) / 10000]\r",
      "\r",
      "[Stage 1010:========>                                        (1760 + 4) / 10000]\r"
     ]
    },
    {
     "name": "stderr",
     "output_type": "stream",
     "text": [
      "\r",
      "[Stage 1010:========>                                        (1802 + 4) / 10000]\r",
      "\r",
      "[Stage 1010:=========>                                       (1838 + 4) / 10000]\r"
     ]
    },
    {
     "name": "stderr",
     "output_type": "stream",
     "text": [
      "\r",
      "[Stage 1010:=========>                                       (1882 + 4) / 10000]\r",
      "\r",
      "[Stage 1010:=========>                                       (1930 + 4) / 10000]\r"
     ]
    },
    {
     "name": "stderr",
     "output_type": "stream",
     "text": [
      "\r",
      "[Stage 1010:=========>                                       (1971 + 4) / 10000]\r",
      "\r",
      "[Stage 1010:=========>                                       (2022 + 4) / 10000]\r"
     ]
    },
    {
     "name": "stderr",
     "output_type": "stream",
     "text": [
      "\r",
      "[Stage 1010:==========>                                      (2059 + 4) / 10000]\r",
      "\r",
      "[Stage 1010:==========>                                      (2092 + 4) / 10000]\r"
     ]
    },
    {
     "name": "stderr",
     "output_type": "stream",
     "text": [
      "\r",
      "[Stage 1010:==========>                                      (2134 + 4) / 10000]\r",
      "\r",
      "[Stage 1010:==========>                                      (2180 + 4) / 10000]\r"
     ]
    },
    {
     "name": "stderr",
     "output_type": "stream",
     "text": [
      "\r",
      "[Stage 1010:==========>                                      (2223 + 4) / 10000]\r",
      "\r",
      "[Stage 1010:===========>                                     (2258 + 4) / 10000]\r"
     ]
    },
    {
     "name": "stderr",
     "output_type": "stream",
     "text": [
      "\r",
      "[Stage 1010:===========>                                     (2272 + 4) / 10000]\r"
     ]
    },
    {
     "name": "stderr",
     "output_type": "stream",
     "text": [
      "\r",
      "[Stage 1010:===========>                                     (2300 + 5) / 10000]\r",
      "\r",
      "[Stage 1010:===========>                                     (2337 + 5) / 10000]\r"
     ]
    },
    {
     "name": "stderr",
     "output_type": "stream",
     "text": [
      "\r",
      "[Stage 1010:===========>                                     (2374 + 5) / 10000]\r",
      "\r",
      "[Stage 1010:===========>                                     (2414 + 4) / 10000]\r"
     ]
    },
    {
     "name": "stderr",
     "output_type": "stream",
     "text": [
      "\r",
      "[Stage 1010:============>                                    (2459 + 4) / 10000]\r",
      "\r",
      "[Stage 1010:============>                                    (2499 + 4) / 10000]\r"
     ]
    },
    {
     "name": "stderr",
     "output_type": "stream",
     "text": [
      "\r",
      "[Stage 1010:============>                                    (2533 + 4) / 10000]\r",
      "\r",
      "[Stage 1010:============>                                    (2559 + 4) / 10000]\r"
     ]
    },
    {
     "name": "stderr",
     "output_type": "stream",
     "text": [
      "\r",
      "[Stage 1010:============>                                    (2579 + 4) / 10000]\r"
     ]
    },
    {
     "name": "stderr",
     "output_type": "stream",
     "text": [
      "\r",
      "[Stage 1010:============>                                    (2611 + 7) / 10000]\r",
      "\r",
      "[Stage 1010:=============>                                   (2669 + 4) / 10000]\r"
     ]
    },
    {
     "name": "stderr",
     "output_type": "stream",
     "text": [
      "\r",
      "[Stage 1010:=============>                                   (2711 + 4) / 10000]\r",
      "\r",
      "[Stage 1010:=============>                                   (2769 + 4) / 10000]\r"
     ]
    },
    {
     "name": "stderr",
     "output_type": "stream",
     "text": [
      "\r",
      "[Stage 1010:=============>                                   (2812 + 5) / 10000]\r",
      "\r",
      "[Stage 1010:==============>                                  (2876 + 4) / 10000]\r"
     ]
    },
    {
     "name": "stderr",
     "output_type": "stream",
     "text": [
      "\r",
      "[Stage 1010:==============>                                  (2933 + 4) / 10000]\r",
      "\r",
      "[Stage 1010:==============>                                  (2987 + 5) / 10000]\r"
     ]
    },
    {
     "name": "stderr",
     "output_type": "stream",
     "text": [
      "\r",
      "[Stage 1010:==============>                                  (3034 + 4) / 10000]\r",
      "\r",
      "[Stage 1010:===============>                                 (3080 + 5) / 10000]\r"
     ]
    },
    {
     "name": "stderr",
     "output_type": "stream",
     "text": [
      "\r",
      "[Stage 1010:===============>                                 (3119 + 4) / 10000]\r"
     ]
    },
    {
     "name": "stderr",
     "output_type": "stream",
     "text": [
      "\r",
      "[Stage 1010:===============>                                 (3153 + 4) / 10000]\r",
      "\r",
      "[Stage 1010:===============>                                 (3198 + 4) / 10000]\r"
     ]
    },
    {
     "name": "stderr",
     "output_type": "stream",
     "text": [
      "\r",
      "[Stage 1010:===============>                                 (3243 + 4) / 10000]\r",
      "\r",
      "[Stage 1010:================>                                (3297 + 6) / 10000]\r"
     ]
    },
    {
     "name": "stderr",
     "output_type": "stream",
     "text": [
      "\r",
      "[Stage 1010:================>                                (3387 + 4) / 10000]\r",
      "\r",
      "[Stage 1010:================>                                (3452 + 4) / 10000]\r"
     ]
    },
    {
     "name": "stderr",
     "output_type": "stream",
     "text": [
      "\r",
      "[Stage 1010:=================>                               (3517 + 4) / 10000]\r",
      "\r",
      "[Stage 1010:=================>                               (3577 + 4) / 10000]\r"
     ]
    },
    {
     "name": "stderr",
     "output_type": "stream",
     "text": [
      "\r",
      "[Stage 1010:=================>                               (3599 + 4) / 10000]\r",
      "\r",
      "[Stage 1010:=================>                               (3641 + 4) / 10000]\r"
     ]
    },
    {
     "name": "stderr",
     "output_type": "stream",
     "text": [
      "\r",
      "[Stage 1010:==================>                              (3682 + 4) / 10000]\r",
      "\r",
      "[Stage 1010:==================>                              (3728 + 4) / 10000]\r"
     ]
    },
    {
     "name": "stderr",
     "output_type": "stream",
     "text": [
      "\r",
      "[Stage 1010:==================>                              (3761 + 4) / 10000]\r"
     ]
    },
    {
     "name": "stderr",
     "output_type": "stream",
     "text": [
      "\r",
      "[Stage 1010:==================>                              (3792 + 4) / 10000]\r",
      "\r",
      "[Stage 1010:==================>                              (3825 + 5) / 10000]\r"
     ]
    },
    {
     "name": "stderr",
     "output_type": "stream",
     "text": [
      "\r",
      "[Stage 1010:==================>                              (3869 + 4) / 10000]\r",
      "\r",
      "[Stage 1010:===================>                             (3908 + 5) / 10000]\r"
     ]
    },
    {
     "name": "stderr",
     "output_type": "stream",
     "text": [
      "\r",
      "[Stage 1010:===================>                             (3947 + 5) / 10000]\r"
     ]
    },
    {
     "name": "stderr",
     "output_type": "stream",
     "text": [
      "\r",
      "[Stage 1010:===================>                             (3969 + 6) / 10000]\r",
      "\r",
      "[Stage 1010:===================>                             (4013 + 4) / 10000]\r"
     ]
    },
    {
     "name": "stderr",
     "output_type": "stream",
     "text": [
      "\r",
      "[Stage 1010:===================>                             (4042 + 4) / 10000]\r",
      "\r",
      "[Stage 1010:====================>                            (4087 + 4) / 10000]\r"
     ]
    },
    {
     "name": "stderr",
     "output_type": "stream",
     "text": [
      "\r",
      "[Stage 1010:====================>                            (4131 + 4) / 10000]\r",
      "\r",
      "[Stage 1010:====================>                            (4168 + 4) / 10000]\r"
     ]
    },
    {
     "name": "stderr",
     "output_type": "stream",
     "text": [
      "\r",
      "[Stage 1010:====================>                            (4203 + 4) / 10000]\r"
     ]
    },
    {
     "name": "stderr",
     "output_type": "stream",
     "text": [
      "\r",
      "[Stage 1010:====================>                            (4268 + 4) / 10000]\r",
      "\r",
      "[Stage 1010:=====================>                           (4304 + 4) / 10000]\r"
     ]
    },
    {
     "name": "stderr",
     "output_type": "stream",
     "text": [
      "\r",
      "[Stage 1010:=====================>                           (4346 + 4) / 10000]\r",
      "\r",
      "[Stage 1010:=====================>                           (4373 + 5) / 10000]\r"
     ]
    },
    {
     "name": "stderr",
     "output_type": "stream",
     "text": [
      "\r",
      "[Stage 1010:=====================>                           (4398 + 4) / 10000]\r",
      "\r",
      "[Stage 1010:=====================>                           (4427 + 4) / 10000]\r"
     ]
    },
    {
     "name": "stderr",
     "output_type": "stream",
     "text": [
      "\r",
      "[Stage 1010:=====================>                           (4457 + 4) / 10000]\r"
     ]
    },
    {
     "name": "stderr",
     "output_type": "stream",
     "text": [
      "\r",
      "[Stage 1010:=====================>                           (4485 + 4) / 10000]\r",
      "\r",
      "[Stage 1010:======================>                          (4495 + 4) / 10000]\r"
     ]
    },
    {
     "name": "stderr",
     "output_type": "stream",
     "text": [
      "\r",
      "[Stage 1010:======================>                          (4528 + 4) / 10000]\r",
      "\r",
      "[Stage 1010:======================>                          (4543 + 4) / 10000]\r"
     ]
    },
    {
     "name": "stderr",
     "output_type": "stream",
     "text": [
      "\r",
      "[Stage 1010:======================>                          (4563 + 4) / 10000]\r",
      "\r",
      "[Stage 1010:======================>                          (4571 + 4) / 10000]\r"
     ]
    },
    {
     "name": "stderr",
     "output_type": "stream",
     "text": [
      "\r",
      "[Stage 1010:======================>                          (4585 + 4) / 10000]\r",
      "\r",
      "[Stage 1010:======================>                          (4605 + 5) / 10000]\r"
     ]
    },
    {
     "name": "stderr",
     "output_type": "stream",
     "text": [
      "\r",
      "[Stage 1010:======================>                          (4631 + 4) / 10000]\r",
      "\r",
      "[Stage 1010:======================>                          (4677 + 4) / 10000]\r"
     ]
    },
    {
     "name": "stderr",
     "output_type": "stream",
     "text": [
      "\r",
      "[Stage 1010:=======================>                         (4732 + 4) / 10000]\r",
      "\r",
      "[Stage 1010:=======================>                         (4777 + 4) / 10000]\r"
     ]
    },
    {
     "name": "stderr",
     "output_type": "stream",
     "text": [
      "\r",
      "[Stage 1010:=======================>                         (4807 + 4) / 10000]\r",
      "\r",
      "[Stage 1010:=======================>                         (4844 + 4) / 10000]\r"
     ]
    },
    {
     "name": "stderr",
     "output_type": "stream",
     "text": [
      "\r",
      "[Stage 1010:=======================>                         (4877 + 4) / 10000]\r",
      "\r",
      "[Stage 1010:========================>                        (4912 + 4) / 10000]\r"
     ]
    },
    {
     "name": "stderr",
     "output_type": "stream",
     "text": [
      "\r",
      "[Stage 1010:========================>                        (4944 + 4) / 10000]\r",
      "\r",
      "[Stage 1010:========================>                        (4971 + 4) / 10000]\r"
     ]
    },
    {
     "name": "stderr",
     "output_type": "stream",
     "text": [
      "\r",
      "[Stage 1010:========================>                        (4994 + 5) / 10000]\r",
      "\r",
      "[Stage 1010:========================>                        (5022 + 4) / 10000]\r"
     ]
    },
    {
     "name": "stderr",
     "output_type": "stream",
     "text": [
      "\r",
      "[Stage 1010:========================>                        (5058 + 5) / 10000]\r",
      "\r",
      "[Stage 1010:========================>                        (5099 + 5) / 10000]\r"
     ]
    },
    {
     "name": "stderr",
     "output_type": "stream",
     "text": [
      "\r",
      "[Stage 1010:=========================>                       (5155 + 4) / 10000]\r",
      "\r",
      "[Stage 1010:=========================>                       (5223 + 4) / 10000]\r"
     ]
    },
    {
     "name": "stderr",
     "output_type": "stream",
     "text": [
      "\r",
      "[Stage 1010:=========================>                       (5270 + 5) / 10000]\r"
     ]
    },
    {
     "name": "stderr",
     "output_type": "stream",
     "text": [
      "\r",
      "[Stage 1010:==========================>                      (5317 + 4) / 10000]\r",
      "\r",
      "[Stage 1010:==========================>                      (5372 + 4) / 10000]\r"
     ]
    },
    {
     "name": "stderr",
     "output_type": "stream",
     "text": [
      "\r",
      "[Stage 1010:==========================>                      (5406 + 4) / 10000]\r",
      "\r",
      "[Stage 1010:==========================>                      (5465 + 4) / 10000]\r"
     ]
    },
    {
     "name": "stderr",
     "output_type": "stream",
     "text": [
      "\r",
      "[Stage 1010:===========================>                     (5511 + 4) / 10000]\r",
      "\r",
      "[Stage 1010:===========================>                     (5558 + 5) / 10000]\r"
     ]
    },
    {
     "name": "stderr",
     "output_type": "stream",
     "text": [
      "\r",
      "[Stage 1010:===========================>                     (5607 + 5) / 10000]\r",
      "\r",
      "[Stage 1010:===========================>                     (5645 + 4) / 10000]\r"
     ]
    },
    {
     "name": "stderr",
     "output_type": "stream",
     "text": [
      "\r",
      "[Stage 1010:===========================>                     (5679 + 4) / 10000]\r",
      "\r",
      "[Stage 1010:============================>                    (5739 + 4) / 10000]\r"
     ]
    },
    {
     "name": "stderr",
     "output_type": "stream",
     "text": [
      "\r",
      "[Stage 1010:============================>                    (5826 + 4) / 10000]\r",
      "\r",
      "[Stage 1010:============================>                    (5881 + 4) / 10000]\r"
     ]
    },
    {
     "name": "stderr",
     "output_type": "stream",
     "text": [
      "\r",
      "[Stage 1010:=============================>                   (5951 + 4) / 10000]\r",
      "\r",
      "[Stage 1010:=============================>                   (6022 + 4) / 10000]\r"
     ]
    },
    {
     "name": "stderr",
     "output_type": "stream",
     "text": [
      "\r",
      "[Stage 1010:=============================>                   (6093 + 4) / 10000]\r",
      "\r",
      "[Stage 1010:==============================>                  (6163 + 4) / 10000]\r"
     ]
    },
    {
     "name": "stderr",
     "output_type": "stream",
     "text": [
      "\r",
      "[Stage 1010:==============================>                  (6208 + 4) / 10000]\r",
      "\r",
      "[Stage 1010:==============================>                  (6258 + 4) / 10000]\r"
     ]
    },
    {
     "name": "stderr",
     "output_type": "stream",
     "text": [
      "\r",
      "[Stage 1010:==============================>                  (6289 + 4) / 10000]\r"
     ]
    },
    {
     "name": "stderr",
     "output_type": "stream",
     "text": [
      "\r",
      "[Stage 1010:===============================>                 (6344 + 4) / 10000]\r",
      "\r",
      "[Stage 1010:===============================>                 (6362 + 4) / 10000]\r"
     ]
    },
    {
     "name": "stderr",
     "output_type": "stream",
     "text": [
      "\r",
      "[Stage 1010:===============================>                 (6363 + 4) / 10000]\r"
     ]
    },
    {
     "name": "stderr",
     "output_type": "stream",
     "text": [
      "\r",
      "[Stage 1010:===============================>                 (6364 + 4) / 10000]\r",
      "\r",
      "[Stage 1010:===============================>                 (6368 + 4) / 10000]\r"
     ]
    },
    {
     "name": "stderr",
     "output_type": "stream",
     "text": [
      "\r",
      "[Stage 1010:===============================>                 (6370 + 4) / 10000]\r"
     ]
    },
    {
     "name": "stderr",
     "output_type": "stream",
     "text": [
      "\r",
      "[Stage 1010:===============================>                 (6371 + 4) / 10000]\r",
      "\r",
      "[Stage 1010:===============================>                 (6376 + 5) / 10000]\r"
     ]
    },
    {
     "name": "stderr",
     "output_type": "stream",
     "text": [
      "\r",
      "[Stage 1010:===============================>                 (6383 + 5) / 10000]\r"
     ]
    },
    {
     "name": "stderr",
     "output_type": "stream",
     "text": [
      "\r",
      "[Stage 1010:===============================>                 (6388 + 4) / 10000]\r",
      "\r",
      "[Stage 1010:===============================>                 (6392 + 4) / 10000]\r"
     ]
    },
    {
     "name": "stderr",
     "output_type": "stream",
     "text": [
      "\r",
      "[Stage 1010:===============================>                 (6398 + 4) / 10000]\r"
     ]
    },
    {
     "name": "stderr",
     "output_type": "stream",
     "text": [
      "\r",
      "[Stage 1010:===============================>                 (6406 + 4) / 10000]\r",
      "\r",
      "[Stage 1010:===============================>                 (6426 + 4) / 10000]\r"
     ]
    },
    {
     "name": "stderr",
     "output_type": "stream",
     "text": [
      "\r",
      "[Stage 1010:===============================>                 (6447 + 4) / 10000]\r",
      "\r",
      "[Stage 1010:===============================>                 (6471 + 4) / 10000]\r"
     ]
    },
    {
     "name": "stderr",
     "output_type": "stream",
     "text": [
      "\r",
      "[Stage 1010:===============================>                 (6491 + 4) / 10000]\r",
      "\r",
      "[Stage 1010:===============================>                 (6505 + 4) / 10000]\r"
     ]
    },
    {
     "name": "stderr",
     "output_type": "stream",
     "text": [
      "\r",
      "[Stage 1010:===============================>                 (6522 + 4) / 10000]\r",
      "\r",
      "[Stage 1010:================================>                (6536 + 4) / 10000]\r"
     ]
    },
    {
     "name": "stderr",
     "output_type": "stream",
     "text": [
      "\r",
      "[Stage 1010:================================>                (6538 + 4) / 10000]\r"
     ]
    },
    {
     "name": "stderr",
     "output_type": "stream",
     "text": [
      "\r",
      "[Stage 1010:================================>                (6544 + 5) / 10000]\r",
      "\r",
      "[Stage 1010:================================>                (6546 + 4) / 10000]\r"
     ]
    },
    {
     "name": "stderr",
     "output_type": "stream",
     "text": [
      "\r",
      "[Stage 1010:================================>                (6548 + 4) / 10000]\r"
     ]
    },
    {
     "name": "stderr",
     "output_type": "stream",
     "text": [
      "\r",
      "[Stage 1010:================================>                (6551 + 4) / 10000]\r",
      "\r",
      "[Stage 1010:================================>                (6554 + 4) / 10000]\r"
     ]
    },
    {
     "name": "stderr",
     "output_type": "stream",
     "text": [
      "\r",
      "[Stage 1010:================================>                (6558 + 5) / 10000]\r"
     ]
    },
    {
     "name": "stderr",
     "output_type": "stream",
     "text": [
      "\r",
      "[Stage 1010:================================>                (6567 + 4) / 10000]\r",
      "\r",
      "[Stage 1010:================================>                (6572 + 4) / 10000]\r"
     ]
    },
    {
     "name": "stderr",
     "output_type": "stream",
     "text": [
      "\r",
      "[Stage 1010:================================>                (6579 + 4) / 10000]\r",
      "\r",
      "[Stage 1010:================================>                (6590 + 4) / 10000]\r"
     ]
    },
    {
     "name": "stderr",
     "output_type": "stream",
     "text": [
      "\r",
      "[Stage 1010:================================>                (6602 + 4) / 10000]\r"
     ]
    },
    {
     "name": "stderr",
     "output_type": "stream",
     "text": [
      "\r",
      "[Stage 1010:================================>                (6615 + 4) / 10000]\r"
     ]
    },
    {
     "name": "stderr",
     "output_type": "stream",
     "text": [
      "\r",
      "[Stage 1010:================================>                (6623 + 4) / 10000]\r",
      "\r",
      "[Stage 1010:================================>                (6634 + 4) / 10000]\r"
     ]
    },
    {
     "name": "stderr",
     "output_type": "stream",
     "text": [
      "\r",
      "[Stage 1010:================================>                (6639 + 4) / 10000]\r",
      "\r",
      "[Stage 1010:================================>                (6641 + 4) / 10000]\r"
     ]
    },
    {
     "name": "stderr",
     "output_type": "stream",
     "text": [
      "\r",
      "[Stage 1010:================================>                (6649 + 4) / 10000]\r",
      "\r",
      "[Stage 1010:================================>                (6663 + 4) / 10000]\r"
     ]
    },
    {
     "name": "stderr",
     "output_type": "stream",
     "text": [
      "\r",
      "[Stage 1010:================================>                (6669 + 5) / 10000]\r"
     ]
    },
    {
     "name": "stderr",
     "output_type": "stream",
     "text": [
      "\r",
      "[Stage 1010:================================>                (6677 + 4) / 10000]\r",
      "\r",
      "[Stage 1010:================================>                (6695 + 6) / 10000]\r"
     ]
    },
    {
     "name": "stderr",
     "output_type": "stream",
     "text": [
      "\r",
      "[Stage 1010:================================>                (6717 + 4) / 10000]\r"
     ]
    },
    {
     "name": "stderr",
     "output_type": "stream",
     "text": [
      "\r",
      "[Stage 1010:================================>                (6734 + 4) / 10000]\r",
      "\r",
      "[Stage 1010:=================================>               (6749 + 4) / 10000]\r"
     ]
    },
    {
     "name": "stderr",
     "output_type": "stream",
     "text": [
      "\r",
      "[Stage 1010:=================================>               (6764 + 5) / 10000]\r"
     ]
    },
    {
     "name": "stderr",
     "output_type": "stream",
     "text": [
      "\r",
      "[Stage 1010:=================================>               (6787 + 5) / 10000]\r",
      "\r",
      "[Stage 1010:=================================>               (6811 + 4) / 10000]\r"
     ]
    },
    {
     "name": "stderr",
     "output_type": "stream",
     "text": [
      "\r",
      "[Stage 1010:=================================>               (6836 + 4) / 10000]\r",
      "\r",
      "[Stage 1010:=================================>               (6855 + 4) / 10000]\r"
     ]
    },
    {
     "name": "stderr",
     "output_type": "stream",
     "text": [
      "\r",
      "[Stage 1010:=================================>               (6879 + 4) / 10000]\r",
      "\r",
      "[Stage 1010:=================================>               (6900 + 5) / 10000]\r"
     ]
    },
    {
     "name": "stderr",
     "output_type": "stream",
     "text": [
      "\r",
      "[Stage 1010:=================================>               (6918 + 8) / 10000]\r",
      "\r",
      "[Stage 1010:==================================>              (6944 + 5) / 10000]\r"
     ]
    },
    {
     "name": "stderr",
     "output_type": "stream",
     "text": [
      "\r",
      "[Stage 1010:==================================>              (6969 + 4) / 10000]\r"
     ]
    },
    {
     "name": "stderr",
     "output_type": "stream",
     "text": [
      "\r",
      "[Stage 1010:==================================>              (6984 + 4) / 10000]\r",
      "\r",
      "[Stage 1010:==================================>              (7012 + 4) / 10000]\r"
     ]
    },
    {
     "name": "stderr",
     "output_type": "stream",
     "text": [
      "\r",
      "[Stage 1010:==================================>              (7036 + 4) / 10000]\r",
      "\r",
      "[Stage 1010:==================================>              (7057 + 4) / 10000]\r"
     ]
    },
    {
     "name": "stderr",
     "output_type": "stream",
     "text": [
      "\r",
      "[Stage 1010:==================================>              (7084 + 4) / 10000]\r",
      "\r",
      "[Stage 1010:==================================>              (7105 + 4) / 10000]\r"
     ]
    },
    {
     "name": "stderr",
     "output_type": "stream",
     "text": [
      "\r",
      "[Stage 1010:==================================>              (7112 + 4) / 10000]\r",
      "\r",
      "[Stage 1010:==================================>              (7136 + 4) / 10000]\r"
     ]
    },
    {
     "name": "stderr",
     "output_type": "stream",
     "text": [
      "\r",
      "[Stage 1010:===================================>             (7167 + 5) / 10000]\r",
      "\r",
      "[Stage 1010:===================================>             (7200 + 4) / 10000]\r"
     ]
    },
    {
     "name": "stderr",
     "output_type": "stream",
     "text": [
      "\r",
      "[Stage 1010:===================================>             (7237 + 4) / 10000]\r",
      "\r",
      "[Stage 1010:===================================>             (7271 + 4) / 10000]\r"
     ]
    },
    {
     "name": "stderr",
     "output_type": "stream",
     "text": [
      "\r",
      "[Stage 1010:===================================>             (7314 + 4) / 10000]\r",
      "\r",
      "[Stage 1010:===================================>             (7338 + 4) / 10000]\r"
     ]
    },
    {
     "name": "stderr",
     "output_type": "stream",
     "text": [
      "\r",
      "[Stage 1010:====================================>            (7376 + 4) / 10000]\r"
     ]
    },
    {
     "name": "stderr",
     "output_type": "stream",
     "text": [
      "\r",
      "[Stage 1010:====================================>            (7386 + 4) / 10000]\r",
      "\r",
      "[Stage 1010:====================================>            (7402 + 4) / 10000]\r"
     ]
    },
    {
     "name": "stderr",
     "output_type": "stream",
     "text": [
      "\r",
      "[Stage 1010:====================================>            (7431 + 4) / 10000]\r",
      "\r",
      "[Stage 1010:====================================>            (7464 + 5) / 10000]\r"
     ]
    },
    {
     "name": "stderr",
     "output_type": "stream",
     "text": [
      "\r",
      "[Stage 1010:====================================>            (7501 + 4) / 10000]\r"
     ]
    },
    {
     "name": "stderr",
     "output_type": "stream",
     "text": [
      "\r",
      "[Stage 1010:====================================>            (7544 + 4) / 10000]\r"
     ]
    },
    {
     "name": "stderr",
     "output_type": "stream",
     "text": [
      "\r",
      "[Stage 1010:=====================================>           (7576 + 4) / 10000]\r",
      "\r",
      "[Stage 1010:=====================================>           (7612 + 4) / 10000]\r"
     ]
    },
    {
     "name": "stderr",
     "output_type": "stream",
     "text": [
      "\r",
      "[Stage 1010:=====================================>           (7646 + 4) / 10000]\r",
      "\r",
      "[Stage 1010:=====================================>           (7680 + 4) / 10000]\r"
     ]
    },
    {
     "name": "stderr",
     "output_type": "stream",
     "text": [
      "\r",
      "[Stage 1010:=====================================>           (7727 + 4) / 10000]\r",
      "\r",
      "[Stage 1010:======================================>          (7759 + 4) / 10000]\r"
     ]
    },
    {
     "name": "stderr",
     "output_type": "stream",
     "text": [
      "\r",
      "[Stage 1010:======================================>          (7789 + 4) / 10000]\r",
      "\r",
      "[Stage 1010:======================================>          (7830 + 4) / 10000]\r"
     ]
    },
    {
     "name": "stderr",
     "output_type": "stream",
     "text": [
      "\r",
      "[Stage 1010:======================================>          (7881 + 4) / 10000]\r",
      "\r",
      "[Stage 1010:======================================>          (7931 + 4) / 10000]\r"
     ]
    },
    {
     "name": "stderr",
     "output_type": "stream",
     "text": [
      "\r",
      "[Stage 1010:=======================================>         (7969 + 4) / 10000]\r",
      "\r",
      "[Stage 1010:=======================================>         (8036 + 4) / 10000]\r"
     ]
    },
    {
     "name": "stderr",
     "output_type": "stream",
     "text": [
      "\r",
      "[Stage 1010:=======================================>         (8091 + 4) / 10000]\r",
      "\r",
      "[Stage 1010:=======================================>         (8141 + 4) / 10000]\r"
     ]
    },
    {
     "name": "stderr",
     "output_type": "stream",
     "text": [
      "\r",
      "[Stage 1010:========================================>        (8201 + 4) / 10000]\r"
     ]
    },
    {
     "name": "stderr",
     "output_type": "stream",
     "text": [
      "\r",
      "[Stage 1010:========================================>        (8247 + 4) / 10000]\r",
      "\r",
      "[Stage 1010:========================================>        (8298 + 5) / 10000]\r"
     ]
    },
    {
     "name": "stderr",
     "output_type": "stream",
     "text": [
      "\r",
      "[Stage 1010:========================================>        (8354 + 4) / 10000]\r"
     ]
    },
    {
     "name": "stderr",
     "output_type": "stream",
     "text": [
      "\r",
      "[Stage 1010:=========================================>       (8396 + 4) / 10000]\r",
      "\r",
      "[Stage 1010:=========================================>       (8436 + 4) / 10000]\r"
     ]
    },
    {
     "name": "stderr",
     "output_type": "stream",
     "text": [
      "\r",
      "[Stage 1010:=========================================>       (8482 + 4) / 10000]\r"
     ]
    },
    {
     "name": "stderr",
     "output_type": "stream",
     "text": [
      "\r",
      "[Stage 1010:=========================================>       (8498 + 4) / 10000]\r",
      "\r",
      "[Stage 1010:=========================================>       (8516 + 4) / 10000]\r"
     ]
    },
    {
     "name": "stderr",
     "output_type": "stream",
     "text": [
      "\r",
      "[Stage 1010:=========================================>       (8553 + 4) / 10000]\r",
      "\r",
      "[Stage 1010:==========================================>      (8598 + 5) / 10000]\r"
     ]
    },
    {
     "name": "stderr",
     "output_type": "stream",
     "text": [
      "\r",
      "[Stage 1010:==========================================>      (8641 + 4) / 10000]\r",
      "\r",
      "[Stage 1010:==========================================>      (8682 + 5) / 10000]\r"
     ]
    },
    {
     "name": "stderr",
     "output_type": "stream",
     "text": [
      "\r",
      "[Stage 1010:==========================================>      (8715 + 4) / 10000]\r"
     ]
    },
    {
     "name": "stderr",
     "output_type": "stream",
     "text": [
      "\r",
      "[Stage 1010:==========================================>      (8715 + 6) / 10000]\r",
      "\r",
      "[Stage 1010:==========================================>      (8749 + 4) / 10000]\r"
     ]
    },
    {
     "name": "stderr",
     "output_type": "stream",
     "text": [
      "\r",
      "[Stage 1010:===========================================>     (8786 + 4) / 10000]\r",
      "\r",
      "[Stage 1010:===========================================>     (8834 + 4) / 10000]\r"
     ]
    },
    {
     "name": "stderr",
     "output_type": "stream",
     "text": [
      "\r",
      "[Stage 1010:===========================================>     (8879 + 4) / 10000]\r",
      "\r",
      "[Stage 1010:===========================================>     (8933 + 4) / 10000]\r"
     ]
    },
    {
     "name": "stderr",
     "output_type": "stream",
     "text": [
      "\r",
      "[Stage 1010:===========================================>     (8964 + 4) / 10000]\r",
      "\r",
      "[Stage 1010:============================================>    (9003 + 4) / 10000]\r"
     ]
    },
    {
     "name": "stderr",
     "output_type": "stream",
     "text": [
      "\r",
      "[Stage 1010:============================================>    (9030 + 4) / 10000]\r",
      "\r",
      "[Stage 1010:============================================>    (9062 + 4) / 10000]\r"
     ]
    },
    {
     "name": "stderr",
     "output_type": "stream",
     "text": [
      "\r",
      "[Stage 1010:============================================>    (9100 + 4) / 10000]\r",
      "\r",
      "[Stage 1010:============================================>    (9130 + 4) / 10000]\r"
     ]
    },
    {
     "name": "stderr",
     "output_type": "stream",
     "text": [
      "\r",
      "[Stage 1010:============================================>    (9169 + 4) / 10000]\r",
      "\r",
      "[Stage 1010:=============================================>   (9193 + 4) / 10000]\r"
     ]
    },
    {
     "name": "stderr",
     "output_type": "stream",
     "text": [
      "\r",
      "[Stage 1010:=============================================>   (9231 + 4) / 10000]\r",
      "\r",
      "[Stage 1010:=============================================>   (9253 + 5) / 10000]\r"
     ]
    },
    {
     "name": "stderr",
     "output_type": "stream",
     "text": [
      "\r",
      "[Stage 1010:=============================================>   (9290 + 4) / 10000]\r",
      "\r",
      "[Stage 1010:=============================================>   (9333 + 4) / 10000]\r"
     ]
    },
    {
     "name": "stderr",
     "output_type": "stream",
     "text": [
      "\r",
      "[Stage 1010:=============================================>   (9358 + 4) / 10000]\r",
      "\r",
      "[Stage 1010:=============================================>   (9380 + 4) / 10000]\r"
     ]
    },
    {
     "name": "stderr",
     "output_type": "stream",
     "text": [
      "\r",
      "[Stage 1010:==============================================>  (9410 + 5) / 10000]\r",
      "\r",
      "[Stage 1010:==============================================>  (9447 + 4) / 10000]\r"
     ]
    },
    {
     "name": "stderr",
     "output_type": "stream",
     "text": [
      "\r",
      "[Stage 1010:==============================================>  (9465 + 4) / 10000]\r"
     ]
    },
    {
     "name": "stderr",
     "output_type": "stream",
     "text": [
      "\r",
      "[Stage 1010:==============================================>  (9497 + 4) / 10000]\r",
      "\r",
      "[Stage 1010:==============================================>  (9541 + 4) / 10000]\r"
     ]
    },
    {
     "name": "stderr",
     "output_type": "stream",
     "text": [
      "\r",
      "[Stage 1010:==============================================>  (9573 + 4) / 10000]\r",
      "\r",
      "[Stage 1010:===============================================> (9611 + 4) / 10000]\r"
     ]
    },
    {
     "name": "stderr",
     "output_type": "stream",
     "text": [
      "\r",
      "[Stage 1010:===============================================> (9657 + 5) / 10000]\r",
      "\r",
      "[Stage 1010:===============================================> (9695 + 4) / 10000]\r"
     ]
    },
    {
     "name": "stderr",
     "output_type": "stream",
     "text": [
      "\r",
      "[Stage 1010:===============================================> (9723 + 5) / 10000]\r"
     ]
    },
    {
     "name": "stderr",
     "output_type": "stream",
     "text": [
      "\r",
      "[Stage 1010:===============================================> (9746 + 5) / 10000]\r",
      "\r",
      "[Stage 1010:===============================================> (9755 + 4) / 10000]\r"
     ]
    },
    {
     "name": "stderr",
     "output_type": "stream",
     "text": [
      "\r",
      "[Stage 1010:===============================================> (9767 + 5) / 10000]\r"
     ]
    },
    {
     "name": "stderr",
     "output_type": "stream",
     "text": [
      "\r",
      "[Stage 1010:===============================================> (9791 + 4) / 10000]\r"
     ]
    },
    {
     "name": "stderr",
     "output_type": "stream",
     "text": [
      "\r",
      "[Stage 1010:================================================>(9822 + 4) / 10000]\r"
     ]
    },
    {
     "name": "stderr",
     "output_type": "stream",
     "text": [
      "\r",
      "[Stage 1010:================================================>(9828 + 4) / 10000]\r",
      "\r",
      "[Stage 1010:================================================>(9855 + 4) / 10000]\r"
     ]
    },
    {
     "name": "stderr",
     "output_type": "stream",
     "text": [
      "\r",
      "[Stage 1010:================================================>(9884 + 4) / 10000]\r",
      "\r",
      "[Stage 1010:================================================>(9907 + 5) / 10000]\r"
     ]
    },
    {
     "name": "stderr",
     "output_type": "stream",
     "text": [
      "\r",
      "[Stage 1010:================================================>(9933 + 4) / 10000]\r",
      "\r",
      "[Stage 1010:================================================>(9943 + 5) / 10000]\r"
     ]
    },
    {
     "name": "stderr",
     "output_type": "stream",
     "text": [
      "\r",
      "[Stage 1010:================================================>(9980 + 5) / 10000]\r"
     ]
    },
    {
     "name": "stderr",
     "output_type": "stream",
     "text": [
      "\r",
      "[Stage 1011:>                                                       (0 + 1) / 1]\r"
     ]
    },
    {
     "name": "stderr",
     "output_type": "stream",
     "text": [
      "\r",
      "                                                                                \r"
     ]
    },
    {
     "name": "stderr",
     "output_type": "stream",
     "text": [
      "\r",
      "[Stage 1013:================>                                     (15 + 6) / 50]\r",
      "\r",
      "[Stage 1013:======================>                               (21 + 4) / 50]\r"
     ]
    },
    {
     "name": "stderr",
     "output_type": "stream",
     "text": [
      "\r",
      "[Stage 1013:=============================>                        (27 + 4) / 50]\r"
     ]
    },
    {
     "name": "stderr",
     "output_type": "stream",
     "text": [
      "\r",
      "[Stage 1013:=========>    (34 + 4) / 50][Stage 1015:>           (0 + 0) / 10000]\r",
      "\r",
      "[Stage 1013:============> (45 + 4) / 50][Stage 1015:>           (0 + 0) / 10000]\r"
     ]
    },
    {
     "name": "stderr",
     "output_type": "stream",
     "text": [
      "\r",
      "[Stage 1015:>                                                  (24 + 4) / 10000]\r",
      "\r",
      "[Stage 1015:>                                                  (41 + 4) / 10000]\r"
     ]
    },
    {
     "name": "stderr",
     "output_type": "stream",
     "text": [
      "\r",
      "[Stage 1015:>                                                  (71 + 4) / 10000]\r",
      "\r",
      "[Stage 1015:>                                                  (93 + 4) / 10000]\r"
     ]
    },
    {
     "name": "stderr",
     "output_type": "stream",
     "text": [
      "\r",
      "[Stage 1015:>                                                 (116 + 5) / 10000]\r",
      "\r",
      "[Stage 1015:>                                                 (146 + 4) / 10000]\r"
     ]
    },
    {
     "name": "stderr",
     "output_type": "stream",
     "text": [
      "\r",
      "[Stage 1015:>                                                 (194 + 4) / 10000]\r",
      "\r",
      "[Stage 1015:=>                                                (244 + 5) / 10000]\r"
     ]
    },
    {
     "name": "stderr",
     "output_type": "stream",
     "text": [
      "\r",
      "[Stage 1015:=>                                                (290 + 4) / 10000]\r",
      "\r",
      "[Stage 1015:=>                                                (332 + 4) / 10000]\r"
     ]
    },
    {
     "name": "stderr",
     "output_type": "stream",
     "text": [
      "\r",
      "[Stage 1015:=>                                                (351 + 4) / 10000]\r",
      "\r",
      "[Stage 1015:=>                                                (362 + 4) / 10000]\r"
     ]
    },
    {
     "name": "stderr",
     "output_type": "stream",
     "text": [
      "\r",
      "[Stage 1015:=>                                                (366 + 4) / 10000]\r",
      "\r",
      "[Stage 1015:=>                                                (369 + 4) / 10000]\r"
     ]
    },
    {
     "name": "stderr",
     "output_type": "stream",
     "text": [
      "\r",
      "[Stage 1015:=>                                                (373 + 4) / 10000]\r"
     ]
    },
    {
     "name": "stderr",
     "output_type": "stream",
     "text": [
      "\r",
      "[Stage 1015:=>                                                (375 + 4) / 10000]\r",
      "\r",
      "[Stage 1015:=>                                                (379 + 4) / 10000]\r"
     ]
    },
    {
     "name": "stderr",
     "output_type": "stream",
     "text": [
      "\r",
      "[Stage 1015:=>                                                (385 + 4) / 10000]\r",
      "\r",
      "[Stage 1015:=>                                                (395 + 4) / 10000]\r"
     ]
    },
    {
     "name": "stderr",
     "output_type": "stream",
     "text": [
      "\r",
      "[Stage 1015:==>                                               (414 + 4) / 10000]\r",
      "\r",
      "[Stage 1015:==>                                               (433 + 4) / 10000]\r"
     ]
    },
    {
     "name": "stderr",
     "output_type": "stream",
     "text": [
      "\r",
      "[Stage 1015:==>                                               (450 + 4) / 10000]\r"
     ]
    },
    {
     "name": "stderr",
     "output_type": "stream",
     "text": [
      "\r",
      "[Stage 1015:==>                                               (455 + 4) / 10000]\r",
      "\r",
      "[Stage 1015:==>                                               (470 + 4) / 10000]\r"
     ]
    },
    {
     "name": "stderr",
     "output_type": "stream",
     "text": [
      "\r",
      "[Stage 1015:==>                                               (486 + 4) / 10000]\r",
      "\r",
      "[Stage 1015:==>                                               (503 + 4) / 10000]\r"
     ]
    },
    {
     "name": "stderr",
     "output_type": "stream",
     "text": [
      "\r",
      "[Stage 1015:==>                                               (509 + 4) / 10000]\r"
     ]
    },
    {
     "name": "stderr",
     "output_type": "stream",
     "text": [
      "\r",
      "[Stage 1015:==>                                               (517 + 5) / 10000]\r"
     ]
    },
    {
     "name": "stderr",
     "output_type": "stream",
     "text": [
      "\r",
      "[Stage 1015:==>                                               (524 + 5) / 10000]\r",
      "\r",
      "[Stage 1015:==>                                               (548 + 4) / 10000]\r"
     ]
    },
    {
     "name": "stderr",
     "output_type": "stream",
     "text": [
      "\r",
      "[Stage 1015:==>                                               (578 + 4) / 10000]\r",
      "\r",
      "[Stage 1015:===>                                              (603 + 4) / 10000]\r"
     ]
    },
    {
     "name": "stderr",
     "output_type": "stream",
     "text": [
      "\r",
      "[Stage 1015:===>                                              (630 + 4) / 10000]\r",
      "\r",
      "[Stage 1015:===>                                              (652 + 4) / 10000]\r"
     ]
    },
    {
     "name": "stderr",
     "output_type": "stream",
     "text": [
      "\r",
      "[Stage 1015:===>                                              (665 + 4) / 10000]\r",
      "\r",
      "[Stage 1015:===>                                              (675 + 4) / 10000]\r"
     ]
    },
    {
     "name": "stderr",
     "output_type": "stream",
     "text": [
      "\r",
      "[Stage 1015:===>                                              (686 + 4) / 10000]\r",
      "\r",
      "[Stage 1015:===>                                              (696 + 5) / 10000]\r"
     ]
    },
    {
     "name": "stderr",
     "output_type": "stream",
     "text": [
      "\r",
      "[Stage 1015:===>                                              (713 + 4) / 10000]\r"
     ]
    },
    {
     "name": "stderr",
     "output_type": "stream",
     "text": [
      "\r",
      "[Stage 1015:===>                                              (724 + 4) / 10000]\r",
      "\r",
      "[Stage 1015:===>                                              (736 + 5) / 10000]\r"
     ]
    },
    {
     "name": "stderr",
     "output_type": "stream",
     "text": [
      "\r",
      "[Stage 1015:===>                                              (749 + 4) / 10000]\r",
      "\r",
      "[Stage 1015:===>                                              (764 + 4) / 10000]\r"
     ]
    },
    {
     "name": "stderr",
     "output_type": "stream",
     "text": [
      "\r",
      "[Stage 1015:===>                                              (776 + 4) / 10000]\r",
      "\r",
      "[Stage 1015:===>                                              (785 + 4) / 10000]\r"
     ]
    },
    {
     "name": "stderr",
     "output_type": "stream",
     "text": [
      "\r",
      "[Stage 1015:===>                                              (794 + 4) / 10000]\r"
     ]
    },
    {
     "name": "stderr",
     "output_type": "stream",
     "text": [
      "\r",
      "[Stage 1015:====>                                             (813 + 4) / 10000]\r",
      "\r",
      "[Stage 1015:====>                                             (836 + 4) / 10000]\r"
     ]
    },
    {
     "name": "stderr",
     "output_type": "stream",
     "text": [
      "\r",
      "[Stage 1015:====>                                             (860 + 5) / 10000]\r"
     ]
    },
    {
     "name": "stderr",
     "output_type": "stream",
     "text": [
      "\r",
      "[Stage 1015:====>                                             (883 + 4) / 10000]\r",
      "\r",
      "[Stage 1015:====>                                             (908 + 4) / 10000]\r"
     ]
    },
    {
     "name": "stderr",
     "output_type": "stream",
     "text": [
      "\r",
      "[Stage 1015:====>                                             (927 + 4) / 10000]\r",
      "\r",
      "[Stage 1015:====>                                             (952 + 4) / 10000]\r"
     ]
    },
    {
     "name": "stderr",
     "output_type": "stream",
     "text": [
      "\r",
      "[Stage 1015:====>                                             (965 + 4) / 10000]\r",
      "\r",
      "[Stage 1015:====>                                             (984 + 4) / 10000]\r"
     ]
    },
    {
     "name": "stderr",
     "output_type": "stream",
     "text": [
      "\r",
      "[Stage 1015:====>                                            (1007 + 4) / 10000]\r",
      "\r",
      "[Stage 1015:=====>                                           (1031 + 5) / 10000]\r"
     ]
    },
    {
     "name": "stderr",
     "output_type": "stream",
     "text": [
      "\r",
      "[Stage 1015:=====>                                           (1060 + 4) / 10000]\r",
      "\r",
      "[Stage 1015:=====>                                           (1082 + 4) / 10000]\r"
     ]
    },
    {
     "name": "stderr",
     "output_type": "stream",
     "text": [
      "\r",
      "[Stage 1015:=====>                                           (1097 + 4) / 10000]\r",
      "\r",
      "[Stage 1015:=====>                                           (1119 + 4) / 10000]\r"
     ]
    },
    {
     "name": "stderr",
     "output_type": "stream",
     "text": [
      "\r",
      "[Stage 1015:=====>                                           (1149 + 4) / 10000]\r",
      "\r",
      "[Stage 1015:=====>                                           (1176 + 4) / 10000]\r"
     ]
    },
    {
     "name": "stderr",
     "output_type": "stream",
     "text": [
      "\r",
      "[Stage 1015:=====>                                           (1204 + 4) / 10000]\r",
      "\r",
      "[Stage 1015:======>                                          (1225 + 4) / 10000]\r"
     ]
    },
    {
     "name": "stderr",
     "output_type": "stream",
     "text": [
      "\r",
      "[Stage 1015:======>                                          (1245 + 4) / 10000]\r",
      "\r",
      "[Stage 1015:======>                                          (1265 + 4) / 10000]\r"
     ]
    },
    {
     "name": "stderr",
     "output_type": "stream",
     "text": [
      "\r",
      "[Stage 1015:======>                                          (1293 + 4) / 10000]\r",
      "\r",
      "[Stage 1015:======>                                          (1317 + 4) / 10000]\r"
     ]
    },
    {
     "name": "stderr",
     "output_type": "stream",
     "text": [
      "\r",
      "[Stage 1015:======>                                          (1344 + 4) / 10000]\r"
     ]
    },
    {
     "name": "stderr",
     "output_type": "stream",
     "text": [
      "\r",
      "[Stage 1015:======>                                          (1372 + 5) / 10000]\r",
      "\r",
      "[Stage 1015:======>                                          (1410 + 4) / 10000]\r"
     ]
    },
    {
     "name": "stderr",
     "output_type": "stream",
     "text": [
      "\r",
      "[Stage 1015:=======>                                         (1456 + 4) / 10000]\r"
     ]
    },
    {
     "name": "stderr",
     "output_type": "stream",
     "text": [
      "\r",
      "[Stage 1015:=======>                                         (1507 + 4) / 10000]\r",
      "\r",
      "[Stage 1015:=======>                                         (1543 + 4) / 10000]\r"
     ]
    },
    {
     "name": "stderr",
     "output_type": "stream",
     "text": [
      "\r",
      "[Stage 1015:=======>                                         (1580 + 4) / 10000]\r",
      "\r",
      "[Stage 1015:========>                                        (1634 + 4) / 10000]\r"
     ]
    },
    {
     "name": "stderr",
     "output_type": "stream",
     "text": [
      "\r",
      "[Stage 1015:========>                                        (1673 + 4) / 10000]\r",
      "\r",
      "[Stage 1015:========>                                        (1711 + 4) / 10000]\r"
     ]
    },
    {
     "name": "stderr",
     "output_type": "stream",
     "text": [
      "\r",
      "[Stage 1015:========>                                        (1748 + 5) / 10000]\r",
      "\r",
      "[Stage 1015:========>                                        (1793 + 4) / 10000]\r"
     ]
    },
    {
     "name": "stderr",
     "output_type": "stream",
     "text": [
      "\r",
      "[Stage 1015:========>                                        (1830 + 5) / 10000]\r",
      "\r",
      "[Stage 1015:=========>                                       (1871 + 4) / 10000]\r"
     ]
    },
    {
     "name": "stderr",
     "output_type": "stream",
     "text": [
      "\r",
      "[Stage 1015:=========>                                       (1894 + 4) / 10000]\r",
      "\r",
      "[Stage 1015:=========>                                       (1925 + 4) / 10000]\r"
     ]
    },
    {
     "name": "stderr",
     "output_type": "stream",
     "text": [
      "\r",
      "[Stage 1015:=========>                                       (1946 + 5) / 10000]\r",
      "\r",
      "[Stage 1015:=========>                                       (1988 + 5) / 10000]\r"
     ]
    },
    {
     "name": "stderr",
     "output_type": "stream",
     "text": [
      "\r",
      "[Stage 1015:=========>                                       (2013 + 4) / 10000]\r",
      "\r",
      "[Stage 1015:==========>                                      (2054 + 4) / 10000]\r"
     ]
    },
    {
     "name": "stderr",
     "output_type": "stream",
     "text": [
      "\r",
      "[Stage 1015:==========>                                      (2079 + 4) / 10000]\r"
     ]
    },
    {
     "name": "stderr",
     "output_type": "stream",
     "text": [
      "\r",
      "[Stage 1015:==========>                                      (2080 + 4) / 10000]\r",
      "\r",
      "[Stage 1015:==========>                                      (2086 + 4) / 10000]\r"
     ]
    },
    {
     "name": "stderr",
     "output_type": "stream",
     "text": [
      "\r",
      "[Stage 1015:==========>                                      (2088 + 4) / 10000]\r",
      "\r",
      "[Stage 1015:==========>                                      (2104 + 4) / 10000]\r"
     ]
    },
    {
     "name": "stderr",
     "output_type": "stream",
     "text": [
      "\r",
      "[Stage 1015:==========>                                      (2121 + 4) / 10000]\r",
      "\r",
      "[Stage 1015:==========>                                      (2135 + 5) / 10000]\r"
     ]
    },
    {
     "name": "stderr",
     "output_type": "stream",
     "text": [
      "\r",
      "[Stage 1015:==========>                                      (2155 + 4) / 10000]\r"
     ]
    },
    {
     "name": "stderr",
     "output_type": "stream",
     "text": [
      "\r",
      "[Stage 1015:==========>                                      (2195 + 5) / 10000]\r",
      "\r",
      "[Stage 1015:==========>                                      (2218 + 4) / 10000]\r"
     ]
    },
    {
     "name": "stderr",
     "output_type": "stream",
     "text": [
      "\r",
      "[Stage 1015:===========>                                     (2250 + 4) / 10000]\r"
     ]
    },
    {
     "name": "stderr",
     "output_type": "stream",
     "text": [
      "\r",
      "[Stage 1015:===========>                                     (2278 + 4) / 10000]\r",
      "\r",
      "[Stage 1015:===========>                                     (2303 + 4) / 10000]\r"
     ]
    },
    {
     "name": "stderr",
     "output_type": "stream",
     "text": [
      "\r",
      "[Stage 1015:===========>                                     (2329 + 4) / 10000]\r",
      "\r",
      "[Stage 1015:===========>                                     (2357 + 4) / 10000]\r"
     ]
    },
    {
     "name": "stderr",
     "output_type": "stream",
     "text": [
      "\r",
      "[Stage 1015:===========>                                     (2376 + 5) / 10000]\r",
      "\r",
      "[Stage 1015:===========>                                     (2419 + 5) / 10000]\r"
     ]
    },
    {
     "name": "stderr",
     "output_type": "stream",
     "text": [
      "\r",
      "[Stage 1015:===========>                                     (2439 + 4) / 10000]\r",
      "\r",
      "[Stage 1015:============>                                    (2474 + 4) / 10000]\r"
     ]
    },
    {
     "name": "stderr",
     "output_type": "stream",
     "text": [
      "\r",
      "[Stage 1015:============>                                    (2510 + 4) / 10000]\r",
      "\r",
      "[Stage 1015:============>                                    (2543 + 4) / 10000]\r"
     ]
    },
    {
     "name": "stderr",
     "output_type": "stream",
     "text": [
      "\r",
      "[Stage 1015:============>                                    (2571 + 4) / 10000]\r",
      "\r",
      "[Stage 1015:============>                                    (2607 + 4) / 10000]\r"
     ]
    },
    {
     "name": "stderr",
     "output_type": "stream",
     "text": [
      "\r",
      "[Stage 1015:============>                                    (2640 + 4) / 10000]\r",
      "\r",
      "[Stage 1015:=============>                                   (2675 + 4) / 10000]\r"
     ]
    },
    {
     "name": "stderr",
     "output_type": "stream",
     "text": [
      "\r",
      "[Stage 1015:=============>                                   (2699 + 4) / 10000]\r"
     ]
    },
    {
     "name": "stderr",
     "output_type": "stream",
     "text": [
      "\r",
      "[Stage 1015:=============>                                   (2740 + 4) / 10000]\r",
      "\r",
      "[Stage 1015:=============>                                   (2756 + 4) / 10000]\r"
     ]
    },
    {
     "name": "stderr",
     "output_type": "stream",
     "text": [
      "\r",
      "[Stage 1015:=============>                                   (2795 + 4) / 10000]\r",
      "\r",
      "[Stage 1015:=============>                                   (2815 + 5) / 10000]\r"
     ]
    },
    {
     "name": "stderr",
     "output_type": "stream",
     "text": [
      "\r",
      "[Stage 1015:=============>                                   (2838 + 4) / 10000]\r",
      "\r",
      "[Stage 1015:=============>                                   (2848 + 4) / 10000]\r"
     ]
    },
    {
     "name": "stderr",
     "output_type": "stream",
     "text": [
      "\r",
      "[Stage 1015:==============>                                  (2872 + 4) / 10000]\r"
     ]
    },
    {
     "name": "stderr",
     "output_type": "stream",
     "text": [
      "\r",
      "[Stage 1015:==============>                                  (2898 + 4) / 10000]\r",
      "\r",
      "[Stage 1015:==============>                                  (2936 + 4) / 10000]\r"
     ]
    },
    {
     "name": "stderr",
     "output_type": "stream",
     "text": [
      "\r",
      "[Stage 1015:==============>                                  (2963 + 4) / 10000]\r",
      "\r",
      "[Stage 1015:==============>                                  (3001 + 5) / 10000]\r"
     ]
    },
    {
     "name": "stderr",
     "output_type": "stream",
     "text": [
      "\r",
      "[Stage 1015:==============>                                  (3034 + 4) / 10000]\r",
      "\r",
      "[Stage 1015:===============>                                 (3083 + 4) / 10000]\r"
     ]
    },
    {
     "name": "stderr",
     "output_type": "stream",
     "text": [
      "\r",
      "[Stage 1015:===============>                                 (3120 + 4) / 10000]\r"
     ]
    },
    {
     "name": "stderr",
     "output_type": "stream",
     "text": [
      "\r",
      "[Stage 1015:===============>                                 (3154 + 4) / 10000]\r",
      "\r",
      "[Stage 1015:===============>                                 (3192 + 4) / 10000]\r"
     ]
    },
    {
     "name": "stderr",
     "output_type": "stream",
     "text": [
      "\r",
      "[Stage 1015:===============>                                 (3226 + 4) / 10000]\r",
      "\r",
      "[Stage 1015:===============>                                 (3254 + 4) / 10000]\r"
     ]
    },
    {
     "name": "stderr",
     "output_type": "stream",
     "text": [
      "\r",
      "[Stage 1015:================>                                (3297 + 4) / 10000]\r"
     ]
    },
    {
     "name": "stderr",
     "output_type": "stream",
     "text": [
      "\r",
      "[Stage 1015:================>                                (3333 + 4) / 10000]\r"
     ]
    },
    {
     "name": "stderr",
     "output_type": "stream",
     "text": [
      "\r",
      "[Stage 1015:================>                                (3374 + 5) / 10000]\r",
      "\r",
      "[Stage 1015:================>                                (3395 + 4) / 10000]\r"
     ]
    },
    {
     "name": "stderr",
     "output_type": "stream",
     "text": [
      "\r",
      "[Stage 1015:================>                                (3427 + 4) / 10000]\r",
      "\r",
      "[Stage 1015:================>                                (3458 + 4) / 10000]\r"
     ]
    },
    {
     "name": "stderr",
     "output_type": "stream",
     "text": [
      "\r",
      "[Stage 1015:=================>                               (3491 + 4) / 10000]\r",
      "\r",
      "[Stage 1015:=================>                               (3532 + 4) / 10000]\r"
     ]
    },
    {
     "name": "stderr",
     "output_type": "stream",
     "text": [
      "\r",
      "[Stage 1015:=================>                               (3560 + 4) / 10000]\r",
      "\r",
      "[Stage 1015:=================>                               (3603 + 5) / 10000]\r"
     ]
    },
    {
     "name": "stderr",
     "output_type": "stream",
     "text": [
      "\r",
      "[Stage 1015:=================>                               (3648 + 4) / 10000]\r",
      "\r",
      "[Stage 1015:==================>                              (3701 + 4) / 10000]\r"
     ]
    },
    {
     "name": "stderr",
     "output_type": "stream",
     "text": [
      "\r",
      "[Stage 1015:==================>                              (3740 + 4) / 10000]\r",
      "\r",
      "[Stage 1015:==================>                              (3780 + 4) / 10000]\r"
     ]
    },
    {
     "name": "stderr",
     "output_type": "stream",
     "text": [
      "\r",
      "[Stage 1015:==================>                              (3826 + 4) / 10000]\r",
      "\r",
      "[Stage 1015:==================>                              (3874 + 4) / 10000]\r"
     ]
    },
    {
     "name": "stderr",
     "output_type": "stream",
     "text": [
      "\r",
      "[Stage 1015:===================>                             (3928 + 4) / 10000]\r",
      "\r",
      "[Stage 1015:===================>                             (3974 + 4) / 10000]\r"
     ]
    },
    {
     "name": "stderr",
     "output_type": "stream",
     "text": [
      "\r",
      "[Stage 1015:===================>                             (4011 + 4) / 10000]\r"
     ]
    },
    {
     "name": "stderr",
     "output_type": "stream",
     "text": [
      "\r",
      "[Stage 1015:===================>                             (4056 + 4) / 10000]\r",
      "\r",
      "[Stage 1015:====================>                            (4115 + 4) / 10000]\r"
     ]
    },
    {
     "name": "stderr",
     "output_type": "stream",
     "text": [
      "\r",
      "[Stage 1015:====================>                            (4148 + 4) / 10000]\r",
      "\r",
      "[Stage 1015:====================>                            (4190 + 4) / 10000]\r"
     ]
    },
    {
     "name": "stderr",
     "output_type": "stream",
     "text": [
      "\r",
      "[Stage 1015:====================>                            (4230 + 4) / 10000]\r",
      "\r",
      "[Stage 1015:====================>                            (4271 + 4) / 10000]\r"
     ]
    },
    {
     "name": "stderr",
     "output_type": "stream",
     "text": [
      "\r",
      "[Stage 1015:=====================>                           (4319 + 4) / 10000]\r",
      "\r",
      "[Stage 1015:=====================>                           (4375 + 4) / 10000]\r"
     ]
    },
    {
     "name": "stderr",
     "output_type": "stream",
     "text": [
      "\r",
      "[Stage 1015:=====================>                           (4419 + 4) / 10000]\r"
     ]
    },
    {
     "name": "stderr",
     "output_type": "stream",
     "text": [
      "\r",
      "[Stage 1015:=====================>                           (4442 + 4) / 10000]\r",
      "\r",
      "[Stage 1015:=====================>                           (4466 + 4) / 10000]\r"
     ]
    },
    {
     "name": "stderr",
     "output_type": "stream",
     "text": [
      "\r",
      "[Stage 1015:======================>                          (4500 + 4) / 10000]\r",
      "\r",
      "[Stage 1015:======================>                          (4543 + 4) / 10000]\r"
     ]
    },
    {
     "name": "stderr",
     "output_type": "stream",
     "text": [
      "\r",
      "[Stage 1015:======================>                          (4577 + 4) / 10000]\r",
      "\r",
      "[Stage 1015:======================>                          (4626 + 4) / 10000]\r"
     ]
    },
    {
     "name": "stderr",
     "output_type": "stream",
     "text": [
      "\r",
      "[Stage 1015:======================>                          (4658 + 4) / 10000]\r",
      "\r",
      "[Stage 1015:======================>                          (4681 + 5) / 10000]\r"
     ]
    },
    {
     "name": "stderr",
     "output_type": "stream",
     "text": [
      "\r",
      "[Stage 1015:=======================>                         (4723 + 4) / 10000]\r",
      "\r",
      "[Stage 1015:=======================>                         (4764 + 4) / 10000]\r"
     ]
    },
    {
     "name": "stderr",
     "output_type": "stream",
     "text": [
      "\r",
      "[Stage 1015:=======================>                         (4792 + 4) / 10000]\r",
      "\r",
      "[Stage 1015:=======================>                         (4832 + 4) / 10000]\r"
     ]
    },
    {
     "name": "stderr",
     "output_type": "stream",
     "text": [
      "\r",
      "[Stage 1015:=======================>                         (4876 + 4) / 10000]\r"
     ]
    },
    {
     "name": "stderr",
     "output_type": "stream",
     "text": [
      "\r",
      "[Stage 1015:========================>                        (4926 + 4) / 10000]\r",
      "\r",
      "[Stage 1015:========================>                        (4951 + 5) / 10000]\r"
     ]
    },
    {
     "name": "stderr",
     "output_type": "stream",
     "text": [
      "\r",
      "[Stage 1015:========================>                        (4978 + 4) / 10000]\r",
      "\r",
      "[Stage 1015:========================>                        (5013 + 4) / 10000]\r"
     ]
    },
    {
     "name": "stderr",
     "output_type": "stream",
     "text": [
      "\r",
      "[Stage 1015:========================>                        (5056 + 4) / 10000]\r",
      "\r",
      "[Stage 1015:========================>                        (5092 + 4) / 10000]\r"
     ]
    },
    {
     "name": "stderr",
     "output_type": "stream",
     "text": [
      "\r",
      "[Stage 1015:=========================>                       (5129 + 4) / 10000]\r",
      "\r",
      "[Stage 1015:=========================>                       (5162 + 4) / 10000]\r"
     ]
    },
    {
     "name": "stderr",
     "output_type": "stream",
     "text": [
      "\r",
      "[Stage 1015:=========================>                       (5214 + 4) / 10000]\r"
     ]
    },
    {
     "name": "stderr",
     "output_type": "stream",
     "text": [
      "\r",
      "[Stage 1015:=========================>                       (5256 + 4) / 10000]\r",
      "\r",
      "[Stage 1015:=========================>                       (5299 + 4) / 10000]\r"
     ]
    },
    {
     "name": "stderr",
     "output_type": "stream",
     "text": [
      "\r",
      "[Stage 1015:==========================>                      (5340 + 4) / 10000]\r",
      "\r",
      "[Stage 1015:==========================>                      (5388 + 4) / 10000]\r"
     ]
    },
    {
     "name": "stderr",
     "output_type": "stream",
     "text": [
      "\r",
      "[Stage 1015:==========================>                      (5422 + 4) / 10000]\r"
     ]
    },
    {
     "name": "stderr",
     "output_type": "stream",
     "text": [
      "\r",
      "[Stage 1015:==========================>                      (5468 + 4) / 10000]\r",
      "\r",
      "[Stage 1015:==========================>                      (5490 + 5) / 10000]\r"
     ]
    },
    {
     "name": "stderr",
     "output_type": "stream",
     "text": [
      "\r",
      "[Stage 1015:===========================>                     (5534 + 4) / 10000]\r",
      "\r",
      "[Stage 1015:===========================>                     (5580 + 4) / 10000]\r"
     ]
    },
    {
     "name": "stderr",
     "output_type": "stream",
     "text": [
      "\r",
      "[Stage 1015:===========================>                     (5618 + 4) / 10000]\r"
     ]
    },
    {
     "name": "stderr",
     "output_type": "stream",
     "text": [
      "\r",
      "[Stage 1015:===========================>                     (5664 + 4) / 10000]\r",
      "\r",
      "[Stage 1015:===========================>                     (5704 + 4) / 10000]\r"
     ]
    },
    {
     "name": "stderr",
     "output_type": "stream",
     "text": [
      "\r",
      "[Stage 1015:============================>                    (5740 + 4) / 10000]\r"
     ]
    },
    {
     "name": "stderr",
     "output_type": "stream",
     "text": [
      "\r",
      "[Stage 1015:============================>                    (5793 + 6) / 10000]\r",
      "\r",
      "[Stage 1015:============================>                    (5820 + 4) / 10000]\r"
     ]
    },
    {
     "name": "stderr",
     "output_type": "stream",
     "text": [
      "\r",
      "[Stage 1015:============================>                    (5868 + 4) / 10000]\r",
      "\r",
      "[Stage 1015:=============================>                   (5930 + 4) / 10000]\r"
     ]
    },
    {
     "name": "stderr",
     "output_type": "stream",
     "text": [
      "\r",
      "[Stage 1015:=============================>                   (5974 + 5) / 10000]\r",
      "\r",
      "[Stage 1015:=============================>                   (6022 + 4) / 10000]\r"
     ]
    },
    {
     "name": "stderr",
     "output_type": "stream",
     "text": [
      "\r",
      "[Stage 1015:=============================>                   (6059 + 4) / 10000]\r"
     ]
    },
    {
     "name": "stderr",
     "output_type": "stream",
     "text": [
      "\r",
      "[Stage 1015:=============================>                   (6112 + 4) / 10000]\r",
      "\r",
      "[Stage 1015:==============================>                  (6163 + 4) / 10000]\r"
     ]
    },
    {
     "name": "stderr",
     "output_type": "stream",
     "text": [
      "\r",
      "[Stage 1015:==============================>                  (6217 + 4) / 10000]\r"
     ]
    },
    {
     "name": "stderr",
     "output_type": "stream",
     "text": [
      "\r",
      "[Stage 1015:==============================>                  (6272 + 4) / 10000]\r",
      "\r",
      "[Stage 1015:==============================>                  (6313 + 6) / 10000]\r"
     ]
    },
    {
     "name": "stderr",
     "output_type": "stream",
     "text": [
      "\r",
      "[Stage 1015:===============================>                 (6365 + 4) / 10000]\r",
      "\r",
      "[Stage 1015:===============================>                 (6414 + 5) / 10000]\r"
     ]
    },
    {
     "name": "stderr",
     "output_type": "stream",
     "text": [
      "\r",
      "[Stage 1015:===============================>                 (6457 + 4) / 10000]\r",
      "\r",
      "[Stage 1015:===============================>                 (6511 + 5) / 10000]\r"
     ]
    },
    {
     "name": "stderr",
     "output_type": "stream",
     "text": [
      "\r",
      "[Stage 1015:================================>                (6550 + 4) / 10000]\r",
      "\r",
      "[Stage 1015:================================>                (6610 + 4) / 10000]\r"
     ]
    },
    {
     "name": "stderr",
     "output_type": "stream",
     "text": [
      "\r",
      "[Stage 1015:================================>                (6658 + 5) / 10000]\r"
     ]
    },
    {
     "name": "stderr",
     "output_type": "stream",
     "text": [
      "\r",
      "[Stage 1015:================================>                (6716 + 4) / 10000]\r",
      "\r",
      "[Stage 1015:=================================>               (6762 + 4) / 10000]\r"
     ]
    },
    {
     "name": "stderr",
     "output_type": "stream",
     "text": [
      "\r",
      "[Stage 1015:=================================>               (6820 + 4) / 10000]\r",
      "\r",
      "[Stage 1015:=================================>               (6882 + 4) / 10000]\r"
     ]
    },
    {
     "name": "stderr",
     "output_type": "stream",
     "text": [
      "\r",
      "[Stage 1015:=================================>               (6934 + 4) / 10000]\r",
      "\r",
      "[Stage 1015:==================================>              (6981 + 4) / 10000]\r"
     ]
    },
    {
     "name": "stderr",
     "output_type": "stream",
     "text": [
      "\r",
      "[Stage 1015:==================================>              (7028 + 4) / 10000]\r",
      "\r",
      "[Stage 1015:==================================>              (7072 + 5) / 10000]\r"
     ]
    },
    {
     "name": "stderr",
     "output_type": "stream",
     "text": [
      "\r",
      "[Stage 1015:==================================>              (7124 + 4) / 10000]\r",
      "\r",
      "[Stage 1015:===================================>             (7168 + 4) / 10000]\r"
     ]
    },
    {
     "name": "stderr",
     "output_type": "stream",
     "text": [
      "\r",
      "[Stage 1015:===================================>             (7218 + 4) / 10000]\r",
      "\r",
      "[Stage 1015:===================================>             (7269 + 4) / 10000]\r"
     ]
    },
    {
     "name": "stderr",
     "output_type": "stream",
     "text": [
      "\r",
      "[Stage 1015:===================================>             (7315 + 4) / 10000]\r",
      "\r",
      "[Stage 1015:====================================>            (7365 + 4) / 10000]\r"
     ]
    },
    {
     "name": "stderr",
     "output_type": "stream",
     "text": [
      "\r",
      "[Stage 1015:====================================>            (7412 + 4) / 10000]\r",
      "\r",
      "[Stage 1015:====================================>            (7464 + 4) / 10000]\r"
     ]
    },
    {
     "name": "stderr",
     "output_type": "stream",
     "text": [
      "\r",
      "[Stage 1015:====================================>            (7503 + 4) / 10000]\r",
      "\r",
      "[Stage 1015:====================================>            (7542 + 4) / 10000]\r"
     ]
    },
    {
     "name": "stderr",
     "output_type": "stream",
     "text": [
      "\r",
      "[Stage 1015:=====================================>           (7573 + 4) / 10000]\r"
     ]
    },
    {
     "name": "stderr",
     "output_type": "stream",
     "text": [
      "\r",
      "[Stage 1015:=====================================>           (7622 + 5) / 10000]\r",
      "\r",
      "[Stage 1015:=====================================>           (7663 + 4) / 10000]\r"
     ]
    },
    {
     "name": "stderr",
     "output_type": "stream",
     "text": [
      "\r",
      "[Stage 1015:=====================================>           (7710 + 4) / 10000]\r",
      "\r",
      "[Stage 1015:=====================================>           (7754 + 4) / 10000]\r"
     ]
    },
    {
     "name": "stderr",
     "output_type": "stream",
     "text": [
      "\r",
      "[Stage 1015:======================================>          (7802 + 4) / 10000]\r"
     ]
    },
    {
     "name": "stderr",
     "output_type": "stream",
     "text": [
      "\r",
      "[Stage 1015:======================================>          (7843 + 4) / 10000]\r"
     ]
    },
    {
     "name": "stderr",
     "output_type": "stream",
     "text": [
      "\r",
      "[Stage 1015:======================================>          (7893 + 5) / 10000]\r",
      "\r",
      "[Stage 1015:======================================>          (7945 + 4) / 10000]\r"
     ]
    },
    {
     "name": "stderr",
     "output_type": "stream",
     "text": [
      "\r",
      "[Stage 1015:=======================================>         (7987 + 4) / 10000]\r",
      "\r",
      "[Stage 1015:=======================================>         (8021 + 4) / 10000]\r"
     ]
    },
    {
     "name": "stderr",
     "output_type": "stream",
     "text": [
      "\r",
      "[Stage 1015:=======================================>         (8077 + 4) / 10000]\r"
     ]
    },
    {
     "name": "stderr",
     "output_type": "stream",
     "text": [
      "\r",
      "[Stage 1015:=======================================>         (8128 + 4) / 10000]\r",
      "\r",
      "[Stage 1015:=======================================>         (8163 + 4) / 10000]\r"
     ]
    },
    {
     "name": "stderr",
     "output_type": "stream",
     "text": [
      "\r",
      "[Stage 1015:========================================>        (8206 + 4) / 10000]\r"
     ]
    },
    {
     "name": "stderr",
     "output_type": "stream",
     "text": [
      "\r",
      "[Stage 1015:========================================>        (8237 + 4) / 10000]\r",
      "\r",
      "[Stage 1015:========================================>        (8271 + 4) / 10000]\r"
     ]
    },
    {
     "name": "stderr",
     "output_type": "stream",
     "text": [
      "\r",
      "[Stage 1015:========================================>        (8319 + 4) / 10000]\r"
     ]
    },
    {
     "name": "stderr",
     "output_type": "stream",
     "text": [
      "\r",
      "[Stage 1015:========================================>        (8351 + 4) / 10000]\r",
      "\r",
      "[Stage 1015:=========================================>       (8392 + 4) / 10000]\r"
     ]
    },
    {
     "name": "stderr",
     "output_type": "stream",
     "text": [
      "\r",
      "[Stage 1015:=========================================>       (8430 + 4) / 10000]\r"
     ]
    },
    {
     "name": "stderr",
     "output_type": "stream",
     "text": [
      "\r",
      "[Stage 1015:=========================================>       (8478 + 4) / 10000]\r",
      "\r",
      "[Stage 1015:=========================================>       (8515 + 4) / 10000]\r"
     ]
    },
    {
     "name": "stderr",
     "output_type": "stream",
     "text": [
      "\r",
      "[Stage 1015:=========================================>       (8555 + 4) / 10000]\r",
      "\r",
      "[Stage 1015:==========================================>      (8595 + 4) / 10000]\r"
     ]
    },
    {
     "name": "stderr",
     "output_type": "stream",
     "text": [
      "\r",
      "[Stage 1015:==========================================>      (8616 + 6) / 10000]\r",
      "\r",
      "[Stage 1015:==========================================>      (8663 + 4) / 10000]\r"
     ]
    },
    {
     "name": "stderr",
     "output_type": "stream",
     "text": [
      "\r",
      "[Stage 1015:==========================================>      (8714 + 4) / 10000]\r",
      "\r",
      "[Stage 1015:===========================================>     (8785 + 4) / 10000]\r"
     ]
    },
    {
     "name": "stderr",
     "output_type": "stream",
     "text": [
      "\r",
      "[Stage 1015:===========================================>     (8838 + 4) / 10000]\r",
      "\r",
      "[Stage 1015:===========================================>     (8895 + 4) / 10000]\r"
     ]
    },
    {
     "name": "stderr",
     "output_type": "stream",
     "text": [
      "\r",
      "[Stage 1015:===========================================>     (8944 + 4) / 10000]\r",
      "\r",
      "[Stage 1015:============================================>    (8995 + 4) / 10000]\r"
     ]
    },
    {
     "name": "stderr",
     "output_type": "stream",
     "text": [
      "\r",
      "[Stage 1015:============================================>    (9038 + 4) / 10000]\r"
     ]
    },
    {
     "name": "stderr",
     "output_type": "stream",
     "text": [
      "\r",
      "[Stage 1015:============================================>    (9077 + 4) / 10000]\r",
      "\r",
      "[Stage 1015:============================================>    (9110 + 4) / 10000]\r"
     ]
    },
    {
     "name": "stderr",
     "output_type": "stream",
     "text": [
      "\r",
      "[Stage 1015:============================================>    (9163 + 4) / 10000]\r",
      "\r",
      "[Stage 1015:=============================================>   (9217 + 4) / 10000]\r"
     ]
    },
    {
     "name": "stderr",
     "output_type": "stream",
     "text": [
      "\r",
      "[Stage 1015:=============================================>   (9251 + 5) / 10000]\r"
     ]
    },
    {
     "name": "stderr",
     "output_type": "stream",
     "text": [
      "\r",
      "[Stage 1015:=============================================>   (9311 + 4) / 10000]\r",
      "\r",
      "[Stage 1015:=============================================>   (9354 + 4) / 10000]\r"
     ]
    },
    {
     "name": "stderr",
     "output_type": "stream",
     "text": [
      "\r",
      "[Stage 1015:==============================================>  (9396 + 4) / 10000]\r"
     ]
    },
    {
     "name": "stderr",
     "output_type": "stream",
     "text": [
      "\r",
      "[Stage 1015:==============================================>  (9455 + 4) / 10000]\r",
      "\r",
      "[Stage 1015:==============================================>  (9491 + 4) / 10000]\r"
     ]
    },
    {
     "name": "stderr",
     "output_type": "stream",
     "text": [
      "\r",
      "[Stage 1015:==============================================>  (9535 + 4) / 10000]\r",
      "\r",
      "[Stage 1015:==============================================>  (9580 + 4) / 10000]\r"
     ]
    },
    {
     "name": "stderr",
     "output_type": "stream",
     "text": [
      "\r",
      "[Stage 1015:===============================================> (9622 + 4) / 10000]\r",
      "\r",
      "[Stage 1015:===============================================> (9674 + 4) / 10000]\r"
     ]
    },
    {
     "name": "stderr",
     "output_type": "stream",
     "text": [
      "\r",
      "[Stage 1015:===============================================> (9704 + 4) / 10000]\r"
     ]
    },
    {
     "name": "stderr",
     "output_type": "stream",
     "text": [
      "\r",
      "[Stage 1015:===============================================> (9755 + 4) / 10000]\r",
      "\r",
      "[Stage 1015:===============================================> (9795 + 5) / 10000]\r"
     ]
    },
    {
     "name": "stderr",
     "output_type": "stream",
     "text": [
      "\r",
      "[Stage 1015:================================================>(9839 + 4) / 10000]\r",
      "\r",
      "[Stage 1015:================================================>(9876 + 4) / 10000]\r"
     ]
    },
    {
     "name": "stderr",
     "output_type": "stream",
     "text": [
      "\r",
      "[Stage 1015:================================================>(9938 + 4) / 10000]\r"
     ]
    },
    {
     "name": "stderr",
     "output_type": "stream",
     "text": [
      "\r",
      "                                                                                \r"
     ]
    },
    {
     "name": "stderr",
     "output_type": "stream",
     "text": [
      "\r",
      "[Stage 1746:>                                                       (0 + 0) / 1]\r",
      "\r",
      "[Stage 1746:>                                                       (0 + 1) / 1]\r"
     ]
    },
    {
     "name": "stderr",
     "output_type": "stream",
     "text": [
      "\r",
      "                                                                                \r"
     ]
    },
    {
     "name": "stdout",
     "output_type": "stream",
     "text": [
      "Deleted 0 files and directories in a total of 5 directories.\n"
     ]
    },
    {
     "data": {
      "text/plain": [
       "DataFrame[]"
      ]
     },
     "execution_count": 5,
     "metadata": {},
     "output_type": "execute_result"
    }
   ],
   "source": [
    "delta_table = DeltaTable.forPath(spark, SILVER_TABLE_PATH)\n",
    "delta_table.vacuum()"
   ]
  },
  {
   "cell_type": "code",
   "execution_count": 6,
   "id": "a1c19671",
   "metadata": {
    "execution": {
     "iopub.execute_input": "2022-07-09T22:57:39.727142Z",
     "iopub.status.busy": "2022-07-09T22:57:39.726340Z",
     "iopub.status.idle": "2022-07-09T22:59:36.729429Z",
     "shell.execute_reply": "2022-07-09T22:59:36.726618Z"
    },
    "papermill": {
     "duration": 117.165934,
     "end_time": "2022-07-09T22:59:36.739196",
     "exception": false,
     "start_time": "2022-07-09T22:57:39.573262",
     "status": "completed"
    },
    "tags": []
   },
   "outputs": [
    {
     "name": "stderr",
     "output_type": "stream",
     "text": [
      "\r",
      "[Stage 2013:=====================>                                (20 + 4) / 50]\r",
      "\r",
      "[Stage 2013:==============================>                       (28 + 4) / 50]\r"
     ]
    },
    {
     "name": "stderr",
     "output_type": "stream",
     "text": [
      "\r",
      "[Stage 2013:=========================================>            (38 + 4) / 50]\r",
      "\r",
      "[Stage 2013:==================================================>   (47 + 3) / 50]\r"
     ]
    },
    {
     "name": "stderr",
     "output_type": "stream",
     "text": [
      "\r",
      "                                                                                \r"
     ]
    },
    {
     "name": "stderr",
     "output_type": "stream",
     "text": [
      "\r",
      "[Stage 2016:=>                                                (215 + 4) / 10000]\r",
      "\r",
      "[Stage 2016:=>                                                (296 + 4) / 10000]\r"
     ]
    },
    {
     "name": "stderr",
     "output_type": "stream",
     "text": [
      "\r",
      "[Stage 2016:=>                                                (370 + 4) / 10000]\r",
      "\r",
      "[Stage 2016:==>                                               (444 + 4) / 10000]\r"
     ]
    },
    {
     "name": "stderr",
     "output_type": "stream",
     "text": [
      "\r",
      "[Stage 2016:==>                                               (532 + 6) / 10000]\r",
      "\r",
      "[Stage 2016:==>                                               (587 + 4) / 10000]\r"
     ]
    },
    {
     "name": "stderr",
     "output_type": "stream",
     "text": [
      "\r",
      "[Stage 2016:===>                                              (654 + 5) / 10000]\r",
      "\r",
      "[Stage 2016:===>                                              (737 + 4) / 10000]\r"
     ]
    },
    {
     "name": "stderr",
     "output_type": "stream",
     "text": [
      "\r",
      "[Stage 2016:===>                                              (796 + 5) / 10000]\r",
      "\r",
      "[Stage 2016:====>                                             (860 + 4) / 10000]\r"
     ]
    },
    {
     "name": "stderr",
     "output_type": "stream",
     "text": [
      "\r",
      "[Stage 2016:====>                                             (902 + 4) / 10000]\r",
      "\r",
      "[Stage 2016:====>                                             (945 + 4) / 10000]\r"
     ]
    },
    {
     "name": "stderr",
     "output_type": "stream",
     "text": [
      "\r",
      "[Stage 2016:====>                                            (1015 + 4) / 10000]\r"
     ]
    },
    {
     "name": "stderr",
     "output_type": "stream",
     "text": [
      "\r",
      "[Stage 2016:=====>                                           (1097 + 5) / 10000]\r",
      "\r",
      "[Stage 2016:=====>                                           (1144 + 4) / 10000]\r"
     ]
    },
    {
     "name": "stderr",
     "output_type": "stream",
     "text": [
      "\r",
      "[Stage 2016:=====>                                           (1147 + 4) / 10000]\r",
      "\r",
      "[Stage 2016:=====>                                           (1148 + 5) / 10000]\r"
     ]
    },
    {
     "name": "stderr",
     "output_type": "stream",
     "text": [
      "\r",
      "[Stage 2016:=====>                                           (1168 + 4) / 10000]\r",
      "\r",
      "[Stage 2016:=====>                                           (1188 + 4) / 10000]\r"
     ]
    },
    {
     "name": "stderr",
     "output_type": "stream",
     "text": [
      "\r",
      "[Stage 2016:=====>                                           (1216 + 4) / 10000]\r"
     ]
    },
    {
     "name": "stderr",
     "output_type": "stream",
     "text": [
      "\r",
      "[Stage 2016:======>                                          (1255 + 4) / 10000]\r",
      "\r",
      "[Stage 2016:======>                                          (1305 + 4) / 10000]\r"
     ]
    },
    {
     "name": "stderr",
     "output_type": "stream",
     "text": [
      "\r",
      "[Stage 2016:======>                                          (1356 + 5) / 10000]\r",
      "\r",
      "[Stage 2016:======>                                          (1391 + 4) / 10000]\r"
     ]
    },
    {
     "name": "stderr",
     "output_type": "stream",
     "text": [
      "\r",
      "[Stage 2016:=======>                                         (1434 + 4) / 10000]\r",
      "\r",
      "[Stage 2016:=======>                                         (1476 + 4) / 10000]\r"
     ]
    },
    {
     "name": "stderr",
     "output_type": "stream",
     "text": [
      "\r",
      "[Stage 2016:=======>                                         (1519 + 4) / 10000]\r",
      "\r",
      "[Stage 2016:=======>                                         (1562 + 4) / 10000]\r"
     ]
    },
    {
     "name": "stderr",
     "output_type": "stream",
     "text": [
      "\r",
      "[Stage 2016:=======>                                         (1600 + 4) / 10000]\r",
      "\r",
      "[Stage 2016:========>                                        (1641 + 4) / 10000]\r"
     ]
    },
    {
     "name": "stderr",
     "output_type": "stream",
     "text": [
      "\r",
      "[Stage 2016:========>                                        (1687 + 4) / 10000]\r",
      "\r",
      "[Stage 2016:========>                                        (1741 + 4) / 10000]\r"
     ]
    },
    {
     "name": "stderr",
     "output_type": "stream",
     "text": [
      "\r",
      "[Stage 2016:========>                                        (1789 + 4) / 10000]\r",
      "\r",
      "[Stage 2016:========>                                        (1824 + 4) / 10000]\r"
     ]
    },
    {
     "name": "stderr",
     "output_type": "stream",
     "text": [
      "\r",
      "[Stage 2016:=========>                                       (1847 + 5) / 10000]\r",
      "\r",
      "[Stage 2016:=========>                                       (1873 + 4) / 10000]\r"
     ]
    },
    {
     "name": "stderr",
     "output_type": "stream",
     "text": [
      "\r",
      "[Stage 2016:=========>                                       (1903 + 4) / 10000]\r",
      "\r",
      "[Stage 2016:=========>                                       (1945 + 4) / 10000]\r"
     ]
    },
    {
     "name": "stderr",
     "output_type": "stream",
     "text": [
      "\r",
      "[Stage 2016:=========>                                       (1982 + 4) / 10000]\r",
      "\r",
      "[Stage 2016:=========>                                       (2026 + 4) / 10000]\r"
     ]
    },
    {
     "name": "stderr",
     "output_type": "stream",
     "text": [
      "\r",
      "[Stage 2016:==========>                                      (2061 + 4) / 10000]\r"
     ]
    },
    {
     "name": "stderr",
     "output_type": "stream",
     "text": [
      "\r",
      "[Stage 2016:==========>                                      (2090 + 5) / 10000]\r",
      "\r",
      "[Stage 2016:==========>                                      (2119 + 4) / 10000]\r"
     ]
    },
    {
     "name": "stderr",
     "output_type": "stream",
     "text": [
      "\r",
      "[Stage 2016:==========>                                      (2130 + 4) / 10000]\r",
      "\r",
      "[Stage 2016:==========>                                      (2153 + 4) / 10000]\r"
     ]
    },
    {
     "name": "stderr",
     "output_type": "stream",
     "text": [
      "\r",
      "[Stage 2016:==========>                                      (2184 + 4) / 10000]\r",
      "\r",
      "[Stage 2016:==========>                                      (2237 + 4) / 10000]\r"
     ]
    },
    {
     "name": "stderr",
     "output_type": "stream",
     "text": [
      "\r",
      "[Stage 2016:===========>                                     (2300 + 4) / 10000]\r",
      "\r",
      "[Stage 2016:===========>                                     (2350 + 4) / 10000]\r"
     ]
    },
    {
     "name": "stderr",
     "output_type": "stream",
     "text": [
      "\r",
      "[Stage 2016:===========>                                     (2408 + 4) / 10000]\r",
      "\r",
      "[Stage 2016:============>                                    (2464 + 5) / 10000]\r"
     ]
    },
    {
     "name": "stderr",
     "output_type": "stream",
     "text": [
      "\r",
      "[Stage 2016:============>                                    (2514 + 4) / 10000]\r",
      "\r",
      "[Stage 2016:============>                                    (2584 + 4) / 10000]\r"
     ]
    },
    {
     "name": "stderr",
     "output_type": "stream",
     "text": [
      "\r",
      "[Stage 2016:============>                                    (2648 + 4) / 10000]\r"
     ]
    },
    {
     "name": "stderr",
     "output_type": "stream",
     "text": [
      "\r",
      "[Stage 2016:=============>                                   (2697 + 4) / 10000]\r",
      "\r",
      "[Stage 2016:=============>                                   (2736 + 4) / 10000]\r"
     ]
    },
    {
     "name": "stderr",
     "output_type": "stream",
     "text": [
      "\r",
      "[Stage 2016:=============>                                   (2774 + 4) / 10000]\r",
      "\r",
      "[Stage 2016:=============>                                   (2828 + 4) / 10000]\r"
     ]
    },
    {
     "name": "stderr",
     "output_type": "stream",
     "text": [
      "\r",
      "[Stage 2016:==============>                                  (2919 + 4) / 10000]\r",
      "\r",
      "[Stage 2016:==============>                                  (2983 + 5) / 10000]\r"
     ]
    },
    {
     "name": "stderr",
     "output_type": "stream",
     "text": [
      "\r",
      "[Stage 2016:==============>                                  (3056 + 4) / 10000]\r",
      "\r",
      "[Stage 2016:===============>                                 (3138 + 4) / 10000]\r"
     ]
    },
    {
     "name": "stderr",
     "output_type": "stream",
     "text": [
      "\r",
      "[Stage 2016:===============>                                 (3233 + 4) / 10000]\r",
      "\r",
      "[Stage 2016:================>                                (3324 + 4) / 10000]\r"
     ]
    },
    {
     "name": "stderr",
     "output_type": "stream",
     "text": [
      "\r",
      "[Stage 2016:================>                                (3394 + 4) / 10000]\r",
      "\r",
      "[Stage 2016:================>                                (3465 + 4) / 10000]\r"
     ]
    },
    {
     "name": "stderr",
     "output_type": "stream",
     "text": [
      "\r",
      "[Stage 2016:=================>                               (3553 + 4) / 10000]\r",
      "\r",
      "[Stage 2016:=================>                               (3631 + 5) / 10000]\r"
     ]
    },
    {
     "name": "stderr",
     "output_type": "stream",
     "text": [
      "\r",
      "[Stage 2016:==================>                              (3680 + 4) / 10000]\r",
      "\r",
      "[Stage 2016:==================>                              (3751 + 4) / 10000]\r"
     ]
    },
    {
     "name": "stderr",
     "output_type": "stream",
     "text": [
      "\r",
      "[Stage 2016:==================>                              (3791 + 4) / 10000]\r",
      "\r",
      "[Stage 2016:==================>                              (3859 + 4) / 10000]\r"
     ]
    },
    {
     "name": "stderr",
     "output_type": "stream",
     "text": [
      "\r",
      "[Stage 2016:===================>                             (3961 + 4) / 10000]\r",
      "\r",
      "[Stage 2016:===================>                             (4067 + 4) / 10000]\r"
     ]
    },
    {
     "name": "stderr",
     "output_type": "stream",
     "text": [
      "\r",
      "[Stage 2016:====================>                            (4174 + 4) / 10000]\r",
      "\r",
      "[Stage 2016:====================>                            (4265 + 4) / 10000]\r"
     ]
    },
    {
     "name": "stderr",
     "output_type": "stream",
     "text": [
      "\r",
      "[Stage 2016:=====================>                           (4364 + 4) / 10000]\r"
     ]
    },
    {
     "name": "stderr",
     "output_type": "stream",
     "text": [
      "\r",
      "[Stage 2016:=====================>                           (4473 + 4) / 10000]\r"
     ]
    },
    {
     "name": "stderr",
     "output_type": "stream",
     "text": [
      "\r",
      "[Stage 2016:======================>                          (4560 + 4) / 10000]\r",
      "\r",
      "[Stage 2016:======================>                          (4624 + 6) / 10000]\r"
     ]
    },
    {
     "name": "stderr",
     "output_type": "stream",
     "text": [
      "\r",
      "[Stage 2016:=======================>                         (4718 + 4) / 10000]\r",
      "\r",
      "[Stage 2016:=======================>                         (4827 + 4) / 10000]\r"
     ]
    },
    {
     "name": "stderr",
     "output_type": "stream",
     "text": [
      "\r",
      "[Stage 2016:========================>                        (4928 + 4) / 10000]\r",
      "\r",
      "[Stage 2016:========================>                        (5027 + 4) / 10000]\r"
     ]
    },
    {
     "name": "stderr",
     "output_type": "stream",
     "text": [
      "\r",
      "[Stage 2016:=========================>                       (5106 + 4) / 10000]\r"
     ]
    },
    {
     "name": "stderr",
     "output_type": "stream",
     "text": [
      "\r",
      "[Stage 2016:=========================>                       (5169 + 4) / 10000]\r",
      "\r",
      "[Stage 2016:=========================>                       (5191 + 4) / 10000]\r"
     ]
    },
    {
     "name": "stderr",
     "output_type": "stream",
     "text": [
      "\r",
      "[Stage 2016:=========================>                       (5282 + 4) / 10000]\r",
      "\r",
      "[Stage 2016:==========================>                      (5372 + 4) / 10000]\r"
     ]
    },
    {
     "name": "stderr",
     "output_type": "stream",
     "text": [
      "\r",
      "[Stage 2016:==========================>                      (5467 + 4) / 10000]\r",
      "\r",
      "[Stage 2016:===========================>                     (5563 + 5) / 10000]\r"
     ]
    },
    {
     "name": "stderr",
     "output_type": "stream",
     "text": [
      "\r",
      "[Stage 2016:===========================>                     (5670 + 4) / 10000]\r",
      "\r",
      "[Stage 2016:============================>                    (5787 + 4) / 10000]\r"
     ]
    },
    {
     "name": "stderr",
     "output_type": "stream",
     "text": [
      "\r",
      "[Stage 2016:============================>                    (5874 + 4) / 10000]\r",
      "\r",
      "[Stage 2016:=============================>                   (5951 + 4) / 10000]\r"
     ]
    },
    {
     "name": "stderr",
     "output_type": "stream",
     "text": [
      "\r",
      "[Stage 2016:=============================>                   (5981 + 4) / 10000]\r",
      "\r",
      "[Stage 2016:=============================>                   (6006 + 5) / 10000]\r"
     ]
    },
    {
     "name": "stderr",
     "output_type": "stream",
     "text": [
      "\r",
      "[Stage 2016:=============================>                   (6027 + 4) / 10000]\r",
      "\r",
      "[Stage 2016:=============================>                   (6077 + 5) / 10000]\r"
     ]
    },
    {
     "name": "stderr",
     "output_type": "stream",
     "text": [
      "\r",
      "[Stage 2016:==============================>                  (6124 + 4) / 10000]\r",
      "\r",
      "[Stage 2016:==============================>                  (6170 + 4) / 10000]\r"
     ]
    },
    {
     "name": "stderr",
     "output_type": "stream",
     "text": [
      "\r",
      "[Stage 2016:==============================>                  (6213 + 4) / 10000]\r",
      "\r",
      "[Stage 2016:==============================>                  (6265 + 5) / 10000]\r"
     ]
    },
    {
     "name": "stderr",
     "output_type": "stream",
     "text": [
      "\r",
      "[Stage 2016:==============================>                  (6311 + 4) / 10000]\r",
      "\r",
      "[Stage 2016:===============================>                 (6362 + 4) / 10000]\r"
     ]
    },
    {
     "name": "stderr",
     "output_type": "stream",
     "text": [
      "\r",
      "[Stage 2016:===============================>                 (6374 + 4) / 10000]\r"
     ]
    },
    {
     "name": "stderr",
     "output_type": "stream",
     "text": [
      "\r",
      "[Stage 2016:===============================>                 (6429 + 4) / 10000]\r",
      "\r",
      "[Stage 2016:===============================>                 (6481 + 4) / 10000]\r"
     ]
    },
    {
     "name": "stderr",
     "output_type": "stream",
     "text": [
      "\r",
      "[Stage 2016:================================>                (6533 + 4) / 10000]\r"
     ]
    },
    {
     "name": "stderr",
     "output_type": "stream",
     "text": [
      "\r",
      "[Stage 2016:================================>                (6574 + 4) / 10000]\r",
      "\r",
      "[Stage 2016:================================>                (6612 + 4) / 10000]\r"
     ]
    },
    {
     "name": "stderr",
     "output_type": "stream",
     "text": [
      "\r",
      "[Stage 2016:================================>                (6619 + 4) / 10000]\r",
      "\r",
      "[Stage 2016:================================>                (6623 + 4) / 10000]\r"
     ]
    },
    {
     "name": "stderr",
     "output_type": "stream",
     "text": [
      "\r",
      "[Stage 2016:================================>                (6625 + 4) / 10000]\r",
      "\r",
      "[Stage 2016:================================>                (6627 + 4) / 10000]\r"
     ]
    },
    {
     "name": "stderr",
     "output_type": "stream",
     "text": [
      "\r",
      "[Stage 2016:================================>                (6632 + 4) / 10000]\r",
      "\r",
      "[Stage 2016:================================>                (6642 + 4) / 10000]\r"
     ]
    },
    {
     "name": "stderr",
     "output_type": "stream",
     "text": [
      "\r",
      "[Stage 2016:================================>                (6646 + 4) / 10000]\r"
     ]
    },
    {
     "name": "stderr",
     "output_type": "stream",
     "text": [
      "\r",
      "[Stage 2016:================================>                (6652 + 4) / 10000]\r"
     ]
    },
    {
     "name": "stderr",
     "output_type": "stream",
     "text": [
      "\r",
      "[Stage 2016:================================>                (6658 + 4) / 10000]\r",
      "\r",
      "[Stage 2016:================================>                (6662 + 5) / 10000]\r"
     ]
    },
    {
     "name": "stderr",
     "output_type": "stream",
     "text": [
      "\r",
      "[Stage 2016:================================>                (6668 + 4) / 10000]\r",
      "\r",
      "[Stage 2016:================================>                (6669 + 4) / 10000]\r"
     ]
    },
    {
     "name": "stderr",
     "output_type": "stream",
     "text": [
      "\r",
      "[Stage 2016:================================>                (6676 + 4) / 10000]\r",
      "\r",
      "[Stage 2016:================================>                (6692 + 4) / 10000]\r"
     ]
    },
    {
     "name": "stderr",
     "output_type": "stream",
     "text": [
      "\r",
      "[Stage 2016:================================>                (6707 + 4) / 10000]\r",
      "\r",
      "[Stage 2016:================================>                (6723 + 4) / 10000]\r"
     ]
    },
    {
     "name": "stderr",
     "output_type": "stream",
     "text": [
      "\r",
      "[Stage 2016:================================>                (6734 + 4) / 10000]\r"
     ]
    },
    {
     "name": "stderr",
     "output_type": "stream",
     "text": [
      "\r",
      "[Stage 2016:=================================>               (6766 + 4) / 10000]\r",
      "\r",
      "[Stage 2016:=================================>               (6791 + 4) / 10000]\r"
     ]
    },
    {
     "name": "stderr",
     "output_type": "stream",
     "text": [
      "\r",
      "[Stage 2016:=================================>               (6818 + 4) / 10000]\r",
      "\r",
      "[Stage 2016:=================================>               (6846 + 5) / 10000]\r"
     ]
    },
    {
     "name": "stderr",
     "output_type": "stream",
     "text": [
      "\r",
      "[Stage 2016:=================================>               (6868 + 4) / 10000]\r",
      "\r",
      "[Stage 2016:=================================>               (6883 + 4) / 10000]\r"
     ]
    },
    {
     "name": "stderr",
     "output_type": "stream",
     "text": [
      "\r",
      "[Stage 2016:=================================>               (6908 + 5) / 10000]\r"
     ]
    },
    {
     "name": "stderr",
     "output_type": "stream",
     "text": [
      "\r",
      "[Stage 2016:==================================>              (6939 + 4) / 10000]\r",
      "\r",
      "[Stage 2016:==================================>              (6980 + 4) / 10000]\r"
     ]
    },
    {
     "name": "stderr",
     "output_type": "stream",
     "text": [
      "\r",
      "[Stage 2016:==================================>              (7015 + 4) / 10000]\r",
      "\r",
      "[Stage 2016:==================================>              (7063 + 4) / 10000]\r"
     ]
    },
    {
     "name": "stderr",
     "output_type": "stream",
     "text": [
      "\r",
      "[Stage 2016:==================================>              (7095 + 4) / 10000]\r",
      "\r",
      "[Stage 2016:==================================>              (7141 + 4) / 10000]\r"
     ]
    },
    {
     "name": "stderr",
     "output_type": "stream",
     "text": [
      "\r",
      "[Stage 2016:===================================>             (7165 + 4) / 10000]\r",
      "\r",
      "[Stage 2016:===================================>             (7197 + 4) / 10000]\r"
     ]
    },
    {
     "name": "stderr",
     "output_type": "stream",
     "text": [
      "\r",
      "[Stage 2016:===================================>             (7226 + 4) / 10000]\r",
      "\r",
      "[Stage 2016:===================================>             (7265 + 5) / 10000]\r"
     ]
    },
    {
     "name": "stderr",
     "output_type": "stream",
     "text": [
      "\r",
      "[Stage 2016:===================================>             (7273 + 4) / 10000]\r",
      "\r",
      "[Stage 2016:===================================>             (7319 + 4) / 10000]\r"
     ]
    },
    {
     "name": "stderr",
     "output_type": "stream",
     "text": [
      "\r",
      "[Stage 2016:====================================>            (7368 + 4) / 10000]\r",
      "\r",
      "[Stage 2016:====================================>            (7412 + 4) / 10000]\r"
     ]
    },
    {
     "name": "stderr",
     "output_type": "stream",
     "text": [
      "\r",
      "[Stage 2016:====================================>            (7469 + 4) / 10000]\r",
      "\r",
      "[Stage 2016:====================================>            (7509 + 4) / 10000]\r"
     ]
    },
    {
     "name": "stderr",
     "output_type": "stream",
     "text": [
      "\r",
      "[Stage 2016:=====================================>           (7568 + 4) / 10000]\r",
      "\r",
      "[Stage 2016:=====================================>           (7612 + 4) / 10000]\r"
     ]
    },
    {
     "name": "stderr",
     "output_type": "stream",
     "text": [
      "\r",
      "[Stage 2016:=====================================>           (7647 + 5) / 10000]\r",
      "\r",
      "[Stage 2016:=====================================>           (7677 + 4) / 10000]\r"
     ]
    },
    {
     "name": "stderr",
     "output_type": "stream",
     "text": [
      "\r",
      "[Stage 2016:=====================================>           (7703 + 4) / 10000]\r"
     ]
    },
    {
     "name": "stderr",
     "output_type": "stream",
     "text": [
      "\r",
      "[Stage 2016:=====================================>           (7716 + 8) / 10000]\r",
      "\r",
      "[Stage 2016:=====================================>           (7723 + 4) / 10000]\r"
     ]
    },
    {
     "name": "stderr",
     "output_type": "stream",
     "text": [
      "\r",
      "[Stage 2016:=====================================>           (7738 + 4) / 10000]\r"
     ]
    },
    {
     "name": "stderr",
     "output_type": "stream",
     "text": [
      "\r",
      "[Stage 2016:=====================================>           (7749 + 4) / 10000]\r",
      "\r",
      "[Stage 2016:======================================>          (7762 + 4) / 10000]\r"
     ]
    },
    {
     "name": "stderr",
     "output_type": "stream",
     "text": [
      "\r",
      "[Stage 2016:======================================>          (7772 + 4) / 10000]\r",
      "\r",
      "[Stage 2016:======================================>          (7792 + 5) / 10000]\r"
     ]
    },
    {
     "name": "stderr",
     "output_type": "stream",
     "text": [
      "\r",
      "[Stage 2016:======================================>          (7813 + 4) / 10000]\r",
      "\r",
      "[Stage 2016:======================================>          (7832 + 5) / 10000]\r"
     ]
    },
    {
     "name": "stderr",
     "output_type": "stream",
     "text": [
      "\r",
      "[Stage 2016:======================================>          (7863 + 4) / 10000]\r"
     ]
    },
    {
     "name": "stderr",
     "output_type": "stream",
     "text": [
      "\r",
      "[Stage 2016:======================================>          (7920 + 5) / 10000]\r"
     ]
    },
    {
     "name": "stderr",
     "output_type": "stream",
     "text": [
      "\r",
      "[Stage 2016:=======================================>         (7980 + 5) / 10000]\r",
      "\r",
      "[Stage 2016:=======================================>         (8019 + 4) / 10000]\r"
     ]
    },
    {
     "name": "stderr",
     "output_type": "stream",
     "text": [
      "\r",
      "[Stage 2016:=======================================>         (8056 + 5) / 10000]\r",
      "\r",
      "[Stage 2016:=======================================>         (8096 + 4) / 10000]\r"
     ]
    },
    {
     "name": "stderr",
     "output_type": "stream",
     "text": [
      "\r",
      "[Stage 2016:=======================================>         (8147 + 4) / 10000]\r",
      "\r",
      "[Stage 2016:========================================>        (8198 + 4) / 10000]\r"
     ]
    },
    {
     "name": "stderr",
     "output_type": "stream",
     "text": [
      "\r",
      "[Stage 2016:========================================>        (8246 + 4) / 10000]\r",
      "\r",
      "[Stage 2016:========================================>        (8295 + 4) / 10000]\r"
     ]
    },
    {
     "name": "stderr",
     "output_type": "stream",
     "text": [
      "\r",
      "[Stage 2016:========================================>        (8347 + 4) / 10000]\r",
      "\r",
      "[Stage 2016:=========================================>       (8384 + 4) / 10000]\r"
     ]
    },
    {
     "name": "stderr",
     "output_type": "stream",
     "text": [
      "\r",
      "[Stage 2016:=========================================>       (8426 + 4) / 10000]\r",
      "\r",
      "[Stage 2016:=========================================>       (8456 + 4) / 10000]\r"
     ]
    },
    {
     "name": "stderr",
     "output_type": "stream",
     "text": [
      "\r",
      "[Stage 2016:=========================================>       (8476 + 4) / 10000]\r",
      "\r",
      "[Stage 2016:=========================================>       (8523 + 4) / 10000]\r"
     ]
    },
    {
     "name": "stderr",
     "output_type": "stream",
     "text": [
      "\r",
      "[Stage 2016:=========================================>       (8559 + 4) / 10000]\r",
      "\r",
      "[Stage 2016:==========================================>      (8601 + 4) / 10000]\r"
     ]
    },
    {
     "name": "stderr",
     "output_type": "stream",
     "text": [
      "\r",
      "[Stage 2016:==========================================>      (8635 + 4) / 10000]\r",
      "\r",
      "[Stage 2016:==========================================>      (8676 + 4) / 10000]\r"
     ]
    },
    {
     "name": "stderr",
     "output_type": "stream",
     "text": [
      "\r",
      "[Stage 2016:==========================================>      (8693 + 4) / 10000]\r",
      "\r",
      "[Stage 2016:==========================================>      (8730 + 4) / 10000]\r"
     ]
    },
    {
     "name": "stderr",
     "output_type": "stream",
     "text": [
      "\r",
      "[Stage 2016:===========================================>     (8776 + 4) / 10000]\r",
      "\r",
      "[Stage 2016:===========================================>     (8832 + 5) / 10000]\r"
     ]
    },
    {
     "name": "stderr",
     "output_type": "stream",
     "text": [
      "\r",
      "[Stage 2016:===========================================>     (8884 + 4) / 10000]\r",
      "\r",
      "[Stage 2016:===========================================>     (8923 + 4) / 10000]\r"
     ]
    },
    {
     "name": "stderr",
     "output_type": "stream",
     "text": [
      "\r",
      "[Stage 2016:===========================================>     (8965 + 4) / 10000]\r",
      "\r",
      "[Stage 2016:============================================>    (9007 + 4) / 10000]\r"
     ]
    },
    {
     "name": "stderr",
     "output_type": "stream",
     "text": [
      "\r",
      "[Stage 2016:============================================>    (9044 + 4) / 10000]\r",
      "\r",
      "[Stage 2016:============================================>    (9073 + 4) / 10000]\r"
     ]
    },
    {
     "name": "stderr",
     "output_type": "stream",
     "text": [
      "\r",
      "[Stage 2016:============================================>    (9115 + 5) / 10000]\r",
      "\r",
      "[Stage 2016:============================================>    (9143 + 4) / 10000]\r"
     ]
    },
    {
     "name": "stderr",
     "output_type": "stream",
     "text": [
      "\r",
      "[Stage 2016:============================================>    (9174 + 4) / 10000]\r",
      "\r",
      "[Stage 2016:=============================================>   (9206 + 4) / 10000]\r"
     ]
    },
    {
     "name": "stderr",
     "output_type": "stream",
     "text": [
      "\r",
      "[Stage 2016:=============================================>   (9217 + 4) / 10000]\r",
      "\r",
      "[Stage 2016:=============================================>   (9228 + 4) / 10000]\r"
     ]
    },
    {
     "name": "stderr",
     "output_type": "stream",
     "text": [
      "\r",
      "[Stage 2016:=============================================>   (9244 + 4) / 10000]\r",
      "\r",
      "[Stage 2016:=============================================>   (9255 + 4) / 10000]\r"
     ]
    },
    {
     "name": "stderr",
     "output_type": "stream",
     "text": [
      "\r",
      "[Stage 2016:=============================================>   (9265 + 4) / 10000]\r",
      "\r",
      "[Stage 2016:=============================================>   (9286 + 4) / 10000]\r"
     ]
    },
    {
     "name": "stderr",
     "output_type": "stream",
     "text": [
      "\r",
      "[Stage 2016:=============================================>   (9301 + 4) / 10000]\r",
      "\r",
      "[Stage 2016:=============================================>   (9327 + 4) / 10000]\r"
     ]
    },
    {
     "name": "stderr",
     "output_type": "stream",
     "text": [
      "\r",
      "[Stage 2016:=============================================>   (9354 + 4) / 10000]\r"
     ]
    },
    {
     "name": "stderr",
     "output_type": "stream",
     "text": [
      "\r",
      "[Stage 2016:=============================================>   (9385 + 4) / 10000]\r",
      "\r",
      "[Stage 2016:==============================================>  (9424 + 4) / 10000]\r"
     ]
    },
    {
     "name": "stderr",
     "output_type": "stream",
     "text": [
      "\r",
      "[Stage 2016:==============================================>  (9462 + 4) / 10000]\r",
      "\r",
      "[Stage 2016:==============================================>  (9510 + 4) / 10000]\r"
     ]
    },
    {
     "name": "stderr",
     "output_type": "stream",
     "text": [
      "\r",
      "[Stage 2016:==============================================>  (9546 + 4) / 10000]\r",
      "\r",
      "[Stage 2016:==============================================>  (9576 + 4) / 10000]\r"
     ]
    },
    {
     "name": "stderr",
     "output_type": "stream",
     "text": [
      "\r",
      "[Stage 2016:===============================================> (9607 + 4) / 10000]\r",
      "\r",
      "[Stage 2016:===============================================> (9632 + 4) / 10000]\r"
     ]
    },
    {
     "name": "stderr",
     "output_type": "stream",
     "text": [
      "\r",
      "[Stage 2016:===============================================> (9662 + 4) / 10000]\r",
      "\r",
      "[Stage 2016:===============================================> (9703 + 4) / 10000]\r"
     ]
    },
    {
     "name": "stderr",
     "output_type": "stream",
     "text": [
      "\r",
      "[Stage 2016:===============================================> (9733 + 4) / 10000]\r"
     ]
    },
    {
     "name": "stderr",
     "output_type": "stream",
     "text": [
      "\r",
      "[Stage 2016:===============================================> (9758 + 4) / 10000]\r",
      "\r",
      "[Stage 2016:===============================================> (9790 + 4) / 10000]\r"
     ]
    },
    {
     "name": "stderr",
     "output_type": "stream",
     "text": [
      "\r",
      "[Stage 2016:================================================>(9834 + 5) / 10000]\r",
      "\r",
      "[Stage 2016:================================================>(9868 + 4) / 10000]\r"
     ]
    },
    {
     "name": "stderr",
     "output_type": "stream",
     "text": [
      "\r",
      "[Stage 2016:================================================>(9919 + 4) / 10000]\r",
      "\r",
      "[Stage 2016:================================================>(9973 + 5) / 10000]\r"
     ]
    },
    {
     "name": "stderr",
     "output_type": "stream",
     "text": [
      "\r",
      "[Stage 2017:>                                                       (0 + 1) / 1]\r"
     ]
    },
    {
     "name": "stderr",
     "output_type": "stream",
     "text": [
      "\r",
      "                                                                                \r"
     ]
    },
    {
     "name": "stderr",
     "output_type": "stream",
     "text": [
      "\r",
      "[Stage 2019:==============>                                       (13 + 4) / 50]\r",
      "\r",
      "[Stage 2019:=============================>                        (27 + 4) / 50]\r"
     ]
    },
    {
     "name": "stderr",
     "output_type": "stream",
     "text": [
      "\r",
      "[Stage 2019:========>     (30 + 4) / 50][Stage 2021:>           (0 + 0) / 10000]\r"
     ]
    },
    {
     "name": "stderr",
     "output_type": "stream",
     "text": [
      "\r",
      "[Stage 2019:==========>   (38 + 4) / 50][Stage 2021:>           (0 + 0) / 10000]\r",
      "\r",
      "[Stage 2019:=============>(49 + 1) / 50][Stage 2021:>           (5 + 3) / 10000]\r"
     ]
    },
    {
     "name": "stderr",
     "output_type": "stream",
     "text": [
      "\r",
      "[Stage 2021:>                                                  (53 + 4) / 10000]\r",
      "\r",
      "[Stage 2021:>                                                  (65 + 4) / 10000]\r"
     ]
    },
    {
     "name": "stderr",
     "output_type": "stream",
     "text": [
      "\r",
      "[Stage 2021:>                                                 (117 + 4) / 10000]\r",
      "\r",
      "[Stage 2021:>                                                 (170 + 4) / 10000]\r"
     ]
    },
    {
     "name": "stderr",
     "output_type": "stream",
     "text": [
      "\r",
      "[Stage 2021:=>                                                (205 + 4) / 10000]\r",
      "\r",
      "[Stage 2021:=>                                                (238 + 4) / 10000]\r"
     ]
    },
    {
     "name": "stderr",
     "output_type": "stream",
     "text": [
      "\r",
      "[Stage 2021:=>                                                (286 + 4) / 10000]\r",
      "\r",
      "[Stage 2021:=>                                                (335 + 4) / 10000]\r"
     ]
    },
    {
     "name": "stderr",
     "output_type": "stream",
     "text": [
      "\r",
      "[Stage 2021:=>                                                (365 + 4) / 10000]\r",
      "\r",
      "[Stage 2021:==>                                               (405 + 4) / 10000]\r"
     ]
    },
    {
     "name": "stderr",
     "output_type": "stream",
     "text": [
      "\r",
      "[Stage 2021:==>                                               (442 + 4) / 10000]\r",
      "\r",
      "[Stage 2021:==>                                               (489 + 5) / 10000]\r"
     ]
    },
    {
     "name": "stderr",
     "output_type": "stream",
     "text": [
      "\r",
      "[Stage 2021:==>                                               (521 + 5) / 10000]\r",
      "\r",
      "[Stage 2021:==>                                               (567 + 4) / 10000]\r"
     ]
    },
    {
     "name": "stderr",
     "output_type": "stream",
     "text": [
      "\r",
      "[Stage 2021:===>                                              (620 + 5) / 10000]\r",
      "\r",
      "[Stage 2021:===>                                              (648 + 4) / 10000]\r"
     ]
    },
    {
     "name": "stderr",
     "output_type": "stream",
     "text": [
      "\r",
      "[Stage 2021:===>                                              (678 + 4) / 10000]\r",
      "\r",
      "[Stage 2021:===>                                              (714 + 4) / 10000]\r"
     ]
    },
    {
     "name": "stderr",
     "output_type": "stream",
     "text": [
      "\r",
      "[Stage 2021:===>                                              (748 + 4) / 10000]\r"
     ]
    },
    {
     "name": "stderr",
     "output_type": "stream",
     "text": [
      "\r",
      "[Stage 2021:====>                                             (803 + 4) / 10000]\r",
      "\r",
      "[Stage 2021:====>                                             (846 + 4) / 10000]\r"
     ]
    },
    {
     "name": "stderr",
     "output_type": "stream",
     "text": [
      "\r",
      "[Stage 2021:====>                                             (889 + 4) / 10000]\r",
      "\r",
      "[Stage 2021:====>                                             (944 + 4) / 10000]\r"
     ]
    },
    {
     "name": "stderr",
     "output_type": "stream",
     "text": [
      "\r",
      "[Stage 2021:====>                                             (997 + 4) / 10000]\r",
      "\r",
      "[Stage 2021:=====>                                           (1047 + 4) / 10000]\r"
     ]
    },
    {
     "name": "stderr",
     "output_type": "stream",
     "text": [
      "\r",
      "[Stage 2021:=====>                                           (1106 + 4) / 10000]\r"
     ]
    },
    {
     "name": "stderr",
     "output_type": "stream",
     "text": [
      "\r",
      "[Stage 2021:=====>                                           (1165 + 4) / 10000]\r",
      "\r",
      "[Stage 2021:=====>                                           (1192 + 4) / 10000]\r"
     ]
    },
    {
     "name": "stderr",
     "output_type": "stream",
     "text": [
      "\r",
      "[Stage 2021:=====>                                           (1211 + 4) / 10000]\r",
      "\r",
      "[Stage 2021:======>                                          (1238 + 4) / 10000]\r"
     ]
    },
    {
     "name": "stderr",
     "output_type": "stream",
     "text": [
      "\r",
      "[Stage 2021:======>                                          (1275 + 4) / 10000]\r",
      "\r",
      "[Stage 2021:======>                                          (1298 + 4) / 10000]\r"
     ]
    },
    {
     "name": "stderr",
     "output_type": "stream",
     "text": [
      "\r",
      "[Stage 2021:======>                                          (1338 + 4) / 10000]\r",
      "\r",
      "[Stage 2021:======>                                          (1375 + 4) / 10000]\r"
     ]
    },
    {
     "name": "stderr",
     "output_type": "stream",
     "text": [
      "\r",
      "[Stage 2021:======>                                          (1422 + 4) / 10000]\r",
      "\r",
      "[Stage 2021:=======>                                         (1464 + 4) / 10000]\r"
     ]
    },
    {
     "name": "stderr",
     "output_type": "stream",
     "text": [
      "\r",
      "[Stage 2021:=======>                                         (1510 + 4) / 10000]\r",
      "\r",
      "[Stage 2021:=======>                                         (1552 + 4) / 10000]\r"
     ]
    },
    {
     "name": "stderr",
     "output_type": "stream",
     "text": [
      "\r",
      "[Stage 2021:=======>                                         (1587 + 4) / 10000]\r",
      "\r",
      "[Stage 2021:========>                                        (1637 + 4) / 10000]\r"
     ]
    },
    {
     "name": "stderr",
     "output_type": "stream",
     "text": [
      "\r",
      "[Stage 2021:========>                                        (1684 + 4) / 10000]\r",
      "\r",
      "[Stage 2021:========>                                        (1719 + 4) / 10000]\r"
     ]
    },
    {
     "name": "stderr",
     "output_type": "stream",
     "text": [
      "\r",
      "[Stage 2021:========>                                        (1767 + 4) / 10000]\r"
     ]
    },
    {
     "name": "stderr",
     "output_type": "stream",
     "text": [
      "\r",
      "[Stage 2021:========>                                        (1813 + 4) / 10000]\r"
     ]
    },
    {
     "name": "stderr",
     "output_type": "stream",
     "text": [
      "\r",
      "[Stage 2021:========>                                        (1832 + 5) / 10000]\r",
      "\r",
      "[Stage 2021:=========>                                       (1870 + 4) / 10000]\r"
     ]
    },
    {
     "name": "stderr",
     "output_type": "stream",
     "text": [
      "\r",
      "[Stage 2021:=========>                                       (1907 + 4) / 10000]\r"
     ]
    },
    {
     "name": "stderr",
     "output_type": "stream",
     "text": [
      "\r",
      "[Stage 2021:=========>                                       (1943 + 4) / 10000]\r",
      "\r",
      "[Stage 2021:=========>                                       (1992 + 5) / 10000]\r"
     ]
    },
    {
     "name": "stderr",
     "output_type": "stream",
     "text": [
      "\r",
      "[Stage 2021:=========>                                       (2037 + 4) / 10000]\r",
      "\r",
      "[Stage 2021:==========>                                      (2075 + 4) / 10000]\r"
     ]
    },
    {
     "name": "stderr",
     "output_type": "stream",
     "text": [
      "\r",
      "[Stage 2021:==========>                                      (2115 + 4) / 10000]\r",
      "\r",
      "[Stage 2021:==========>                                      (2156 + 4) / 10000]\r"
     ]
    },
    {
     "name": "stderr",
     "output_type": "stream",
     "text": [
      "\r",
      "[Stage 2021:==========>                                      (2205 + 4) / 10000]\r",
      "\r",
      "[Stage 2021:===========>                                     (2255 + 4) / 10000]\r"
     ]
    },
    {
     "name": "stderr",
     "output_type": "stream",
     "text": [
      "\r",
      "[Stage 2021:===========>                                     (2297 + 4) / 10000]\r",
      "\r",
      "[Stage 2021:===========>                                     (2341 + 4) / 10000]\r"
     ]
    },
    {
     "name": "stderr",
     "output_type": "stream",
     "text": [
      "\r",
      "[Stage 2021:===========>                                     (2373 + 4) / 10000]\r",
      "\r",
      "[Stage 2021:===========>                                     (2431 + 4) / 10000]\r"
     ]
    },
    {
     "name": "stderr",
     "output_type": "stream",
     "text": [
      "\r",
      "[Stage 2021:============>                                    (2485 + 4) / 10000]\r",
      "\r",
      "[Stage 2021:============>                                    (2541 + 4) / 10000]\r"
     ]
    },
    {
     "name": "stderr",
     "output_type": "stream",
     "text": [
      "\r",
      "[Stage 2021:============>                                    (2595 + 4) / 10000]\r"
     ]
    },
    {
     "name": "stderr",
     "output_type": "stream",
     "text": [
      "\r",
      "[Stage 2021:============>                                    (2647 + 4) / 10000]\r",
      "\r",
      "[Stage 2021:=============>                                   (2695 + 4) / 10000]\r"
     ]
    },
    {
     "name": "stderr",
     "output_type": "stream",
     "text": [
      "\r",
      "[Stage 2021:=============>                                   (2743 + 4) / 10000]\r",
      "\r",
      "[Stage 2021:=============>                                   (2799 + 4) / 10000]\r"
     ]
    },
    {
     "name": "stderr",
     "output_type": "stream",
     "text": [
      "\r",
      "[Stage 2021:=============>                                   (2835 + 4) / 10000]\r",
      "\r",
      "[Stage 2021:=============>                                   (2835 + 7) / 10000]\r"
     ]
    },
    {
     "name": "stderr",
     "output_type": "stream",
     "text": [
      "\r",
      "[Stage 2021:=============>                                   (2838 + 4) / 10000]\r",
      "\r",
      "[Stage 2021:=============>                                   (2841 + 6) / 10000]\r"
     ]
    },
    {
     "name": "stderr",
     "output_type": "stream",
     "text": [
      "\r",
      "[Stage 2021:=============>                                   (2850 + 4) / 10000]\r"
     ]
    },
    {
     "name": "stderr",
     "output_type": "stream",
     "text": [
      "\r",
      "[Stage 2021:==============>                                  (2858 + 4) / 10000]\r",
      "\r",
      "[Stage 2021:==============>                                  (2871 + 4) / 10000]\r"
     ]
    },
    {
     "name": "stderr",
     "output_type": "stream",
     "text": [
      "\r",
      "[Stage 2021:==============>                                  (2923 + 4) / 10000]\r",
      "\r",
      "[Stage 2021:==============>                                  (2969 + 4) / 10000]\r"
     ]
    },
    {
     "name": "stderr",
     "output_type": "stream",
     "text": [
      "\r",
      "[Stage 2021:==============>                                  (3019 + 4) / 10000]\r",
      "\r",
      "[Stage 2021:==============>                                  (3060 + 4) / 10000]\r"
     ]
    },
    {
     "name": "stderr",
     "output_type": "stream",
     "text": [
      "\r",
      "[Stage 2021:===============>                                 (3087 + 4) / 10000]\r",
      "\r",
      "[Stage 2021:===============>                                 (3127 + 4) / 10000]\r"
     ]
    },
    {
     "name": "stderr",
     "output_type": "stream",
     "text": [
      "\r",
      "[Stage 2021:===============>                                 (3155 + 6) / 10000]\r",
      "\r",
      "[Stage 2021:===============>                                 (3195 + 4) / 10000]\r"
     ]
    },
    {
     "name": "stderr",
     "output_type": "stream",
     "text": [
      "\r",
      "[Stage 2021:===============>                                 (3229 + 4) / 10000]\r",
      "\r",
      "[Stage 2021:================>                                (3269 + 4) / 10000]\r"
     ]
    },
    {
     "name": "stderr",
     "output_type": "stream",
     "text": [
      "\r",
      "[Stage 2021:================>                                (3311 + 4) / 10000]\r",
      "\r",
      "[Stage 2021:================>                                (3350 + 4) / 10000]\r"
     ]
    },
    {
     "name": "stderr",
     "output_type": "stream",
     "text": [
      "\r",
      "[Stage 2021:================>                                (3398 + 4) / 10000]\r",
      "\r",
      "[Stage 2021:================>                                (3430 + 4) / 10000]\r"
     ]
    },
    {
     "name": "stderr",
     "output_type": "stream",
     "text": [
      "\r",
      "[Stage 2021:================>                                (3469 + 4) / 10000]\r"
     ]
    },
    {
     "name": "stderr",
     "output_type": "stream",
     "text": [
      "\r",
      "[Stage 2021:=================>                               (3503 + 4) / 10000]\r",
      "\r",
      "[Stage 2021:=================>                               (3518 + 4) / 10000]\r"
     ]
    },
    {
     "name": "stderr",
     "output_type": "stream",
     "text": [
      "\r",
      "[Stage 2021:=================>                               (3562 + 5) / 10000]\r"
     ]
    },
    {
     "name": "stderr",
     "output_type": "stream",
     "text": [
      "\r",
      "[Stage 2021:=================>                               (3604 + 4) / 10000]\r",
      "\r",
      "[Stage 2021:=================>                               (3641 + 4) / 10000]\r"
     ]
    },
    {
     "name": "stderr",
     "output_type": "stream",
     "text": [
      "\r",
      "[Stage 2021:=================>                               (3670 + 4) / 10000]\r",
      "\r",
      "[Stage 2021:==================>                              (3691 + 4) / 10000]\r"
     ]
    },
    {
     "name": "stderr",
     "output_type": "stream",
     "text": [
      "\r",
      "[Stage 2021:==================>                              (3704 + 4) / 10000]\r",
      "\r",
      "[Stage 2021:==================>                              (3739 + 4) / 10000]\r"
     ]
    },
    {
     "name": "stderr",
     "output_type": "stream",
     "text": [
      "\r",
      "[Stage 2021:==================>                              (3756 + 4) / 10000]\r"
     ]
    },
    {
     "name": "stderr",
     "output_type": "stream",
     "text": [
      "\r",
      "[Stage 2021:==================>                              (3774 + 4) / 10000]\r",
      "\r",
      "[Stage 2021:==================>                              (3805 + 4) / 10000]\r"
     ]
    },
    {
     "name": "stderr",
     "output_type": "stream",
     "text": [
      "\r",
      "[Stage 2021:==================>                              (3822 + 4) / 10000]\r",
      "\r",
      "[Stage 2021:==================>                              (3831 + 4) / 10000]\r"
     ]
    },
    {
     "name": "stderr",
     "output_type": "stream",
     "text": [
      "\r",
      "[Stage 2021:==================>                              (3844 + 4) / 10000]\r",
      "\r",
      "[Stage 2021:==================>                              (3850 + 4) / 10000]\r"
     ]
    },
    {
     "name": "stderr",
     "output_type": "stream",
     "text": [
      "\r",
      "[Stage 2021:==================>                              (3853 + 4) / 10000]\r",
      "\r",
      "[Stage 2021:===================>                             (3882 + 4) / 10000]\r"
     ]
    },
    {
     "name": "stderr",
     "output_type": "stream",
     "text": [
      "\r",
      "[Stage 2021:===================>                             (3907 + 4) / 10000]\r",
      "\r",
      "[Stage 2021:===================>                             (3926 + 4) / 10000]\r"
     ]
    },
    {
     "name": "stderr",
     "output_type": "stream",
     "text": [
      "\r",
      "[Stage 2021:===================>                             (3944 + 5) / 10000]\r",
      "\r",
      "[Stage 2021:===================>                             (3955 + 4) / 10000]\r"
     ]
    },
    {
     "name": "stderr",
     "output_type": "stream",
     "text": [
      "\r",
      "[Stage 2021:===================>                             (3970 + 4) / 10000]\r",
      "\r",
      "[Stage 2021:===================>                             (3992 + 4) / 10000]\r"
     ]
    },
    {
     "name": "stderr",
     "output_type": "stream",
     "text": [
      "\r",
      "[Stage 2021:===================>                             (4017 + 4) / 10000]\r",
      "\r",
      "[Stage 2021:===================>                             (4036 + 4) / 10000]\r"
     ]
    },
    {
     "name": "stderr",
     "output_type": "stream",
     "text": [
      "\r",
      "[Stage 2021:===================>                             (4061 + 4) / 10000]\r",
      "\r",
      "[Stage 2021:====================>                            (4086 + 4) / 10000]\r"
     ]
    },
    {
     "name": "stderr",
     "output_type": "stream",
     "text": [
      "\r",
      "[Stage 2021:====================>                            (4110 + 4) / 10000]\r",
      "\r",
      "[Stage 2021:====================>                            (4127 + 4) / 10000]\r"
     ]
    },
    {
     "name": "stderr",
     "output_type": "stream",
     "text": [
      "\r",
      "[Stage 2021:====================>                            (4154 + 4) / 10000]\r",
      "\r",
      "[Stage 2021:====================>                            (4189 + 4) / 10000]\r"
     ]
    },
    {
     "name": "stderr",
     "output_type": "stream",
     "text": [
      "\r",
      "[Stage 2021:====================>                            (4221 + 4) / 10000]\r",
      "\r",
      "[Stage 2021:====================>                            (4245 + 6) / 10000]\r"
     ]
    },
    {
     "name": "stderr",
     "output_type": "stream",
     "text": [
      "\r",
      "[Stage 2021:====================>                            (4277 + 5) / 10000]\r",
      "\r",
      "[Stage 2021:=====================>                           (4308 + 4) / 10000]\r"
     ]
    },
    {
     "name": "stderr",
     "output_type": "stream",
     "text": [
      "\r",
      "[Stage 2021:=====================>                           (4342 + 4) / 10000]\r"
     ]
    },
    {
     "name": "stderr",
     "output_type": "stream",
     "text": [
      "\r",
      "[Stage 2021:=====================>                           (4365 + 4) / 10000]\r",
      "\r",
      "[Stage 2021:=====================>                           (4392 + 4) / 10000]\r"
     ]
    },
    {
     "name": "stderr",
     "output_type": "stream",
     "text": [
      "\r",
      "[Stage 2021:=====================>                           (4422 + 4) / 10000]\r",
      "\r",
      "[Stage 2021:=====================>                           (4449 + 4) / 10000]\r"
     ]
    },
    {
     "name": "stderr",
     "output_type": "stream",
     "text": [
      "\r",
      "[Stage 2021:=====================>                           (4470 + 4) / 10000]\r",
      "\r",
      "[Stage 2021:======================>                          (4491 + 4) / 10000]\r"
     ]
    },
    {
     "name": "stderr",
     "output_type": "stream",
     "text": [
      "\r",
      "[Stage 2021:======================>                          (4511 + 4) / 10000]\r",
      "\r",
      "[Stage 2021:======================>                          (4527 + 4) / 10000]\r"
     ]
    },
    {
     "name": "stderr",
     "output_type": "stream",
     "text": [
      "\r",
      "[Stage 2021:======================>                          (4551 + 4) / 10000]\r",
      "\r",
      "[Stage 2021:======================>                          (4580 + 4) / 10000]\r"
     ]
    },
    {
     "name": "stderr",
     "output_type": "stream",
     "text": [
      "\r",
      "[Stage 2021:======================>                          (4604 + 5) / 10000]\r",
      "\r",
      "[Stage 2021:======================>                          (4629 + 5) / 10000]\r"
     ]
    },
    {
     "name": "stderr",
     "output_type": "stream",
     "text": [
      "\r",
      "[Stage 2021:======================>                          (4662 + 4) / 10000]\r"
     ]
    },
    {
     "name": "stderr",
     "output_type": "stream",
     "text": [
      "\r",
      "[Stage 2021:======================>                          (4683 + 4) / 10000]\r",
      "\r",
      "[Stage 2021:=======================>                         (4722 + 4) / 10000]\r"
     ]
    },
    {
     "name": "stderr",
     "output_type": "stream",
     "text": [
      "\r",
      "[Stage 2021:=======================>                         (4750 + 4) / 10000]\r",
      "\r",
      "[Stage 2021:=======================>                         (4774 + 5) / 10000]\r"
     ]
    },
    {
     "name": "stderr",
     "output_type": "stream",
     "text": [
      "\r",
      "[Stage 2021:=======================>                         (4804 + 5) / 10000]\r"
     ]
    },
    {
     "name": "stderr",
     "output_type": "stream",
     "text": [
      "\r",
      "[Stage 2021:=======================>                         (4833 + 4) / 10000]\r",
      "\r",
      "[Stage 2021:=======================>                         (4845 + 4) / 10000]\r"
     ]
    },
    {
     "name": "stderr",
     "output_type": "stream",
     "text": [
      "\r",
      "[Stage 2021:=======================>                         (4871 + 4) / 10000]\r"
     ]
    },
    {
     "name": "stderr",
     "output_type": "stream",
     "text": [
      "\r",
      "[Stage 2021:========================>                        (4904 + 4) / 10000]\r",
      "\r",
      "[Stage 2021:========================>                        (4943 + 5) / 10000]\r"
     ]
    },
    {
     "name": "stderr",
     "output_type": "stream",
     "text": [
      "\r",
      "[Stage 2021:========================>                        (4974 + 4) / 10000]\r",
      "\r",
      "[Stage 2021:========================>                        (5008 + 4) / 10000]\r"
     ]
    },
    {
     "name": "stderr",
     "output_type": "stream",
     "text": [
      "\r",
      "[Stage 2021:========================>                        (5057 + 4) / 10000]\r"
     ]
    },
    {
     "name": "stderr",
     "output_type": "stream",
     "text": [
      "\r",
      "[Stage 2021:=========================>                       (5114 + 4) / 10000]\r",
      "\r",
      "[Stage 2021:=========================>                       (5160 + 6) / 10000]\r"
     ]
    },
    {
     "name": "stderr",
     "output_type": "stream",
     "text": [
      "\r",
      "[Stage 2021:=========================>                       (5198 + 4) / 10000]\r"
     ]
    },
    {
     "name": "stderr",
     "output_type": "stream",
     "text": [
      "\r",
      "[Stage 2021:=========================>                       (5217 + 4) / 10000]\r",
      "\r",
      "[Stage 2021:=========================>                       (5257 + 4) / 10000]\r"
     ]
    },
    {
     "name": "stderr",
     "output_type": "stream",
     "text": [
      "\r",
      "[Stage 2021:=========================>                       (5301 + 4) / 10000]\r",
      "\r",
      "[Stage 2021:==========================>                      (5355 + 4) / 10000]\r"
     ]
    },
    {
     "name": "stderr",
     "output_type": "stream",
     "text": [
      "\r",
      "[Stage 2021:==========================>                      (5410 + 4) / 10000]\r"
     ]
    },
    {
     "name": "stderr",
     "output_type": "stream",
     "text": [
      "\r",
      "[Stage 2021:==========================>                      (5468 + 4) / 10000]\r",
      "\r",
      "[Stage 2021:==========================>                      (5502 + 4) / 10000]\r"
     ]
    },
    {
     "name": "stderr",
     "output_type": "stream",
     "text": [
      "\r",
      "[Stage 2021:===========================>                     (5543 + 4) / 10000]\r",
      "\r",
      "[Stage 2021:===========================>                     (5583 + 4) / 10000]\r"
     ]
    },
    {
     "name": "stderr",
     "output_type": "stream",
     "text": [
      "\r",
      "[Stage 2021:===========================>                     (5614 + 5) / 10000]\r",
      "\r",
      "[Stage 2021:===========================>                     (5642 + 4) / 10000]\r"
     ]
    },
    {
     "name": "stderr",
     "output_type": "stream",
     "text": [
      "\r",
      "[Stage 2021:===========================>                     (5678 + 4) / 10000]\r",
      "\r",
      "[Stage 2021:===========================>                     (5705 + 4) / 10000]\r"
     ]
    },
    {
     "name": "stderr",
     "output_type": "stream",
     "text": [
      "\r",
      "[Stage 2021:============================>                    (5722 + 4) / 10000]\r",
      "\r",
      "[Stage 2021:============================>                    (5758 + 4) / 10000]\r"
     ]
    },
    {
     "name": "stderr",
     "output_type": "stream",
     "text": [
      "\r",
      "[Stage 2021:============================>                    (5796 + 4) / 10000]\r",
      "\r",
      "[Stage 2021:============================>                    (5830 + 4) / 10000]\r"
     ]
    },
    {
     "name": "stderr",
     "output_type": "stream",
     "text": [
      "\r",
      "[Stage 2021:============================>                    (5877 + 4) / 10000]\r",
      "\r",
      "[Stage 2021:============================>                    (5913 + 4) / 10000]\r"
     ]
    },
    {
     "name": "stderr",
     "output_type": "stream",
     "text": [
      "\r",
      "[Stage 2021:=============================>                   (5939 + 4) / 10000]\r",
      "\r",
      "[Stage 2021:=============================>                   (5966 + 4) / 10000]\r"
     ]
    },
    {
     "name": "stderr",
     "output_type": "stream",
     "text": [
      "\r",
      "[Stage 2021:=============================>                   (6001 + 4) / 10000]\r",
      "\r",
      "[Stage 2021:=============================>                   (6028 + 4) / 10000]\r"
     ]
    },
    {
     "name": "stderr",
     "output_type": "stream",
     "text": [
      "\r",
      "[Stage 2021:=============================>                   (6048 + 4) / 10000]\r",
      "\r",
      "[Stage 2021:=============================>                   (6080 + 4) / 10000]\r"
     ]
    },
    {
     "name": "stderr",
     "output_type": "stream",
     "text": [
      "\r",
      "[Stage 2021:=============================>                   (6104 + 4) / 10000]\r"
     ]
    },
    {
     "name": "stderr",
     "output_type": "stream",
     "text": [
      "\r",
      "[Stage 2021:=============================>                   (6112 + 4) / 10000]\r",
      "\r",
      "[Stage 2021:==============================>                  (6150 + 4) / 10000]\r"
     ]
    },
    {
     "name": "stderr",
     "output_type": "stream",
     "text": [
      "\r",
      "[Stage 2021:==============================>                  (6181 + 4) / 10000]\r"
     ]
    },
    {
     "name": "stderr",
     "output_type": "stream",
     "text": [
      "\r",
      "[Stage 2021:==============================>                  (6206 + 4) / 10000]\r"
     ]
    },
    {
     "name": "stderr",
     "output_type": "stream",
     "text": [
      "\r",
      "[Stage 2021:==============================>                  (6243 + 4) / 10000]\r"
     ]
    },
    {
     "name": "stderr",
     "output_type": "stream",
     "text": [
      "\r",
      "[Stage 2021:==============================>                  (6263 + 4) / 10000]\r",
      "\r",
      "[Stage 2021:==============================>                  (6292 + 4) / 10000]\r"
     ]
    },
    {
     "name": "stderr",
     "output_type": "stream",
     "text": [
      "\r",
      "[Stage 2021:===============================>                 (6333 + 4) / 10000]\r"
     ]
    },
    {
     "name": "stderr",
     "output_type": "stream",
     "text": [
      "\r",
      "[Stage 2021:===============================>                 (6375 + 4) / 10000]\r"
     ]
    },
    {
     "name": "stderr",
     "output_type": "stream",
     "text": [
      "\r",
      "[Stage 2021:===============================>                 (6405 + 4) / 10000]\r",
      "\r",
      "[Stage 2021:===============================>                 (6452 + 4) / 10000]\r"
     ]
    },
    {
     "name": "stderr",
     "output_type": "stream",
     "text": [
      "\r",
      "[Stage 2021:===============================>                 (6494 + 4) / 10000]\r",
      "\r",
      "[Stage 2021:================================>                (6532 + 4) / 10000]\r"
     ]
    },
    {
     "name": "stderr",
     "output_type": "stream",
     "text": [
      "\r",
      "[Stage 2021:================================>                (6567 + 4) / 10000]\r",
      "\r",
      "[Stage 2021:================================>                (6612 + 4) / 10000]\r"
     ]
    },
    {
     "name": "stderr",
     "output_type": "stream",
     "text": [
      "\r",
      "[Stage 2021:================================>                (6665 + 4) / 10000]\r",
      "\r",
      "[Stage 2021:================================>                (6710 + 4) / 10000]\r"
     ]
    },
    {
     "name": "stderr",
     "output_type": "stream",
     "text": [
      "\r",
      "[Stage 2021:=================================>               (6747 + 4) / 10000]\r",
      "\r",
      "[Stage 2021:=================================>               (6782 + 4) / 10000]\r"
     ]
    },
    {
     "name": "stderr",
     "output_type": "stream",
     "text": [
      "\r",
      "[Stage 2021:=================================>               (6821 + 4) / 10000]\r",
      "\r",
      "[Stage 2021:=================================>               (6862 + 4) / 10000]\r"
     ]
    },
    {
     "name": "stderr",
     "output_type": "stream",
     "text": [
      "\r",
      "[Stage 2021:=================================>               (6888 + 4) / 10000]\r",
      "\r",
      "[Stage 2021:=================================>               (6922 + 4) / 10000]\r"
     ]
    },
    {
     "name": "stderr",
     "output_type": "stream",
     "text": [
      "\r",
      "[Stage 2021:==================================>              (6957 + 4) / 10000]\r",
      "\r",
      "[Stage 2021:==================================>              (6981 + 4) / 10000]\r"
     ]
    },
    {
     "name": "stderr",
     "output_type": "stream",
     "text": [
      "\r",
      "[Stage 2021:==================================>              (7018 + 4) / 10000]\r",
      "\r",
      "[Stage 2021:==================================>              (7057 + 4) / 10000]\r"
     ]
    },
    {
     "name": "stderr",
     "output_type": "stream",
     "text": [
      "\r",
      "[Stage 2021:==================================>              (7097 + 4) / 10000]\r",
      "\r",
      "[Stage 2021:==================================>              (7139 + 4) / 10000]\r"
     ]
    },
    {
     "name": "stderr",
     "output_type": "stream",
     "text": [
      "\r",
      "[Stage 2021:===================================>             (7167 + 4) / 10000]\r",
      "\r",
      "[Stage 2021:===================================>             (7214 + 5) / 10000]\r"
     ]
    },
    {
     "name": "stderr",
     "output_type": "stream",
     "text": [
      "\r",
      "[Stage 2021:===================================>             (7259 + 4) / 10000]\r",
      "\r",
      "[Stage 2021:===================================>             (7312 + 4) / 10000]\r"
     ]
    },
    {
     "name": "stderr",
     "output_type": "stream",
     "text": [
      "\r",
      "[Stage 2021:====================================>            (7359 + 4) / 10000]\r",
      "\r",
      "[Stage 2021:====================================>            (7394 + 4) / 10000]\r"
     ]
    },
    {
     "name": "stderr",
     "output_type": "stream",
     "text": [
      "\r",
      "[Stage 2021:====================================>            (7442 + 4) / 10000]\r",
      "\r",
      "[Stage 2021:====================================>            (7481 + 4) / 10000]\r"
     ]
    },
    {
     "name": "stderr",
     "output_type": "stream",
     "text": [
      "\r",
      "[Stage 2021:====================================>            (7525 + 4) / 10000]\r",
      "\r",
      "[Stage 2021:=====================================>           (7569 + 4) / 10000]\r"
     ]
    },
    {
     "name": "stderr",
     "output_type": "stream",
     "text": [
      "\r",
      "[Stage 2021:=====================================>           (7619 + 4) / 10000]\r",
      "\r",
      "[Stage 2021:=====================================>           (7675 + 4) / 10000]\r"
     ]
    },
    {
     "name": "stderr",
     "output_type": "stream",
     "text": [
      "\r",
      "[Stage 2021:=====================================>           (7728 + 4) / 10000]\r",
      "\r",
      "[Stage 2021:======================================>          (7785 + 4) / 10000]\r"
     ]
    },
    {
     "name": "stderr",
     "output_type": "stream",
     "text": [
      "\r",
      "[Stage 2021:======================================>          (7837 + 4) / 10000]\r",
      "\r",
      "[Stage 2021:======================================>          (7885 + 4) / 10000]\r"
     ]
    },
    {
     "name": "stderr",
     "output_type": "stream",
     "text": [
      "\r",
      "[Stage 2021:======================================>          (7942 + 4) / 10000]\r"
     ]
    },
    {
     "name": "stderr",
     "output_type": "stream",
     "text": [
      "\r",
      "[Stage 2021:=======================================>         (7995 + 5) / 10000]\r"
     ]
    },
    {
     "name": "stderr",
     "output_type": "stream",
     "text": [
      "\r",
      "[Stage 2021:=======================================>         (8056 + 4) / 10000]\r",
      "\r",
      "[Stage 2021:=======================================>         (8123 + 4) / 10000]\r"
     ]
    },
    {
     "name": "stderr",
     "output_type": "stream",
     "text": [
      "\r",
      "[Stage 2021:========================================>        (8175 + 4) / 10000]\r",
      "\r",
      "[Stage 2021:========================================>        (8205 + 4) / 10000]\r"
     ]
    },
    {
     "name": "stderr",
     "output_type": "stream",
     "text": [
      "\r",
      "[Stage 2021:========================================>        (8245 + 4) / 10000]\r"
     ]
    },
    {
     "name": "stderr",
     "output_type": "stream",
     "text": [
      "\r",
      "[Stage 2021:========================================>        (8279 + 4) / 10000]\r",
      "\r",
      "[Stage 2021:========================================>        (8339 + 4) / 10000]\r"
     ]
    },
    {
     "name": "stderr",
     "output_type": "stream",
     "text": [
      "\r",
      "[Stage 2021:=========================================>       (8394 + 4) / 10000]\r",
      "\r",
      "[Stage 2021:=========================================>       (8444 + 4) / 10000]\r"
     ]
    },
    {
     "name": "stderr",
     "output_type": "stream",
     "text": [
      "\r",
      "[Stage 2021:=========================================>       (8488 + 4) / 10000]\r",
      "\r",
      "[Stage 2021:=========================================>       (8546 + 4) / 10000]\r"
     ]
    },
    {
     "name": "stderr",
     "output_type": "stream",
     "text": [
      "\r",
      "[Stage 2021:==========================================>      (8587 + 4) / 10000]\r",
      "\r",
      "[Stage 2021:==========================================>      (8633 + 4) / 10000]\r"
     ]
    },
    {
     "name": "stderr",
     "output_type": "stream",
     "text": [
      "\r",
      "[Stage 2021:==========================================>      (8676 + 4) / 10000]\r"
     ]
    },
    {
     "name": "stderr",
     "output_type": "stream",
     "text": [
      "\r",
      "[Stage 2021:==========================================>      (8711 + 4) / 10000]\r"
     ]
    },
    {
     "name": "stderr",
     "output_type": "stream",
     "text": [
      "\r",
      "[Stage 2021:==========================================>      (8752 + 4) / 10000]\r",
      "\r",
      "[Stage 2021:===========================================>     (8793 + 4) / 10000]\r"
     ]
    },
    {
     "name": "stderr",
     "output_type": "stream",
     "text": [
      "\r",
      "[Stage 2021:===========================================>     (8820 + 5) / 10000]\r",
      "\r",
      "[Stage 2021:===========================================>     (8886 + 6) / 10000]\r"
     ]
    },
    {
     "name": "stderr",
     "output_type": "stream",
     "text": [
      "\r",
      "[Stage 2021:===========================================>     (8929 + 4) / 10000]\r",
      "\r",
      "[Stage 2021:===========================================>     (8967 + 4) / 10000]\r"
     ]
    },
    {
     "name": "stderr",
     "output_type": "stream",
     "text": [
      "\r",
      "[Stage 2021:============================================>    (9004 + 4) / 10000]\r",
      "\r",
      "[Stage 2021:============================================>    (9055 + 4) / 10000]\r"
     ]
    },
    {
     "name": "stderr",
     "output_type": "stream",
     "text": [
      "\r",
      "[Stage 2021:============================================>    (9092 + 4) / 10000]\r",
      "\r",
      "[Stage 2021:============================================>    (9142 + 4) / 10000]\r"
     ]
    },
    {
     "name": "stderr",
     "output_type": "stream",
     "text": [
      "\r",
      "[Stage 2021:=============================================>   (9196 + 5) / 10000]\r",
      "\r",
      "[Stage 2021:=============================================>   (9240 + 4) / 10000]\r"
     ]
    },
    {
     "name": "stderr",
     "output_type": "stream",
     "text": [
      "\r",
      "[Stage 2021:=============================================>   (9285 + 4) / 10000]\r",
      "\r",
      "[Stage 2021:=============================================>   (9344 + 4) / 10000]\r"
     ]
    },
    {
     "name": "stderr",
     "output_type": "stream",
     "text": [
      "\r",
      "[Stage 2021:=============================================>   (9383 + 4) / 10000]\r",
      "\r",
      "[Stage 2021:==============================================>  (9433 + 4) / 10000]\r"
     ]
    },
    {
     "name": "stderr",
     "output_type": "stream",
     "text": [
      "\r",
      "[Stage 2021:==============================================>  (9483 + 4) / 10000]\r",
      "\r",
      "[Stage 2021:==============================================>  (9520 + 5) / 10000]\r"
     ]
    },
    {
     "name": "stderr",
     "output_type": "stream",
     "text": [
      "\r",
      "[Stage 2021:==============================================>  (9578 + 4) / 10000]\r",
      "\r",
      "[Stage 2021:===============================================> (9627 + 4) / 10000]\r"
     ]
    },
    {
     "name": "stderr",
     "output_type": "stream",
     "text": [
      "\r",
      "[Stage 2021:===============================================> (9683 + 4) / 10000]\r",
      "\r",
      "[Stage 2021:===============================================> (9730 + 4) / 10000]\r"
     ]
    },
    {
     "name": "stderr",
     "output_type": "stream",
     "text": [
      "\r",
      "[Stage 2021:===============================================> (9773 + 4) / 10000]\r",
      "\r",
      "[Stage 2021:================================================>(9817 + 4) / 10000]\r"
     ]
    },
    {
     "name": "stderr",
     "output_type": "stream",
     "text": [
      "\r",
      "[Stage 2021:================================================>(9830 + 4) / 10000]\r",
      "\r",
      "[Stage 2021:================================================>(9845 + 4) / 10000]\r"
     ]
    },
    {
     "name": "stderr",
     "output_type": "stream",
     "text": [
      "\r",
      "[Stage 2021:================================================>(9859 + 4) / 10000]\r"
     ]
    },
    {
     "name": "stderr",
     "output_type": "stream",
     "text": [
      "\r",
      "[Stage 2021:================================================>(9874 + 4) / 10000]\r",
      "\r",
      "[Stage 2021:================================================>(9901 + 4) / 10000]\r"
     ]
    },
    {
     "name": "stderr",
     "output_type": "stream",
     "text": [
      "\r",
      "[Stage 2021:================================================>(9937 + 4) / 10000]\r",
      "\r",
      "[Stage 2021:================================================>(9978 + 4) / 10000]\r"
     ]
    },
    {
     "name": "stderr",
     "output_type": "stream",
     "text": [
      "\r",
      "                                                                                \r"
     ]
    },
    {
     "name": "stdout",
     "output_type": "stream",
     "text": [
      "Deleted 0 files and directories in a total of 5 directories.\n"
     ]
    },
    {
     "data": {
      "text/plain": [
       "DataFrame[]"
      ]
     },
     "execution_count": 6,
     "metadata": {},
     "output_type": "execute_result"
    }
   ],
   "source": [
    "delta_table = DeltaTable.forPath(spark, GOLDEN_TABLE_PATH)\n",
    "delta_table.vacuum()"
   ]
  },
  {
   "cell_type": "code",
   "execution_count": 7,
   "id": "c0e0b6dc",
   "metadata": {
    "execution": {
     "iopub.execute_input": "2022-07-09T22:59:37.039427Z",
     "iopub.status.busy": "2022-07-09T22:59:37.038947Z",
     "iopub.status.idle": "2022-07-09T23:01:13.327234Z",
     "shell.execute_reply": "2022-07-09T23:01:13.325289Z"
    },
    "papermill": {
     "duration": 96.422049,
     "end_time": "2022-07-09T23:01:13.342943",
     "exception": false,
     "start_time": "2022-07-09T22:59:36.920894",
     "status": "completed"
    },
    "tags": []
   },
   "outputs": [
    {
     "name": "stderr",
     "output_type": "stream",
     "text": [
      "\r",
      "[Stage 3019:=======================================>              (37 + 4) / 50]\r",
      "\r",
      "[Stage 3019:================================================>     (45 + 4) / 50]\r"
     ]
    },
    {
     "name": "stderr",
     "output_type": "stream",
     "text": [
      "\r",
      "                                                                                \r"
     ]
    },
    {
     "name": "stderr",
     "output_type": "stream",
     "text": [
      "\r",
      "[Stage 3022:>                                                 (195 + 4) / 10000]\r",
      "\r",
      "[Stage 3022:=>                                                (264 + 4) / 10000]\r"
     ]
    },
    {
     "name": "stderr",
     "output_type": "stream",
     "text": [
      "\r",
      "[Stage 3022:=>                                                (313 + 5) / 10000]\r",
      "\r",
      "[Stage 3022:==>                                               (411 + 4) / 10000]\r"
     ]
    },
    {
     "name": "stderr",
     "output_type": "stream",
     "text": [
      "\r",
      "[Stage 3022:==>                                               (498 + 4) / 10000]\r",
      "\r",
      "[Stage 3022:==>                                               (594 + 4) / 10000]\r"
     ]
    },
    {
     "name": "stderr",
     "output_type": "stream",
     "text": [
      "\r",
      "[Stage 3022:===>                                              (672 + 4) / 10000]\r"
     ]
    },
    {
     "name": "stderr",
     "output_type": "stream",
     "text": [
      "\r",
      "[Stage 3022:===>                                              (759 + 5) / 10000]\r",
      "\r",
      "[Stage 3022:====>                                             (845 + 4) / 10000]\r"
     ]
    },
    {
     "name": "stderr",
     "output_type": "stream",
     "text": [
      "\r",
      "[Stage 3022:====>                                             (924 + 5) / 10000]\r",
      "\r",
      "[Stage 3022:====>                                            (1010 + 4) / 10000]\r"
     ]
    },
    {
     "name": "stderr",
     "output_type": "stream",
     "text": [
      "\r",
      "[Stage 3022:=====>                                           (1093 + 5) / 10000]\r"
     ]
    },
    {
     "name": "stderr",
     "output_type": "stream",
     "text": [
      "\r",
      "[Stage 3022:=====>                                           (1139 + 4) / 10000]\r",
      "\r",
      "[Stage 3022:======>                                          (1233 + 4) / 10000]\r"
     ]
    },
    {
     "name": "stderr",
     "output_type": "stream",
     "text": [
      "\r",
      "[Stage 3022:======>                                          (1321 + 4) / 10000]\r",
      "\r",
      "[Stage 3022:======>                                          (1424 + 4) / 10000]\r"
     ]
    },
    {
     "name": "stderr",
     "output_type": "stream",
     "text": [
      "\r",
      "[Stage 3022:=======>                                         (1494 + 4) / 10000]\r",
      "\r",
      "[Stage 3022:=======>                                         (1584 + 5) / 10000]\r"
     ]
    },
    {
     "name": "stderr",
     "output_type": "stream",
     "text": [
      "\r",
      "[Stage 3022:========>                                        (1675 + 4) / 10000]\r"
     ]
    },
    {
     "name": "stderr",
     "output_type": "stream",
     "text": [
      "\r",
      "[Stage 3022:========>                                        (1765 + 4) / 10000]\r",
      "\r",
      "[Stage 3022:=========>                                       (1850 + 4) / 10000]\r"
     ]
    },
    {
     "name": "stderr",
     "output_type": "stream",
     "text": [
      "\r",
      "[Stage 3022:=========>                                       (1934 + 4) / 10000]\r",
      "\r",
      "[Stage 3022:=========>                                       (2031 + 4) / 10000]\r"
     ]
    },
    {
     "name": "stderr",
     "output_type": "stream",
     "text": [
      "\r",
      "[Stage 3022:==========>                                      (2116 + 4) / 10000]\r",
      "\r",
      "[Stage 3022:==========>                                      (2218 + 4) / 10000]\r"
     ]
    },
    {
     "name": "stderr",
     "output_type": "stream",
     "text": [
      "\r",
      "[Stage 3022:===========>                                     (2322 + 4) / 10000]\r",
      "\r",
      "[Stage 3022:===========>                                     (2399 + 4) / 10000]\r"
     ]
    },
    {
     "name": "stderr",
     "output_type": "stream",
     "text": [
      "\r",
      "[Stage 3022:============>                                    (2465 + 4) / 10000]\r",
      "\r",
      "[Stage 3022:============>                                    (2565 + 4) / 10000]\r"
     ]
    },
    {
     "name": "stderr",
     "output_type": "stream",
     "text": [
      "\r",
      "[Stage 3022:============>                                    (2653 + 4) / 10000]\r",
      "\r",
      "[Stage 3022:=============>                                   (2749 + 4) / 10000]\r"
     ]
    },
    {
     "name": "stderr",
     "output_type": "stream",
     "text": [
      "\r",
      "[Stage 3022:=============>                                   (2826 + 4) / 10000]\r",
      "\r",
      "[Stage 3022:=============>                                   (2840 + 4) / 10000]\r"
     ]
    },
    {
     "name": "stderr",
     "output_type": "stream",
     "text": [
      "\r",
      "[Stage 3022:=============>                                   (2841 + 4) / 10000]\r",
      "\r",
      "[Stage 3022:=============>                                   (2842 + 5) / 10000]\r",
      "\r",
      "[Stage 3022:=============>                                   (2843 + 4) / 10000]\r"
     ]
    },
    {
     "name": "stderr",
     "output_type": "stream",
     "text": [
      "\r",
      "[Stage 3022:=============>                                   (2848 + 4) / 10000]\r",
      "\r",
      "[Stage 3022:=============>                                   (2857 + 5) / 10000]\r"
     ]
    },
    {
     "name": "stderr",
     "output_type": "stream",
     "text": [
      "\r",
      "[Stage 3022:==============>                                  (2881 + 4) / 10000]\r",
      "\r",
      "[Stage 3022:==============>                                  (2949 + 4) / 10000]\r"
     ]
    },
    {
     "name": "stderr",
     "output_type": "stream",
     "text": [
      "\r",
      "[Stage 3022:==============>                                  (3016 + 4) / 10000]\r",
      "\r",
      "[Stage 3022:===============>                                 (3071 + 4) / 10000]\r"
     ]
    },
    {
     "name": "stderr",
     "output_type": "stream",
     "text": [
      "\r",
      "[Stage 3022:===============>                                 (3118 + 4) / 10000]\r",
      "\r",
      "[Stage 3022:===============>                                 (3177 + 4) / 10000]\r"
     ]
    },
    {
     "name": "stderr",
     "output_type": "stream",
     "text": [
      "\r",
      "[Stage 3022:===============>                                 (3215 + 4) / 10000]\r",
      "\r",
      "[Stage 3022:===============>                                 (3263 + 4) / 10000]\r"
     ]
    },
    {
     "name": "stderr",
     "output_type": "stream",
     "text": [
      "\r",
      "[Stage 3022:================>                                (3334 + 4) / 10000]\r",
      "\r",
      "[Stage 3022:================>                                (3411 + 4) / 10000]\r"
     ]
    },
    {
     "name": "stderr",
     "output_type": "stream",
     "text": [
      "\r",
      "[Stage 3022:=================>                               (3478 + 4) / 10000]\r",
      "\r",
      "[Stage 3022:=================>                               (3526 + 4) / 10000]\r"
     ]
    },
    {
     "name": "stderr",
     "output_type": "stream",
     "text": [
      "\r",
      "[Stage 3022:=================>                               (3582 + 4) / 10000]\r"
     ]
    },
    {
     "name": "stderr",
     "output_type": "stream",
     "text": [
      "\r",
      "[Stage 3022:=================>                               (3628 + 4) / 10000]\r"
     ]
    },
    {
     "name": "stderr",
     "output_type": "stream",
     "text": [
      "\r",
      "[Stage 3022:=================>                               (3648 + 4) / 10000]\r",
      "\r",
      "[Stage 3022:=================>                               (3665 + 4) / 10000]\r"
     ]
    },
    {
     "name": "stderr",
     "output_type": "stream",
     "text": [
      "\r",
      "[Stage 3022:==================>                              (3680 + 4) / 10000]\r",
      "\r",
      "[Stage 3022:==================>                              (3681 + 4) / 10000]\r",
      "\r",
      "[Stage 3022:==================>                              (3683 + 4) / 10000]\r",
      "\r",
      "[Stage 3022:==================>                              (3690 + 4) / 10000]\r"
     ]
    },
    {
     "name": "stderr",
     "output_type": "stream",
     "text": [
      "\r",
      "[Stage 3022:==================>                              (3695 + 6) / 10000]\r"
     ]
    },
    {
     "name": "stderr",
     "output_type": "stream",
     "text": [
      "\r",
      "[Stage 3022:==================>                              (3697 + 4) / 10000]\r"
     ]
    },
    {
     "name": "stderr",
     "output_type": "stream",
     "text": [
      "\r",
      "[Stage 3022:==================>                              (3711 + 4) / 10000]\r",
      "\r",
      "[Stage 3022:==================>                              (3724 + 4) / 10000]\r"
     ]
    },
    {
     "name": "stderr",
     "output_type": "stream",
     "text": [
      "\r",
      "[Stage 3022:==================>                              (3733 + 4) / 10000]\r",
      "\r",
      "[Stage 3022:==================>                              (3744 + 5) / 10000]\r"
     ]
    },
    {
     "name": "stderr",
     "output_type": "stream",
     "text": [
      "\r",
      "[Stage 3022:==================>                              (3776 + 4) / 10000]\r",
      "\r",
      "[Stage 3022:==================>                              (3830 + 4) / 10000]\r"
     ]
    },
    {
     "name": "stderr",
     "output_type": "stream",
     "text": [
      "\r",
      "[Stage 3022:===================>                             (3883 + 4) / 10000]\r",
      "\r",
      "[Stage 3022:===================>                             (3938 + 5) / 10000]\r"
     ]
    },
    {
     "name": "stderr",
     "output_type": "stream",
     "text": [
      "\r",
      "[Stage 3022:===================>                             (3975 + 4) / 10000]\r",
      "\r",
      "[Stage 3022:===================>                             (4037 + 4) / 10000]\r"
     ]
    },
    {
     "name": "stderr",
     "output_type": "stream",
     "text": [
      "\r",
      "[Stage 3022:====================>                            (4108 + 4) / 10000]\r",
      "\r",
      "[Stage 3022:====================>                            (4178 + 4) / 10000]\r"
     ]
    },
    {
     "name": "stderr",
     "output_type": "stream",
     "text": [
      "\r",
      "[Stage 3022:====================>                            (4248 + 4) / 10000]\r",
      "\r",
      "[Stage 3022:=====================>                           (4326 + 4) / 10000]\r"
     ]
    },
    {
     "name": "stderr",
     "output_type": "stream",
     "text": [
      "\r",
      "[Stage 3022:=====================>                           (4393 + 4) / 10000]\r",
      "\r",
      "[Stage 3022:=====================>                           (4472 + 4) / 10000]\r"
     ]
    },
    {
     "name": "stderr",
     "output_type": "stream",
     "text": [
      "\r",
      "[Stage 3022:======================>                          (4541 + 4) / 10000]\r",
      "\r",
      "[Stage 3022:======================>                          (4607 + 4) / 10000]\r"
     ]
    },
    {
     "name": "stderr",
     "output_type": "stream",
     "text": [
      "\r",
      "[Stage 3022:======================>                          (4665 + 4) / 10000]\r",
      "\r",
      "[Stage 3022:=======================>                         (4719 + 4) / 10000]\r"
     ]
    },
    {
     "name": "stderr",
     "output_type": "stream",
     "text": [
      "\r",
      "[Stage 3022:=======================>                         (4783 + 5) / 10000]\r",
      "\r",
      "[Stage 3022:=======================>                         (4857 + 4) / 10000]\r"
     ]
    },
    {
     "name": "stderr",
     "output_type": "stream",
     "text": [
      "\r",
      "[Stage 3022:========================>                        (4949 + 4) / 10000]\r",
      "\r",
      "[Stage 3022:========================>                        (5012 + 4) / 10000]\r"
     ]
    },
    {
     "name": "stderr",
     "output_type": "stream",
     "text": [
      "\r",
      "[Stage 3022:========================>                        (5080 + 4) / 10000]\r",
      "\r",
      "[Stage 3022:=========================>                       (5139 + 4) / 10000]\r"
     ]
    },
    {
     "name": "stderr",
     "output_type": "stream",
     "text": [
      "\r",
      "[Stage 3022:=========================>                       (5217 + 4) / 10000]\r",
      "\r",
      "[Stage 3022:=========================>                       (5300 + 4) / 10000]\r"
     ]
    },
    {
     "name": "stderr",
     "output_type": "stream",
     "text": [
      "\r",
      "[Stage 3022:==========================>                      (5381 + 4) / 10000]\r"
     ]
    },
    {
     "name": "stderr",
     "output_type": "stream",
     "text": [
      "\r",
      "[Stage 3022:==========================>                      (5412 + 4) / 10000]\r",
      "\r",
      "[Stage 3022:==========================>                      (5418 + 5) / 10000]\r"
     ]
    },
    {
     "name": "stderr",
     "output_type": "stream",
     "text": [
      "\r",
      "[Stage 3022:==========================>                      (5445 + 4) / 10000]\r",
      "\r",
      "[Stage 3022:==========================>                      (5500 + 4) / 10000]\r"
     ]
    },
    {
     "name": "stderr",
     "output_type": "stream",
     "text": [
      "\r",
      "[Stage 3022:===========================>                     (5535 + 5) / 10000]\r",
      "\r",
      "[Stage 3022:===========================>                     (5587 + 4) / 10000]\r"
     ]
    },
    {
     "name": "stderr",
     "output_type": "stream",
     "text": [
      "\r",
      "[Stage 3022:===========================>                     (5661 + 4) / 10000]\r",
      "\r",
      "[Stage 3022:============================>                    (5718 + 4) / 10000]\r"
     ]
    },
    {
     "name": "stderr",
     "output_type": "stream",
     "text": [
      "\r",
      "[Stage 3022:============================>                    (5764 + 5) / 10000]\r",
      "\r",
      "[Stage 3022:============================>                    (5817 + 4) / 10000]\r"
     ]
    },
    {
     "name": "stderr",
     "output_type": "stream",
     "text": [
      "\r",
      "[Stage 3022:============================>                    (5853 + 4) / 10000]\r",
      "\r",
      "[Stage 3022:============================>                    (5891 + 4) / 10000]\r"
     ]
    },
    {
     "name": "stderr",
     "output_type": "stream",
     "text": [
      "\r",
      "[Stage 3022:=============================>                   (5935 + 5) / 10000]\r"
     ]
    },
    {
     "name": "stderr",
     "output_type": "stream",
     "text": [
      "\r",
      "[Stage 3022:=============================>                   (5986 + 4) / 10000]\r",
      "\r",
      "[Stage 3022:=============================>                   (6044 + 4) / 10000]\r"
     ]
    },
    {
     "name": "stderr",
     "output_type": "stream",
     "text": [
      "\r",
      "[Stage 3022:=============================>                   (6098 + 4) / 10000]\r",
      "\r",
      "[Stage 3022:==============================>                  (6152 + 5) / 10000]\r"
     ]
    },
    {
     "name": "stderr",
     "output_type": "stream",
     "text": [
      "\r",
      "[Stage 3022:==============================>                  (6191 + 4) / 10000]\r"
     ]
    },
    {
     "name": "stderr",
     "output_type": "stream",
     "text": [
      "\r",
      "[Stage 3022:==============================>                  (6247 + 4) / 10000]\r",
      "\r",
      "[Stage 3022:==============================>                  (6298 + 5) / 10000]\r"
     ]
    },
    {
     "name": "stderr",
     "output_type": "stream",
     "text": [
      "\r",
      "[Stage 3022:===============================>                 (6346 + 4) / 10000]\r"
     ]
    },
    {
     "name": "stderr",
     "output_type": "stream",
     "text": [
      "\r",
      "[Stage 3022:===============================>                 (6373 + 4) / 10000]\r",
      "\r",
      "[Stage 3022:===============================>                 (6415 + 4) / 10000]\r"
     ]
    },
    {
     "name": "stderr",
     "output_type": "stream",
     "text": [
      "\r",
      "[Stage 3022:===============================>                 (6464 + 5) / 10000]\r",
      "\r",
      "[Stage 3022:===============================>                 (6510 + 4) / 10000]\r"
     ]
    },
    {
     "name": "stderr",
     "output_type": "stream",
     "text": [
      "\r",
      "[Stage 3022:================================>                (6558 + 4) / 10000]\r",
      "\r",
      "[Stage 3022:================================>                (6614 + 4) / 10000]\r"
     ]
    },
    {
     "name": "stderr",
     "output_type": "stream",
     "text": [
      "\r",
      "[Stage 3022:================================>                (6643 + 4) / 10000]\r",
      "\r",
      "[Stage 3022:================================>                (6678 + 4) / 10000]\r"
     ]
    },
    {
     "name": "stderr",
     "output_type": "stream",
     "text": [
      "\r",
      "[Stage 3022:================================>                (6724 + 4) / 10000]\r"
     ]
    },
    {
     "name": "stderr",
     "output_type": "stream",
     "text": [
      "\r",
      "[Stage 3022:=================================>               (6751 + 4) / 10000]\r",
      "\r",
      "[Stage 3022:=================================>               (6772 + 4) / 10000]\r"
     ]
    },
    {
     "name": "stderr",
     "output_type": "stream",
     "text": [
      "\r",
      "[Stage 3022:=================================>               (6812 + 4) / 10000]\r"
     ]
    },
    {
     "name": "stderr",
     "output_type": "stream",
     "text": [
      "\r",
      "[Stage 3022:=================================>               (6866 + 5) / 10000]\r",
      "\r",
      "[Stage 3022:=================================>               (6912 + 4) / 10000]\r"
     ]
    },
    {
     "name": "stderr",
     "output_type": "stream",
     "text": [
      "\r",
      "[Stage 3022:==================================>              (6958 + 4) / 10000]\r"
     ]
    },
    {
     "name": "stderr",
     "output_type": "stream",
     "text": [
      "\r",
      "[Stage 3022:==================================>              (7011 + 4) / 10000]\r",
      "\r",
      "[Stage 3022:==================================>              (7048 + 4) / 10000]\r"
     ]
    },
    {
     "name": "stderr",
     "output_type": "stream",
     "text": [
      "\r",
      "[Stage 3022:==================================>              (7074 + 4) / 10000]\r",
      "\r",
      "[Stage 3022:==================================>              (7121 + 4) / 10000]\r"
     ]
    },
    {
     "name": "stderr",
     "output_type": "stream",
     "text": [
      "\r",
      "[Stage 3022:===================================>             (7165 + 4) / 10000]\r",
      "\r",
      "[Stage 3022:===================================>             (7217 + 4) / 10000]\r"
     ]
    },
    {
     "name": "stderr",
     "output_type": "stream",
     "text": [
      "\r",
      "[Stage 3022:===================================>             (7268 + 4) / 10000]\r",
      "\r",
      "[Stage 3022:===================================>             (7303 + 4) / 10000]\r"
     ]
    },
    {
     "name": "stderr",
     "output_type": "stream",
     "text": [
      "\r",
      "[Stage 3022:===================================>             (7327 + 4) / 10000]\r",
      "\r",
      "[Stage 3022:====================================>            (7348 + 4) / 10000]\r"
     ]
    },
    {
     "name": "stderr",
     "output_type": "stream",
     "text": [
      "\r",
      "[Stage 3022:====================================>            (7384 + 4) / 10000]\r"
     ]
    },
    {
     "name": "stderr",
     "output_type": "stream",
     "text": [
      "\r",
      "[Stage 3022:====================================>            (7405 + 4) / 10000]\r",
      "\r",
      "[Stage 3022:====================================>            (7411 + 4) / 10000]\r"
     ]
    },
    {
     "name": "stderr",
     "output_type": "stream",
     "text": [
      "\r",
      "[Stage 3022:====================================>            (7423 + 4) / 10000]\r",
      "\r",
      "[Stage 3022:====================================>            (7445 + 4) / 10000]\r"
     ]
    },
    {
     "name": "stderr",
     "output_type": "stream",
     "text": [
      "\r",
      "[Stage 3022:====================================>            (7462 + 4) / 10000]\r",
      "\r",
      "[Stage 3022:====================================>            (7487 + 4) / 10000]\r"
     ]
    },
    {
     "name": "stderr",
     "output_type": "stream",
     "text": [
      "\r",
      "[Stage 3022:====================================>            (7512 + 4) / 10000]\r",
      "\r",
      "[Stage 3022:====================================>            (7530 + 5) / 10000]\r"
     ]
    },
    {
     "name": "stderr",
     "output_type": "stream",
     "text": [
      "\r",
      "[Stage 3022:====================================>            (7551 + 4) / 10000]\r",
      "\r",
      "[Stage 3022:=====================================>           (7577 + 4) / 10000]\r"
     ]
    },
    {
     "name": "stderr",
     "output_type": "stream",
     "text": [
      "\r",
      "[Stage 3022:=====================================>           (7601 + 5) / 10000]\r",
      "\r",
      "[Stage 3022:=====================================>           (7642 + 4) / 10000]\r"
     ]
    },
    {
     "name": "stderr",
     "output_type": "stream",
     "text": [
      "\r",
      "[Stage 3022:=====================================>           (7690 + 4) / 10000]\r",
      "\r",
      "[Stage 3022:=====================================>           (7731 + 4) / 10000]\r"
     ]
    },
    {
     "name": "stderr",
     "output_type": "stream",
     "text": [
      "\r",
      "[Stage 3022:======================================>          (7782 + 4) / 10000]\r",
      "\r",
      "[Stage 3022:======================================>          (7838 + 4) / 10000]\r"
     ]
    },
    {
     "name": "stderr",
     "output_type": "stream",
     "text": [
      "\r",
      "[Stage 3022:======================================>          (7881 + 4) / 10000]\r",
      "\r",
      "[Stage 3022:======================================>          (7936 + 5) / 10000]\r"
     ]
    },
    {
     "name": "stderr",
     "output_type": "stream",
     "text": [
      "\r",
      "[Stage 3022:=======================================>         (7987 + 4) / 10000]\r",
      "\r",
      "[Stage 3022:=======================================>         (8054 + 4) / 10000]\r"
     ]
    },
    {
     "name": "stderr",
     "output_type": "stream",
     "text": [
      "\r",
      "[Stage 3022:=======================================>         (8111 + 4) / 10000]\r",
      "\r",
      "[Stage 3022:========================================>        (8167 + 4) / 10000]\r"
     ]
    },
    {
     "name": "stderr",
     "output_type": "stream",
     "text": [
      "\r",
      "[Stage 3022:========================================>        (8206 + 4) / 10000]\r",
      "\r",
      "[Stage 3022:========================================>        (8250 + 4) / 10000]\r"
     ]
    },
    {
     "name": "stderr",
     "output_type": "stream",
     "text": [
      "\r",
      "[Stage 3022:========================================>        (8306 + 4) / 10000]\r",
      "\r",
      "[Stage 3022:========================================>        (8362 + 4) / 10000]\r"
     ]
    },
    {
     "name": "stderr",
     "output_type": "stream",
     "text": [
      "\r",
      "[Stage 3022:=========================================>       (8422 + 6) / 10000]\r"
     ]
    },
    {
     "name": "stderr",
     "output_type": "stream",
     "text": [
      "\r",
      "[Stage 3022:=========================================>       (8476 + 4) / 10000]\r",
      "\r",
      "[Stage 3022:=========================================>       (8549 + 4) / 10000]\r"
     ]
    },
    {
     "name": "stderr",
     "output_type": "stream",
     "text": [
      "\r",
      "[Stage 3022:==========================================>      (8611 + 4) / 10000]\r",
      "\r",
      "[Stage 3022:==========================================>      (8697 + 4) / 10000]\r"
     ]
    },
    {
     "name": "stderr",
     "output_type": "stream",
     "text": [
      "\r",
      "[Stage 3022:===========================================>     (8786 + 5) / 10000]\r"
     ]
    },
    {
     "name": "stderr",
     "output_type": "stream",
     "text": [
      "\r",
      "[Stage 3022:===========================================>     (8873 + 5) / 10000]\r",
      "\r",
      "[Stage 3022:===========================================>     (8908 + 4) / 10000]\r"
     ]
    },
    {
     "name": "stderr",
     "output_type": "stream",
     "text": [
      "\r",
      "[Stage 3022:===========================================>     (8970 + 5) / 10000]\r"
     ]
    },
    {
     "name": "stderr",
     "output_type": "stream",
     "text": [
      "\r",
      "[Stage 3022:============================================>    (9036 + 4) / 10000]\r",
      "\r",
      "[Stage 3022:============================================>    (9115 + 4) / 10000]\r"
     ]
    },
    {
     "name": "stderr",
     "output_type": "stream",
     "text": [
      "\r",
      "[Stage 3022:=============================================>   (9208 + 4) / 10000]\r"
     ]
    },
    {
     "name": "stderr",
     "output_type": "stream",
     "text": [
      "\r",
      "[Stage 3022:=============================================>   (9282 + 4) / 10000]\r",
      "\r",
      "[Stage 3022:=============================================>   (9373 + 4) / 10000]\r"
     ]
    },
    {
     "name": "stderr",
     "output_type": "stream",
     "text": [
      "\r",
      "[Stage 3022:==============================================>  (9456 + 7) / 10000]\r",
      "\r",
      "[Stage 3022:==============================================>  (9571 + 4) / 10000]\r"
     ]
    },
    {
     "name": "stderr",
     "output_type": "stream",
     "text": [
      "\r",
      "[Stage 3022:===============================================> (9686 + 5) / 10000]\r",
      "\r",
      "[Stage 3022:===============================================> (9789 + 4) / 10000]\r"
     ]
    },
    {
     "name": "stderr",
     "output_type": "stream",
     "text": [
      "\r",
      "[Stage 3022:================================================>(9894 + 4) / 10000]\r"
     ]
    },
    {
     "name": "stderr",
     "output_type": "stream",
     "text": [
      "\r",
      "[Stage 3022:================================================>(9983 + 4) / 10000]\r"
     ]
    },
    {
     "name": "stderr",
     "output_type": "stream",
     "text": [
      "\r",
      "[Stage 3023:>                                                       (0 + 1) / 1]\r"
     ]
    },
    {
     "name": "stderr",
     "output_type": "stream",
     "text": [
      "\r",
      "                                                                                \r"
     ]
    },
    {
     "name": "stderr",
     "output_type": "stream",
     "text": [
      "\r",
      "[Stage 3025:=================================>                    (31 + 4) / 50]\r",
      "\r",
      "[Stage 3025:============> (44 + 4) / 50][Stage 3027:>           (0 + 0) / 10000]\r"
     ]
    },
    {
     "name": "stderr",
     "output_type": "stream",
     "text": [
      "\r",
      "[Stage 3027:>                                                  (24 + 5) / 10000]\r",
      "\r",
      "[Stage 3027:>                                                  (48 + 4) / 10000]\r"
     ]
    },
    {
     "name": "stderr",
     "output_type": "stream",
     "text": [
      "\r",
      "[Stage 3027:>                                                  (67 + 5) / 10000]\r"
     ]
    },
    {
     "name": "stderr",
     "output_type": "stream",
     "text": [
      "\r",
      "[Stage 3027:>                                                  (93 + 5) / 10000]\r",
      "\r",
      "[Stage 3027:>                                                 (108 + 4) / 10000]\r"
     ]
    },
    {
     "name": "stderr",
     "output_type": "stream",
     "text": [
      "\r",
      "[Stage 3027:>                                                 (152 + 4) / 10000]\r",
      "\r",
      "[Stage 3027:>                                                 (190 + 4) / 10000]\r"
     ]
    },
    {
     "name": "stderr",
     "output_type": "stream",
     "text": [
      "\r",
      "[Stage 3027:=>                                                (231 + 4) / 10000]\r",
      "\r",
      "[Stage 3027:=>                                                (266 + 4) / 10000]\r"
     ]
    },
    {
     "name": "stderr",
     "output_type": "stream",
     "text": [
      "\r",
      "[Stage 3027:=>                                                (298 + 4) / 10000]\r",
      "\r",
      "[Stage 3027:=>                                                (326 + 4) / 10000]\r"
     ]
    },
    {
     "name": "stderr",
     "output_type": "stream",
     "text": [
      "\r",
      "[Stage 3027:=>                                                (359 + 4) / 10000]\r",
      "\r",
      "[Stage 3027:==>                                               (406 + 4) / 10000]\r"
     ]
    },
    {
     "name": "stderr",
     "output_type": "stream",
     "text": [
      "\r",
      "[Stage 3027:==>                                               (455 + 5) / 10000]\r",
      "\r",
      "[Stage 3027:==>                                               (499 + 4) / 10000]\r"
     ]
    },
    {
     "name": "stderr",
     "output_type": "stream",
     "text": [
      "\r",
      "[Stage 3027:==>                                               (524 + 4) / 10000]\r",
      "\r",
      "[Stage 3027:==>                                               (563 + 4) / 10000]\r"
     ]
    },
    {
     "name": "stderr",
     "output_type": "stream",
     "text": [
      "\r",
      "[Stage 3027:===>                                              (604 + 4) / 10000]\r",
      "\r",
      "[Stage 3027:===>                                              (635 + 4) / 10000]\r"
     ]
    },
    {
     "name": "stderr",
     "output_type": "stream",
     "text": [
      "\r",
      "[Stage 3027:===>                                              (667 + 4) / 10000]\r",
      "\r",
      "[Stage 3027:===>                                              (676 + 4) / 10000]\r"
     ]
    },
    {
     "name": "stderr",
     "output_type": "stream",
     "text": [
      "\r",
      "[Stage 3027:===>                                              (705 + 4) / 10000]\r",
      "\r",
      "[Stage 3027:===>                                              (741 + 4) / 10000]\r"
     ]
    },
    {
     "name": "stderr",
     "output_type": "stream",
     "text": [
      "\r",
      "[Stage 3027:===>                                              (769 + 4) / 10000]\r"
     ]
    },
    {
     "name": "stderr",
     "output_type": "stream",
     "text": [
      "\r",
      "[Stage 3027:====>                                             (808 + 4) / 10000]\r",
      "\r",
      "[Stage 3027:====>                                             (854 + 4) / 10000]\r"
     ]
    },
    {
     "name": "stderr",
     "output_type": "stream",
     "text": [
      "\r",
      "[Stage 3027:====>                                             (892 + 4) / 10000]\r",
      "\r",
      "[Stage 3027:====>                                             (943 + 6) / 10000]\r"
     ]
    },
    {
     "name": "stderr",
     "output_type": "stream",
     "text": [
      "\r",
      "[Stage 3027:====>                                             (978 + 5) / 10000]\r"
     ]
    },
    {
     "name": "stderr",
     "output_type": "stream",
     "text": [
      "\r",
      "[Stage 3027:====>                                            (1011 + 4) / 10000]\r"
     ]
    },
    {
     "name": "stderr",
     "output_type": "stream",
     "text": [
      "\r",
      "[Stage 3027:=====>                                           (1051 + 4) / 10000]\r",
      "\r",
      "[Stage 3027:=====>                                           (1095 + 4) / 10000]\r"
     ]
    },
    {
     "name": "stderr",
     "output_type": "stream",
     "text": [
      "\r",
      "[Stage 3027:=====>                                           (1136 + 5) / 10000]\r",
      "\r",
      "[Stage 3027:=====>                                           (1175 + 4) / 10000]\r"
     ]
    },
    {
     "name": "stderr",
     "output_type": "stream",
     "text": [
      "\r",
      "[Stage 3027:=====>                                           (1205 + 4) / 10000]\r"
     ]
    },
    {
     "name": "stderr",
     "output_type": "stream",
     "text": [
      "\r",
      "[Stage 3027:======>                                          (1234 + 4) / 10000]\r",
      "\r",
      "[Stage 3027:======>                                          (1282 + 4) / 10000]\r"
     ]
    },
    {
     "name": "stderr",
     "output_type": "stream",
     "text": [
      "\r",
      "[Stage 3027:======>                                          (1325 + 4) / 10000]\r",
      "\r",
      "[Stage 3027:======>                                          (1368 + 4) / 10000]\r"
     ]
    },
    {
     "name": "stderr",
     "output_type": "stream",
     "text": [
      "\r",
      "[Stage 3027:======>                                          (1409 + 4) / 10000]\r",
      "\r",
      "[Stage 3027:=======>                                         (1466 + 4) / 10000]\r"
     ]
    },
    {
     "name": "stderr",
     "output_type": "stream",
     "text": [
      "\r",
      "[Stage 3027:=======>                                         (1507 + 4) / 10000]\r",
      "\r",
      "[Stage 3027:=======>                                         (1555 + 4) / 10000]\r"
     ]
    },
    {
     "name": "stderr",
     "output_type": "stream",
     "text": [
      "\r",
      "[Stage 3027:=======>                                         (1614 + 4) / 10000]\r",
      "\r",
      "[Stage 3027:========>                                        (1663 + 4) / 10000]\r"
     ]
    },
    {
     "name": "stderr",
     "output_type": "stream",
     "text": [
      "\r",
      "[Stage 3027:========>                                        (1719 + 4) / 10000]\r"
     ]
    },
    {
     "name": "stderr",
     "output_type": "stream",
     "text": [
      "\r",
      "[Stage 3027:========>                                        (1758 + 4) / 10000]\r",
      "\r",
      "[Stage 3027:========>                                        (1824 + 4) / 10000]\r"
     ]
    },
    {
     "name": "stderr",
     "output_type": "stream",
     "text": [
      "\r",
      "[Stage 3027:=========>                                       (1882 + 4) / 10000]\r"
     ]
    },
    {
     "name": "stderr",
     "output_type": "stream",
     "text": [
      "\r",
      "[Stage 3027:=========>                                       (1930 + 5) / 10000]\r",
      "\r",
      "[Stage 3027:=========>                                       (1971 + 4) / 10000]\r"
     ]
    },
    {
     "name": "stderr",
     "output_type": "stream",
     "text": [
      "\r",
      "[Stage 3027:=========>                                       (1995 + 4) / 10000]\r",
      "\r",
      "[Stage 3027:==========>                                      (2041 + 4) / 10000]\r"
     ]
    },
    {
     "name": "stderr",
     "output_type": "stream",
     "text": [
      "\r",
      "[Stage 3027:==========>                                      (2084 + 4) / 10000]\r",
      "\r",
      "[Stage 3027:==========>                                      (2136 + 4) / 10000]\r"
     ]
    },
    {
     "name": "stderr",
     "output_type": "stream",
     "text": [
      "\r",
      "[Stage 3027:==========>                                      (2187 + 4) / 10000]\r",
      "\r",
      "[Stage 3027:==========>                                      (2242 + 5) / 10000]\r"
     ]
    },
    {
     "name": "stderr",
     "output_type": "stream",
     "text": [
      "\r",
      "[Stage 3027:===========>                                     (2303 + 4) / 10000]\r",
      "\r",
      "[Stage 3027:===========>                                     (2378 + 4) / 10000]\r"
     ]
    },
    {
     "name": "stderr",
     "output_type": "stream",
     "text": [
      "\r",
      "[Stage 3027:===========>                                     (2441 + 4) / 10000]\r"
     ]
    },
    {
     "name": "stderr",
     "output_type": "stream",
     "text": [
      "\r",
      "[Stage 3027:============>                                    (2509 + 4) / 10000]\r",
      "\r",
      "[Stage 3027:============>                                    (2589 + 4) / 10000]\r"
     ]
    },
    {
     "name": "stderr",
     "output_type": "stream",
     "text": [
      "\r",
      "[Stage 3027:============>                                    (2644 + 4) / 10000]\r",
      "\r",
      "[Stage 3027:=============>                                   (2724 + 4) / 10000]\r"
     ]
    },
    {
     "name": "stderr",
     "output_type": "stream",
     "text": [
      "\r",
      "[Stage 3027:=============>                                   (2795 + 4) / 10000]\r"
     ]
    },
    {
     "name": "stderr",
     "output_type": "stream",
     "text": [
      "\r",
      "[Stage 3027:=============>                                   (2852 + 4) / 10000]\r",
      "\r",
      "[Stage 3027:==============>                                  (2919 + 4) / 10000]\r"
     ]
    },
    {
     "name": "stderr",
     "output_type": "stream",
     "text": [
      "\r",
      "[Stage 3027:==============>                                  (2969 + 4) / 10000]\r",
      "\r",
      "[Stage 3027:==============>                                  (3025 + 4) / 10000]\r"
     ]
    },
    {
     "name": "stderr",
     "output_type": "stream",
     "text": [
      "\r",
      "[Stage 3027:===============>                                 (3103 + 4) / 10000]\r",
      "\r",
      "[Stage 3027:===============>                                 (3174 + 4) / 10000]\r"
     ]
    },
    {
     "name": "stderr",
     "output_type": "stream",
     "text": [
      "\r",
      "[Stage 3027:===============>                                 (3238 + 4) / 10000]\r",
      "\r",
      "[Stage 3027:================>                                (3304 + 4) / 10000]\r"
     ]
    },
    {
     "name": "stderr",
     "output_type": "stream",
     "text": [
      "\r",
      "[Stage 3027:================>                                (3348 + 4) / 10000]\r"
     ]
    },
    {
     "name": "stderr",
     "output_type": "stream",
     "text": [
      "\r",
      "[Stage 3027:================>                                (3395 + 8) / 10000]\r",
      "\r",
      "[Stage 3027:================>                                (3467 + 4) / 10000]\r"
     ]
    },
    {
     "name": "stderr",
     "output_type": "stream",
     "text": [
      "\r",
      "[Stage 3027:=================>                               (3518 + 4) / 10000]\r",
      "\r",
      "[Stage 3027:=================>                               (3568 + 5) / 10000]\r"
     ]
    },
    {
     "name": "stderr",
     "output_type": "stream",
     "text": [
      "\r",
      "[Stage 3027:=================>                               (3611 + 4) / 10000]\r",
      "\r",
      "[Stage 3027:=================>                               (3649 + 4) / 10000]\r"
     ]
    },
    {
     "name": "stderr",
     "output_type": "stream",
     "text": [
      "\r",
      "[Stage 3027:==================>                              (3681 + 4) / 10000]\r",
      "\r",
      "[Stage 3027:==================>                              (3710 + 4) / 10000]\r"
     ]
    },
    {
     "name": "stderr",
     "output_type": "stream",
     "text": [
      "\r",
      "[Stage 3027:==================>                              (3761 + 4) / 10000]\r",
      "\r",
      "[Stage 3027:==================>                              (3825 + 4) / 10000]\r"
     ]
    },
    {
     "name": "stderr",
     "output_type": "stream",
     "text": [
      "\r",
      "[Stage 3027:==================>                              (3875 + 5) / 10000]\r",
      "\r",
      "[Stage 3027:===================>                             (3909 + 5) / 10000]\r"
     ]
    },
    {
     "name": "stderr",
     "output_type": "stream",
     "text": [
      "\r",
      "[Stage 3027:===================>                             (3963 + 4) / 10000]\r"
     ]
    },
    {
     "name": "stderr",
     "output_type": "stream",
     "text": [
      "\r",
      "[Stage 3027:===================>                             (4010 + 4) / 10000]\r",
      "\r",
      "[Stage 3027:===================>                             (4057 + 6) / 10000]\r"
     ]
    },
    {
     "name": "stderr",
     "output_type": "stream",
     "text": [
      "\r",
      "[Stage 3027:====================>                            (4116 + 4) / 10000]\r",
      "\r",
      "[Stage 3027:====================>                            (4161 + 4) / 10000]\r"
     ]
    },
    {
     "name": "stderr",
     "output_type": "stream",
     "text": [
      "\r",
      "[Stage 3027:====================>                            (4194 + 4) / 10000]\r",
      "\r",
      "[Stage 3027:====================>                            (4219 + 4) / 10000]\r"
     ]
    },
    {
     "name": "stderr",
     "output_type": "stream",
     "text": [
      "\r",
      "[Stage 3027:====================>                            (4272 + 4) / 10000]\r",
      "\r",
      "[Stage 3027:=====================>                           (4323 + 4) / 10000]\r"
     ]
    },
    {
     "name": "stderr",
     "output_type": "stream",
     "text": [
      "\r",
      "[Stage 3027:=====================>                           (4356 + 4) / 10000]\r",
      "\r",
      "[Stage 3027:=====================>                           (4373 + 4) / 10000]\r"
     ]
    },
    {
     "name": "stderr",
     "output_type": "stream",
     "text": [
      "\r",
      "[Stage 3027:=====================>                           (4402 + 4) / 10000]\r"
     ]
    },
    {
     "name": "stderr",
     "output_type": "stream",
     "text": [
      "\r",
      "[Stage 3027:=====================>                           (4443 + 4) / 10000]\r",
      "\r",
      "[Stage 3027:======================>                          (4492 + 4) / 10000]\r"
     ]
    },
    {
     "name": "stderr",
     "output_type": "stream",
     "text": [
      "\r",
      "[Stage 3027:======================>                          (4544 + 4) / 10000]\r",
      "\r",
      "[Stage 3027:======================>                          (4594 + 4) / 10000]\r"
     ]
    },
    {
     "name": "stderr",
     "output_type": "stream",
     "text": [
      "\r",
      "[Stage 3027:======================>                          (4641 + 4) / 10000]\r"
     ]
    },
    {
     "name": "stderr",
     "output_type": "stream",
     "text": [
      "\r",
      "[Stage 3027:======================>                          (4673 + 4) / 10000]\r",
      "\r",
      "[Stage 3027:=======================>                         (4717 + 5) / 10000]\r"
     ]
    },
    {
     "name": "stderr",
     "output_type": "stream",
     "text": [
      "\r",
      "[Stage 3027:=======================>                         (4744 + 5) / 10000]\r"
     ]
    },
    {
     "name": "stderr",
     "output_type": "stream",
     "text": [
      "\r",
      "[Stage 3027:=======================>                         (4766 + 4) / 10000]\r",
      "\r",
      "[Stage 3027:=======================>                         (4806 + 4) / 10000]\r"
     ]
    },
    {
     "name": "stderr",
     "output_type": "stream",
     "text": [
      "\r",
      "[Stage 3027:=======================>                         (4838 + 5) / 10000]\r",
      "\r",
      "[Stage 3027:=======================>                         (4891 + 4) / 10000]\r"
     ]
    },
    {
     "name": "stderr",
     "output_type": "stream",
     "text": [
      "\r",
      "[Stage 3027:========================>                        (4925 + 4) / 10000]\r"
     ]
    },
    {
     "name": "stderr",
     "output_type": "stream",
     "text": [
      "\r",
      "[Stage 3027:========================>                        (4967 + 4) / 10000]\r",
      "\r",
      "[Stage 3027:========================>                        (5015 + 4) / 10000]\r"
     ]
    },
    {
     "name": "stderr",
     "output_type": "stream",
     "text": [
      "\r",
      "[Stage 3027:========================>                        (5065 + 4) / 10000]\r",
      "\r",
      "[Stage 3027:=========================>                       (5114 + 4) / 10000]\r"
     ]
    },
    {
     "name": "stderr",
     "output_type": "stream",
     "text": [
      "\r",
      "[Stage 3027:=========================>                       (5176 + 5) / 10000]\r",
      "\r",
      "[Stage 3027:=========================>                       (5230 + 4) / 10000]\r"
     ]
    },
    {
     "name": "stderr",
     "output_type": "stream",
     "text": [
      "\r",
      "[Stage 3027:=========================>                       (5291 + 4) / 10000]\r",
      "\r",
      "[Stage 3027:==========================>                      (5361 + 4) / 10000]\r"
     ]
    },
    {
     "name": "stderr",
     "output_type": "stream",
     "text": [
      "\r",
      "[Stage 3027:==========================>                      (5416 + 4) / 10000]\r"
     ]
    },
    {
     "name": "stderr",
     "output_type": "stream",
     "text": [
      "\r",
      "[Stage 3027:==========================>                      (5466 + 4) / 10000]\r",
      "\r",
      "[Stage 3027:===========================>                     (5519 + 4) / 10000]\r"
     ]
    },
    {
     "name": "stderr",
     "output_type": "stream",
     "text": [
      "\r",
      "[Stage 3027:===========================>                     (5561 + 4) / 10000]\r",
      "\r",
      "[Stage 3027:===========================>                     (5617 + 5) / 10000]\r"
     ]
    },
    {
     "name": "stderr",
     "output_type": "stream",
     "text": [
      "\r",
      "[Stage 3027:===========================>                     (5681 + 4) / 10000]\r",
      "\r",
      "[Stage 3027:============================>                    (5723 + 4) / 10000]\r"
     ]
    },
    {
     "name": "stderr",
     "output_type": "stream",
     "text": [
      "\r",
      "[Stage 3027:============================>                    (5741 + 4) / 10000]\r",
      "\r",
      "[Stage 3027:============================>                    (5747 + 5) / 10000]\r"
     ]
    },
    {
     "name": "stderr",
     "output_type": "stream",
     "text": [
      "\r",
      "[Stage 3027:============================>                    (5766 + 4) / 10000]\r",
      "\r",
      "[Stage 3027:============================>                    (5813 + 4) / 10000]\r"
     ]
    },
    {
     "name": "stderr",
     "output_type": "stream",
     "text": [
      "\r",
      "[Stage 3027:============================>                    (5870 + 4) / 10000]\r",
      "\r",
      "[Stage 3027:============================>                    (5905 + 4) / 10000]\r"
     ]
    },
    {
     "name": "stderr",
     "output_type": "stream",
     "text": [
      "\r",
      "[Stage 3027:=============================>                   (5971 + 5) / 10000]\r"
     ]
    },
    {
     "name": "stderr",
     "output_type": "stream",
     "text": [
      "\r",
      "[Stage 3027:=============================>                   (6036 + 4) / 10000]\r",
      "\r",
      "[Stage 3027:=============================>                   (6092 + 4) / 10000]\r"
     ]
    },
    {
     "name": "stderr",
     "output_type": "stream",
     "text": [
      "\r",
      "[Stage 3027:==============================>                  (6143 + 4) / 10000]\r",
      "\r",
      "[Stage 3027:==============================>                  (6204 + 4) / 10000]\r"
     ]
    },
    {
     "name": "stderr",
     "output_type": "stream",
     "text": [
      "\r",
      "[Stage 3027:==============================>                  (6258 + 4) / 10000]\r",
      "\r",
      "[Stage 3027:==============================>                  (6304 + 4) / 10000]\r"
     ]
    },
    {
     "name": "stderr",
     "output_type": "stream",
     "text": [
      "\r",
      "[Stage 3027:===============================>                 (6349 + 4) / 10000]\r",
      "\r",
      "[Stage 3027:===============================>                 (6409 + 5) / 10000]\r"
     ]
    },
    {
     "name": "stderr",
     "output_type": "stream",
     "text": [
      "\r",
      "[Stage 3027:===============================>                 (6456 + 5) / 10000]\r",
      "\r",
      "[Stage 3027:===============================>                 (6500 + 4) / 10000]\r"
     ]
    },
    {
     "name": "stderr",
     "output_type": "stream",
     "text": [
      "\r",
      "[Stage 3027:================================>                (6552 + 4) / 10000]\r",
      "\r",
      "[Stage 3027:================================>                (6588 + 4) / 10000]\r"
     ]
    },
    {
     "name": "stderr",
     "output_type": "stream",
     "text": [
      "\r",
      "[Stage 3027:================================>                (6619 + 4) / 10000]\r"
     ]
    },
    {
     "name": "stderr",
     "output_type": "stream",
     "text": [
      "\r",
      "[Stage 3027:================================>                (6666 + 4) / 10000]\r",
      "\r",
      "[Stage 3027:================================>                (6719 + 4) / 10000]\r"
     ]
    },
    {
     "name": "stderr",
     "output_type": "stream",
     "text": [
      "\r",
      "[Stage 3027:=================================>               (6766 + 4) / 10000]\r"
     ]
    },
    {
     "name": "stderr",
     "output_type": "stream",
     "text": [
      "\r",
      "[Stage 3027:=================================>               (6810 + 4) / 10000]\r"
     ]
    },
    {
     "name": "stderr",
     "output_type": "stream",
     "text": [
      "\r",
      "[Stage 3027:=================================>               (6855 + 4) / 10000]\r",
      "\r",
      "[Stage 3027:=================================>               (6895 + 5) / 10000]\r"
     ]
    },
    {
     "name": "stderr",
     "output_type": "stream",
     "text": [
      "\r",
      "[Stage 3027:==================================>              (6946 + 4) / 10000]\r",
      "\r",
      "[Stage 3027:==================================>              (6994 + 4) / 10000]\r"
     ]
    },
    {
     "name": "stderr",
     "output_type": "stream",
     "text": [
      "\r",
      "[Stage 3027:==================================>              (7032 + 4) / 10000]\r",
      "\r",
      "[Stage 3027:==================================>              (7080 + 4) / 10000]\r"
     ]
    },
    {
     "name": "stderr",
     "output_type": "stream",
     "text": [
      "\r",
      "[Stage 3027:==================================>              (7118 + 4) / 10000]\r",
      "\r",
      "[Stage 3027:===================================>             (7154 + 4) / 10000]\r"
     ]
    },
    {
     "name": "stderr",
     "output_type": "stream",
     "text": [
      "\r",
      "[Stage 3027:===================================>             (7191 + 4) / 10000]\r",
      "\r",
      "[Stage 3027:===================================>             (7250 + 4) / 10000]\r"
     ]
    },
    {
     "name": "stderr",
     "output_type": "stream",
     "text": [
      "\r",
      "[Stage 3027:===================================>             (7304 + 4) / 10000]\r",
      "\r",
      "[Stage 3027:====================================>            (7363 + 4) / 10000]\r"
     ]
    },
    {
     "name": "stderr",
     "output_type": "stream",
     "text": [
      "\r",
      "[Stage 3027:====================================>            (7427 + 4) / 10000]\r",
      "\r",
      "[Stage 3027:====================================>            (7486 + 4) / 10000]\r"
     ]
    },
    {
     "name": "stderr",
     "output_type": "stream",
     "text": [
      "\r",
      "[Stage 3027:====================================>            (7532 + 4) / 10000]\r",
      "\r",
      "[Stage 3027:=====================================>           (7583 + 4) / 10000]\r"
     ]
    },
    {
     "name": "stderr",
     "output_type": "stream",
     "text": [
      "\r",
      "[Stage 3027:=====================================>           (7628 + 5) / 10000]\r",
      "\r",
      "[Stage 3027:=====================================>           (7689 + 4) / 10000]\r"
     ]
    },
    {
     "name": "stderr",
     "output_type": "stream",
     "text": [
      "\r",
      "[Stage 3027:=====================================>           (7746 + 4) / 10000]\r",
      "\r",
      "[Stage 3027:======================================>          (7805 + 4) / 10000]\r"
     ]
    },
    {
     "name": "stderr",
     "output_type": "stream",
     "text": [
      "\r",
      "[Stage 3027:======================================>          (7859 + 4) / 10000]\r"
     ]
    },
    {
     "name": "stderr",
     "output_type": "stream",
     "text": [
      "\r",
      "[Stage 3027:======================================>          (7886 + 5) / 10000]\r",
      "\r",
      "[Stage 3027:======================================>          (7940 + 4) / 10000]\r"
     ]
    },
    {
     "name": "stderr",
     "output_type": "stream",
     "text": [
      "\r",
      "[Stage 3027:=======================================>         (8001 + 4) / 10000]\r"
     ]
    },
    {
     "name": "stderr",
     "output_type": "stream",
     "text": [
      "\r",
      "[Stage 3027:=======================================>         (8046 + 4) / 10000]\r"
     ]
    },
    {
     "name": "stderr",
     "output_type": "stream",
     "text": [
      "\r",
      "[Stage 3027:=======================================>         (8110 + 4) / 10000]\r",
      "\r",
      "[Stage 3027:========================================>        (8184 + 4) / 10000]\r"
     ]
    },
    {
     "name": "stderr",
     "output_type": "stream",
     "text": [
      "\r",
      "[Stage 3027:========================================>        (8239 + 4) / 10000]\r",
      "\r",
      "[Stage 3027:========================================>        (8293 + 4) / 10000]\r"
     ]
    },
    {
     "name": "stderr",
     "output_type": "stream",
     "text": [
      "\r",
      "[Stage 3027:========================================>        (8336 + 4) / 10000]\r",
      "\r",
      "[Stage 3027:=========================================>       (8393 + 4) / 10000]\r"
     ]
    },
    {
     "name": "stderr",
     "output_type": "stream",
     "text": [
      "\r",
      "[Stage 3027:=========================================>       (8472 + 4) / 10000]\r",
      "\r",
      "[Stage 3027:=========================================>       (8550 + 4) / 10000]\r"
     ]
    },
    {
     "name": "stderr",
     "output_type": "stream",
     "text": [
      "\r",
      "[Stage 3027:==========================================>      (8593 + 4) / 10000]\r",
      "\r",
      "[Stage 3027:==========================================>      (8655 + 4) / 10000]\r"
     ]
    },
    {
     "name": "stderr",
     "output_type": "stream",
     "text": [
      "\r",
      "[Stage 3027:==========================================>      (8719 + 5) / 10000]\r",
      "\r",
      "[Stage 3027:==========================================>      (8772 + 4) / 10000]\r"
     ]
    },
    {
     "name": "stderr",
     "output_type": "stream",
     "text": [
      "\r",
      "[Stage 3027:===========================================>     (8856 + 4) / 10000]\r",
      "\r",
      "[Stage 3027:===========================================>     (8947 + 5) / 10000]\r"
     ]
    },
    {
     "name": "stderr",
     "output_type": "stream",
     "text": [
      "\r",
      "[Stage 3027:============================================>    (9018 + 4) / 10000]\r",
      "\r",
      "[Stage 3027:============================================>    (9091 + 4) / 10000]\r"
     ]
    },
    {
     "name": "stderr",
     "output_type": "stream",
     "text": [
      "\r",
      "[Stage 3027:============================================>    (9152 + 4) / 10000]\r",
      "\r",
      "[Stage 3027:=============================================>   (9244 + 4) / 10000]\r"
     ]
    },
    {
     "name": "stderr",
     "output_type": "stream",
     "text": [
      "\r",
      "[Stage 3027:=============================================>   (9313 + 4) / 10000]\r",
      "\r",
      "[Stage 3027:=============================================>   (9386 + 5) / 10000]\r"
     ]
    },
    {
     "name": "stderr",
     "output_type": "stream",
     "text": [
      "\r",
      "[Stage 3027:==============================================>  (9449 + 5) / 10000]\r",
      "\r",
      "[Stage 3027:==============================================>  (9500 + 4) / 10000]\r"
     ]
    },
    {
     "name": "stderr",
     "output_type": "stream",
     "text": [
      "\r",
      "[Stage 3027:==============================================>  (9540 + 4) / 10000]\r"
     ]
    },
    {
     "name": "stderr",
     "output_type": "stream",
     "text": [
      "\r",
      "[Stage 3027:===============================================> (9604 + 4) / 10000]\r",
      "\r",
      "[Stage 3027:===============================================> (9638 + 5) / 10000]\r"
     ]
    },
    {
     "name": "stderr",
     "output_type": "stream",
     "text": [
      "\r",
      "[Stage 3027:===============================================> (9677 + 4) / 10000]\r"
     ]
    },
    {
     "name": "stderr",
     "output_type": "stream",
     "text": [
      "\r",
      "[Stage 3027:===============================================> (9707 + 5) / 10000]\r",
      "\r",
      "[Stage 3027:===============================================> (9741 + 4) / 10000]\r"
     ]
    },
    {
     "name": "stderr",
     "output_type": "stream",
     "text": [
      "\r",
      "[Stage 3027:===============================================> (9771 + 4) / 10000]\r",
      "\r",
      "[Stage 3027:================================================>(9810 + 4) / 10000]\r"
     ]
    },
    {
     "name": "stderr",
     "output_type": "stream",
     "text": [
      "\r",
      "[Stage 3027:================================================>(9856 + 4) / 10000]\r",
      "\r",
      "[Stage 3027:================================================>(9893 + 4) / 10000]\r"
     ]
    },
    {
     "name": "stderr",
     "output_type": "stream",
     "text": [
      "\r",
      "[Stage 3027:================================================>(9921 + 4) / 10000]\r",
      "\r",
      "[Stage 3027:================================================>(9954 + 4) / 10000]\r"
     ]
    },
    {
     "name": "stderr",
     "output_type": "stream",
     "text": [
      "\r",
      "[Stage 3027:================================================>(9982 + 4) / 10000]\r",
      "\r",
      "                                                                                \r"
     ]
    },
    {
     "name": "stdout",
     "output_type": "stream",
     "text": [
      "Deleted 0 files and directories in a total of 1 directories.\n"
     ]
    },
    {
     "data": {
      "text/plain": [
       "DataFrame[]"
      ]
     },
     "execution_count": 7,
     "metadata": {},
     "output_type": "execute_result"
    }
   ],
   "source": [
    "delta_table = DeltaTable.forPath(spark, PREDICTIONS_TABLE_PATH)\n",
    "delta_table.vacuum()"
   ]
  }
 ],
 "metadata": {
  "kernelspec": {
   "display_name": "Python 3 (ipykernel)",
   "language": "python",
   "name": "python3"
  },
  "language_info": {
   "codemirror_mode": {
    "name": "ipython",
    "version": 3
   },
   "file_extension": ".py",
   "mimetype": "text/x-python",
   "name": "python",
   "nbconvert_exporter": "python",
   "pygments_lexer": "ipython3",
   "version": "3.7.12"
  },
  "papermill": {
   "default_parameters": {},
   "duration": 612.431044,
   "end_time": "2022-07-09T23:01:16.940440",
   "environment_variables": {},
   "exception": null,
   "input_path": "/opt/notebooks/input/vacuum_tables.ipynb",
   "output_path": "/opt/notebooks/output/vacuum_tables_output.ipynb",
   "parameters": {},
   "start_time": "2022-07-09T22:51:04.509396",
   "version": "2.3.4"
  }
 },
 "nbformat": 4,
 "nbformat_minor": 5
}