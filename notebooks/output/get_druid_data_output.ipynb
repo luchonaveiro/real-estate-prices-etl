{
 "cells": [
  {
   "cell_type": "code",
   "execution_count": 1,
   "id": "49295ec4",
   "metadata": {
    "execution": {
     "iopub.execute_input": "2022-07-09T23:01:40.026718Z",
     "iopub.status.busy": "2022-07-09T23:01:40.024905Z",
     "iopub.status.idle": "2022-07-09T23:01:40.209015Z",
     "shell.execute_reply": "2022-07-09T23:01:40.207155Z"
    },
    "papermill": {
     "duration": 0.199292,
     "end_time": "2022-07-09T23:01:40.213632",
     "exception": false,
     "start_time": "2022-07-09T23:01:40.014340",
     "status": "completed"
    },
    "tags": []
   },
   "outputs": [],
   "source": [
    "import pyspark.sql.functions as F\n",
    "from pyspark.sql import SparkSession\n",
    "from delta import *\n",
    "import logging\n",
    "\n",
    "GOLDEN_TABLE_PATH = '/opt/data_lake/golden/house_prices'\n",
    "PREDICTIONS_TABLE_PATH = '/opt/data_lake/golden/house_prices_predictions'\n",
    "DRUID_GOLDEN_TABLE_PATH = '/opt/data_lake/golden/druid/house_prices.txt'\n",
    "DRUID_PREDICTIONS_TABLE_PATH = '/opt/data_lake/golden/druid/house_prices_predictions.txt'"
   ]
  },
  {
   "cell_type": "code",
   "execution_count": 2,
   "id": "3ee59dbd",
   "metadata": {
    "execution": {
     "iopub.execute_input": "2022-07-09T23:01:40.231294Z",
     "iopub.status.busy": "2022-07-09T23:01:40.230727Z",
     "iopub.status.idle": "2022-07-09T23:01:40.240536Z",
     "shell.execute_reply": "2022-07-09T23:01:40.238668Z"
    },
    "papermill": {
     "duration": 0.021857,
     "end_time": "2022-07-09T23:01:40.243566",
     "exception": false,
     "start_time": "2022-07-09T23:01:40.221709",
     "status": "completed"
    },
    "tags": []
   },
   "outputs": [],
   "source": [
    "logging.basicConfig(\n",
    "    level=logging.INFO,\n",
    "    format=\"%(asctime)s [%(levelname)s] %(message)s\",\n",
    "    handlers=[\n",
    "        logging.StreamHandler()\n",
    "    ]\n",
    ")\n",
    "logger = logging.getLogger(__name__)"
   ]
  },
  {
   "cell_type": "code",
   "execution_count": 3,
   "id": "750befe4",
   "metadata": {
    "execution": {
     "iopub.execute_input": "2022-07-09T23:01:40.260686Z",
     "iopub.status.busy": "2022-07-09T23:01:40.259197Z",
     "iopub.status.idle": "2022-07-09T23:01:55.363242Z",
     "shell.execute_reply": "2022-07-09T23:01:55.361312Z"
    },
    "papermill": {
     "duration": 15.118268,
     "end_time": "2022-07-09T23:01:55.368730",
     "exception": false,
     "start_time": "2022-07-09T23:01:40.250462",
     "status": "completed"
    },
    "tags": []
   },
   "outputs": [
    {
     "name": "stderr",
     "output_type": "stream",
     "text": [
      "WARNING: An illegal reflective access operation has occurred\n",
      "WARNING: Illegal reflective access by org.apache.spark.unsafe.Platform (file:/usr/local/spark-3.1.2-bin-hadoop3.2/jars/spark-unsafe_2.12-3.1.2.jar) to constructor java.nio.DirectByteBuffer(long,int)\n",
      "WARNING: Please consider reporting this to the maintainers of org.apache.spark.unsafe.Platform\n",
      "WARNING: Use --illegal-access=warn to enable warnings of further illegal reflective access operations\n",
      "WARNING: All illegal access operations will be denied in a future release\n"
     ]
    },
    {
     "name": "stdout",
     "output_type": "stream",
     "text": [
      ":: loading settings :: url = jar:file:/usr/local/spark-3.1.2-bin-hadoop3.2/jars/ivy-2.4.0.jar!/org/apache/ivy/core/settings/ivysettings.xml\n"
     ]
    },
    {
     "name": "stderr",
     "output_type": "stream",
     "text": [
      "Ivy Default Cache set to: /home/airflow/.ivy2/cache\n",
      "The jars for the packages stored in: /home/airflow/.ivy2/jars\n",
      "io.delta#delta-core_2.12 added as a dependency\n",
      ":: resolving dependencies :: org.apache.spark#spark-submit-parent-33a21e94-2be8-41b3-a797-3633b0cd7f48;1.0\n",
      "\tconfs: [default]\n"
     ]
    },
    {
     "name": "stderr",
     "output_type": "stream",
     "text": [
      "\tfound io.delta#delta-core_2.12;1.0.0 in central\n",
      "\tfound org.antlr#antlr4;4.7 in central\n",
      "\tfound org.antlr#antlr4-runtime;4.7 in central\n",
      "\tfound org.antlr#antlr-runtime;3.5.2 in central\n",
      "\tfound org.antlr#ST4;4.0.8 in central\n"
     ]
    },
    {
     "name": "stderr",
     "output_type": "stream",
     "text": [
      "\tfound org.abego.treelayout#org.abego.treelayout.core;1.0.3 in central\n",
      "\tfound org.glassfish#javax.json;1.0.4 in central\n",
      "\tfound com.ibm.icu#icu4j;58.2 in central\n",
      ":: resolution report :: resolve 563ms :: artifacts dl 16ms\n",
      "\t:: modules in use:\n",
      "\tcom.ibm.icu#icu4j;58.2 from central in [default]\n",
      "\tio.delta#delta-core_2.12;1.0.0 from central in [default]\n",
      "\torg.abego.treelayout#org.abego.treelayout.core;1.0.3 from central in [default]\n",
      "\torg.antlr#ST4;4.0.8 from central in [default]\n",
      "\torg.antlr#antlr-runtime;3.5.2 from central in [default]\n",
      "\torg.antlr#antlr4;4.7 from central in [default]\n",
      "\torg.antlr#antlr4-runtime;4.7 from central in [default]\n",
      "\torg.glassfish#javax.json;1.0.4 from central in [default]\n",
      "\t---------------------------------------------------------------------\n",
      "\t|                  |            modules            ||   artifacts   |\n",
      "\t|       conf       | number| search|dwnlded|evicted|| number|dwnlded|\n",
      "\t---------------------------------------------------------------------\n",
      "\t|      default     |   8   |   0   |   0   |   0   ||   8   |   0   |\n",
      "\t---------------------------------------------------------------------\n",
      ":: retrieving :: org.apache.spark#spark-submit-parent-33a21e94-2be8-41b3-a797-3633b0cd7f48\n",
      "\tconfs: [default]\n",
      "\t0 artifacts copied, 8 already retrieved (0kB/15ms)\n"
     ]
    },
    {
     "name": "stderr",
     "output_type": "stream",
     "text": [
      "22/07/09 23:01:44 WARN NativeCodeLoader: Unable to load native-hadoop library for your platform... using builtin-java classes where applicable\n"
     ]
    },
    {
     "name": "stderr",
     "output_type": "stream",
     "text": [
      "Using Spark's default log4j profile: org/apache/spark/log4j-defaults.properties\n",
      "Setting default log level to \"WARN\".\n",
      "To adjust logging level use sc.setLogLevel(newLevel). For SparkR, use setLogLevel(newLevel).\n"
     ]
    }
   ],
   "source": [
    "# Create Spark Session\n",
    "builder = (\n",
    "    SparkSession\n",
    "    .builder\n",
    "    .appName(\"real-estate-etl\")\n",
    "    .config(\"spark.sql.extensions\", \"io.delta.sql.DeltaSparkSessionExtension\")\n",
    "    .config(\"spark.sql.catalog.spark_catalog\", \"org.apache.spark.sql.delta.catalog.DeltaCatalog\")\n",
    ")\n",
    "\n",
    "spark = configure_spark_with_delta_pip(builder).getOrCreate()"
   ]
  },
  {
   "cell_type": "code",
   "execution_count": 4,
   "id": "4c9813d6",
   "metadata": {
    "execution": {
     "iopub.execute_input": "2022-07-09T23:01:55.404740Z",
     "iopub.status.busy": "2022-07-09T23:01:55.400973Z",
     "iopub.status.idle": "2022-07-09T23:02:21.786941Z",
     "shell.execute_reply": "2022-07-09T23:02:21.778484Z"
    },
    "papermill": {
     "duration": 26.408468,
     "end_time": "2022-07-09T23:02:21.795670",
     "exception": false,
     "start_time": "2022-07-09T23:01:55.387202",
     "status": "completed"
    },
    "tags": []
   },
   "outputs": [
    {
     "name": "stderr",
     "output_type": "stream",
     "text": [
      "2022-07-09 23:01:55,413 [INFO] Exporting golden house prices for Druid ...\n"
     ]
    },
    {
     "name": "stderr",
     "output_type": "stream",
     "text": [
      "\r",
      "[Stage 0:>                                                          (0 + 2) / 2]\r"
     ]
    },
    {
     "name": "stderr",
     "output_type": "stream",
     "text": [
      "\r",
      "[Stage 0:=============================>                             (1 + 1) / 2]\r"
     ]
    },
    {
     "name": "stderr",
     "output_type": "stream",
     "text": [
      "\r",
      "[Stage 1:>                                                         (0 + 4) / 50]\r"
     ]
    },
    {
     "name": "stderr",
     "output_type": "stream",
     "text": [
      "\r",
      "[Stage 1:>                                                         (0 + 5) / 50]\r",
      "\r",
      "[Stage 1:====>                                                     (4 + 4) / 50]\r"
     ]
    },
    {
     "name": "stderr",
     "output_type": "stream",
     "text": [
      "\r",
      "[Stage 1:=========>                                                (8 + 4) / 50]\r",
      "\r",
      "[Stage 1:============>                                            (11 + 4) / 50]\r"
     ]
    },
    {
     "name": "stderr",
     "output_type": "stream",
     "text": [
      "\r",
      "[Stage 1:==================>                                      (16 + 4) / 50]\r",
      "\r",
      "[Stage 1:======================>                                  (20 + 4) / 50]\r"
     ]
    },
    {
     "name": "stderr",
     "output_type": "stream",
     "text": [
      "\r",
      "[Stage 1:============================>                            (25 + 4) / 50]\r"
     ]
    },
    {
     "name": "stderr",
     "output_type": "stream",
     "text": [
      "\r",
      "[Stage 1:==================================>                      (30 + 4) / 50]\r",
      "\r",
      "[Stage 1:======================================>                  (34 + 4) / 50]\r"
     ]
    },
    {
     "name": "stderr",
     "output_type": "stream",
     "text": [
      "\r",
      "[Stage 1:=============================================>           (40 + 4) / 50]\r",
      "\r",
      "[Stage 1:====================================================>    (46 + 4) / 50]\r"
     ]
    },
    {
     "name": "stderr",
     "output_type": "stream",
     "text": [
      "\r",
      "                                                                                \r"
     ]
    },
    {
     "name": "stderr",
     "output_type": "stream",
     "text": [
      "\r",
      "[Stage 4:==============>                                          (13 + 4) / 50]\r",
      "\r",
      "[Stage 4:=============================>                           (26 + 4) / 50]\r"
     ]
    },
    {
     "name": "stderr",
     "output_type": "stream",
     "text": [
      "\r",
      "[Stage 4:=============================================>           (40 + 4) / 50]\r",
      "\r",
      "                                                                                \r"
     ]
    },
    {
     "name": "stderr",
     "output_type": "stream",
     "text": [
      "\r",
      "[Stage 5:>                                                          (0 + 4) / 4]\r"
     ]
    },
    {
     "name": "stderr",
     "output_type": "stream",
     "text": [
      "\r",
      "[Stage 5:=============================>                             (2 + 2) / 4]\r",
      "\r",
      "                                                                                \r"
     ]
    }
   ],
   "source": [
    "logger.info('Exporting golden house prices for Druid ...')\n",
    "golden_data = (\n",
    "    spark\n",
    "    .read\n",
    "    .format('delta')\n",
    "    .load(GOLDEN_TABLE_PATH)\n",
    ")\n",
    "\n",
    "golden_data.coalesce(10).write.mode(\"overwrite\").csv(DRUID_GOLDEN_TABLE_PATH, header=False, sep=\"\\t\")\n",
    "\n"
   ]
  },
  {
   "cell_type": "code",
   "execution_count": 5,
   "id": "9f0d7fb7",
   "metadata": {
    "execution": {
     "iopub.execute_input": "2022-07-09T23:02:21.848122Z",
     "iopub.status.busy": "2022-07-09T23:02:21.843009Z",
     "iopub.status.idle": "2022-07-09T23:02:29.323035Z",
     "shell.execute_reply": "2022-07-09T23:02:29.321096Z"
    },
    "papermill": {
     "duration": 7.507607,
     "end_time": "2022-07-09T23:02:29.329119",
     "exception": false,
     "start_time": "2022-07-09T23:02:21.821512",
     "status": "completed"
    },
    "tags": []
   },
   "outputs": [
    {
     "name": "stderr",
     "output_type": "stream",
     "text": [
      "2022-07-09 23:02:21,855 [INFO] Exporting model predictions for Druid ...\n"
     ]
    },
    {
     "name": "stderr",
     "output_type": "stream",
     "text": [
      "\r",
      "[Stage 7:===================>                                     (17 + 4) / 50]\r",
      "\r",
      "[Stage 7:=========================>                               (22 + 4) / 50]\r"
     ]
    },
    {
     "name": "stderr",
     "output_type": "stream",
     "text": [
      "\r",
      "[Stage 7:==============================>                          (27 + 4) / 50]\r",
      "\r",
      "[Stage 7:====================================>                    (32 + 4) / 50]\r"
     ]
    },
    {
     "name": "stderr",
     "output_type": "stream",
     "text": [
      "\r",
      "[Stage 7:===========================================>             (38 + 4) / 50]\r",
      "\r",
      "[Stage 7:=====================================================>   (47 + 3) / 50]\r"
     ]
    },
    {
     "name": "stderr",
     "output_type": "stream",
     "text": [
      "\r",
      "                                                                                \r"
     ]
    },
    {
     "name": "stderr",
     "output_type": "stream",
     "text": [
      "\r",
      "[Stage 11:>                                                         (0 + 4) / 4]\r",
      "\r",
      "[Stage 11:==============>                                           (1 + 3) / 4]\r"
     ]
    },
    {
     "name": "stderr",
     "output_type": "stream",
     "text": [
      "\r",
      "[Stage 11:===========================================>              (3 + 1) / 4]\r",
      "\r",
      "                                                                                \r"
     ]
    }
   ],
   "source": [
    "logger.info('Exporting model predictions for Druid ...')\n",
    "predictions_data = (\n",
    "    spark\n",
    "    .read\n",
    "    .format('delta')\n",
    "    .load(PREDICTIONS_TABLE_PATH)\n",
    ")\n",
    "\n",
    "golden_data.coalesce(10).write.mode(\"overwrite\").csv(DRUID_PREDICTIONS_TABLE_PATH, header=False, sep=\"\\t\")"
   ]
  }
 ],
 "metadata": {
  "kernelspec": {
   "display_name": "Python 3 (ipykernel)",
   "language": "python",
   "name": "python3"
  },
  "language_info": {
   "codemirror_mode": {
    "name": "ipython",
    "version": 3
   },
   "file_extension": ".py",
   "mimetype": "text/x-python",
   "name": "python",
   "nbconvert_exporter": "python",
   "pygments_lexer": "ipython3",
   "version": "3.7.12"
  },
  "papermill": {
   "default_parameters": {},
   "duration": 55.339904,
   "end_time": "2022-07-09T23:02:31.972671",
   "environment_variables": {},
   "exception": null,
   "input_path": "/opt/notebooks/input/get_druid_data.ipynb",
   "output_path": "/opt/notebooks/output/get_druid_data_output.ipynb",
   "parameters": {},
   "start_time": "2022-07-09T23:01:36.632767",
   "version": "2.3.4"
  }
 },
 "nbformat": 4,
 "nbformat_minor": 5
}