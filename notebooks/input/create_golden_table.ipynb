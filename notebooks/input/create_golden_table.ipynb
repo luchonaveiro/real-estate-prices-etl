{
 "cells": [
  {
   "cell_type": "code",
   "execution_count": 1,
   "id": "3d11c4b2",
   "metadata": {},
   "outputs": [],
   "source": [
    "from pyspark.sql import SparkSession\n",
    "import pyspark.sql.functions as F\n",
    "from pyspark.sql.types import IntegerType\n",
    "from delta import *\n",
    "import logging"
   ]
  },
  {
   "cell_type": "code",
   "execution_count": 2,
   "id": "9058782a",
   "metadata": {
    "tags": [
     "parameters"
    ]
   },
   "outputs": [],
   "source": [
    "# Parameters\n",
    "city = 'bern'"
   ]
  },
  {
   "cell_type": "code",
   "execution_count": 9,
   "id": "a3d26a37",
   "metadata": {},
   "outputs": [],
   "source": [
    "# Paths\n",
    "SILVER_TABLE_PATH = '/opt/data_lake/silver/house_prices_merged'\n",
    "GOLDEN_TABLE_PATH = '/opt/data_lake/golden/house_prices'"
   ]
  },
  {
   "cell_type": "code",
   "execution_count": 10,
   "id": "d0945d0f",
   "metadata": {},
   "outputs": [],
   "source": [
    "logging.basicConfig(\n",
    "    level=logging.INFO,\n",
    "    format=\"%(asctime)s [%(levelname)s] %(message)s\",\n",
    "    handlers=[\n",
    "        logging.StreamHandler()\n",
    "    ]\n",
    ")\n",
    "logger = logging.getLogger(__name__)"
   ]
  },
  {
   "cell_type": "code",
   "execution_count": 6,
   "id": "0bc72ff8",
   "metadata": {},
   "outputs": [
    {
     "name": "stderr",
     "output_type": "stream",
     "text": [
      "2022-07-09 23:23:19,651 [INFO] Cleaning silver dataset to golden dataset ...\n"
     ]
    }
   ],
   "source": [
    "logger.info(f\"Cleaning silver dataset to golden dataset ...\")"
   ]
  },
  {
   "cell_type": "code",
   "execution_count": 7,
   "id": "a73effaf",
   "metadata": {},
   "outputs": [
    {
     "name": "stderr",
     "output_type": "stream",
     "text": [
      "WARNING: An illegal reflective access operation has occurred\n",
      "WARNING: Illegal reflective access by org.apache.spark.unsafe.Platform (file:/usr/local/spark-3.1.2-bin-hadoop3.2/jars/spark-unsafe_2.12-3.1.2.jar) to constructor java.nio.DirectByteBuffer(long,int)\n",
      "WARNING: Please consider reporting this to the maintainers of org.apache.spark.unsafe.Platform\n",
      "WARNING: Use --illegal-access=warn to enable warnings of further illegal reflective access operations\n",
      "WARNING: All illegal access operations will be denied in a future release\n"
     ]
    },
    {
     "name": "stdout",
     "output_type": "stream",
     "text": [
      ":: loading settings :: url = jar:file:/usr/local/spark-3.1.2-bin-hadoop3.2/jars/ivy-2.4.0.jar!/org/apache/ivy/core/settings/ivysettings.xml\n"
     ]
    },
    {
     "name": "stderr",
     "output_type": "stream",
     "text": [
      "Ivy Default Cache set to: /home/jovyan/.ivy2/cache\n",
      "The jars for the packages stored in: /home/jovyan/.ivy2/jars\n",
      "io.delta#delta-core_2.12 added as a dependency\n",
      ":: resolving dependencies :: org.apache.spark#spark-submit-parent-1b15a8df-060f-4a74-a7b5-a54677519f36;1.0\n",
      "\tconfs: [default]\n",
      "\tfound io.delta#delta-core_2.12;1.0.0 in central\n",
      "\tfound org.antlr#antlr4;4.7 in central\n",
      "\tfound org.antlr#antlr4-runtime;4.7 in central\n",
      "\tfound org.antlr#antlr-runtime;3.5.2 in central\n",
      "\tfound org.antlr#ST4;4.0.8 in central\n",
      "\tfound org.abego.treelayout#org.abego.treelayout.core;1.0.3 in central\n",
      "\tfound org.glassfish#javax.json;1.0.4 in central\n",
      "\tfound com.ibm.icu#icu4j;58.2 in central\n",
      ":: resolution report :: resolve 3331ms :: artifacts dl 180ms\n",
      "\t:: modules in use:\n",
      "\tcom.ibm.icu#icu4j;58.2 from central in [default]\n",
      "\tio.delta#delta-core_2.12;1.0.0 from central in [default]\n",
      "\torg.abego.treelayout#org.abego.treelayout.core;1.0.3 from central in [default]\n",
      "\torg.antlr#ST4;4.0.8 from central in [default]\n",
      "\torg.antlr#antlr-runtime;3.5.2 from central in [default]\n",
      "\torg.antlr#antlr4;4.7 from central in [default]\n",
      "\torg.antlr#antlr4-runtime;4.7 from central in [default]\n",
      "\torg.glassfish#javax.json;1.0.4 from central in [default]\n",
      "\t---------------------------------------------------------------------\n",
      "\t|                  |            modules            ||   artifacts   |\n",
      "\t|       conf       | number| search|dwnlded|evicted|| number|dwnlded|\n",
      "\t---------------------------------------------------------------------\n",
      "\t|      default     |   8   |   0   |   0   |   0   ||   8   |   0   |\n",
      "\t---------------------------------------------------------------------\n",
      ":: retrieving :: org.apache.spark#spark-submit-parent-1b15a8df-060f-4a74-a7b5-a54677519f36\n",
      "\tconfs: [default]\n",
      "\t0 artifacts copied, 8 already retrieved (0kB/139ms)\n",
      "22/07/09 23:23:42 WARN NativeCodeLoader: Unable to load native-hadoop library for your platform... using builtin-java classes where applicable\n",
      "Using Spark's default log4j profile: org/apache/spark/log4j-defaults.properties\n",
      "Setting default log level to \"WARN\".\n",
      "To adjust logging level use sc.setLogLevel(newLevel). For SparkR, use setLogLevel(newLevel).\n",
      "22/07/09 23:23:56 WARN Utils: Service 'SparkUI' could not bind on port 4040. Attempting port 4041.\n",
      "22/07/09 23:23:56 WARN Utils: Service 'SparkUI' could not bind on port 4041. Attempting port 4042.\n"
     ]
    }
   ],
   "source": [
    "# Create Spark Session\n",
    "builder = (\n",
    "    SparkSession\n",
    "    .builder\n",
    "    .appName(\"real-estate-etl\")\n",
    "    .config(\"spark.sql.extensions\", \"io.delta.sql.DeltaSparkSessionExtension\")\n",
    "    .config(\"spark.sql.catalog.spark_catalog\", \"org.apache.spark.sql.delta.catalog.DeltaCatalog\")\n",
    ")\n",
    "\n",
    "spark = configure_spark_with_delta_pip(builder).getOrCreate()"
   ]
  },
  {
   "cell_type": "code",
   "execution_count": 11,
   "id": "b12732e1",
   "metadata": {},
   "outputs": [
    {
     "name": "stderr",
     "output_type": "stream",
     "text": [
      "2022-07-09 23:25:36,052 [INFO] 48 rows before cleaninig the data    (2 + 2) / 4]\n",
      "                                                                                \r"
     ]
    }
   ],
   "source": [
    "# Load silver dataset\n",
    "silver_data = (\n",
    "    spark\n",
    "    .read\n",
    "    .format('delta')\n",
    "    .load(SILVER_TABLE_PATH)\n",
    "    .filter(F.col('city') == city)\n",
    ")\n",
    "\n",
    "logger.info(f\"{silver_data.count()} rows before cleaninig the data\")"
   ]
  },
  {
   "cell_type": "code",
   "execution_count": 12,
   "id": "991d4e9f",
   "metadata": {},
   "outputs": [
    {
     "name": "stderr",
     "output_type": "stream",
     "text": [
      "2022-07-09 23:25:49,984 [INFO] 48 rows remained after cleaninig the data        \n"
     ]
    }
   ],
   "source": [
    "# Fix values\n",
    "# If the house does not have a price, i'll remove it\n",
    "\n",
    "SELECTED_COLUMNS = ['property_id', 'city', 'attributes_inside_attic', 'attributes_inside_cellar', 'attributes_technology_dishwasher',\n",
    "                    'attributes_technology_cable_tv', 'attributes_outside_balcony', 'attributes_outside_playground',\n",
    "                    'attributes_outside_parking', 'attributes_outside_garage', 'number_of_rooms', 'surface_property', \n",
    "                    'surface_usable', 'surface_living', 'normalized_price']\n",
    "\n",
    "NUMERIC_COLUMNS = ['number_of_rooms', 'surface_property', 'surface_usable', 'surface_living']\n",
    "\n",
    "golden_data = (\n",
    "    silver_data\n",
    "    .filter(F.col('normalized_price').isNotNull())\n",
    "    .select(SELECTED_COLUMNS)\n",
    "    .withColumn('attributes_inside_attic', F.coalesce(F.col('attributes_inside_attic'), F.lit(False)).cast(IntegerType()))\n",
    "    .withColumn('attributes_inside_cellar', F.coalesce(F.col('attributes_inside_cellar'), F.lit(False)).cast(IntegerType()))\n",
    "    .withColumn('attributes_technology_dishwasher', F.coalesce(F.col('attributes_technology_dishwasher'), F.lit(False)).cast(IntegerType()))\n",
    "    .withColumn('attributes_technology_cable_tv', F.coalesce(F.col('attributes_technology_cable_tv'), F.lit(False)).cast(IntegerType()))\n",
    "    .withColumn('attributes_outside_balcony', F.coalesce(F.col('attributes_outside_balcony'), F.lit(False)).cast(IntegerType()))\n",
    "    .withColumn('attributes_outside_playground', F.coalesce(F.col('attributes_outside_playground'), F.lit(False)).cast(IntegerType()))\n",
    "    .withColumn('attributes_outside_parking', F.coalesce(F.col('attributes_outside_parking'), F.lit(False)).cast(IntegerType()))\n",
    "    .withColumn('attributes_outside_garage', F.coalesce(F.col('attributes_outside_garage'), F.lit(False)).cast(IntegerType()))\n",
    "    .withColumn('surface_property', F.coalesce(F.col('surface_property'), F.col('surface_usable'), F.col('surface_living')))\n",
    "    .withColumn('surface_usable', F.coalesce(F.col('surface_usable'), F.col('surface_property'), F.col('surface_living')))\n",
    "    .withColumn('surface_living', F.coalesce(F.col('surface_living'), F.col('surface_usable'), F.col('surface_property')))\n",
    ")\n",
    "\n",
    "for col in NUMERIC_COLUMNS:\n",
    "    golden_data = (\n",
    "        golden_data\n",
    "        .withColumn(col, F.coalesce(F.col(col), F.lit(silver_data.agg(F.mean(col).astype(IntegerType())).collect()[0][0])))\n",
    "    )\n",
    "    \n",
    "logger.info(f\"{golden_data.count()} rows remained after cleaninig the data\")"
   ]
  },
  {
   "cell_type": "code",
   "execution_count": 13,
   "id": "de93b623",
   "metadata": {},
   "outputs": [
    {
     "name": "stderr",
     "output_type": "stream",
     "text": [
      "22/07/09 23:25:50 WARN package: Truncated the string representation of a plan since it was too large. This behavior can be adjusted by setting 'spark.sql.debug.maxToStringFields'.\n",
      "                                                                                \r"
     ]
    }
   ],
   "source": [
    "# Store it on golden Delta Table\n",
    "(\n",
    "    golden_data\n",
    "    .write\n",
    "    .format('delta')\n",
    "    .partitionBy(['city'])\n",
    "    .mode('overwrite')\n",
    "    .option('mergeSchema', 'true')\n",
    "    .option('replaceWhere', f\"city=='{city}'\")\n",
    "    .save(GOLDEN_TABLE_PATH)\n",
    ")"
   ]
  },
  {
   "cell_type": "code",
   "execution_count": 57,
   "id": "6127b50d",
   "metadata": {},
   "outputs": [],
   "source": [
    "# # Vacuum table\n",
    "# delta_table = DeltaTable.forPath(spark, GOLDEN_TABLE_PATH)\n",
    "# delta_table.vacuum()"
   ]
  }
 ],
 "metadata": {
  "celltoolbar": "Tags",
  "kernelspec": {
   "display_name": "Python 3 (ipykernel)",
   "language": "python",
   "name": "python3"
  },
  "language_info": {
   "codemirror_mode": {
    "name": "ipython",
    "version": 3
   },
   "file_extension": ".py",
   "mimetype": "text/x-python",
   "name": "python",
   "nbconvert_exporter": "python",
   "pygments_lexer": "ipython3",
   "version": "3.10.5"
  }
 },
 "nbformat": 4,
 "nbformat_minor": 5
}
